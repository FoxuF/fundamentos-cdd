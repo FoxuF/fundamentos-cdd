{
  "nbformat": 4,
  "nbformat_minor": 0,
  "metadata": {
    "colab": {
      "name": "operaciones_numpy.ipynb",
      "provenance": [],
      "collapsed_sections": [],
      "toc_visible": true
    },
    "kernelspec": {
      "name": "python3",
      "display_name": "Python 3"
    },
    "language_info": {
      "name": "python"
    }
  },
  "cells": [
    {
      "cell_type": "markdown",
      "source": [
        "# Operaciones de NumPy"
      ],
      "metadata": {
        "id": "rRSLcjtPdNHF"
      }
    },
    {
      "cell_type": "markdown",
      "source": [
        "El cálculo en matrices NumPy puede ser muy rápido o muy lento. La clave para hacerlo rápido es usar operaciones vectorizadas, generalmente implementadas a través de las funciones universales de NumPy (`UFuncs`), que hace que los cálculos repetidos en los elementos de la matriz sean mucho más eficientes."
      ],
      "metadata": {
        "id": "0i2WyRozhmfr"
      }
    },
    {
      "cell_type": "markdown",
      "source": [
        "### `UFuncs`"
      ],
      "metadata": {
        "id": "1BiNfCI0jr9x"
      }
    },
    {
      "cell_type": "markdown",
      "source": [
        "La implementación predeterminada de Python realiza algunas operaciones muy lentamente. Esto se debe en parte a la naturaleza dinámica e interpretada del lenguaje: el hecho de que los tipos sean dinámicos, hace que las secuencias de operaciones no se pueden compilar en un código de máquina eficiente como en lenguajes como C y Fortran. Esta ineficiencia de Python generalmente se manifiesta en situaciones en las que se repiten muchas operaciones pequeñas, por ejemplo, recorriendo matrices para operar en cada elemento."
      ],
      "metadata": {
        "id": "1s3fVlSejyWp"
      }
    },
    {
      "cell_type": "code",
      "source": [
        "import numpy as np"
      ],
      "metadata": {
        "id": "jfLWsDrVjrgG"
      },
      "execution_count": 1,
      "outputs": []
    },
    {
      "cell_type": "code",
      "execution_count": 2,
      "metadata": {
        "id": "RQyWvsdcc4xQ"
      },
      "outputs": [],
      "source": [
        "np.random.seed(0)"
      ]
    },
    {
      "cell_type": "code",
      "source": [
        "# Función que calcula recíprocos de un arreglo\n",
        "def compute_reciprocals(values):\n",
        "  # Inicializa el arreglo de salida del tamaño del arreglo de entrada\n",
        "  output = np.empty(len(values))\n",
        "  for i in range(len(values)):\n",
        "    # Guarda en el arreglo de salida el recíproco del valor de entrada\n",
        "    output[i] = 1.0 / values[i]\n",
        "  return output"
      ],
      "metadata": {
        "id": "yMFiSvgKdOKv"
      },
      "execution_count": 8,
      "outputs": []
    },
    {
      "cell_type": "code",
      "source": [
        "# Declara un arreglo (long_array) de enteros aleatorios en el intervalo [1, 10) de tamaño 5\n",
        "short_array = np.random.randint(1, 10, size=5)\n",
        "print(short_array)\n",
        "print(compute_reciprocals(short_array))"
      ],
      "metadata": {
        "colab": {
          "base_uri": "https://localhost:8080/"
        },
        "id": "VqwhtMtxktnm",
        "outputId": "60c0537a-30fa-4e5a-f9a9-9a8b5a22af2f"
      },
      "execution_count": 18,
      "outputs": [
        {
          "output_type": "stream",
          "name": "stdout",
          "text": [
            "[1 2 3 5 3]\n",
            "[1.         0.5        0.33333333 0.2        0.33333333]\n"
          ]
        }
      ]
    },
    {
      "cell_type": "code",
      "source": [
        "# Calcula el tiempo que toma ejecutar la función compute_reciprocals en arreglo short_array\n",
        "%timeit compute_reciprocals(values)"
      ],
      "metadata": {
        "colab": {
          "base_uri": "https://localhost:8080/"
        },
        "id": "V09nG7podONx",
        "outputId": "813abe3e-a56f-4f75-8ff6-dd3fab538791"
      },
      "execution_count": 17,
      "outputs": [
        {
          "output_type": "stream",
          "name": "stdout",
          "text": [
            "The slowest run took 9.14 times longer than the fastest. This could mean that an intermediate result is being cached.\n",
            "10000 loops, best of 5: 101 µs per loop\n"
          ]
        }
      ]
    },
    {
      "cell_type": "code",
      "source": [
        "# Declara arreglo (long_array) de enteros aleatorios en el intervalo [0, 100)\n",
        "long_array = np.random.randint(1, 100, size=1000000)\n",
        "print(long_array)\n",
        "print(compute_reciprocals(long_array))"
      ],
      "metadata": {
        "colab": {
          "base_uri": "https://localhost:8080/"
        },
        "id": "77kM7DC7q2HB",
        "outputId": "dbca6bb6-c714-4f9a-97e5-3ec8e31f93d2"
      },
      "execution_count": 23,
      "outputs": [
        {
          "output_type": "stream",
          "name": "stdout",
          "text": [
            "[73 92 34 ... 14 29 10]\n",
            "[0.01369863 0.01086957 0.02941176 ... 0.07142857 0.03448276 0.1       ]\n"
          ]
        }
      ]
    },
    {
      "cell_type": "code",
      "source": [
        "# Calcula el tiempo que toma ejecutar la función compute_reciprocals en arreglo long_array\n",
        "%timeit compute_reciprocals(long_array)"
      ],
      "metadata": {
        "colab": {
          "base_uri": "https://localhost:8080/"
        },
        "id": "bxuKaUyLdOS2",
        "outputId": "fa4b1cef-27a6-44de-ed07-0281bd639f98"
      },
      "execution_count": 24,
      "outputs": [
        {
          "output_type": "stream",
          "name": "stdout",
          "text": [
            "1 loop, best of 5: 2.04 s per loop\n"
          ]
        }
      ]
    },
    {
      "cell_type": "markdown",
      "source": [
        "En el ejemplo anterior, el cuello de botella no son las operaciones en sí, sino la verificación de tipos y las funciones que CPython debe ejecutar en cada ciclo del bucle. Cada vez que se calcula el recíproco, Python primero examina el tipo de objeto y realiza una búsqueda dinámica de la función correcta que se utilizará para ese tipo. Si estuviéramos trabajando en código compilado, esta especificación de tipo se conocería antes de que se ejecute el código y el resultado podría calcularse de manera mucho más eficiente."
      ],
      "metadata": {
        "id": "a4je3j80soh-"
      }
    },
    {
      "cell_type": "markdown",
      "source": [
        "Para muchos tipos de operaciones, NumPy proporciona una interfaz conveniente, compilada y tipificada estáticamente para este tipo de rutina. Esto se conoce como operación vectorizada. Esto se puede lograr simplemente realizando una operación en la matriz, que luego se aplicará a cada elemento. Este enfoque vectorizado está diseñado para insertar el bucle en la capa compilada que subyace a NumPy, lo que lleva a una ejecución mucho más rápida."
      ],
      "metadata": {
        "id": "nedlK4JKtUMI"
      }
    },
    {
      "cell_type": "code",
      "source": [
        "# Calcula el tiempo que toma ejecutar una operación vectorizada en arreglo long_array\n",
        "%timeit (1.0 / long_array)"
      ],
      "metadata": {
        "colab": {
          "base_uri": "https://localhost:8080/"
        },
        "id": "lwETdxwssoxz",
        "outputId": "b5407880-fa70-42c1-e46c-87e9c836138d"
      },
      "execution_count": 26,
      "outputs": [
        {
          "output_type": "stream",
          "name": "stdout",
          "text": [
            "1000 loops, best of 5: 1.94 ms per loop\n"
          ]
        }
      ]
    },
    {
      "cell_type": "markdown",
      "source": [
        "Las operaciones vectorizadas en NumPy se implementan a través de ufuncs, cuyo objetivo principal es ejecutar rápidamente operaciones repetidas en valores en matrices NumPy. `UFuncs` son extremadamente flexibles."
      ],
      "metadata": {
        "id": "OzVJkRlRugXb"
      }
    },
    {
      "cell_type": "code",
      "source": [
        "# Divide arreglo con secuencia linear en el intervalo [0, 5) entre arreglo con secuencia linear en el intervalo [1, 6)\n",
        "np.arange(5) / np.arange(1, 6)"
      ],
      "metadata": {
        "colab": {
          "base_uri": "https://localhost:8080/"
        },
        "id": "k35OZpHvufsZ",
        "outputId": "0d2fdf63-488a-4e49-ff00-22dc1dced7c1"
      },
      "execution_count": 30,
      "outputs": [
        {
          "output_type": "execute_result",
          "data": {
            "text/plain": [
              "array([0.        , 0.5       , 0.66666667, 0.75      , 0.8       ])"
            ]
          },
          "metadata": {},
          "execution_count": 30
        }
      ]
    },
    {
      "cell_type": "code",
      "source": [
        "# Declara matriz 3x3 (m) con una secuencia linear en el intervalo [0, 9)\n",
        "m = np.arange(9).reshape((3, 3))\n",
        "\n",
        "# Imprime matriz m\n",
        "m"
      ],
      "metadata": {
        "colab": {
          "base_uri": "https://localhost:8080/"
        },
        "id": "JKyTyHJ-dOVU",
        "outputId": "b4997197-14c7-4651-8dca-b32eef780beb"
      },
      "execution_count": 34,
      "outputs": [
        {
          "output_type": "execute_result",
          "data": {
            "text/plain": [
              "array([[0, 1, 2],\n",
              "       [3, 4, 5],\n",
              "       [6, 7, 8]])"
            ]
          },
          "metadata": {},
          "execution_count": 34
        }
      ]
    },
    {
      "cell_type": "code",
      "source": [
        "# Calcula la potencia de 2 a la x, donde x es cada valor de la matriz m\n",
        "2 ** m"
      ],
      "metadata": {
        "colab": {
          "base_uri": "https://localhost:8080/"
        },
        "id": "Lf2QZBrVdOYD",
        "outputId": "fe23046a-e8a0-4822-dd4f-25159542991c"
      },
      "execution_count": 36,
      "outputs": [
        {
          "output_type": "execute_result",
          "data": {
            "text/plain": [
              "array([[  1,   2,   4],\n",
              "       [  8,  16,  32],\n",
              "       [ 64, 128, 256]])"
            ]
          },
          "metadata": {},
          "execution_count": 36
        }
      ]
    },
    {
      "cell_type": "markdown",
      "source": [
        "#### Explorando las `UFuncs`"
      ],
      "metadata": {
        "id": "v6jutZcXwKS_"
      }
    },
    {
      "cell_type": "code",
      "source": [
        "# Delcara arreglo (x) de enteros aleatorios en el intervalo [1, 4) \n",
        "x = np.arange(4)\n",
        "\n",
        "# Imprime arreglo x\n",
        "x"
      ],
      "metadata": {
        "colab": {
          "base_uri": "https://localhost:8080/"
        },
        "id": "xcJn154lwWB-",
        "outputId": "91007ff0-29e3-4cdc-c712-eaf64d726b53"
      },
      "execution_count": 159,
      "outputs": [
        {
          "output_type": "execute_result",
          "data": {
            "text/plain": [
              "array([0, 1, 2, 3])"
            ]
          },
          "metadata": {},
          "execution_count": 159
        }
      ]
    },
    {
      "cell_type": "markdown",
      "source": [
        "Algunas de las `UFuncs` aritméticas más relevantes son las siguientes:"
      ],
      "metadata": {
        "id": "F_5_CZdSxfQ8"
      }
    },
    {
      "cell_type": "code",
      "source": [
        "print(\"Suma           \", \"np.add(x)          ó      x + 5  =\", x + 5)\n",
        "print(\"Resta          \", \"np.subtract(x)     ó      x - 5  =\", x - 5) \n",
        "print(\"Multiplicación \", \"np.multiply(x)     ó      x * 2  =\", x * 2) \n",
        "print(\"División       \", \"np.divide(x)       ó      x / 2  =\", x / 2) \n",
        "print(\"División floor \", \"np.floor_divide(x) ó      x // 2 =\", x // 2)\n",
        "print(\"Negativo       \", \"np.negative(x)     ó      -x     =\", -x)\n",
        "print(\"Exponencial    \", \"np.power(x)        ó      x ** 2 =\", x ** 2)\n",
        "print(\"Módulo         \", \"np.module(x)       ó      x % 2  =\", x % 2)\n",
        "print(\"Valor absoluto \", \"np.abs(x)                        =\", np.abs(-x))"
      ],
      "metadata": {
        "colab": {
          "base_uri": "https://localhost:8080/"
        },
        "id": "4Yh61kUqwJmu",
        "outputId": "2b03f164-abca-4e7e-b9ca-697d0fc05a31"
      },
      "execution_count": 65,
      "outputs": [
        {
          "output_type": "stream",
          "name": "stdout",
          "text": [
            "Suma            np.add(x)          ó      x + 5  = [5 6 7 8]\n",
            "Resta           np.subtract(x)     ó      x - 5  = [-5 -4 -3 -2]\n",
            "Multiplicación  np.multiply(x)     ó      x * 2  = [0 2 4 6]\n",
            "División        np.divide(x)       ó      x / 2  = [0.  0.5 1.  1.5]\n",
            "División floor  np.floor_divide(x) ó      x // 2 = [0 0 1 1]\n",
            "Negativo        np.negative(x)     ó      -x     = [ 0 -1 -2 -3]\n",
            "Exponencial     np.power(x)        ó      x ** 2 = [0 1 4 9]\n",
            "Módulo          np.module(x)       ó      x % 2  = [0 1 0 1]\n",
            "Valor absoluto  np.abs(x)                        = [0 1 2 3]\n"
          ]
        }
      ]
    },
    {
      "cell_type": "markdown",
      "source": [
        "Las `UFuncs` aritméticas pueden ser utilizadas en conjunto respetando el orden estándar de operaciones (PEMDAS)."
      ],
      "metadata": {
        "id": "PYinbdM2xlBg"
      }
    },
    {
      "cell_type": "code",
      "source": [
        "-(0.5*x + 1) ** 2"
      ],
      "metadata": {
        "colab": {
          "base_uri": "https://localhost:8080/"
        },
        "id": "kzruJPdfxkkN",
        "outputId": "52ffd9ff-ec88-47ef-ab7d-de2228e5c588"
      },
      "execution_count": 160,
      "outputs": [
        {
          "output_type": "execute_result",
          "data": {
            "text/plain": [
              "array([-1.  , -2.25, -4.  , -6.25])"
            ]
          },
          "metadata": {},
          "execution_count": 160
        }
      ]
    },
    {
      "cell_type": "markdown",
      "source": [
        "La `UFunc` de valor absoluto también acepta números complejos, y en dado caso, regresará la magnitud. "
      ],
      "metadata": {
        "id": "OCMlXAgj3hVu"
      }
    },
    {
      "cell_type": "code",
      "source": [
        "np.abs(3-4j)"
      ],
      "metadata": {
        "colab": {
          "base_uri": "https://localhost:8080/"
        },
        "id": "oAhRBl9Y1jaO",
        "outputId": "0a47dc63-4f63-49f8-f975-6fd1b952d7d8"
      },
      "execution_count": 94,
      "outputs": [
        {
          "output_type": "execute_result",
          "data": {
            "text/plain": [
              "5.0"
            ]
          },
          "metadata": {},
          "execution_count": 94
        }
      ]
    },
    {
      "cell_type": "code",
      "source": [
        "# import math\n",
        "# math.sqrt(3**2 + 4**2)"
      ],
      "metadata": {
        "id": "rVMrBdoR3M1G"
      },
      "execution_count": 87,
      "outputs": []
    },
    {
      "cell_type": "markdown",
      "source": [
        "También, existen `UFuncs` trigonométricas..."
      ],
      "metadata": {
        "id": "FzSOTDIV4LOB"
      }
    },
    {
      "cell_type": "code",
      "source": [
        "# Declara arreglo (x) de 3 valores espaciados uniformemente en el intervalo [0, pi]\n",
        "x = np.linspace(0, np.pi, 3)\n",
        "\n",
        "# Imprime arreglo x\n",
        "x"
      ],
      "metadata": {
        "colab": {
          "base_uri": "https://localhost:8080/"
        },
        "id": "EMLQC51M4gEh",
        "outputId": "6f212a59-9752-48ad-f200-6469e2427d50"
      },
      "execution_count": 102,
      "outputs": [
        {
          "output_type": "execute_result",
          "data": {
            "text/plain": [
              "array([0.        , 1.57079633, 3.14159265])"
            ]
          },
          "metadata": {},
          "execution_count": 102
        }
      ]
    },
    {
      "cell_type": "code",
      "source": [
        "print(\"x      = \", x)\n",
        "print(\"sin(x) = \", np.sin(x))\n",
        "print(\"cos(x) = \", np.cos(x))\n",
        "print(\"tan(x) = \", np.tan(x))"
      ],
      "metadata": {
        "colab": {
          "base_uri": "https://localhost:8080/"
        },
        "id": "QfomqFyY40DJ",
        "outputId": "c9bd5663-d7be-4448-83de-d94003c06343"
      },
      "execution_count": 104,
      "outputs": [
        {
          "output_type": "stream",
          "name": "stdout",
          "text": [
            "x      =  [0.         1.57079633 3.14159265]\n",
            "sin(x) =  [0.0000000e+00 1.0000000e+00 1.2246468e-16]\n",
            "cos(x) =  [ 1.000000e+00  6.123234e-17 -1.000000e+00]\n",
            "tan(x) =  [ 0.00000000e+00  1.63312394e+16 -1.22464680e-16]\n"
          ]
        }
      ]
    },
    {
      "cell_type": "markdown",
      "source": [
        "Y `UFuncs` exponenciales y logarítmicas..."
      ],
      "metadata": {
        "id": "VDgUVUPS5ARf"
      }
    },
    {
      "cell_type": "code",
      "source": [
        "# Declara arreglo x\n",
        "x = [1, 2, 3]"
      ],
      "metadata": {
        "id": "ob5hbDfD5bIH"
      },
      "execution_count": 110,
      "outputs": []
    },
    {
      "cell_type": "code",
      "source": [
        "print(\"x     =\", x)\n",
        "print(\"e^x   =\", np.exp(x))\n",
        "print(\"2^x   =\", np.exp2(x))\n",
        "print(\"3^x   =\", np.power(3, x))"
      ],
      "metadata": {
        "colab": {
          "base_uri": "https://localhost:8080/"
        },
        "id": "t8MlXhHe5IFf",
        "outputId": "e96583e1-f039-4106-cdf2-546fcab7e131"
      },
      "execution_count": 108,
      "outputs": [
        {
          "output_type": "stream",
          "name": "stdout",
          "text": [
            "x     = [1, 2, 3]\n",
            "e^x   = [ 2.71828183  7.3890561  20.08553692]\n",
            "2^x   = [2. 4. 8.]\n",
            "3^x   = [ 3  9 27]\n"
          ]
        }
      ]
    },
    {
      "cell_type": "code",
      "source": [
        "# Declara arreglo x\n",
        "x = [1, 2, 4, 10]"
      ],
      "metadata": {
        "id": "I9oEv1FC5e7m"
      },
      "execution_count": 112,
      "outputs": []
    },
    {
      "cell_type": "code",
      "source": [
        "print(\"x        =\", x)\n",
        "print(\"ln(x)    =\", np.log(x))\n",
        "print(\"log2(x)  =\", np.log2(x))\n",
        "print(\"log10(x) =\", np.log10(x))"
      ],
      "metadata": {
        "colab": {
          "base_uri": "https://localhost:8080/"
        },
        "id": "S6hq89VC5IIF",
        "outputId": "e48f9bb6-2cb0-4db9-cf8c-b1ecd7a05433"
      },
      "execution_count": 113,
      "outputs": [
        {
          "output_type": "stream",
          "name": "stdout",
          "text": [
            "x        = [1, 2, 4, 10]\n",
            "ln(x)    = [0.         0.69314718 1.38629436 2.30258509]\n",
            "log2(x)  = [0.         1.         2.         3.32192809]\n",
            "log10(x) = [0.         0.30103    0.60205999 1.        ]\n"
          ]
        }
      ]
    },
    {
      "cell_type": "markdown",
      "source": [
        "Para `UFuncs` binarias, hay funciones agregadoras que se pueden calcular directamente desde el objeto. Por ejemplo, si quisiéramos reducir una matriz con una operación en particular, podemos usar `reduce` de cualquier `UFunc`. Una reducción aplica repetidamente una operación determinada a los elementos de una matriz hasta que solo queda un único resultado."
      ],
      "metadata": {
        "id": "GLe0W9Kr5r4I"
      }
    },
    {
      "cell_type": "code",
      "source": [
        "# Declara arreglo (x) de enteros aleatorios en el intervalo [1, 6) \n",
        "x = np.arange(1, 6)\n",
        "\n",
        "# Imprime arreglo x\n",
        "x"
      ],
      "metadata": {
        "colab": {
          "base_uri": "https://localhost:8080/"
        },
        "id": "VuKb1Xdm5IK_",
        "outputId": "9d8ec03e-a36e-496a-b07d-24f11ecda16c"
      },
      "execution_count": 123,
      "outputs": [
        {
          "output_type": "execute_result",
          "data": {
            "text/plain": [
              "array([1, 2, 3, 4, 5])"
            ]
          },
          "metadata": {},
          "execution_count": 123
        }
      ]
    },
    {
      "cell_type": "code",
      "source": [
        "# Suma todos los valores del arreglo x\n",
        "np.add.reduce(x)"
      ],
      "metadata": {
        "colab": {
          "base_uri": "https://localhost:8080/"
        },
        "id": "3T0HPUjR5IOn",
        "outputId": "eecbd3fb-149f-4189-e957-84584b3f53eb"
      },
      "execution_count": 124,
      "outputs": [
        {
          "output_type": "execute_result",
          "data": {
            "text/plain": [
              "15"
            ]
          },
          "metadata": {},
          "execution_count": 124
        }
      ]
    },
    {
      "cell_type": "code",
      "source": [
        "# Multiplica todos los valores del arreglo x\n",
        "np.multiply.reduce(x)"
      ],
      "metadata": {
        "colab": {
          "base_uri": "https://localhost:8080/"
        },
        "id": "Ecx_hnJz6VyV",
        "outputId": "5fa3d416-20ad-457c-fdb0-969ea7057642"
      },
      "execution_count": 117,
      "outputs": [
        {
          "output_type": "execute_result",
          "data": {
            "text/plain": [
              "120"
            ]
          },
          "metadata": {},
          "execution_count": 117
        }
      ]
    },
    {
      "cell_type": "markdown",
      "source": [
        "Si quisiéramos almacenar todos los resultados intermedios del cálculo, podemos utilizar `acumulate`."
      ],
      "metadata": {
        "id": "62jRsZdC5AXi"
      }
    },
    {
      "cell_type": "code",
      "source": [
        "# Suma acumulativamente todos los valores del arreglo x\n",
        "np.add.accumulate(x)"
      ],
      "metadata": {
        "colab": {
          "base_uri": "https://localhost:8080/"
        },
        "id": "jDFpJc555IR4",
        "outputId": "5336ac58-5fdf-4f8f-85b4-730eeb31e153"
      },
      "execution_count": 118,
      "outputs": [
        {
          "output_type": "execute_result",
          "data": {
            "text/plain": [
              "array([ 1,  3,  6, 10, 15])"
            ]
          },
          "metadata": {},
          "execution_count": 118
        }
      ]
    },
    {
      "cell_type": "code",
      "source": [
        "# Multiplica acumulativamente todos los valores del arreglo x\n",
        "np.multiply.accumulate(x)"
      ],
      "metadata": {
        "colab": {
          "base_uri": "https://localhost:8080/"
        },
        "outputId": "136c9208-5e20-4769-88ee-50c50b26a4d5",
        "id": "NuWRUxOI6lfw"
      },
      "execution_count": 120,
      "outputs": [
        {
          "output_type": "execute_result",
          "data": {
            "text/plain": [
              "array([  1,   2,   6,  24, 120])"
            ]
          },
          "metadata": {},
          "execution_count": 120
        }
      ]
    },
    {
      "cell_type": "markdown",
      "source": [
        "### Funciones de agregación"
      ],
      "metadata": {
        "id": "i3YoDqeO72JM"
      }
    },
    {
      "cell_type": "markdown",
      "source": [
        "A menudo, cuando nos enfrentamos a una gran cantidad de datos, el primer paso es calcular estadísticas de resumen para los datos en cuestión. Quizás las estadísticas de resumen más comunes son la media y la desviación estándar, que  permiten resumir los valores \"típicos\" en un conjunto de datos, pero también son útiles otros agregados (la suma, el producto, la mediana, el mínimo y el máximo, los cuantiles, etc.). NumPy cuenta con funciones de agregación integradas para trabajar sobre arreglos. "
      ],
      "metadata": {
        "id": "KNmbyzyR79-E"
      }
    },
    {
      "cell_type": "markdown",
      "source": [
        "Para la mayoría de las funciones de agregación, la sintaxis en NumPy es bastante similar a la de la función de suma de base Python y el resultado es el mismo en el caso más simple, pero la ejecución con la función de NumPy es mucho más eficiente. "
      ],
      "metadata": {
        "id": "kZNoua1r9BUD"
      }
    },
    {
      "cell_type": "code",
      "source": [
        "# Declara arreglo (long_array) de un millón de números aleatorios\n",
        "long_array = np.random.rand(1000000)"
      ],
      "metadata": {
        "id": "wH09Qvkh8bdy"
      },
      "execution_count": 133,
      "outputs": []
    },
    {
      "cell_type": "code",
      "source": [
        "# Calcula el tiempo que toma ejecutar una suma estándar en arreglo long_array\n",
        "%timeit sum(long_array)"
      ],
      "metadata": {
        "colab": {
          "base_uri": "https://localhost:8080/"
        },
        "id": "QUS_QGC94SEw",
        "outputId": "7f7525f9-702b-4d9e-88b5-31faf0043865"
      },
      "execution_count": 143,
      "outputs": [
        {
          "output_type": "stream",
          "name": "stdout",
          "text": [
            "10 loops, best of 5: 84.1 ms per loop\n"
          ]
        }
      ]
    },
    {
      "cell_type": "code",
      "source": [
        "# Calcula el tiempo que toma ejecutar una suma vectorizada en arreglo long_array\n",
        "%timeit np.sum(long_array)"
      ],
      "metadata": {
        "colab": {
          "base_uri": "https://localhost:8080/"
        },
        "id": "9fYH1Dy84Kov",
        "outputId": "ab02d913-e49f-4f16-f247-18be9417d4c3"
      },
      "execution_count": 144,
      "outputs": [
        {
          "output_type": "stream",
          "name": "stdout",
          "text": [
            "1000 loops, best of 5: 350 µs per loop\n"
          ]
        }
      ]
    },
    {
      "cell_type": "code",
      "source": [
        "# Devuelve el valor mínimo y el valor máximo del arreglo long_array\n",
        "print(np.min(big_array), np.max(big_array))\n",
        "print(big_array.min(), big_array.max())"
      ],
      "metadata": {
        "colab": {
          "base_uri": "https://localhost:8080/"
        },
        "id": "dCLnHhuF4Jzf",
        "outputId": "5c598ac9-e70e-4ff5-eabd-a309ab9e4a8b"
      },
      "execution_count": 148,
      "outputs": [
        {
          "output_type": "stream",
          "name": "stdout",
          "text": [
            "7.166647984280239e-06 0.9999986906665383\n",
            "7.166647984280239e-06 0.9999986906665383\n"
          ]
        }
      ]
    },
    {
      "cell_type": "code",
      "source": [
        "# Declara matriz 3x4 (m) de números aleatorios\n",
        "m = np.random.random((3, 4))\n",
        "\n",
        "# Imprime matriz m\n",
        "m"
      ],
      "metadata": {
        "colab": {
          "base_uri": "https://localhost:8080/"
        },
        "id": "7PyzZPAv4Ga7",
        "outputId": "141024cd-d3cd-402a-c288-19001a590131"
      },
      "execution_count": 156,
      "outputs": [
        {
          "output_type": "execute_result",
          "data": {
            "text/plain": [
              "array([[0.06655822, 0.76950176, 0.47196795, 0.12061265],\n",
              "       [0.58818414, 0.33038948, 0.20738446, 0.34713616],\n",
              "       [0.0923966 , 0.65215616, 0.01549655, 0.30582348]])"
            ]
          },
          "metadata": {},
          "execution_count": 156
        }
      ]
    },
    {
      "cell_type": "code",
      "source": [
        "# Devuelve el valor mínimo por columna de matriz m\n",
        "m.min(axis=0)"
      ],
      "metadata": {
        "colab": {
          "base_uri": "https://localhost:8080/"
        },
        "id": "DOWGRzNe4GeB",
        "outputId": "65f630b6-e748-47f5-902a-a2b3c4f7c3c5"
      },
      "execution_count": 157,
      "outputs": [
        {
          "output_type": "execute_result",
          "data": {
            "text/plain": [
              "array([0.06655822, 0.33038948, 0.01549655, 0.12061265])"
            ]
          },
          "metadata": {},
          "execution_count": 157
        }
      ]
    },
    {
      "cell_type": "code",
      "source": [
        "# Devuelve el valor mínimo por fila de matriz m\n",
        "m.min(axis=1)"
      ],
      "metadata": {
        "colab": {
          "base_uri": "https://localhost:8080/"
        },
        "id": "kxdGR2Yf4GhZ",
        "outputId": "c171a03c-6a1d-4b19-d820-a643e14bce58"
      },
      "execution_count": 158,
      "outputs": [
        {
          "output_type": "execute_result",
          "data": {
            "text/plain": [
              "array([0.06655822, 0.20738446, 0.01549655])"
            ]
          },
          "metadata": {},
          "execution_count": 158
        }
      ]
    },
    {
      "cell_type": "markdown",
      "source": [
        "Otras funciones de agregación relevantes son las siguientes:"
      ],
      "metadata": {
        "id": "Ep7QT-8I_JwM"
      }
    },
    {
      "cell_type": "code",
      "source": [
        "# Declara arreglo (x) de enteros aleatorios en el intervalo [1, 6) \n",
        "x = np.arange(1, 6)\n",
        "\n",
        "# Imprime arreglo x\n",
        "x"
      ],
      "metadata": {
        "colab": {
          "base_uri": "https://localhost:8080/"
        },
        "id": "X893ZYdg_2ps",
        "outputId": "66f3d569-45c3-49e3-9fd7-ed05bf002525"
      },
      "execution_count": 161,
      "outputs": [
        {
          "output_type": "execute_result",
          "data": {
            "text/plain": [
              "array([1, 2, 3, 4, 5])"
            ]
          },
          "metadata": {},
          "execution_count": 161
        }
      ]
    },
    {
      "cell_type": "code",
      "source": [
        "print(\"np.prod()        =\", np.prod(x))\n",
        "print(\"np.mean()        =\", np.mean(x))\n",
        "print(\"np.median()      =\", np.median(x))\n",
        "print(\"np.percentile()  =\", np.percentile(x, 50))\n",
        "print(\"np.std()         =\", np.std(x))\n",
        "print(\"np.var()         =\", np.var(x))\n",
        "print(\"np.argmin()      =\", np.argmin(x))\n",
        "print(\"np.argmax()      =\", np.argmax(x))"
      ],
      "metadata": {
        "colab": {
          "base_uri": "https://localhost:8080/"
        },
        "id": "uhbZYfJz4Ex8",
        "outputId": "f5dc92a8-ea46-4c4d-c423-154a0c0692f5"
      },
      "execution_count": 166,
      "outputs": [
        {
          "output_type": "stream",
          "name": "stdout",
          "text": [
            "np.prod()        = 120\n",
            "np.mean()        = 3.0\n",
            "np.median()      = 3.0\n",
            "np.percentile()  = 3.0\n",
            "np.std()         = 1.4142135623730951\n",
            "np.var()         = 2.0\n",
            "np.argmin()      = 0\n",
            "np.argmax()      = 4\n"
          ]
        }
      ]
    },
    {
      "cell_type": "markdown",
      "source": [
        "## Lógica booleanda y máscaras (Ejercicio)"
      ],
      "metadata": {
        "id": "wYS2yPewAVu8"
      }
    },
    {
      "cell_type": "markdown",
      "source": [
        "Siguiendo la lógica de vectorización de NumPy, resuelve los siguientes ejercicios."
      ],
      "metadata": {
        "id": "_koNTL4aAk6V"
      }
    },
    {
      "cell_type": "markdown",
      "metadata": {
        "id": "drHHq2ttbyhp"
      },
      "source": [
        "1. Declara arreglo (x) de enteros aleatorios en el intervalo [1, 6).\n",
        "2. Imprime los valores x menores a 3.\n",
        "3. Imprime los valores de x mayores a 4.\n",
        "4. Imprime los valores de x igual o menores a 3. \n",
        "5. Imprime los valores de x igual o mayores a 4. \n",
        "6. Imprime los valores de x distintos a 3. \n",
        "7. Imprime los valores de x iguales a 3. \n",
        "8. Imprime los valores de x donde 2*n y n**2 del el mismo resultado, donde n es cada valor del arreglo. "
      ]
    }
  ]
}