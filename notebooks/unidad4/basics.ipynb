{
 "cells": [
  {
   "cell_type": "markdown",
   "metadata": {},
   "source": [
    "### Comandos básicos"
   ]
  },
  {
   "cell_type": "code",
   "execution_count": 1,
   "metadata": {},
   "outputs": [
    {
     "name": "stdout",
     "output_type": "stream",
     "text": [
      "Hello, World!\n"
     ]
    }
   ],
   "source": [
    "# Saludo #1\n",
    "print(\"Hello, World!\")"
   ]
  },
  {
   "cell_type": "code",
   "execution_count": 2,
   "metadata": {},
   "outputs": [
    {
     "name": "stdout",
     "output_type": "stream",
     "text": [
      "Hello, World!\n"
     ]
    }
   ],
   "source": [
    "# Saludo #2\n",
    "var = \"Hello, World!\"\n",
    "print(var)"
   ]
  },
  {
   "cell_type": "code",
   "execution_count": 3,
   "metadata": {},
   "outputs": [
    {
     "data": {
      "text/plain": [
       "125"
      ]
     },
     "execution_count": 3,
     "metadata": {},
     "output_type": "execute_result"
    }
   ],
   "source": [
    "# Suma\n",
    "5 + 3\n",
    "\n",
    "\n",
    "# Resta\n",
    "5 - 3\n",
    "\n",
    "\n",
    "# Multiplicación\n",
    "5 * 3\n",
    "\n",
    "\n",
    "# División\n",
    "5 / 3\n",
    "\n",
    "\n",
    "# Floor division\n",
    "5 // 3\n",
    "\n",
    "\n",
    "# Módulo \n",
    "5 % 3\n",
    "\n",
    "\n",
    "# Potencia\n",
    "5 ** 3"
   ]
  },
  {
   "cell_type": "code",
   "execution_count": 4,
   "metadata": {},
   "outputs": [
    {
     "name": "stdout",
     "output_type": "stream",
     "text": [
      "a es mayor a b\n"
     ]
    }
   ],
   "source": [
    "# Condicional if\n",
    "a = 42\n",
    "b = 3.1416\n",
    "if b > a:\n",
    "  print(\"b es mayor a a\")\n",
    "elif a == b:\n",
    "  print(\"a y b son iguales\")\n",
    "else:\n",
    "  print(\"a es mayor a b\")"
   ]
  },
  {
   "cell_type": "code",
   "execution_count": 5,
   "metadata": {},
   "outputs": [
    {
     "name": "stdout",
     "output_type": "stream",
     "text": [
      "manzana roja\n",
      "manzana verde\n",
      "manzana azul\n",
      "pera roja\n",
      "pera verde\n",
      "pera azul\n",
      "mora roja\n",
      "mora verde\n",
      "mora azul\n"
     ]
    }
   ],
   "source": [
    "fruits = [\"manzana\", \"pera\", \"mora\"]\n",
    "adj = [\"roja\", \"verde\", \"azul\"]\n",
    "\n",
    "for x in fruits:\n",
    "    for y in adj:\n",
    "        print(x, y)"
   ]
  },
  {
   "cell_type": "code",
   "execution_count": 6,
   "metadata": {},
   "outputs": [],
   "source": [
    "# Importar librerías (ya instaladas)\n",
    "import numpy as np\n",
    "import pandas as pd"
   ]
  },
  {
   "cell_type": "code",
   "execution_count": 7,
   "metadata": {},
   "outputs": [
    {
     "data": {
      "text/html": [
       "<div>\n",
       "<style scoped>\n",
       "    .dataframe tbody tr th:only-of-type {\n",
       "        vertical-align: middle;\n",
       "    }\n",
       "\n",
       "    .dataframe tbody tr th {\n",
       "        vertical-align: top;\n",
       "    }\n",
       "\n",
       "    .dataframe thead th {\n",
       "        text-align: right;\n",
       "    }\n",
       "</style>\n",
       "<table border=\"1\" class=\"dataframe\">\n",
       "  <thead>\n",
       "    <tr style=\"text-align: right;\">\n",
       "      <th></th>\n",
       "      <th>year</th>\n",
       "      <th>team</th>\n",
       "      <th>wins</th>\n",
       "      <th>draws</th>\n",
       "      <th>losses</th>\n",
       "    </tr>\n",
       "  </thead>\n",
       "  <tbody>\n",
       "    <tr>\n",
       "      <th>0</th>\n",
       "      <td>2010</td>\n",
       "      <td>FCBarcelona</td>\n",
       "      <td>30</td>\n",
       "      <td>6</td>\n",
       "      <td>2</td>\n",
       "    </tr>\n",
       "    <tr>\n",
       "      <th>1</th>\n",
       "      <td>2011</td>\n",
       "      <td>FCBarcelona</td>\n",
       "      <td>28</td>\n",
       "      <td>7</td>\n",
       "      <td>3</td>\n",
       "    </tr>\n",
       "    <tr>\n",
       "      <th>2</th>\n",
       "      <td>2012</td>\n",
       "      <td>FCBarcelona</td>\n",
       "      <td>32</td>\n",
       "      <td>4</td>\n",
       "      <td>2</td>\n",
       "    </tr>\n",
       "    <tr>\n",
       "      <th>3</th>\n",
       "      <td>2010</td>\n",
       "      <td>RMadrid</td>\n",
       "      <td>29</td>\n",
       "      <td>5</td>\n",
       "      <td>4</td>\n",
       "    </tr>\n",
       "    <tr>\n",
       "      <th>4</th>\n",
       "      <td>2011</td>\n",
       "      <td>RMadrid</td>\n",
       "      <td>32</td>\n",
       "      <td>4</td>\n",
       "      <td>2</td>\n",
       "    </tr>\n",
       "  </tbody>\n",
       "</table>\n",
       "</div>"
      ],
      "text/plain": [
       "   year         team  wins  draws  losses\n",
       "0  2010  FCBarcelona    30      6       2\n",
       "1  2011  FCBarcelona    28      7       3\n",
       "2  2012  FCBarcelona    32      4       2\n",
       "3  2010      RMadrid    29      5       4\n",
       "4  2011      RMadrid    32      4       2"
      ]
     },
     "execution_count": 7,
     "metadata": {},
     "output_type": "execute_result"
    }
   ],
   "source": [
    "data = {'year': [2010, 2011, 2012,\n",
    "                 2010, 2011, 2012,\n",
    "                 2010, 2011, 2012],\n",
    "        'team': ['FCBarcelona', 'FCBarcelona',\n",
    "                 'FCBarcelona', 'RMadrid',\n",
    "                 'RMadrid', 'RMadrid',\n",
    "                 'ValenciaCF', 'ValenciaCF',\n",
    "                 'ValenciaCF'],\n",
    "        'wins': [30, 28, 32, 29, 32, 26, 21, 17, 19],\n",
    "        'draws': [6, 7, 4, 5, 4, 7, 8, 10, 8],\n",
    "        'losses': [2, 3, 2, 4, 2, 5, 9, 11, 11]\n",
    "       }\n",
    "football = pd.DataFrame(data, \n",
    "                        columns = ['year', 'team', 'wins', 'draws', 'losses'])\n",
    "football.head()"
   ]
  },
  {
   "cell_type": "code",
   "execution_count": 8,
   "metadata": {},
   "outputs": [
    {
     "name": "stdout",
     "output_type": "stream",
     "text": [
      "[[ 0  1  2  3  4]\n",
      " [ 5  6  7  8  9]\n",
      " [10 11 12 13 14]]\n"
     ]
    }
   ],
   "source": [
    "a = np.arange(15).reshape(3, 5)\n",
    "print(a)"
   ]
  },
  {
   "cell_type": "code",
   "execution_count": 9,
   "metadata": {},
   "outputs": [
    {
     "name": "stdout",
     "output_type": "stream",
     "text": [
      "(3, 5)\n",
      "int64\n",
      "<class 'numpy.ndarray'>\n"
     ]
    }
   ],
   "source": [
    "print(a.shape)\n",
    "print(a.dtype.name)\n",
    "print(type(a))"
   ]
  },
  {
   "cell_type": "markdown",
   "metadata": {},
   "source": [
    "### Ejercicios"
   ]
  },
  {
   "cell_type": "markdown",
   "metadata": {},
   "source": [
    "1. Escribe una función que dado un string s y un entero no negativo n regrese n copias de s. \n",
    "2. Escribe una función que dado un arreglo de números revise si el producto de dos números del arreglo es par.\n",
    "3. Escribe una función que dado un arreglo con valores None regrese el arreglo con los valores None reemplazados por el valor no None anterior en el arreglo.\n",
    "4. Escribe una función que dada una lista regrese la misma lista ordenada. "
   ]
  }
 ],
 "metadata": {
  "kernelspec": {
   "display_name": "Python 3",
   "language": "python",
   "name": "python3"
  },
  "language_info": {
   "codemirror_mode": {
    "name": "ipython",
    "version": 3
   },
   "file_extension": ".py",
   "mimetype": "text/x-python",
   "name": "python",
   "nbconvert_exporter": "python",
   "pygments_lexer": "ipython3",
   "version": "3.8.5"
  }
 },
 "nbformat": 4,
 "nbformat_minor": 4
}
