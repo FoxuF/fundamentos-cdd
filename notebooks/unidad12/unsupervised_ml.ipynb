{
  "nbformat": 4,
  "nbformat_minor": 0,
  "metadata": {
    "colab": {
      "name": "unsupervised_ml.ipynb",
      "provenance": [],
      "collapsed_sections": [],
      "toc_visible": true
    },
    "kernelspec": {
      "name": "python3",
      "display_name": "Python 3"
    },
    "language_info": {
      "name": "python"
    }
  },
  "cells": [
    {
      "cell_type": "code",
      "source": [
        "import numpy as np\n",
        "import pandas as pd\n",
        "\n",
        "from plotnine import ggplot, aes, geom_point\n",
        "import matplotlib.pyplot as plt\n",
        "\n",
        "from sklearn.datasets import load_breast_cancer\n",
        "from sklearn.preprocessing import StandardScaler\n",
        "from sklearn.decomposition import PCA\n",
        "import sklearn.cluster as cluster"
      ],
      "metadata": {
        "id": "hoQbMR4Y0zZ2"
      },
      "execution_count": 1,
      "outputs": []
    },
    {
      "cell_type": "markdown",
      "source": [
        "## Introducción"
      ],
      "metadata": {
        "id": "VW_Uryn-Ugnu"
      }
    },
    {
      "cell_type": "markdown",
      "source": [
        "En la mayoría de los problemas de Machine Learning, tenemos acceso a un conjunto de  $p$ variables independiente $X_1, X_2, ..., X_p$, medidas en $n$ observaciones, y una variable dependiente  $Y$ también medida en esas mismas $n$ observaciones. El objetivo es entonces predecir $Y$ usando $X_1, X_2, ..., X_p$. Esto es aprendizaje supervisado. "
      ],
      "metadata": {
        "id": "jOTOhSzqUlH0"
      }
    },
    {
      "cell_type": "markdown",
      "source": [
        "En cambio, **el aprendizaje no supervisado es un conjunto de herramientas estadísticas destinadas a los problemas en los que solo tenemos un conjunto de variables independientes $X_1, X_2, ..., X_p$ en $n$ observaciones.** En estos casos, no nos interesa la predicción, porque no tenemos asociada una variable dependiente $Y$. Más bien, **el objetivo es descubrir patrones en las mediciones de las variables $X_1, X_2, ..., X_p$**."
      ],
      "metadata": {
        "id": "UuQxwdjfXQ-s"
      }
    },
    {
      "cell_type": "markdown",
      "source": [
        "¿Hay alguna forma informativa de visualizar los datos? ¿Es posible reducir la dimensionalidad del conjunto de datos? ¿Podemos descubrir subgrupos entre las variables o entre las observaciones?\n",
        "El aprendizaje no supervisado puede responder a este tipo de preguntas. "
      ],
      "metadata": {
        "id": "WxJGtc5bZCpn"
      }
    },
    {
      "cell_type": "markdown",
      "source": [
        "<image src = \"https://raw.githubusercontent.com/sarahiaguilar/fundamentos-cdd/main/viz/supervised_unspervised.PNG\">"
      ],
      "metadata": {
        "id": "OgQ4Fm_EraM3"
      }
    },
    {
      "cell_type": "markdown",
      "source": [
        "El aprendizaje no supervisado es a menudo mucho más desafiante por dos principales razones. \n",
        "\n",
        "1. **El ejercicio tiende a ser más subjetivo y no existe un objetivo simple para el análisis, como la predicción de una respuesta.** De hecho, el aprendizaje no supervisado a menudo se realiza como parte del análisis exploratorio de datos. \n",
        "\n",
        "2. **Los resultados son difíciles de evaluar, ya que no existe un mecanismo universalmente aceptado para predicciones en un conjunto de datos independiente.** La razón de esta diferencia es simple. Si ajustamos un modelo predictivo usando una técnica de aprendizaje supervisado, entonces es posible verificar nuestro trabajo al ver qué tan bien nuestro modelo predice la respuesta $Y$ en las observaciones que no se usaron para ajustar el modelo. Sin embargo, en el aprendizaje no supervisado, no hay forma de verificar nuestro trabajo porque no sabemos la verdadera respuesta: el problema no está supervisado."
      ],
      "metadata": {
        "id": "0mGDccVWr-wb"
      }
    },
    {
      "cell_type": "markdown",
      "source": [
        "## Análisis de componentes principales"
      ],
      "metadata": {
        "id": "dZAg2vwwuQKf"
      }
    },
    {
      "cell_type": "markdown",
      "source": [
        "<image src = \"https://cdn-images-1.medium.com/max/508/1*tkIOCiQIJ9HiO5LWAjUTJg.png\">"
      ],
      "metadata": {
        "id": "7BSvvp9QzOQw"
      }
    },
    {
      "cell_type": "markdown",
      "source": [
        "**El análisis de componentes principales (PCA, por sus siglas en inglés) es una técnica de reducción de dimensionalidad lineal que se puede utilizar para extraer información de un espacio de alta dimensión proyectándola en un subespacio de menor dimensión.** El PCA intenta preservar las partes esenciales que tienen más variación de los datos y eliminar las partes no esenciales con menos variación."
      ],
      "metadata": {
        "id": "PYyPB2dOuUK3"
      }
    },
    {
      "cell_type": "markdown",
      "source": [
        "El análisis de componentes principales utiliza una transformación ortogonal para convertir un conjunto de observaciones de variables continuas posiblemente correlacionadas en un conjunto de valores de variables linealmente no correlacionadas llamadas componentes principales."
      ],
      "metadata": {
        "id": "s6Ix3lsXuzny"
      }
    },
    {
      "cell_type": "markdown",
      "source": [
        "El análisis de componentes principales tiene dos principales casos de uso: \n",
        "\n",
        "* **Visualización de datos**\n",
        "\n",
        "Para resolver un problema donde los datos son la clave, necesitamos una amplia exploración de estos para descubrir cómo se correlacionan entre sí y comprender sy distribución. Pra ello, la visualización de datos es una herramienta empírica que puede resultar muy útil. Pero,¿qué sucede cuando tenemos más de dos variables? PCA puede proyectar los datos en una dimensión más baja, lo que le permite visualizar los datos en un espacio 2D o 3D a simple vista.\n",
        "\n",
        "* **Aceleración del entrenamiedo de un modelo de aprendizaje automático**\n",
        "\n",
        "Dado que el tiempo de entrenamiento de un modelo de aprendizaje automático está en función del tamaño del conjunto de datos (número de observaciones y número de variables) podemos acelerarlo con PCA al reduucir el total de variables. "
      ],
      "metadata": {
        "id": "Qa3cIh_-vGqa"
      }
    },
    {
      "cell_type": "markdown",
      "source": [
        "**Los componentes principales tienen dirección y magnitud.** La dirección representa a través de qué ejes principales se distribuyen principalmente los datos o tienen la mayor variación, y la magnitud indica la cantidad de variación que el componente principal captura de los datos cuando se proyecta en ese eje. "
      ],
      "metadata": {
        "id": "townEBHcx-f0"
      }
    },
    {
      "cell_type": "markdown",
      "source": [
        "**Los componentes principales son una línea recta y el primer componente principal tiene la mayor variación en los datos.** Cada componente principal posterior es ortogonal al último y tiene una varianza menor. De esta forma, dado un conjunto de $p$ variables correlacionadas en $n$ observaciones, se obtiene un conjunto de $u$ componentes principales no correlacionados sobre las mismas $n$ observaciones."
      ],
      "metadata": {
        "id": "xjGK_2hZycju"
      }
    },
    {
      "cell_type": "markdown",
      "source": [
        "Consideramos un conjunto de datos de dominio público alojado en el [Machine Learning Repository](https://archive.ics.uci.edu/ml/datasets/Breast+Cancer+Wisconsin+(Diagnostic)). Este conjunto de datos contiene aproximadamente 570 observaciones extraídas de una base de datos de pacientes del Diagnostic Wisconsin Breast Cancer Database. "
      ],
      "metadata": {
        "id": "qWnhrgi6ze7R"
      }
    },
    {
      "cell_type": "code",
      "source": [
        "wdbc = load_breast_cancer()"
      ],
      "metadata": {
        "id": "Yjsq-z-32MhL"
      },
      "execution_count": 2,
      "outputs": []
    },
    {
      "cell_type": "code",
      "source": [
        "wdbc_data = wdbc.data\n",
        "\n",
        "wdbc_labels = wdbc.target\n",
        "wdbc_labels = np.reshape(wdbc_labels, (569,1))"
      ],
      "metadata": {
        "id": "2t4D7kB82rnV"
      },
      "execution_count": 3,
      "outputs": []
    },
    {
      "cell_type": "code",
      "source": [
        "complete_wdbc_data = np.concatenate([wdbc_data, wdbc_labels],axis=1)"
      ],
      "metadata": {
        "id": "6odjdJTw2Mj_"
      },
      "execution_count": 4,
      "outputs": []
    },
    {
      "cell_type": "code",
      "source": [
        "wdbc_df = pd.DataFrame(complete_wdbc_data)\n",
        "wdbc_df.columns = np.append(wdbc.feature_names, \"label\")\n",
        "wdbc_df[\"label\"].replace(0, \"Benign\", inplace=True)\n",
        "wdbc_df[\"label\"].replace(1, \"Malignant\", inplace=True)"
      ],
      "metadata": {
        "id": "VeUoNNfi2Mmn"
      },
      "execution_count": 5,
      "outputs": []
    },
    {
      "cell_type": "code",
      "source": [
        "wdbc_df.head()"
      ],
      "metadata": {
        "colab": {
          "base_uri": "https://localhost:8080/",
          "height": 314
        },
        "id": "Stt11GlC2Mpp",
        "outputId": "cec6b867-7995-47c5-f0ef-adc750cb10c4"
      },
      "execution_count": 6,
      "outputs": [
        {
          "output_type": "execute_result",
          "data": {
            "text/plain": [
              "   mean radius  mean texture  mean perimeter  mean area  mean smoothness  \\\n",
              "0        17.99         10.38          122.80     1001.0          0.11840   \n",
              "1        20.57         17.77          132.90     1326.0          0.08474   \n",
              "2        19.69         21.25          130.00     1203.0          0.10960   \n",
              "3        11.42         20.38           77.58      386.1          0.14250   \n",
              "4        20.29         14.34          135.10     1297.0          0.10030   \n",
              "\n",
              "   mean compactness  mean concavity  mean concave points  mean symmetry  \\\n",
              "0           0.27760          0.3001              0.14710         0.2419   \n",
              "1           0.07864          0.0869              0.07017         0.1812   \n",
              "2           0.15990          0.1974              0.12790         0.2069   \n",
              "3           0.28390          0.2414              0.10520         0.2597   \n",
              "4           0.13280          0.1980              0.10430         0.1809   \n",
              "\n",
              "   mean fractal dimension  ...  worst texture  worst perimeter  worst area  \\\n",
              "0                 0.07871  ...          17.33           184.60      2019.0   \n",
              "1                 0.05667  ...          23.41           158.80      1956.0   \n",
              "2                 0.05999  ...          25.53           152.50      1709.0   \n",
              "3                 0.09744  ...          26.50            98.87       567.7   \n",
              "4                 0.05883  ...          16.67           152.20      1575.0   \n",
              "\n",
              "   worst smoothness  worst compactness  worst concavity  worst concave points  \\\n",
              "0            0.1622             0.6656           0.7119                0.2654   \n",
              "1            0.1238             0.1866           0.2416                0.1860   \n",
              "2            0.1444             0.4245           0.4504                0.2430   \n",
              "3            0.2098             0.8663           0.6869                0.2575   \n",
              "4            0.1374             0.2050           0.4000                0.1625   \n",
              "\n",
              "   worst symmetry  worst fractal dimension   label  \n",
              "0          0.4601                  0.11890  Benign  \n",
              "1          0.2750                  0.08902  Benign  \n",
              "2          0.3613                  0.08758  Benign  \n",
              "3          0.6638                  0.17300  Benign  \n",
              "4          0.2364                  0.07678  Benign  \n",
              "\n",
              "[5 rows x 31 columns]"
            ],
            "text/html": [
              "\n",
              "  <div id=\"df-9a820699-fc61-40e9-98bb-0b59b8319812\">\n",
              "    <div class=\"colab-df-container\">\n",
              "      <div>\n",
              "<style scoped>\n",
              "    .dataframe tbody tr th:only-of-type {\n",
              "        vertical-align: middle;\n",
              "    }\n",
              "\n",
              "    .dataframe tbody tr th {\n",
              "        vertical-align: top;\n",
              "    }\n",
              "\n",
              "    .dataframe thead th {\n",
              "        text-align: right;\n",
              "    }\n",
              "</style>\n",
              "<table border=\"1\" class=\"dataframe\">\n",
              "  <thead>\n",
              "    <tr style=\"text-align: right;\">\n",
              "      <th></th>\n",
              "      <th>mean radius</th>\n",
              "      <th>mean texture</th>\n",
              "      <th>mean perimeter</th>\n",
              "      <th>mean area</th>\n",
              "      <th>mean smoothness</th>\n",
              "      <th>mean compactness</th>\n",
              "      <th>mean concavity</th>\n",
              "      <th>mean concave points</th>\n",
              "      <th>mean symmetry</th>\n",
              "      <th>mean fractal dimension</th>\n",
              "      <th>...</th>\n",
              "      <th>worst texture</th>\n",
              "      <th>worst perimeter</th>\n",
              "      <th>worst area</th>\n",
              "      <th>worst smoothness</th>\n",
              "      <th>worst compactness</th>\n",
              "      <th>worst concavity</th>\n",
              "      <th>worst concave points</th>\n",
              "      <th>worst symmetry</th>\n",
              "      <th>worst fractal dimension</th>\n",
              "      <th>label</th>\n",
              "    </tr>\n",
              "  </thead>\n",
              "  <tbody>\n",
              "    <tr>\n",
              "      <th>0</th>\n",
              "      <td>17.99</td>\n",
              "      <td>10.38</td>\n",
              "      <td>122.80</td>\n",
              "      <td>1001.0</td>\n",
              "      <td>0.11840</td>\n",
              "      <td>0.27760</td>\n",
              "      <td>0.3001</td>\n",
              "      <td>0.14710</td>\n",
              "      <td>0.2419</td>\n",
              "      <td>0.07871</td>\n",
              "      <td>...</td>\n",
              "      <td>17.33</td>\n",
              "      <td>184.60</td>\n",
              "      <td>2019.0</td>\n",
              "      <td>0.1622</td>\n",
              "      <td>0.6656</td>\n",
              "      <td>0.7119</td>\n",
              "      <td>0.2654</td>\n",
              "      <td>0.4601</td>\n",
              "      <td>0.11890</td>\n",
              "      <td>Benign</td>\n",
              "    </tr>\n",
              "    <tr>\n",
              "      <th>1</th>\n",
              "      <td>20.57</td>\n",
              "      <td>17.77</td>\n",
              "      <td>132.90</td>\n",
              "      <td>1326.0</td>\n",
              "      <td>0.08474</td>\n",
              "      <td>0.07864</td>\n",
              "      <td>0.0869</td>\n",
              "      <td>0.07017</td>\n",
              "      <td>0.1812</td>\n",
              "      <td>0.05667</td>\n",
              "      <td>...</td>\n",
              "      <td>23.41</td>\n",
              "      <td>158.80</td>\n",
              "      <td>1956.0</td>\n",
              "      <td>0.1238</td>\n",
              "      <td>0.1866</td>\n",
              "      <td>0.2416</td>\n",
              "      <td>0.1860</td>\n",
              "      <td>0.2750</td>\n",
              "      <td>0.08902</td>\n",
              "      <td>Benign</td>\n",
              "    </tr>\n",
              "    <tr>\n",
              "      <th>2</th>\n",
              "      <td>19.69</td>\n",
              "      <td>21.25</td>\n",
              "      <td>130.00</td>\n",
              "      <td>1203.0</td>\n",
              "      <td>0.10960</td>\n",
              "      <td>0.15990</td>\n",
              "      <td>0.1974</td>\n",
              "      <td>0.12790</td>\n",
              "      <td>0.2069</td>\n",
              "      <td>0.05999</td>\n",
              "      <td>...</td>\n",
              "      <td>25.53</td>\n",
              "      <td>152.50</td>\n",
              "      <td>1709.0</td>\n",
              "      <td>0.1444</td>\n",
              "      <td>0.4245</td>\n",
              "      <td>0.4504</td>\n",
              "      <td>0.2430</td>\n",
              "      <td>0.3613</td>\n",
              "      <td>0.08758</td>\n",
              "      <td>Benign</td>\n",
              "    </tr>\n",
              "    <tr>\n",
              "      <th>3</th>\n",
              "      <td>11.42</td>\n",
              "      <td>20.38</td>\n",
              "      <td>77.58</td>\n",
              "      <td>386.1</td>\n",
              "      <td>0.14250</td>\n",
              "      <td>0.28390</td>\n",
              "      <td>0.2414</td>\n",
              "      <td>0.10520</td>\n",
              "      <td>0.2597</td>\n",
              "      <td>0.09744</td>\n",
              "      <td>...</td>\n",
              "      <td>26.50</td>\n",
              "      <td>98.87</td>\n",
              "      <td>567.7</td>\n",
              "      <td>0.2098</td>\n",
              "      <td>0.8663</td>\n",
              "      <td>0.6869</td>\n",
              "      <td>0.2575</td>\n",
              "      <td>0.6638</td>\n",
              "      <td>0.17300</td>\n",
              "      <td>Benign</td>\n",
              "    </tr>\n",
              "    <tr>\n",
              "      <th>4</th>\n",
              "      <td>20.29</td>\n",
              "      <td>14.34</td>\n",
              "      <td>135.10</td>\n",
              "      <td>1297.0</td>\n",
              "      <td>0.10030</td>\n",
              "      <td>0.13280</td>\n",
              "      <td>0.1980</td>\n",
              "      <td>0.10430</td>\n",
              "      <td>0.1809</td>\n",
              "      <td>0.05883</td>\n",
              "      <td>...</td>\n",
              "      <td>16.67</td>\n",
              "      <td>152.20</td>\n",
              "      <td>1575.0</td>\n",
              "      <td>0.1374</td>\n",
              "      <td>0.2050</td>\n",
              "      <td>0.4000</td>\n",
              "      <td>0.1625</td>\n",
              "      <td>0.2364</td>\n",
              "      <td>0.07678</td>\n",
              "      <td>Benign</td>\n",
              "    </tr>\n",
              "  </tbody>\n",
              "</table>\n",
              "<p>5 rows × 31 columns</p>\n",
              "</div>\n",
              "      <button class=\"colab-df-convert\" onclick=\"convertToInteractive('df-9a820699-fc61-40e9-98bb-0b59b8319812')\"\n",
              "              title=\"Convert this dataframe to an interactive table.\"\n",
              "              style=\"display:none;\">\n",
              "        \n",
              "  <svg xmlns=\"http://www.w3.org/2000/svg\" height=\"24px\"viewBox=\"0 0 24 24\"\n",
              "       width=\"24px\">\n",
              "    <path d=\"M0 0h24v24H0V0z\" fill=\"none\"/>\n",
              "    <path d=\"M18.56 5.44l.94 2.06.94-2.06 2.06-.94-2.06-.94-.94-2.06-.94 2.06-2.06.94zm-11 1L8.5 8.5l.94-2.06 2.06-.94-2.06-.94L8.5 2.5l-.94 2.06-2.06.94zm10 10l.94 2.06.94-2.06 2.06-.94-2.06-.94-.94-2.06-.94 2.06-2.06.94z\"/><path d=\"M17.41 7.96l-1.37-1.37c-.4-.4-.92-.59-1.43-.59-.52 0-1.04.2-1.43.59L10.3 9.45l-7.72 7.72c-.78.78-.78 2.05 0 2.83L4 21.41c.39.39.9.59 1.41.59.51 0 1.02-.2 1.41-.59l7.78-7.78 2.81-2.81c.8-.78.8-2.07 0-2.86zM5.41 20L4 18.59l7.72-7.72 1.47 1.35L5.41 20z\"/>\n",
              "  </svg>\n",
              "      </button>\n",
              "      \n",
              "  <style>\n",
              "    .colab-df-container {\n",
              "      display:flex;\n",
              "      flex-wrap:wrap;\n",
              "      gap: 12px;\n",
              "    }\n",
              "\n",
              "    .colab-df-convert {\n",
              "      background-color: #E8F0FE;\n",
              "      border: none;\n",
              "      border-radius: 50%;\n",
              "      cursor: pointer;\n",
              "      display: none;\n",
              "      fill: #1967D2;\n",
              "      height: 32px;\n",
              "      padding: 0 0 0 0;\n",
              "      width: 32px;\n",
              "    }\n",
              "\n",
              "    .colab-df-convert:hover {\n",
              "      background-color: #E2EBFA;\n",
              "      box-shadow: 0px 1px 2px rgba(60, 64, 67, 0.3), 0px 1px 3px 1px rgba(60, 64, 67, 0.15);\n",
              "      fill: #174EA6;\n",
              "    }\n",
              "\n",
              "    [theme=dark] .colab-df-convert {\n",
              "      background-color: #3B4455;\n",
              "      fill: #D2E3FC;\n",
              "    }\n",
              "\n",
              "    [theme=dark] .colab-df-convert:hover {\n",
              "      background-color: #434B5C;\n",
              "      box-shadow: 0px 1px 3px 1px rgba(0, 0, 0, 0.15);\n",
              "      filter: drop-shadow(0px 1px 2px rgba(0, 0, 0, 0.3));\n",
              "      fill: #FFFFFF;\n",
              "    }\n",
              "  </style>\n",
              "\n",
              "      <script>\n",
              "        const buttonEl =\n",
              "          document.querySelector('#df-9a820699-fc61-40e9-98bb-0b59b8319812 button.colab-df-convert');\n",
              "        buttonEl.style.display =\n",
              "          google.colab.kernel.accessAllowed ? 'block' : 'none';\n",
              "\n",
              "        async function convertToInteractive(key) {\n",
              "          const element = document.querySelector('#df-9a820699-fc61-40e9-98bb-0b59b8319812');\n",
              "          const dataTable =\n",
              "            await google.colab.kernel.invokeFunction('convertToInteractive',\n",
              "                                                     [key], {});\n",
              "          if (!dataTable) return;\n",
              "\n",
              "          const docLinkHtml = 'Like what you see? Visit the ' +\n",
              "            '<a target=\"_blank\" href=https://colab.research.google.com/notebooks/data_table.ipynb>data table notebook</a>'\n",
              "            + ' to learn more about interactive tables.';\n",
              "          element.innerHTML = '';\n",
              "          dataTable['output_type'] = 'display_data';\n",
              "          await google.colab.output.renderOutput(dataTable, element);\n",
              "          const docLink = document.createElement('div');\n",
              "          docLink.innerHTML = docLinkHtml;\n",
              "          element.appendChild(docLink);\n",
              "        }\n",
              "      </script>\n",
              "    </div>\n",
              "  </div>\n",
              "  "
            ]
          },
          "metadata": {},
          "execution_count": 6
        }
      ]
    },
    {
      "cell_type": "code",
      "source": [
        "wdbc_df.info()"
      ],
      "metadata": {
        "colab": {
          "base_uri": "https://localhost:8080/"
        },
        "id": "4cF4a5VF5hRG",
        "outputId": "5228e271-f3d2-44ed-8cb9-40752b138eaa"
      },
      "execution_count": 7,
      "outputs": [
        {
          "output_type": "stream",
          "name": "stdout",
          "text": [
            "<class 'pandas.core.frame.DataFrame'>\n",
            "RangeIndex: 569 entries, 0 to 568\n",
            "Data columns (total 31 columns):\n",
            " #   Column                   Non-Null Count  Dtype  \n",
            "---  ------                   --------------  -----  \n",
            " 0   mean radius              569 non-null    float64\n",
            " 1   mean texture             569 non-null    float64\n",
            " 2   mean perimeter           569 non-null    float64\n",
            " 3   mean area                569 non-null    float64\n",
            " 4   mean smoothness          569 non-null    float64\n",
            " 5   mean compactness         569 non-null    float64\n",
            " 6   mean concavity           569 non-null    float64\n",
            " 7   mean concave points      569 non-null    float64\n",
            " 8   mean symmetry            569 non-null    float64\n",
            " 9   mean fractal dimension   569 non-null    float64\n",
            " 10  radius error             569 non-null    float64\n",
            " 11  texture error            569 non-null    float64\n",
            " 12  perimeter error          569 non-null    float64\n",
            " 13  area error               569 non-null    float64\n",
            " 14  smoothness error         569 non-null    float64\n",
            " 15  compactness error        569 non-null    float64\n",
            " 16  concavity error          569 non-null    float64\n",
            " 17  concave points error     569 non-null    float64\n",
            " 18  symmetry error           569 non-null    float64\n",
            " 19  fractal dimension error  569 non-null    float64\n",
            " 20  worst radius             569 non-null    float64\n",
            " 21  worst texture            569 non-null    float64\n",
            " 22  worst perimeter          569 non-null    float64\n",
            " 23  worst area               569 non-null    float64\n",
            " 24  worst smoothness         569 non-null    float64\n",
            " 25  worst compactness        569 non-null    float64\n",
            " 26  worst concavity          569 non-null    float64\n",
            " 27  worst concave points     569 non-null    float64\n",
            " 28  worst symmetry           569 non-null    float64\n",
            " 29  worst fractal dimension  569 non-null    float64\n",
            " 30  label                    569 non-null    object \n",
            "dtypes: float64(30), object(1)\n",
            "memory usage: 137.9+ KB\n"
          ]
        }
      ]
    },
    {
      "cell_type": "markdown",
      "source": [
        "Dado que los componentes principales se ven influenciados por la escala de las variables, es una práctica común normalizar sus datos antes de aplicar PCA sobre ellos, como con modelos de aprendizaje automático. "
      ],
      "metadata": {
        "id": "EfXDYGtU4f2C"
      }
    },
    {
      "cell_type": "markdown",
      "source": [
        "Utilizaremos el transformador de Sickit-Learn `StandardScaler` para distribuir las variables normalmente de modo que escalará la distribución a una media de 0 y una desviación estándar de 1."
      ],
      "metadata": {
        "id": "KXAWgDUG5UAo"
      }
    },
    {
      "cell_type": "code",
      "source": [
        "# Escala variables indpendientes\n",
        "X = wdbc_df[wdbc.feature_names]\n",
        "X = StandardScaler().fit_transform(X)\n",
        "X = pd.DataFrame(X)"
      ],
      "metadata": {
        "id": "w1KDM96C2Msh"
      },
      "execution_count": 8,
      "outputs": []
    },
    {
      "cell_type": "code",
      "source": [
        "# Crea objeto de PCA\n",
        "pca = PCA(n_components = 2)"
      ],
      "metadata": {
        "id": "fI7KTFKX5-M0"
      },
      "execution_count": 9,
      "outputs": []
    },
    {
      "cell_type": "code",
      "source": [
        "# Aplica PCA\n",
        "X_pca = pca.fit_transform(X)"
      ],
      "metadata": {
        "id": "EQh4BU2H4W0k"
      },
      "execution_count": 10,
      "outputs": []
    },
    {
      "cell_type": "code",
      "source": [
        "# Calcula varianza explicada por cada componente principal\n",
        "print(pca.explained_variance_ratio_)"
      ],
      "metadata": {
        "colab": {
          "base_uri": "https://localhost:8080/"
        },
        "id": "f4S98i7-4W3Q",
        "outputId": "a43129ca-451c-4d07-d6e0-2bb934f79f0a"
      },
      "execution_count": 11,
      "outputs": [
        {
          "output_type": "stream",
          "name": "stdout",
          "text": [
            "[0.44272026 0.18971182]\n"
          ]
        }
      ]
    },
    {
      "cell_type": "markdown",
      "source": [
        "A partir de la varianza explicada, podemos observar que el componente principal #1 contiene el 44.2% de la información, mientras que el componente principal #2 contiene solo el 18.9% de la información. Esto implica que, al proyectar datos de treinta dimensiones a datos de dos dimensiones, se pierde el 36.8% de la información."
      ],
      "metadata": {
        "id": "tMIMkgpt7JL4"
      }
    },
    {
      "cell_type": "code",
      "source": [
        "X_pca_df = pd.DataFrame(X_pca)\n",
        "X_pca_df.columns = [\"PC1\", \"PC2\"]\n",
        "X_pca_df[\"label\"] = wdbc_df.label"
      ],
      "metadata": {
        "id": "RC9r2ibb76f1"
      },
      "execution_count": 12,
      "outputs": []
    },
    {
      "cell_type": "code",
      "source": [
        "# Grafica componentes principales\n",
        "ggplot(X_pca_df) + aes(x=\"PC1\", y=\"PC2\", color=\"label\") + geom_point()"
      ],
      "metadata": {
        "colab": {
          "base_uri": "https://localhost:8080/",
          "height": 502
        },
        "id": "-k0m38Jr2Myb",
        "outputId": "f01ec5c8-5ce0-40f0-b7db-08ecb812bac0"
      },
      "execution_count": 13,
      "outputs": [
        {
          "output_type": "stream",
          "name": "stderr",
          "text": [
            "/usr/local/lib/python3.7/dist-packages/plotnine/utils.py:1246: FutureWarning: is_categorical is deprecated and will be removed in a future version.  Use is_categorical_dtype instead\n",
            "  if pdtypes.is_categorical(arr):\n"
          ]
        },
        {
          "output_type": "display_data",
          "data": {
            "text/plain": [
              "<Figure size 640x480 with 1 Axes>"
            ],
            "image/png": "[encoded data removed]"
          },
          "metadata": {}
        },
        {
          "output_type": "execute_result",
          "data": {
            "text/plain": [
              "<ggplot: (8757722558277)>"
            ]
          },
          "metadata": {},
          "execution_count": 13
        }
      ]
    },
    {
      "cell_type": "markdown",
      "source": [
        "## Clustering"
      ],
      "metadata": {
        "id": "-EV21cTx84pb"
      }
    },
    {
      "cell_type": "markdown",
      "source": [
        "El clustering se refiere a un conjunto muy amplio de técnicas para encontrar subgrupos en un conjunto de datos. Cuando agrupamos las observaciones de un conjunto de datos, **buscamos dividirlas en grupos distintos con observaciones dentro de cada grupo sean bastante similares**. Para ello, debemos definir qué significa que dos o más observaciones sean difirentes o similares. "
      ],
      "metadata": {
        "id": "hH8Pwsjv-i_S"
      }
    },
    {
      "cell_type": "markdown",
      "source": [
        "### K-means"
      ],
      "metadata": {
        "id": "aumuifOFEDRc"
      }
    },
    {
      "cell_type": "markdown",
      "source": [
        "El clustering mediantte K-means es un enfoque simple y elegante para dividir un conjunto de datos en $K$ clústeres distintos que no se superponen. Para realizar el agrupamiento de K-means, primero debemos especificar el número deseado de agrupamientos $K$; entonces el algoritmo de K-medias asignará cada observación exactamente a uno de los $K$ clústerres."
      ],
      "metadata": {
        "id": "Nt_tfpQ6EBOO"
      }
    },
    {
      "cell_type": "markdown",
      "source": [
        "Hay muchas formas posibles de definir este concepto, pero la opción más común es la distancia euclidiana al cuadrado."
      ],
      "metadata": {
        "id": "_9vYsVJQEj2G"
      }
    },
    {
      "cell_type": "markdown",
      "source": [
        "Para separar el conjunto de datos en distintos clústeres, necesitamos dividir las observaciones en $K$ clústeres de manera que se minimice la distancia euclideana entre las observaciones de cada uno.Este es un problema muy difícil de resolver con precisión, ya que hay casi $K_n$ formas de dividir $n$ observaciones en $K$ clústeres. Afortunadamente, se puede demostrar que un algoritmo muy simple proporciona un óptimo local."
      ],
      "metadata": {
        "id": "Mq4YLTwEE5Hu"
      }
    },
    {
      "cell_type": "markdown",
      "source": [
        "1. Asignar aleatoriamente un número, del 1 al $K$, a cada una de las observaciones.\n",
        "Estos sirven como asignaciones de grupos iniciales para las observaciones.\n",
        "\n",
        "2. Iterar hasta que las asignaciones de clústeres dejen de cambiar: \n",
        "  \n",
        "  a. Para cada uno de los $K$ clústeres, calcular el centroide del cúster. El centroide del clúster es el vector de las medias de las $p$ variables para las observaciones en el clúster.\n",
        "\n",
        "  b. Asignar cada observación al clúster cuyo centroide sea el más cercano (donde el más cercano se define con la distancia euclidiana)."
      ],
      "metadata": {
        "id": "gu_IuUnhFvhF"
      }
    },
    {
      "cell_type": "markdown",
      "source": [
        "Consideramos un conjunto de datos de dominio público alojado en [Kaggle](https://www.kaggle.com/datasets/vjchoudhary7/customer-segmentation-tutorial-in-python). Este conjunto de datos contiene 200 observaciones extraídas de una base de clientes de Target. "
      ],
      "metadata": {
        "id": "Pg2pmIt4If3G"
      }
    },
    {
      "cell_type": "code",
      "source": [
        "customers = pd.read_csv(\"https://raw.githubusercontent.com/sarahiaguilar/fundamentos-cdd/main/datos/customers.csv\")"
      ],
      "metadata": {
        "id": "S9Wcaa_U2M1P"
      },
      "execution_count": 14,
      "outputs": []
    },
    {
      "cell_type": "code",
      "source": [
        "customers.head()"
      ],
      "metadata": {
        "colab": {
          "base_uri": "https://localhost:8080/",
          "height": 206
        },
        "id": "XvVqe9ff2M4F",
        "outputId": "b20da9af-11d1-442f-874f-685fefc2f114"
      },
      "execution_count": 15,
      "outputs": [
        {
          "output_type": "execute_result",
          "data": {
            "text/plain": [
              "   CustomerID  Gender  Age  Annual Income (k$)  Spending Score (1-100)\n",
              "0           1    Male   19                  15                      39\n",
              "1           2    Male   21                  15                      81\n",
              "2           3  Female   20                  16                       6\n",
              "3           4  Female   23                  16                      77\n",
              "4           5  Female   31                  17                      40"
            ],
            "text/html": [
              "\n",
              "  <div id=\"df-34c89fe4-faee-4ba2-8753-e94a07e1eb75\">\n",
              "    <div class=\"colab-df-container\">\n",
              "      <div>\n",
              "<style scoped>\n",
              "    .dataframe tbody tr th:only-of-type {\n",
              "        vertical-align: middle;\n",
              "    }\n",
              "\n",
              "    .dataframe tbody tr th {\n",
              "        vertical-align: top;\n",
              "    }\n",
              "\n",
              "    .dataframe thead th {\n",
              "        text-align: right;\n",
              "    }\n",
              "</style>\n",
              "<table border=\"1\" class=\"dataframe\">\n",
              "  <thead>\n",
              "    <tr style=\"text-align: right;\">\n",
              "      <th></th>\n",
              "      <th>CustomerID</th>\n",
              "      <th>Gender</th>\n",
              "      <th>Age</th>\n",
              "      <th>Annual Income (k$)</th>\n",
              "      <th>Spending Score (1-100)</th>\n",
              "    </tr>\n",
              "  </thead>\n",
              "  <tbody>\n",
              "    <tr>\n",
              "      <th>0</th>\n",
              "      <td>1</td>\n",
              "      <td>Male</td>\n",
              "      <td>19</td>\n",
              "      <td>15</td>\n",
              "      <td>39</td>\n",
              "    </tr>\n",
              "    <tr>\n",
              "      <th>1</th>\n",
              "      <td>2</td>\n",
              "      <td>Male</td>\n",
              "      <td>21</td>\n",
              "      <td>15</td>\n",
              "      <td>81</td>\n",
              "    </tr>\n",
              "    <tr>\n",
              "      <th>2</th>\n",
              "      <td>3</td>\n",
              "      <td>Female</td>\n",
              "      <td>20</td>\n",
              "      <td>16</td>\n",
              "      <td>6</td>\n",
              "    </tr>\n",
              "    <tr>\n",
              "      <th>3</th>\n",
              "      <td>4</td>\n",
              "      <td>Female</td>\n",
              "      <td>23</td>\n",
              "      <td>16</td>\n",
              "      <td>77</td>\n",
              "    </tr>\n",
              "    <tr>\n",
              "      <th>4</th>\n",
              "      <td>5</td>\n",
              "      <td>Female</td>\n",
              "      <td>31</td>\n",
              "      <td>17</td>\n",
              "      <td>40</td>\n",
              "    </tr>\n",
              "  </tbody>\n",
              "</table>\n",
              "</div>\n",
              "      <button class=\"colab-df-convert\" onclick=\"convertToInteractive('df-34c89fe4-faee-4ba2-8753-e94a07e1eb75')\"\n",
              "              title=\"Convert this dataframe to an interactive table.\"\n",
              "              style=\"display:none;\">\n",
              "        \n",
              "  <svg xmlns=\"http://www.w3.org/2000/svg\" height=\"24px\"viewBox=\"0 0 24 24\"\n",
              "       width=\"24px\">\n",
              "    <path d=\"M0 0h24v24H0V0z\" fill=\"none\"/>\n",
              "    <path d=\"M18.56 5.44l.94 2.06.94-2.06 2.06-.94-2.06-.94-.94-2.06-.94 2.06-2.06.94zm-11 1L8.5 8.5l.94-2.06 2.06-.94-2.06-.94L8.5 2.5l-.94 2.06-2.06.94zm10 10l.94 2.06.94-2.06 2.06-.94-2.06-.94-.94-2.06-.94 2.06-2.06.94z\"/><path d=\"M17.41 7.96l-1.37-1.37c-.4-.4-.92-.59-1.43-.59-.52 0-1.04.2-1.43.59L10.3 9.45l-7.72 7.72c-.78.78-.78 2.05 0 2.83L4 21.41c.39.39.9.59 1.41.59.51 0 1.02-.2 1.41-.59l7.78-7.78 2.81-2.81c.8-.78.8-2.07 0-2.86zM5.41 20L4 18.59l7.72-7.72 1.47 1.35L5.41 20z\"/>\n",
              "  </svg>\n",
              "      </button>\n",
              "      \n",
              "  <style>\n",
              "    .colab-df-container {\n",
              "      display:flex;\n",
              "      flex-wrap:wrap;\n",
              "      gap: 12px;\n",
              "    }\n",
              "\n",
              "    .colab-df-convert {\n",
              "      background-color: #E8F0FE;\n",
              "      border: none;\n",
              "      border-radius: 50%;\n",
              "      cursor: pointer;\n",
              "      display: none;\n",
              "      fill: #1967D2;\n",
              "      height: 32px;\n",
              "      padding: 0 0 0 0;\n",
              "      width: 32px;\n",
              "    }\n",
              "\n",
              "    .colab-df-convert:hover {\n",
              "      background-color: #E2EBFA;\n",
              "      box-shadow: 0px 1px 2px rgba(60, 64, 67, 0.3), 0px 1px 3px 1px rgba(60, 64, 67, 0.15);\n",
              "      fill: #174EA6;\n",
              "    }\n",
              "\n",
              "    [theme=dark] .colab-df-convert {\n",
              "      background-color: #3B4455;\n",
              "      fill: #D2E3FC;\n",
              "    }\n",
              "\n",
              "    [theme=dark] .colab-df-convert:hover {\n",
              "      background-color: #434B5C;\n",
              "      box-shadow: 0px 1px 3px 1px rgba(0, 0, 0, 0.15);\n",
              "      filter: drop-shadow(0px 1px 2px rgba(0, 0, 0, 0.3));\n",
              "      fill: #FFFFFF;\n",
              "    }\n",
              "  </style>\n",
              "\n",
              "      <script>\n",
              "        const buttonEl =\n",
              "          document.querySelector('#df-34c89fe4-faee-4ba2-8753-e94a07e1eb75 button.colab-df-convert');\n",
              "        buttonEl.style.display =\n",
              "          google.colab.kernel.accessAllowed ? 'block' : 'none';\n",
              "\n",
              "        async function convertToInteractive(key) {\n",
              "          const element = document.querySelector('#df-34c89fe4-faee-4ba2-8753-e94a07e1eb75');\n",
              "          const dataTable =\n",
              "            await google.colab.kernel.invokeFunction('convertToInteractive',\n",
              "                                                     [key], {});\n",
              "          if (!dataTable) return;\n",
              "\n",
              "          const docLinkHtml = 'Like what you see? Visit the ' +\n",
              "            '<a target=\"_blank\" href=https://colab.research.google.com/notebooks/data_table.ipynb>data table notebook</a>'\n",
              "            + ' to learn more about interactive tables.';\n",
              "          element.innerHTML = '';\n",
              "          dataTable['output_type'] = 'display_data';\n",
              "          await google.colab.output.renderOutput(dataTable, element);\n",
              "          const docLink = document.createElement('div');\n",
              "          docLink.innerHTML = docLinkHtml;\n",
              "          element.appendChild(docLink);\n",
              "        }\n",
              "      </script>\n",
              "    </div>\n",
              "  </div>\n",
              "  "
            ]
          },
          "metadata": {},
          "execution_count": 15
        }
      ]
    },
    {
      "cell_type": "code",
      "source": [
        "customers.info()"
      ],
      "metadata": {
        "colab": {
          "base_uri": "https://localhost:8080/"
        },
        "id": "Xmz8LRwn82pd",
        "outputId": "74826578-8445-4566-c8c7-06992cfdc694"
      },
      "execution_count": 16,
      "outputs": [
        {
          "output_type": "stream",
          "name": "stdout",
          "text": [
            "<class 'pandas.core.frame.DataFrame'>\n",
            "RangeIndex: 200 entries, 0 to 199\n",
            "Data columns (total 5 columns):\n",
            " #   Column                  Non-Null Count  Dtype \n",
            "---  ------                  --------------  ----- \n",
            " 0   CustomerID              200 non-null    int64 \n",
            " 1   Gender                  200 non-null    object\n",
            " 2   Age                     200 non-null    int64 \n",
            " 3   Annual Income (k$)      200 non-null    int64 \n",
            " 4   Spending Score (1-100)  200 non-null    int64 \n",
            "dtypes: int64(4), object(1)\n",
            "memory usage: 7.9+ KB\n"
          ]
        }
      ]
    },
    {
      "cell_type": "code",
      "source": [
        "# Escala variables indpendientes\n",
        "feature_cols = [\"Annual Income (k$)\",\t\"Spending Score (1-100)\"]\n",
        "X = customers[feature_cols]\n",
        "X = StandardScaler().fit_transform(X)\n",
        "X = pd.DataFrame(X)"
      ],
      "metadata": {
        "id": "y2RBfoBn82r_"
      },
      "execution_count": 17,
      "outputs": []
    },
    {
      "cell_type": "code",
      "source": [
        "# Crea objeto de K-means\n",
        "kmeans = cluster.KMeans(n_clusters = 2)"
      ],
      "metadata": {
        "id": "hqbMSdbTJ0Ey"
      },
      "execution_count": 18,
      "outputs": []
    },
    {
      "cell_type": "code",
      "source": [
        "# Aplica K-menas\n",
        "kmeans.fit(X)\n",
        "X.columns = [\"annual_income\", \"spending_score\"]\n",
        "X[\"clusters\"] = kmeans.labels_"
      ],
      "metadata": {
        "id": "nFk1lRGKJ0E9"
      },
      "execution_count": 19,
      "outputs": []
    },
    {
      "cell_type": "code",
      "source": [
        "# Grafica clusters\n",
        "ggplot(X) + aes(x=\"annual_income\", y=\"spending_score\", color=\"clusters\") + geom_point()"
      ],
      "metadata": {
        "colab": {
          "base_uri": "https://localhost:8080/",
          "height": 466
        },
        "id": "xD5Zn2tm82xo",
        "outputId": "dce43e4e-ad6c-4b2e-f6f5-7d89f5291f65"
      },
      "execution_count": 20,
      "outputs": [
        {
          "output_type": "display_data",
          "data": {
            "text/plain": [
              "<Figure size 640x480 with 1 Axes>"
            ],
            "image/png": "[encoded data removed]"
          },
          "metadata": {}
        },
        {
          "output_type": "execute_result",
          "data": {
            "text/plain": [
              "<ggplot: (8757720094061)>"
            ]
          },
          "metadata": {},
          "execution_count": 20
        }
      ]
    },
    {
      "cell_type": "markdown",
      "source": [
        "**El método del codo es una técnica popular para determinar el número óptimo de clústeres.** En esta técnica, calculamos la suma de errores cuadrados dentro del grupo (en inglés Within Cluster Sum of Squares (WCSS)) para varios valores de $K$ y elegimos la $K$ para la que esta métrica comienza a disminuir. Visualmente, esto se puede observar como un codo."
      ],
      "metadata": {
        "id": "255CCZ20NxHu"
      }
    },
    {
      "cell_type": "code",
      "source": [
        "# Escala variables indpendientes\n",
        "feature_cols = [\"Annual Income (k$)\",\t\"Spending Score (1-100)\"]\n",
        "X = customers[feature_cols]\n",
        "X = StandardScaler().fit_transform(X)\n",
        "X = pd.DataFrame(X)"
      ],
      "metadata": {
        "id": "mXHmZtGvPgyC"
      },
      "execution_count": 21,
      "outputs": []
    },
    {
      "cell_type": "code",
      "source": [
        "# Itera por cada K y calcula la suma de errores cuadrados dentro del grupo\n",
        "K = range(2,12)\n",
        "wss = []\n",
        "\n",
        "for k in K:\n",
        "    kmeans = cluster.KMeans(n_clusters=k)\n",
        "    kmeans = kmeans.fit(X)\n",
        "    wss_iter = kmeans.inertia_\n",
        "    wss.append(wss_iter)"
      ],
      "metadata": {
        "id": "f2U4lVLo822o"
      },
      "execution_count": 22,
      "outputs": []
    },
    {
      "cell_type": "code",
      "source": [
        "plt.plot(K,wss)\n",
        "plt.xlabel(\"K\")\n",
        "plt.ylabel(\"Suma de errores cuadrados dentro del grupo\")"
      ],
      "metadata": {
        "colab": {
          "base_uri": "https://localhost:8080/",
          "height": 301
        },
        "id": "OnUT9WY3P3Hy",
        "outputId": "59bb1ae6-7746-435b-b660-2a62094c5daf"
      },
      "execution_count": 23,
      "outputs": [
        {
          "output_type": "execute_result",
          "data": {
            "text/plain": [
              "Text(0, 0.5, 'Suma de errores cuadrados dentro del grupo')"
            ]
          },
          "metadata": {},
          "execution_count": 23
        },
        {
          "output_type": "display_data",
          "data": {
            "text/plain": [
              "<Figure size 432x288 with 1 Axes>"
            ],
            "image/png": "[encoded data removed]"
          },
          "metadata": {
            "needs_background": "light"
          }
        }
      ]
    }
  ]
}