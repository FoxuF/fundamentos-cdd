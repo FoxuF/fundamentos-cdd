{
  "cells": [
    {
      "cell_type": "markdown",
      "metadata": {
        "id": "-mQ81xXrF5V2"
      },
      "source": [
        "# Introducción a NumPy"
      ]
    },
    {
      "cell_type": "markdown",
      "metadata": {
        "id": "876RYJ6YF5WM"
      },
      "source": [
        "#### **NumPy es el paquete fundamental para la computación científica en Python.**"
      ]
    },
    {
      "cell_type": "markdown",
      "metadata": {
        "id": "qqBNOHByF5WQ"
      },
      "source": [
        "NumPy es una biblioteca de Python que proporciona un objeto de matriz n-dimensional (`ndarray`) de tipos de datos homogéneos, varios objetos derivados y una variedad de rutinas para operaciones rápidas en matrices."
      ]
    },
    {
      "cell_type": "markdown",
      "metadata": {
        "id": "gV5NcFEBF5WU"
      },
      "source": [
        "### ¿Cuál es la diferencia entre las matrices NumPy (`ndarray`) y las secuencias estándar de Python?"
      ]
    },
    {
      "cell_type": "markdown",
      "metadata": {
        "id": "Mwy5ADSsF5WW"
      },
      "source": [
        "Las diferencias más importantes entre las matrices NumPy (`ndarray`) y las secuencias estándar de Python son las siguientes:\n",
        "* Las matrices NumPy tienen un tamaño fijo en la creación, a diferencia de las listas de Python (que pueden crecer dinámicamente). Cambiar el tamaño de un `ndarray` creará una nueva matriz y eliminará la original.\n",
        "* Se requiere que todos los elementos en una matriz NumPy sean del mismo tipo de datos y, por lo tanto, tendrán el mismo tamaño en la memoria. La excepción: uno puede tener matrices de objetos (Python, incluido NumPy), lo que permite matrices de elementos de diferentes tamaños.\n",
        "* Las matrices NumPy facilitan operaciones matemáticas avanzadas y de otro tipo en grandes cantidades de datos. Por lo general, tales operaciones se ejecutan de manera más eficiente y con menos código de lo que es posible con las secuencias integradas de Python.\n",
        "* Una plétora creciente de paquetes científicos y matemáticos basados en Python está utilizando matrices NumPy; aunque estos suelen admitir la entrada de secuencia de Python, convierten dicha entrada en matrices NumPy antes del procesamiento y, a menudo, generan matrices NumPy. En otras palabras, para usar de manera eficiente gran parte (quizás incluso la mayoría) del software científico/matemático actual basado en Python, no basta con saber cómo usar los tipos de secuencia integrados de Python; también es necesario saber cómo usar las matrices NumPy."
      ]
    },
    {
      "cell_type": "markdown",
      "metadata": {
        "id": "woW9gQI7F5Wb"
      },
      "source": [
        "### ¿Por qué NumPy es rápido?"
      ]
    },
    {
      "cell_type": "markdown",
      "metadata": {
        "jp-MarkdownHeadingCollapsed": true,
        "tags": [],
        "id": "GpFMLQSiF5We"
      },
      "source": [
        "La vectorización y el broadcasting. "
      ]
    },
    {
      "cell_type": "markdown",
      "metadata": {
        "jp-MarkdownHeadingCollapsed": true,
        "tags": [],
        "id": "VE2soUqlF5Wj"
      },
      "source": [
        "La vectorización del código describe la ausencia de bucles explícitos, indexación, etc., en el código a pesar de que  \"detrás de escena\" la ejecució corre en código C optimizado y precompilado. El código vectorizado tiene muchas ventajas, entre las que se encuentran:\n",
        "* Es más conciso y más fácil de leer. \n",
        "* Requiere de menos líneas de código, lo que generalmente significa menos errores. \n",
        "* Se parece más a la notación matemática estándar (lo que facilita, por lo general, codificar correctamente las construcciones matemáticas). \n",
        "* Da como resultado código más \"pythonic\". Sin la vectorización, nuestro código estaría plagado de bucles difíciles de leer e ineficientes."
      ]
    },
    {
      "cell_type": "markdown",
      "metadata": {
        "jp-MarkdownHeadingCollapsed": true,
        "tags": [],
        "id": "z0n9_KVEF5Wo"
      },
      "source": [
        "El broadcasting es el término utilizado para describir el comportamiento implícito de las operaciones elemento por elemento. En términos generales, en NumPy todas las operaciones se comportan de esta manera. "
      ]
    },
    {
      "cell_type": "markdown",
      "metadata": {
        "id": "58NiunHDF5Wt"
      },
      "source": [
        "## Importación y otros comandos útiles"
      ]
    },
    {
      "cell_type": "markdown",
      "metadata": {
        "id": "GpZ2tB0LF5Wy"
      },
      "source": [
        "Por convención, NumPy se importa con el alias *np*."
      ]
    },
    {
      "cell_type": "code",
      "execution_count": 1,
      "metadata": {
        "id": "7jn9X_UPF5W0"
      },
      "outputs": [],
      "source": [
        "import numpy as np"
      ]
    },
    {
      "cell_type": "code",
      "execution_count": 2,
      "metadata": {
        "id": "DhXey9qCF5W8"
      },
      "outputs": [],
      "source": [
        "# Imprime versión de numpy"
      ]
    },
    {
      "cell_type": "code",
      "execution_count": 3,
      "metadata": {
        "id": "d4ZwGWrIF5W-"
      },
      "outputs": [],
      "source": [
        "# Imprime documentación bult-in"
      ]
    },
    {
      "cell_type": "markdown",
      "metadata": {
        "tags": [],
        "id": "iY7047aEF5W_"
      },
      "source": [
        "## Las variables son más que solo su valor"
      ]
    },
    {
      "cell_type": "markdown",
      "metadata": {
        "id": "VHo8AwmYF5XA"
      },
      "source": [
        "Una de las ventajas mayormente reconocidas de Python es que es un lenguaje de programación que se tipifica dinámicamente. Mientras que un lenguaje de programación de tipo estático como C o Java requiere que cada variable se declare explícitamente, un lenguaje de programación de tipo dinámico como Python omite esta especificación."
      ]
    },
    {
      "cell_type": "code",
      "execution_count": 4,
      "metadata": {
        "id": "fsgTryobF5XC"
      },
      "outputs": [],
      "source": [
        "# Código en Python"
      ]
    },
    {
      "cell_type": "raw",
      "metadata": {
        "id": "6H6Z3VsMF5XE"
      },
      "source": [
        "# /* Código en C */\n",
        "int x = 4;\n",
        "x = \"four\";  // C marcaría error al correr esta línea de código"
      ]
    },
    {
      "cell_type": "markdown",
      "metadata": {
        "id": "xDclrOMmF5XF"
      },
      "source": [
        "Comprender cómo funciona esto es esencial cuando se busca aprender a analizar datos de manera eficiente y efectiva con Python. La flexibilidad que otorga un lenguaje de programación de tipo dinámico sugiere que las variables de Python son más que solo su valor pues también contienen información adicional sobre el tipo de valor."
      ]
    },
    {
      "cell_type": "markdown",
      "metadata": {
        "id": "McEjRpn3F5XH"
      },
      "source": [
        "La implementación estándar de Python está escrita en C. Esto significa que cada objeto de Python es una estructura C, que contiene no solo su valor, sino también otra información. Por ejemplo, cuando definimos un número entero en Python, como `x = 10000`, `x` no es solo un número entero per se, y en realidad, es un puntero a una estructura C compuesta, que contiene varios valores como el recuento de referencias que ayuda a Python a manejar silenciosamente la asignación y desasignación de memoria, el tipo de la variable, el tamaño de la variable y el valor entero real que esperamos que represente la variable de Python."
      ]
    },
    {
      "cell_type": "markdown",
      "metadata": {
        "id": "LY9t2CW9F5XK"
      },
      "source": [
        "La información adicional en la estructura de datos de Python es lo que permite que Python se codifique de manera tan libre. Sin embargo, la información adicional en los tipos de Python tiene un costo, que se vuelve especialmente evidente en las estructuras que combinan muchos de estos objetos."
      ]
    },
    {
      "cell_type": "markdown",
      "metadata": {
        "id": "YCMhRx5tF5XL"
      },
      "source": [
        "El contenedor multielemento mutable estándar en Python es la lista."
      ]
    },
    {
      "cell_type": "code",
      "execution_count": 5,
      "metadata": {
        "id": "ozanXnt1F5XM"
      },
      "outputs": [],
      "source": [
        "# Declara una lista de enteros"
      ]
    },
    {
      "cell_type": "code",
      "execution_count": 6,
      "metadata": {
        "id": "hwLhoNAeF5XP"
      },
      "outputs": [],
      "source": [
        "# Devuelve tipo de la lista"
      ]
    },
    {
      "cell_type": "code",
      "execution_count": 7,
      "metadata": {
        "id": "_6iensGxF5XR"
      },
      "outputs": [],
      "source": [
        "# Devuelve tipo del primer elemento de la lista"
      ]
    },
    {
      "cell_type": "code",
      "execution_count": 8,
      "metadata": {
        "id": "HWLSidfHF5XS"
      },
      "outputs": [],
      "source": [
        "# Declara una lista de strings "
      ]
    },
    {
      "cell_type": "code",
      "execution_count": 9,
      "metadata": {
        "id": "dYB55liMF5XT"
      },
      "outputs": [],
      "source": [
        "# Devuelve tipo de la lista"
      ]
    },
    {
      "cell_type": "code",
      "execution_count": 10,
      "metadata": {
        "id": "YCs1Oj-6F5XU"
      },
      "outputs": [],
      "source": [
        "# Devuelve tipo del primer elemento de la lista"
      ]
    },
    {
      "cell_type": "code",
      "execution_count": 11,
      "metadata": {
        "id": "akWFZnbtF5XV"
      },
      "outputs": [],
      "source": [
        "# Declara una lista heterogénea"
      ]
    },
    {
      "cell_type": "code",
      "execution_count": 12,
      "metadata": {
        "id": "etFBX5MoF5XW"
      },
      "outputs": [],
      "source": [
        "# Devuelve tipo de todos los elementos de la lista"
      ]
    },
    {
      "cell_type": "markdown",
      "metadata": {
        "id": "m4U1YR4oF5XX"
      },
      "source": [
        "Cada elemento de una lista debe contener su propia información pues cada uno es un objeto de Python completo. En el caso de que todas las variables sean del mismo tipo, mucha de esta información es redundante. Por ello, resulta mucho más eficiente almacenar datos en un arreglo de tipo fijo, es decir, un `ndarray`."
      ]
    },
    {
      "cell_type": "markdown",
      "metadata": {
        "id": "gfKQX0BhF5XY"
      },
      "source": [
        "## Creando un `ndarray`"
      ]
    },
    {
      "cell_type": "markdown",
      "metadata": {
        "id": "FgKmx5ajF5XY"
      },
      "source": [
        "### A partir de una lista"
      ]
    },
    {
      "cell_type": "markdown",
      "metadata": {
        "id": "WxGKGTvPF5XZ"
      },
      "source": [
        "`np.array` permite crear arreglos a partir de una lista."
      ]
    },
    {
      "cell_type": "code",
      "execution_count": 13,
      "metadata": {
        "colab": {
          "base_uri": "https://localhost:8080/"
        },
        "id": "OpgJjc68F5Xa",
        "outputId": "565d372e-c51a-4b71-bea2-a51b4405e662"
      },
      "outputs": [
        {
          "output_type": "execute_result",
          "data": {
            "text/plain": [
              "array([ 2,  3,  5,  7, 11])"
            ]
          },
          "metadata": {},
          "execution_count": 13
        }
      ],
      "source": [
        "# Declara un arreglo de enteros\n",
        "np.array([2, 3, 5, 7, 11])"
      ]
    },
    {
      "cell_type": "markdown",
      "metadata": {
        "id": "_6vqq8i1F5Xf"
      },
      "source": [
        "Si los tipos de un arreglo no coinciden, NumPy ejecutará un upcast si es posible."
      ]
    },
    {
      "cell_type": "code",
      "execution_count": 14,
      "metadata": {
        "colab": {
          "base_uri": "https://localhost:8080/"
        },
        "id": "U3Z4H6WHF5Xg",
        "outputId": "5e5df923-07ec-4123-c658-b12b3693f0ef"
      },
      "outputs": [
        {
          "output_type": "execute_result",
          "data": {
            "text/plain": [
              "array([ 2.    ,  3.1416,  5.    ,  7.    , 11.    ])"
            ]
          },
          "metadata": {},
          "execution_count": 14
        }
      ],
      "source": [
        "# Declara un arreglo heterogéneo\n",
        "np.array([2, 3.1416, 5, 7, 11])"
      ]
    },
    {
      "cell_type": "markdown",
      "metadata": {
        "id": "vnrLsC0JF5Xi"
      },
      "source": [
        "Si queremos establecer explícitamente el tipo de datos del arreglo resultante, podemos usar el parámetro `dtype`."
      ]
    },
    {
      "cell_type": "code",
      "execution_count": 15,
      "metadata": {
        "id": "tfL1ZupqF5Xj"
      },
      "outputs": [],
      "source": [
        "# Declara un arreglo de flotantes"
      ]
    },
    {
      "cell_type": "markdown",
      "metadata": {
        "id": "l-EUmiEMF5Xj"
      },
      "source": [
        "A diferencia de las listas de Python, los arreglos NumPy pueden ser explícitamente multidimensionales, es decir, las listas internas se tratan como filas del arreglo bidimensional resultante."
      ]
    },
    {
      "cell_type": "code",
      "execution_count": 16,
      "metadata": {
        "id": "Bs2mf6x1F5Xk"
      },
      "outputs": [],
      "source": [
        "# Declara un arreglo multidimensional"
      ]
    },
    {
      "cell_type": "markdown",
      "metadata": {
        "id": "ERwV6FjlF5Xl"
      },
      "source": [
        "### Desde 0"
      ]
    },
    {
      "cell_type": "markdown",
      "metadata": {
        "id": "hYwU62XQF5Xm"
      },
      "source": [
        "Especialmente para arreglos más grandes, es más eficiente crear arreglos desde cero utilizando rutinas integradas en NumPy."
      ]
    },
    {
      "cell_type": "code",
      "execution_count": 17,
      "metadata": {
        "id": "EFoaHPdYF5Xm"
      },
      "outputs": [],
      "source": [
        "# Declara un arreglo de ceros de tamaño 42"
      ]
    },
    {
      "cell_type": "code",
      "execution_count": 18,
      "metadata": {
        "id": "qkynrA1eF5Xo"
      },
      "outputs": [],
      "source": [
        "# Declara un arreglo de unos de tipo flotante de tamaño 6x12"
      ]
    },
    {
      "cell_type": "code",
      "execution_count": 19,
      "metadata": {
        "id": "TQ_xSKvIF5Xp"
      },
      "outputs": [],
      "source": [
        "# Declara un arreglo con el valor 42 de tamaño 2x10"
      ]
    },
    {
      "cell_type": "code",
      "execution_count": 20,
      "metadata": {
        "id": "qxrqkpI5F5Xq"
      },
      "outputs": [],
      "source": [
        "# Declara un arreglo con una secuencia linear\n",
        "# empezando en 0, terminando antes de 30, de 5 en 5"
      ]
    },
    {
      "cell_type": "code",
      "execution_count": 21,
      "metadata": {
        "id": "GXXm60HbF5Xr"
      },
      "outputs": [],
      "source": [
        "# Declara un arreglo de 5 valores espaciados uniformemente entre 0 y 10"
      ]
    },
    {
      "cell_type": "code",
      "execution_count": 22,
      "metadata": {
        "id": "D3PIOt0wF5Xs"
      },
      "outputs": [],
      "source": [
        "# Delcara un arreglo de tamaño 4x4 de valores aleatorios entre 0 y 1"
      ]
    },
    {
      "cell_type": "code",
      "execution_count": 23,
      "metadata": {
        "id": "C1ErrcIpF5Xt"
      },
      "outputs": [],
      "source": [
        "# Delcara un arreglo de tamaño 4x4 de valores aleatorios normalmente distribuidos con media 0 y desviación estándar de 1"
      ]
    },
    {
      "cell_type": "code",
      "execution_count": 24,
      "metadata": {
        "id": "2R7M9KhxF5Xt"
      },
      "outputs": [],
      "source": [
        "# Delcara un arreglo de tamaño 4x4 de valores aleatorios en el intervalo [0, 10)"
      ]
    },
    {
      "cell_type": "code",
      "execution_count": 25,
      "metadata": {
        "id": "TeunQyJmF5Xw"
      },
      "outputs": [],
      "source": [
        "# Declara una matriz identidad de tamaño 4x4"
      ]
    },
    {
      "cell_type": "code",
      "execution_count": 26,
      "metadata": {
        "id": "qvPk0RBPF5Xw"
      },
      "outputs": [],
      "source": [
        "# Declara un arreglo no inicializada de tres enteros\n",
        "# Los valores serán lo que ya exista en esa ubicación de memoria"
      ]
    },
    {
      "cell_type": "markdown",
      "metadata": {
        "id": "zw9CslwsF5Xx"
      },
      "source": [
        "## Atributos de un `ndarray`"
      ]
    },
    {
      "cell_type": "markdown",
      "metadata": {
        "id": "_Yy1krg0F5Xy"
      },
      "source": [
        "Cada arreglo tiene atributos:\n",
        "* `ndim`: el número de dimensiones\n",
        "* `shape`: el tamaño de cada dimensión\n",
        "* `size`: el tamaño total del arreglo\n",
        "* `dtype`: el tipo del arreglo\n",
        "* `itemsize`: el tamaño en bytes de los elementos del arreglo\n",
        "* `nbytes`: el tamaño en bytes de todos los elementos del arreglo"
      ]
    },
    {
      "cell_type": "code",
      "execution_count": 27,
      "metadata": {
        "id": "u6vAIUz0F5Xz"
      },
      "outputs": [],
      "source": [
        "# Declara semilla para reproducibilidad"
      ]
    },
    {
      "cell_type": "code",
      "execution_count": 28,
      "metadata": {
        "id": "AFxJDaIbF5X0"
      },
      "outputs": [],
      "source": [
        "# Declara arreglo unidimencional\n",
        "\n",
        "# Declara arreglo bidimencional\n",
        "\n",
        "# Declara arreglo tridimencional"
      ]
    },
    {
      "cell_type": "code",
      "execution_count": 29,
      "metadata": {
        "colab": {
          "base_uri": "https://localhost:8080/",
          "height": 234
        },
        "id": "OyyW015DF5X2",
        "outputId": "8e7afdc9-637a-42b3-a06c-a98066555345"
      },
      "outputs": [
        {
          "output_type": "error",
          "ename": "NameError",
          "evalue": "ignored",
          "traceback": [
            "\u001b[0;31m---------------------------------------------------------------------------\u001b[0m",
            "\u001b[0;31mNameError\u001b[0m                                 Traceback (most recent call last)",
            "\u001b[0;32m<ipython-input-29-ae01ba7d3ed1>\u001b[0m in \u001b[0;36m<module>\u001b[0;34m()\u001b[0m\n\u001b[1;32m      1\u001b[0m \u001b[0;31m##### Imprime atributos del arreglo\u001b[0m\u001b[0;34m\u001b[0m\u001b[0;34m\u001b[0m\u001b[0;34m\u001b[0m\u001b[0m\n\u001b[0;32m----> 2\u001b[0;31m \u001b[0mprint\u001b[0m\u001b[0;34m(\u001b[0m\u001b[0;34m\"x3 ndim: \"\u001b[0m\u001b[0;34m,\u001b[0m \u001b[0mx3\u001b[0m\u001b[0;34m.\u001b[0m\u001b[0mndim\u001b[0m\u001b[0;34m)\u001b[0m\u001b[0;34m\u001b[0m\u001b[0;34m\u001b[0m\u001b[0m\n\u001b[0m\u001b[1;32m      3\u001b[0m \u001b[0mprint\u001b[0m\u001b[0;34m(\u001b[0m\u001b[0;34m\"x3 shape:\"\u001b[0m\u001b[0;34m,\u001b[0m \u001b[0mx3\u001b[0m\u001b[0;34m.\u001b[0m\u001b[0mshape\u001b[0m\u001b[0;34m)\u001b[0m\u001b[0;34m\u001b[0m\u001b[0;34m\u001b[0m\u001b[0m\n\u001b[1;32m      4\u001b[0m \u001b[0mprint\u001b[0m\u001b[0;34m(\u001b[0m\u001b[0;34m\"x3 size: \"\u001b[0m\u001b[0;34m,\u001b[0m \u001b[0mx3\u001b[0m\u001b[0;34m.\u001b[0m\u001b[0msize\u001b[0m\u001b[0;34m)\u001b[0m\u001b[0;34m\u001b[0m\u001b[0;34m\u001b[0m\u001b[0m\n\u001b[1;32m      5\u001b[0m \u001b[0mprint\u001b[0m\u001b[0;34m(\u001b[0m\u001b[0;34m\"x3 dtype: \"\u001b[0m\u001b[0;34m,\u001b[0m \u001b[0mx3\u001b[0m\u001b[0;34m.\u001b[0m\u001b[0mdtype\u001b[0m\u001b[0;34m)\u001b[0m\u001b[0;34m\u001b[0m\u001b[0;34m\u001b[0m\u001b[0m\n",
            "\u001b[0;31mNameError\u001b[0m: name 'x3' is not defined"
          ]
        }
      ],
      "source": [
        "##### Imprime atributos del arreglo\n",
        "print(\"x3 ndim: \", x3.ndim)\n",
        "print(\"x3 shape:\", x3.shape)\n",
        "print(\"x3 size: \", x3.size)\n",
        "print(\"x3 dtype: \", x3.dtype)\n",
        "print(\"x3 itemsize: \", x3.itemsize)\n",
        "print(\"x3 nbytes: \", x3.nbytes)"
      ]
    },
    {
      "cell_type": "markdown",
      "metadata": {
        "id": "BqvHvpDaF5X3"
      },
      "source": [
        "## Indexación del `ndarray`"
      ]
    },
    {
      "cell_type": "markdown",
      "metadata": {
        "id": "IJSMQpFdF5X5"
      },
      "source": [
        "En un arreglo unidimensional, se puede acceder al valor $i^{th}$ (contando desde cero) especificando el índice deseado entre corchetes, al igual que con las listas."
      ]
    },
    {
      "cell_type": "code",
      "execution_count": 60,
      "metadata": {
        "id": "D93snCMtF5X6"
      },
      "outputs": [],
      "source": [
        "# Imprime arreglo"
      ]
    },
    {
      "cell_type": "code",
      "execution_count": 61,
      "metadata": {
        "id": "W4qeADcyF5X7"
      },
      "outputs": [],
      "source": [
        "# Imprime valor en la posición 1 del arreglo"
      ]
    },
    {
      "cell_type": "code",
      "execution_count": 62,
      "metadata": {
        "id": "ki7o6gtuF5X7"
      },
      "outputs": [],
      "source": [
        "# Imprime valor en la posición 4 del arreglo"
      ]
    },
    {
      "cell_type": "markdown",
      "metadata": {
        "id": "4T1m1gUnF5X8"
      },
      "source": [
        "Para indexar desde el final del arreglo, se pueden usar índices negativos."
      ]
    },
    {
      "cell_type": "code",
      "execution_count": 63,
      "metadata": {
        "id": "pzRIRFSyF5X9"
      },
      "outputs": [],
      "source": [
        "# Imprime valor en la posición n-1, donde n es el tamaño del arreglo"
      ]
    },
    {
      "cell_type": "code",
      "execution_count": 64,
      "metadata": {
        "id": "DfBS0yCIF5X-"
      },
      "outputs": [],
      "source": [
        "# Imprime valor en la posición n-2, donde n es el tamaño del arreglo"
      ]
    },
    {
      "cell_type": "markdown",
      "metadata": {
        "id": "Q6PSKCyuF5X-"
      },
      "source": [
        "En un arreglo multidimensional, se puede acceder a los elementos mediante una tupla de índices separados por comas."
      ]
    },
    {
      "cell_type": "code",
      "execution_count": 65,
      "metadata": {
        "id": "VpZZmjA-F5X_"
      },
      "outputs": [],
      "source": [
        "# Imprime arreglo"
      ]
    },
    {
      "cell_type": "code",
      "execution_count": 66,
      "metadata": {
        "id": "j-FukdAjF5YA"
      },
      "outputs": [],
      "source": [
        "# Imprime valor en la posición 1 (fila), 1 (columna) del arreglo"
      ]
    },
    {
      "cell_type": "code",
      "execution_count": 67,
      "metadata": {
        "id": "dFmJk5suF5YB"
      },
      "outputs": [],
      "source": [
        "# Imprime valor en la posición 3 (fila), 3 (columna) del arreglo"
      ]
    },
    {
      "cell_type": "code",
      "execution_count": 68,
      "metadata": {
        "id": "-YSPdRHuF5YB"
      },
      "outputs": [],
      "source": [
        "# Imprime valor en la posición 2 (fila), n-1 (columna), donde n es el tamaño del arreglo"
      ]
    },
    {
      "cell_type": "markdown",
      "metadata": {
        "id": "hagT_IHyF5YC"
      },
      "source": [
        "Los valores también se pueden modificar usando cualquiera de las notaciones anteriores."
      ]
    },
    {
      "cell_type": "code",
      "execution_count": 69,
      "metadata": {
        "id": "gnphoo6eF5YD"
      },
      "outputs": [],
      "source": [
        "# Modifica el valor en la posición 1, 1 del arreglo"
      ]
    },
    {
      "cell_type": "markdown",
      "metadata": {
        "id": "TYJ0Q592F5YE"
      },
      "source": [
        "A diferencia de las listas, los arreglos NumPy tienen un tipo fijo. Esto significa, por ejemplo, que si se intenta modificar un valor flotante en una matriz de enteros, el valor se truncará silenciosamente. "
      ]
    },
    {
      "cell_type": "code",
      "execution_count": 70,
      "metadata": {
        "id": "UI3qKyfcF5YF"
      },
      "outputs": [],
      "source": [
        "# Modifica el valor en la posición 1, 1 del arreglo por un punto flotante"
      ]
    },
    {
      "cell_type": "markdown",
      "metadata": {
        "id": "vT4q4YNwF5YG"
      },
      "source": [
        "## Slicing un `ndarray`"
      ]
    },
    {
      "cell_type": "markdown",
      "metadata": {
        "id": "oVIpgigHF5YG"
      },
      "source": [
        "Así como se pueden usar corchetes para acceder a elementos individuales de un arreglo, también se pueden usar para acceder a subarreglos con la notación de división, marcada por el carácter de dos puntos (`:`)."
      ]
    },
    {
      "cell_type": "markdown",
      "metadata": {
        "id": "oj7Dzy0CF5YH"
      },
      "source": [
        "La sintaxis de slicing de NumPy sigue la de la lista: `x[inicio:final:step]`, y si alguno de los parámetros no se especifica, los valores predeterminados son `start=0`, `stop=tamaño de la dimensión`, `step=1`."
      ]
    },
    {
      "cell_type": "code",
      "execution_count": 71,
      "metadata": {
        "id": "ta-1jVIKF5YI"
      },
      "outputs": [],
      "source": [
        "# Declara un arreglo de una secuencia linear de 10 enteros"
      ]
    },
    {
      "cell_type": "code",
      "execution_count": 72,
      "metadata": {
        "id": "SphIJXIiF5YI"
      },
      "outputs": [],
      "source": [
        "# Imprime primeros cinco elementos del arreglo"
      ]
    },
    {
      "cell_type": "code",
      "execution_count": 73,
      "metadata": {
        "id": "mTlhA9aCF5YJ"
      },
      "outputs": [],
      "source": [
        "# Imprime cinco elementos del arreglo después del índice 5"
      ]
    },
    {
      "cell_type": "code",
      "execution_count": 74,
      "metadata": {
        "id": "ZysU0E-IF5YK"
      },
      "outputs": [],
      "source": [
        "# Imprime elementos del arreglo entre el índice 4 y 7"
      ]
    },
    {
      "cell_type": "code",
      "execution_count": 75,
      "metadata": {
        "id": "TMTP9kslF5YK"
      },
      "outputs": [],
      "source": [
        "# Imprime cada dos elementos del arreglo"
      ]
    },
    {
      "cell_type": "code",
      "execution_count": 76,
      "metadata": {
        "id": "8f8NaZ1kF5YL"
      },
      "outputs": [],
      "source": [
        "# Imprime cada dos elementos del arreglo empezando en el índice 1"
      ]
    },
    {
      "cell_type": "code",
      "execution_count": 77,
      "metadata": {
        "id": "RgoFgv-4F5YL"
      },
      "outputs": [],
      "source": [
        "# Imprime todos los elementos del arreglo al revés"
      ]
    },
    {
      "cell_type": "code",
      "execution_count": 78,
      "metadata": {
        "id": "X5SamwuLF5YM"
      },
      "outputs": [],
      "source": [
        "# Imprime todos los elementos del arreglo al revés empezando en el índice 5"
      ]
    },
    {
      "cell_type": "markdown",
      "metadata": {
        "id": "2DGsBLLUF5YN"
      },
      "source": [
        "Los arreglos multidimensionales funcionan de la misma manera, con varios sectores separados por comas."
      ]
    },
    {
      "cell_type": "code",
      "execution_count": 79,
      "metadata": {
        "id": "-4wfxdVFF5YN"
      },
      "outputs": [],
      "source": [
        "# Imprime arreglo"
      ]
    },
    {
      "cell_type": "code",
      "execution_count": 80,
      "metadata": {
        "id": "M0tZjzJoF5YO"
      },
      "outputs": [],
      "source": [
        "# Imprime 2 fias y 3 columnas del arreglo "
      ]
    },
    {
      "cell_type": "code",
      "execution_count": 81,
      "metadata": {
        "id": "xOm1qpN7F5YO"
      },
      "outputs": [],
      "source": [
        "# Imprime 3 fias y cada 2 columnas del arreglo"
      ]
    },
    {
      "cell_type": "code",
      "execution_count": 82,
      "metadata": {
        "id": "vrnHRLBwF5YP"
      },
      "outputs": [],
      "source": [
        "# Imprime todos los elementos del arreglo al revés"
      ]
    },
    {
      "cell_type": "markdown",
      "metadata": {
        "id": "pbHFnL08F5YQ"
      },
      "source": [
        "Una rutina comúnmente necesaria es acceder a filas o columnas individuales de un arreglo multidimensional. Esto se puede hacer combinando la indexación y el slicing, utilizando un segmento vacío marcado por el carácter de dos puntos (`:`)."
      ]
    },
    {
      "cell_type": "code",
      "execution_count": 83,
      "metadata": {
        "id": "sY0TWlfmF5YQ"
      },
      "outputs": [],
      "source": [
        "# Imprime primer fila del arreglo"
      ]
    },
    {
      "cell_type": "code",
      "execution_count": 84,
      "metadata": {
        "id": "VIpSPDcgF5YR"
      },
      "outputs": [],
      "source": [
        "# Imprime primer columna del arreglo"
      ]
    },
    {
      "cell_type": "markdown",
      "metadata": {
        "id": "P5mBRmJVF5YS"
      },
      "source": [
        "Los slices de un arreglo devuelven vistas en lugar de copias de los datos de la matriz. Este es un aspecto en el que los arreglos de NumPy difieren de las listas: en las listas, los cortes serán copias. "
      ]
    },
    {
      "cell_type": "code",
      "execution_count": 85,
      "metadata": {
        "id": "SdvszUIJF5YS"
      },
      "outputs": [],
      "source": [
        "# Imprime arreglo"
      ]
    },
    {
      "cell_type": "code",
      "execution_count": 86,
      "metadata": {
        "id": "Mha2S7elF5YT"
      },
      "outputs": [],
      "source": [
        "# Extrae dos primeras filas y dos primeras columnas del arreglo"
      ]
    },
    {
      "cell_type": "code",
      "execution_count": 87,
      "metadata": {
        "id": "gpQigPaFF5YT"
      },
      "outputs": [],
      "source": [
        "# Modifica el valor en la posición 1, 1 del arreglo "
      ]
    },
    {
      "cell_type": "code",
      "execution_count": 88,
      "metadata": {
        "id": "QJEfbsVwF5YU"
      },
      "outputs": [],
      "source": [
        "# Imprime arreglo"
      ]
    },
    {
      "cell_type": "markdown",
      "metadata": {
        "id": "eQ3xz69BF5YV"
      },
      "source": [
        "Se requiere de `copy()` para hacer una copia de un arreglo y modificarlo de forma independiente al original."
      ]
    },
    {
      "cell_type": "code",
      "execution_count": 89,
      "metadata": {
        "id": "HJXZACoIF5YW"
      },
      "outputs": [],
      "source": [
        "# Extrae dos primeras filas y dos primeras columnas del arreglo"
      ]
    },
    {
      "cell_type": "code",
      "execution_count": 90,
      "metadata": {
        "id": "cU-LnG7CF5YX"
      },
      "outputs": [],
      "source": [
        "# Modifica el valor en la posición 1, 1 del arreglo "
      ]
    },
    {
      "cell_type": "code",
      "execution_count": 91,
      "metadata": {
        "id": "KBUUHVNfF5YY"
      },
      "outputs": [],
      "source": [
        "# Imprime arreglo"
      ]
    },
    {
      "cell_type": "markdown",
      "source": [
        "## Reshaping un `ndarray`"
      ],
      "metadata": {
        "id": "l2BUFOxWcKzQ"
      }
    },
    {
      "cell_type": "markdown",
      "source": [
        "Otro tipo útil de operación en los arreglos es el reshaping. La forma más flexible de hacerlo es con `reshape`. Y siempre que sea posible, `reshape` utilizará una vista sin copia de la matriz inicial."
      ],
      "metadata": {
        "id": "J3bq5kkDc4K0"
      }
    },
    {
      "cell_type": "code",
      "source": [
        "# Convierte arreglo en arreglo unidimensional en matriz 3x3"
      ],
      "metadata": {
        "id": "vfzbF9jyc6am"
      },
      "execution_count": 92,
      "outputs": []
    },
    {
      "cell_type": "markdown",
      "source": [
        "Se debe tener en cuenta que para que un reshape pueda ejecturse, el tamaño de la matriz inicial debe coincidir con el tamaño de la matriz reformateada. "
      ],
      "metadata": {
        "id": "MWOzSoWEdryE"
      }
    },
    {
      "cell_type": "markdown",
      "source": [
        "Otro patrón de reshape común es la conversión de una matriz unidimensional en un arreglo bidimensional de filas o columnas. Esto se puede hacer con el método remodelar, o más fácilmente usando la palabra clave `newaxis` dentro de una operación de slicing."
      ],
      "metadata": {
        "id": "_o9Yhe3MeBmm"
      }
    },
    {
      "cell_type": "code",
      "source": [
        "# Convierte arreglo en arreglo unidimensional en arreglo bidimensional por columnas"
      ],
      "metadata": {
        "id": "cgMCwKt9fR_c"
      },
      "execution_count": 93,
      "outputs": []
    },
    {
      "cell_type": "code",
      "source": [
        "# Convierte arreglo en arreglo unidimensional en arreglo bidimensional por columnas"
      ],
      "metadata": {
        "id": "YwSxdVepfXFM"
      },
      "execution_count": 94,
      "outputs": []
    },
    {
      "cell_type": "code",
      "source": [
        "# Convierte arreglo en arreglo unidimensional en arreglo bidimensional por filas"
      ],
      "metadata": {
        "id": "FKswI4lnhDEf"
      },
      "execution_count": 95,
      "outputs": []
    },
    {
      "cell_type": "markdown",
      "source": [
        "## Concatenando un `ndarray`"
      ],
      "metadata": {
        "id": "j4ycBIXPcUHg"
      }
    },
    {
      "cell_type": "markdown",
      "source": [
        "La concatenación, o unión de dos arreglos, se logra principalmente mediante  `np.concatenate`, `np.vstack` y `np.hstack`."
      ],
      "metadata": {
        "id": "YAIeVGC5hmJm"
      }
    },
    {
      "cell_type": "markdown",
      "source": [
        " `np.concatenate` toma una tupla o lista de matrices como primer argumento."
      ],
      "metadata": {
        "id": "jhTT-pfQh7ct"
      }
    },
    {
      "cell_type": "code",
      "source": [
        "# Concatena 2 arreglos unidimensionales"
      ],
      "metadata": {
        "id": "R2HqlGNchlch"
      },
      "execution_count": 96,
      "outputs": []
    },
    {
      "cell_type": "code",
      "source": [
        "# Concatena 3 arreglos unidimensionales"
      ],
      "metadata": {
        "id": "J_OICulxhiut"
      },
      "execution_count": 97,
      "outputs": []
    },
    {
      "cell_type": "code",
      "source": [
        "# Concatena dos arreglos bidimencionales en el primer eje "
      ],
      "metadata": {
        "id": "dOULTLT-hiys"
      },
      "execution_count": 98,
      "outputs": []
    },
    {
      "cell_type": "code",
      "source": [
        "# Concatena dos arreglos bidimencionales en el segundo eje "
      ],
      "metadata": {
        "id": "2FbVXw64ioQm"
      },
      "execution_count": 99,
      "outputs": []
    },
    {
      "cell_type": "markdown",
      "source": [
        "Para trabajar con concatenaciones de arreglos de dimensiones mixtas, se utiliza `np.vstack` (pila vertical) y `np.hstack` (pila horizontal)."
      ],
      "metadata": {
        "id": "tRnaOsdKi4qa"
      }
    },
    {
      "cell_type": "code",
      "source": [
        "# Apila verticalmente arreglo unidimensional y arreglo bidimensional"
      ],
      "metadata": {
        "id": "0H692cuZizD3"
      },
      "execution_count": 100,
      "outputs": []
    },
    {
      "cell_type": "code",
      "source": [
        "# Apila horizontalmente arreglo unidimensional y arreglo bidimensional"
      ],
      "metadata": {
        "id": "Jp0bKLspjOf7"
      },
      "execution_count": 101,
      "outputs": []
    },
    {
      "cell_type": "markdown",
      "source": [
        "## Dividiendo un `ndarray`"
      ],
      "metadata": {
        "id": "JiVoMSzJhd-U"
      }
    },
    {
      "cell_type": "markdown",
      "source": [
        "Lo opuesto a la concatenación es la división, que se implementa mediante las funciones `np.split`, `np.hsplit` y `np.vsplit`."
      ],
      "metadata": {
        "id": "vDFJhZl4lq_d"
      }
    },
    {
      "cell_type": "code",
      "source": [
        "# Divide arreglo unidimensional en matriz 3x5"
      ],
      "metadata": {
        "id": "ijaZMPddlyIm"
      },
      "execution_count": 102,
      "outputs": []
    },
    {
      "cell_type": "code",
      "source": [
        "# Divide arreglo unidimensional en matriz 2x4"
      ],
      "metadata": {
        "id": "IdPmRdEHl6ap"
      },
      "execution_count": 103,
      "outputs": []
    },
    {
      "cell_type": "code",
      "source": [
        "# Divide arreglo unidimensional en matriz 4x2"
      ],
      "metadata": {
        "id": "4GuJIUtAmaP6"
      },
      "execution_count": 104,
      "outputs": []
    },
    {
      "cell_type": "markdown",
      "metadata": {
        "id": "HDWtvlTfbyhp"
      },
      "source": [
        "## Ejercicios"
      ]
    },
    {
      "cell_type": "markdown",
      "metadata": {
        "id": "drHHq2ttbyhp"
      },
      "source": [
        "1. Declara un arreglo de NumPy (n) de strings con los primeros 1000 múltiplos de 42. \n",
        "2. ¿Cuál es el 360vo múltiplo de 42?\n",
        "3. Declara un arreglo de NumPy de 5x6x6 (n2) de enteros aleatorios entre 1 y 100 (ambos inclusivos).\n",
        "4. ¿Cuál es el total de bytes que representa n2?\n",
        "5. Guarda una copia de n2 (n3) con únicamente los valores en filas y columnas pares de las segunda y tercera matriz. \n",
        "6. Concatena horizontalmente las matrices que componen n3 y guarda la nueva matriz como n4. \n",
        "7. Convierte n4 en una matriz de dos columnas y guarda la nueva matriz como n5. \n",
        "8. Suma todos los valores de n5."
      ]
    }
  ],
  "metadata": {
    "kernelspec": {
      "display_name": "Python 3",
      "language": "python",
      "name": "python3"
    },
    "language_info": {
      "codemirror_mode": {
        "name": "ipython",
        "version": 3
      },
      "file_extension": ".py",
      "mimetype": "text/x-python",
      "name": "python",
      "nbconvert_exporter": "python",
      "pygments_lexer": "ipython3",
      "version": "3.8.5"
    },
    "colab": {
      "name": "intro-a-numpy_to_complete.ipynb",
      "provenance": []
    }
  },
  "nbformat": 4,
  "nbformat_minor": 0
}