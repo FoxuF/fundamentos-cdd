{
  "nbformat": 4,
  "nbformat_minor": 0,
  "metadata": {
    "colab": {
      "name": "solucion_parcial.ipynb",
      "provenance": []
    },
    "kernelspec": {
      "name": "python3",
      "display_name": "Python 3"
    },
    "language_info": {
      "name": "python"
    }
  },
  "cells": [
    {
      "cell_type": "markdown",
      "source": [
        "### **Universidad Panamericana**\n",
        "\n",
        "### **Facultad de Ingeniería**\n",
        "\n",
        "### Gestión y análisis del conocimiento (BDP COM145)\n",
        "\n",
        "### Prof. Mtra. Sarahí Aguilar González\n",
        "\n",
        "### *Solución al Primer Examen Parcial*\n",
        "\n",
        "### *Febrero 2022*"
      ],
      "metadata": {
        "id": "lWcAs7zEzm2j"
      }
    },
    {
      "cell_type": "markdown",
      "source": [
        "#### **1. Describe las etapas del ciclo de vida de un proyecto de ciencia de datos.**\n",
        "*Valor: 2 puntos*"
      ],
      "metadata": {
        "id": "k9LBliSXIRJx"
      }
    },
    {
      "cell_type": "markdown",
      "source": [
        "El ciclo de vida de un proyecto de ciencia de datos consta de cuatro principales etapas: **Entendimiento del contexto**, **Adquisición y comprensión de los datos**, **Modelado** y **Despliegue**. \n",
        "\n",
        "En la primera etapa,  **Entendimiento del contexto**, junto con las partes interesadas, se identifica el problema/pregunta que se busca resolver, se define tanto un objetivo central como las métricas de éxito, y, de forma complementaria, se identifican las fuentes de datos relevantes y precisas. \n",
        "\n",
        "En la segunda etapa, **Adquisición y comprensión de los datos**, se ingieren los datos al ambiente de desarrollo para llevar a cabo la exploración, limpieza, manipulación y análisis de los mismos. También, es posible que en esta etapa se inicie la configuración del pipeline de ingesta de datos. \n",
        "\n",
        "En la tercer etapa, **Modelado**, se entrenan y evalúan distintos modelos para resolver el problema/pregunta del proyecto hasta encontrar la versión que más se adecúe según las métricas de éxito. Así mismo, es posible que en esta etapa se requiera de feature engineering, cuyo objetivo es crear nuevas variables que faciliten el aprendizaje del modelo.\n",
        "\n",
        "En la cuarta etapa, **Despliegue** se incorpora el modelo al ambiente de producción para el usuario final y comienza la etapa de monitoreo de los resultados. \n"
      ],
      "metadata": {
        "id": "1EJxzhUezcXz"
      }
    },
    {
      "cell_type": "markdown",
      "source": [
        "*Otros términos relevantes*: objetivos SMART (Específico, Mensurable, Realizable, Pertinente y Limitados en el tiempo), documento RFC (Request for Comments), almacenamiento en la nube, diccionarios de datos, diagramas E-R, batch, streaming, tamaño de muestra, ajuste de hiperparámetros, interpretabilidad, ética, ambiente de prueba, API, microservicio."
      ],
      "metadata": {
        "id": "maYNd4nJv_Kt"
      }
    },
    {
      "cell_type": "markdown",
      "source": [
        "#### **2. Describe la importancia de los ambientes de conda.**\n",
        "*Valor: 1 punto*"
      ],
      "metadata": {
        "id": "MY8HudaTxZkm"
      }
    },
    {
      "cell_type": "markdown",
      "source": [
        "Los ambientes de conda permiten crear, exportar e importar entornos de desarrollo aislados con versiones distintas tanto de paquetes de código como de lenguajes de programación según la necesidad de un usario y/o un proyecto. Lo anterior facilita la reproducibilidad y la colaboración. "
      ],
      "metadata": {
        "id": "aiV37B9PxZkn"
      }
    },
    {
      "cell_type": "markdown",
      "source": [
        "#### **3. Describe las ventajas de utilizar estructuras de datos de NumPy sobre listas estándar de Python.**\n",
        "*Valor: 1 punto*"
      ],
      "metadata": {
        "id": "lacSCKL70rd8"
      }
    },
    {
      "cell_type": "markdown",
      "source": [
        "La estructura básica de NumPy es el ndarray, un arreglo homogéneo y de tamaño fijo que facilita las operaciones matemáticas avanzadas y exhaustivas por medio de la vectorización (ausencia de bucles e indexación explícita) y el broadcasting (ausencia de operaciones elemento por elemento). Estas características son heredadas a la series y el dataframe, estructuras de datos más robustas de Pandas basadas en el ndarray. "
      ],
      "metadata": {
        "id": "i8OLdcVh0rd9"
      }
    },
    {
      "cell_type": "markdown",
      "source": [
        "*Otros términos relevantes*: consistencia, facilidad de leer, menor código, similitud a la notación matemática estándar, software científico, código precompilado, CPython. "
      ],
      "metadata": {
        "id": "zOtHhEo0xZkn"
      }
    },
    {
      "cell_type": "markdown",
      "source": [
        "#### **4. Utilizando NumPy, desarrolle y resuelva lo siguiente en un Jupyter notebook de Google Colaboratory.**\n",
        "*Valor: 3 puntos*"
      ],
      "metadata": {
        "id": "k_DQ8T1SJkDb"
      }
    },
    {
      "cell_type": "markdown",
      "source": [
        "En estadística, el error cuadrático medio (ECM) de un estimador (un procedimiento para estimar un valor) mide el promedio de los errores al cuadrado, es decir, la diferencia cuadrática promedio entre los valores estimados y los valores reales. "
      ],
      "metadata": {
        "id": "plfNG6Ig3-k_"
      }
    },
    {
      "cell_type": "markdown",
      "source": [
        "El ECM puede ser expresado como: "
      ],
      "metadata": {
        "id": "Le-U9fE1418P"
      }
    },
    {
      "cell_type": "markdown",
      "source": [
        "<img src=\"https://cdn-images-1.medium.com/max/800/1*3wB5otkgKEiv9X6Gdd0r2Q@2x.png\" height=\"60\">"
      ],
      "metadata": {
        "id": "bGbRtRM-4ibf"
      }
    },
    {
      "cell_type": "markdown",
      "source": [
        "Donde: \n",
        "* n es el total de valores reales\n",
        "* Ŷ son los valores estimados\n",
        "* Y son los valores reales "
      ],
      "metadata": {
        "id": "RRbFmoh04q6d"
      }
    },
    {
      "cell_type": "markdown",
      "source": [
        "Ejemplo del cálculo de Ŷ y del ECM considerando un estimador lineal (y = a*x + b): \n",
        "\n",
        "a = 2\n",
        "\n",
        "b = 1\n",
        "\n",
        "X = [1, 2, 3]\n",
        "\n",
        "Y = [3, 5, 10]\n",
        "\t\n",
        "n = total de valores reales = 3 \n",
        "\n",
        "Calculando Ŷ…\n",
        "\n",
        "ŷ1 = a*x1 + b = 2*1 + 1 = 3\n",
        "\n",
        "ŷ2 = a*x2 + b = 2*2 + 1 = 5\n",
        "\n",
        "ŷ3 = a*x3 + b = 2*3 + 1 = 7\n",
        "\n",
        "Calculando el ECM…\n",
        "\n",
        "ECM = ((ŷ1-y1)² + (ŷ2-y2)² + (ŷ3-y3)²)/n  =  ((3-3)² + (5-5)² + (7-10)²)/3 = 3 \n"
      ],
      "metadata": {
        "id": "HSGSyZFw47JD"
      }
    },
    {
      "cell_type": "markdown",
      "source": [
        "Considerando un estimador lineal (y = a*x + b), escriba una función que:\n",
        "* reciba como entrada:\n",
        "  * el valor a\n",
        "  * el valor b\n",
        "  * un arreglo X (compuesto por X1, X2… Xn)\n",
        "  * un arreglo Y (compuesto por Y1, Y2… Yn) \n",
        "* calcule Ŷ\n",
        "* calcule el ECM\n",
        "* devuelva como salida el ECM"
      ],
      "metadata": {
        "id": "2eoHHb4C5Kfj"
      }
    },
    {
      "cell_type": "code",
      "source": [
        "import numpy as np"
      ],
      "metadata": {
        "id": "XgrVPmp4oBBN"
      },
      "execution_count": 1,
      "outputs": []
    },
    {
      "cell_type": "code",
      "source": [
        "# Opción #1\n",
        "def ecm(a, b, X, Y):\n",
        "  # Estima Y\n",
        "  Y_hat = np.multiply(X, a)\n",
        "  Y_hat = np.add(Y_hat, b)\n",
        "\n",
        "  # Calcula ECM\n",
        "  sub = np.subtract(Y, Y_hat)\n",
        "  pow = np.power(sub, 2)\n",
        "  ecm = np.mean(pow)\n",
        "  \n",
        "  return ecm"
      ],
      "metadata": {
        "id": "VN7ZWDS5glCo"
      },
      "execution_count": 2,
      "outputs": []
    },
    {
      "cell_type": "code",
      "source": [
        "ecm(2, 1, np.array([1, 2, 3]), np.array([3, 5, 10]))"
      ],
      "metadata": {
        "colab": {
          "base_uri": "https://localhost:8080/"
        },
        "outputId": "41339b7a-3813-4e1c-b07c-5b0692113bbc",
        "id": "ptsmMM0b9fMC"
      },
      "execution_count": 3,
      "outputs": [
        {
          "output_type": "execute_result",
          "data": {
            "text/plain": [
              "3.0"
            ]
          },
          "metadata": {},
          "execution_count": 3
        }
      ]
    },
    {
      "cell_type": "code",
      "source": [
        "# Opción #2\n",
        "def ecm(a, b, X, Y):\n",
        "  # Estima Y\n",
        "  Y_hat = a*X + b\n",
        "\n",
        "  # Calcula ECM\n",
        "  ecm = ((Y-Y_hat)**2).mean()\n",
        "  \n",
        "  return ecm"
      ],
      "metadata": {
        "id": "f_E4Ri6j8X6L"
      },
      "execution_count": 4,
      "outputs": []
    },
    {
      "cell_type": "code",
      "source": [
        "ecm(2, 1, np.array([1, 2, 3]), np.array([3, 5, 10]))"
      ],
      "metadata": {
        "colab": {
          "base_uri": "https://localhost:8080/"
        },
        "id": "y_1aoTAvI0Fs",
        "outputId": "1ce59788-7fbc-48f5-e42e-b128d9eff530"
      },
      "execution_count": 5,
      "outputs": [
        {
          "output_type": "execute_result",
          "data": {
            "text/plain": [
              "3.0"
            ]
          },
          "metadata": {},
          "execution_count": 5
        }
      ]
    },
    {
      "cell_type": "markdown",
      "source": [
        "#### **5. Utilizando NumPy y/o Pandas, desarrolle y resuelva lo siguiente en un Jupyter notebook de Google Colaboratory.**\n",
        "*Valor: 4 puntos*"
      ],
      "metadata": {
        "id": "nageJcqt5zeH"
      }
    },
    {
      "cell_type": "markdown",
      "source": [
        "Responda las siguientes tres preguntas que la tienda departamental Bristol tiene sobre sus ventas hasta la fecha:\n",
        "1. ¿Cuál ha sido la cantidad máxima de unidades vendidas por un producto? \n",
        "2. ¿Qué porcentaje de los productos disponibles a la venta han vendido más de $1,000,000? \n",
        "3. ¿Cuál es la cantidad de unidades vendidas por producto mínima, promedio y máxima de cada categoría? \n"
      ],
      "metadata": {
        "id": "-1mOda-x-YUf"
      }
    },
    {
      "cell_type": "markdown",
      "source": [
        "Para responder las preguntas anteriores, le han compartido dos conjuntos de datos y el modelo entidad-relación correspondiente: \n",
        "\n",
        "* ventas: ventas por producto hasta la fecha de la tienda departamental Bristol\n",
        "  \n",
        "  Disponible para su descarga en: \n",
        "https://raw.githubusercontent.com/sarahiaguilar/fundamentos-cdd/main/datos/ventas.csv\n",
        "\n",
        "* catalogo: productos disponibles a la venta en la tienda departamental Bristol\n",
        "\n",
        "  Disponible para su descarga en:\n",
        "https://raw.githubusercontent.com/sarahiaguilar/fundamentos-cdd/main/datos/catalogo.csv "
      ],
      "metadata": {
        "id": "EJvZ9PJg-ei_"
      }
    },
    {
      "cell_type": "code",
      "source": [
        "import pandas as pd"
      ],
      "metadata": {
        "id": "otxuwM5gJjHT"
      },
      "execution_count": 6,
      "outputs": []
    },
    {
      "cell_type": "code",
      "source": [
        "path_ventas = \"https://raw.githubusercontent.com/sarahiaguilar/fundamentos-cdd/main/datos/ventas.csv\"\n",
        "ven = pd.read_csv(path_ventas)"
      ],
      "metadata": {
        "id": "IPYWd8hMJ27F"
      },
      "execution_count": 7,
      "outputs": []
    },
    {
      "cell_type": "code",
      "source": [
        "path_catalogo = \"https://raw.githubusercontent.com/sarahiaguilar/fundamentos-cdd/main/datos/catalogo.csv\"\n",
        "cat = pd.read_csv(path_catalogo)"
      ],
      "metadata": {
        "id": "ffWaQFerAAnI"
      },
      "execution_count": 8,
      "outputs": []
    },
    {
      "cell_type": "markdown",
      "source": [
        "##### 1. ¿Cuál ha sido la cantidad máxima de unidades vendidas por un producto?\n",
        "\n",
        "**5,670,850 unidades** "
      ],
      "metadata": {
        "id": "u-Kl2lg6-tv0"
      }
    },
    {
      "cell_type": "code",
      "source": [
        "# Imprime cantidad de IDs de producto único\n",
        "len(ven.id_producto.unique())"
      ],
      "metadata": {
        "colab": {
          "base_uri": "https://localhost:8080/"
        },
        "id": "pkN-pYSmFFAZ",
        "outputId": "784d83a5-0d39-4bad-fa7f-b226edaf1734"
      },
      "execution_count": 9,
      "outputs": [
        {
          "output_type": "execute_result",
          "data": {
            "text/plain": [
              "2813"
            ]
          },
          "metadata": {},
          "execution_count": 9
        }
      ]
    },
    {
      "cell_type": "code",
      "source": [
        "# Imprime información\n",
        "ven.info()"
      ],
      "metadata": {
        "colab": {
          "base_uri": "https://localhost:8080/"
        },
        "id": "LXysHF7zKFEx",
        "outputId": "ab3c7d6b-9e3b-465f-85ff-06727b1e14d3"
      },
      "execution_count": 10,
      "outputs": [
        {
          "output_type": "stream",
          "name": "stdout",
          "text": [
            "<class 'pandas.core.frame.DataFrame'>\n",
            "RangeIndex: 2813 entries, 0 to 2812\n",
            "Data columns (total 2 columns):\n",
            " #   Column             Non-Null Count  Dtype  \n",
            "---  ------             --------------  -----  \n",
            " 0   id_producto        2813 non-null   int64  \n",
            " 1   unidades_vendidas  2793 non-null   float64\n",
            "dtypes: float64(1), int64(1)\n",
            "memory usage: 44.1 KB\n"
          ]
        }
      ]
    },
    {
      "cell_type": "code",
      "source": [
        "ven.head(20)"
      ],
      "metadata": {
        "colab": {
          "base_uri": "https://localhost:8080/",
          "height": 676
        },
        "id": "P85Enn1VIMKY",
        "outputId": "52ac70c3-4126-4ddb-8d8b-d70428a16ddc"
      },
      "execution_count": 11,
      "outputs": [
        {
          "output_type": "execute_result",
          "data": {
            "text/html": [
              "\n",
              "  <div id=\"df-1f8e3f3c-8eec-4d6f-a509-a941deb35217\">\n",
              "    <div class=\"colab-df-container\">\n",
              "      <div>\n",
              "<style scoped>\n",
              "    .dataframe tbody tr th:only-of-type {\n",
              "        vertical-align: middle;\n",
              "    }\n",
              "\n",
              "    .dataframe tbody tr th {\n",
              "        vertical-align: top;\n",
              "    }\n",
              "\n",
              "    .dataframe thead th {\n",
              "        text-align: right;\n",
              "    }\n",
              "</style>\n",
              "<table border=\"1\" class=\"dataframe\">\n",
              "  <thead>\n",
              "    <tr style=\"text-align: right;\">\n",
              "      <th></th>\n",
              "      <th>id_producto</th>\n",
              "      <th>unidades_vendidas</th>\n",
              "    </tr>\n",
              "  </thead>\n",
              "  <tbody>\n",
              "    <tr>\n",
              "      <th>0</th>\n",
              "      <td>2854</td>\n",
              "      <td>5670850.0</td>\n",
              "    </tr>\n",
              "    <tr>\n",
              "      <th>1</th>\n",
              "      <td>1536</td>\n",
              "      <td>1962667.0</td>\n",
              "    </tr>\n",
              "    <tr>\n",
              "      <th>2</th>\n",
              "      <td>648</td>\n",
              "      <td>1640859.0</td>\n",
              "    </tr>\n",
              "    <tr>\n",
              "      <th>3</th>\n",
              "      <td>2733</td>\n",
              "      <td>1440412.0</td>\n",
              "    </tr>\n",
              "    <tr>\n",
              "      <th>4</th>\n",
              "      <td>1222</td>\n",
              "      <td>1232604.0</td>\n",
              "    </tr>\n",
              "    <tr>\n",
              "      <th>5</th>\n",
              "      <td>2852</td>\n",
              "      <td>1180012.0</td>\n",
              "    </tr>\n",
              "    <tr>\n",
              "      <th>6</th>\n",
              "      <td>2876</td>\n",
              "      <td>1107793.0</td>\n",
              "    </tr>\n",
              "    <tr>\n",
              "      <th>7</th>\n",
              "      <td>506</td>\n",
              "      <td>1069471.0</td>\n",
              "    </tr>\n",
              "    <tr>\n",
              "      <th>8</th>\n",
              "      <td>691</td>\n",
              "      <td>852611.0</td>\n",
              "    </tr>\n",
              "    <tr>\n",
              "      <th>9</th>\n",
              "      <td>21</td>\n",
              "      <td>NaN</td>\n",
              "    </tr>\n",
              "    <tr>\n",
              "      <th>10</th>\n",
              "      <td>628</td>\n",
              "      <td>751952.0</td>\n",
              "    </tr>\n",
              "    <tr>\n",
              "      <th>11</th>\n",
              "      <td>635</td>\n",
              "      <td>723977.0</td>\n",
              "    </tr>\n",
              "    <tr>\n",
              "      <th>12</th>\n",
              "      <td>2727</td>\n",
              "      <td>690145.0</td>\n",
              "    </tr>\n",
              "    <tr>\n",
              "      <th>13</th>\n",
              "      <td>3175</td>\n",
              "      <td>649843.0</td>\n",
              "    </tr>\n",
              "    <tr>\n",
              "      <th>14</th>\n",
              "      <td>327</td>\n",
              "      <td>646182.0</td>\n",
              "    </tr>\n",
              "    <tr>\n",
              "      <th>15</th>\n",
              "      <td>1833</td>\n",
              "      <td>645224.0</td>\n",
              "    </tr>\n",
              "    <tr>\n",
              "      <th>16</th>\n",
              "      <td>2263</td>\n",
              "      <td>617696.0</td>\n",
              "    </tr>\n",
              "    <tr>\n",
              "      <th>17</th>\n",
              "      <td>2869</td>\n",
              "      <td>543738.0</td>\n",
              "    </tr>\n",
              "    <tr>\n",
              "      <th>18</th>\n",
              "      <td>1488</td>\n",
              "      <td>536118.0</td>\n",
              "    </tr>\n",
              "    <tr>\n",
              "      <th>19</th>\n",
              "      <td>512</td>\n",
              "      <td>507748.0</td>\n",
              "    </tr>\n",
              "  </tbody>\n",
              "</table>\n",
              "</div>\n",
              "      <button class=\"colab-df-convert\" onclick=\"convertToInteractive('df-1f8e3f3c-8eec-4d6f-a509-a941deb35217')\"\n",
              "              title=\"Convert this dataframe to an interactive table.\"\n",
              "              style=\"display:none;\">\n",
              "        \n",
              "  <svg xmlns=\"http://www.w3.org/2000/svg\" height=\"24px\"viewBox=\"0 0 24 24\"\n",
              "       width=\"24px\">\n",
              "    <path d=\"M0 0h24v24H0V0z\" fill=\"none\"/>\n",
              "    <path d=\"M18.56 5.44l.94 2.06.94-2.06 2.06-.94-2.06-.94-.94-2.06-.94 2.06-2.06.94zm-11 1L8.5 8.5l.94-2.06 2.06-.94-2.06-.94L8.5 2.5l-.94 2.06-2.06.94zm10 10l.94 2.06.94-2.06 2.06-.94-2.06-.94-.94-2.06-.94 2.06-2.06.94z\"/><path d=\"M17.41 7.96l-1.37-1.37c-.4-.4-.92-.59-1.43-.59-.52 0-1.04.2-1.43.59L10.3 9.45l-7.72 7.72c-.78.78-.78 2.05 0 2.83L4 21.41c.39.39.9.59 1.41.59.51 0 1.02-.2 1.41-.59l7.78-7.78 2.81-2.81c.8-.78.8-2.07 0-2.86zM5.41 20L4 18.59l7.72-7.72 1.47 1.35L5.41 20z\"/>\n",
              "  </svg>\n",
              "      </button>\n",
              "      \n",
              "  <style>\n",
              "    .colab-df-container {\n",
              "      display:flex;\n",
              "      flex-wrap:wrap;\n",
              "      gap: 12px;\n",
              "    }\n",
              "\n",
              "    .colab-df-convert {\n",
              "      background-color: #E8F0FE;\n",
              "      border: none;\n",
              "      border-radius: 50%;\n",
              "      cursor: pointer;\n",
              "      display: none;\n",
              "      fill: #1967D2;\n",
              "      height: 32px;\n",
              "      padding: 0 0 0 0;\n",
              "      width: 32px;\n",
              "    }\n",
              "\n",
              "    .colab-df-convert:hover {\n",
              "      background-color: #E2EBFA;\n",
              "      box-shadow: 0px 1px 2px rgba(60, 64, 67, 0.3), 0px 1px 3px 1px rgba(60, 64, 67, 0.15);\n",
              "      fill: #174EA6;\n",
              "    }\n",
              "\n",
              "    [theme=dark] .colab-df-convert {\n",
              "      background-color: #3B4455;\n",
              "      fill: #D2E3FC;\n",
              "    }\n",
              "\n",
              "    [theme=dark] .colab-df-convert:hover {\n",
              "      background-color: #434B5C;\n",
              "      box-shadow: 0px 1px 3px 1px rgba(0, 0, 0, 0.15);\n",
              "      filter: drop-shadow(0px 1px 2px rgba(0, 0, 0, 0.3));\n",
              "      fill: #FFFFFF;\n",
              "    }\n",
              "  </style>\n",
              "\n",
              "      <script>\n",
              "        const buttonEl =\n",
              "          document.querySelector('#df-1f8e3f3c-8eec-4d6f-a509-a941deb35217 button.colab-df-convert');\n",
              "        buttonEl.style.display =\n",
              "          google.colab.kernel.accessAllowed ? 'block' : 'none';\n",
              "\n",
              "        async function convertToInteractive(key) {\n",
              "          const element = document.querySelector('#df-1f8e3f3c-8eec-4d6f-a509-a941deb35217');\n",
              "          const dataTable =\n",
              "            await google.colab.kernel.invokeFunction('convertToInteractive',\n",
              "                                                     [key], {});\n",
              "          if (!dataTable) return;\n",
              "\n",
              "          const docLinkHtml = 'Like what you see? Visit the ' +\n",
              "            '<a target=\"_blank\" href=https://colab.research.google.com/notebooks/data_table.ipynb>data table notebook</a>'\n",
              "            + ' to learn more about interactive tables.';\n",
              "          element.innerHTML = '';\n",
              "          dataTable['output_type'] = 'display_data';\n",
              "          await google.colab.output.renderOutput(dataTable, element);\n",
              "          const docLink = document.createElement('div');\n",
              "          docLink.innerHTML = docLinkHtml;\n",
              "          element.appendChild(docLink);\n",
              "        }\n",
              "      </script>\n",
              "    </div>\n",
              "  </div>\n",
              "  "
            ],
            "text/plain": [
              "    id_producto  unidades_vendidas\n",
              "0          2854          5670850.0\n",
              "1          1536          1962667.0\n",
              "2           648          1640859.0\n",
              "3          2733          1440412.0\n",
              "4          1222          1232604.0\n",
              "5          2852          1180012.0\n",
              "6          2876          1107793.0\n",
              "7           506          1069471.0\n",
              "8           691           852611.0\n",
              "9            21                NaN\n",
              "10          628           751952.0\n",
              "11          635           723977.0\n",
              "12         2727           690145.0\n",
              "13         3175           649843.0\n",
              "14          327           646182.0\n",
              "15         1833           645224.0\n",
              "16         2263           617696.0\n",
              "17         2869           543738.0\n",
              "18         1488           536118.0\n",
              "19          512           507748.0"
            ]
          },
          "metadata": {},
          "execution_count": 11
        }
      ]
    },
    {
      "cell_type": "code",
      "source": [
        "# Reemplaza valores NaN por 0\n",
        "ven = ven.fillna({\"unidades_vendidas\": 0})"
      ],
      "metadata": {
        "id": "6rjH3m4dIFkP"
      },
      "execution_count": 12,
      "outputs": []
    },
    {
      "cell_type": "code",
      "source": [
        "ven.head(10)"
      ],
      "metadata": {
        "colab": {
          "base_uri": "https://localhost:8080/",
          "height": 363
        },
        "id": "dkO7NErXIWo6",
        "outputId": "5df47fed-eb40-401d-8a69-59be6b7575cc"
      },
      "execution_count": 13,
      "outputs": [
        {
          "output_type": "execute_result",
          "data": {
            "text/html": [
              "\n",
              "  <div id=\"df-b3ee4a00-9c99-421f-a1cf-a6ca432fad34\">\n",
              "    <div class=\"colab-df-container\">\n",
              "      <div>\n",
              "<style scoped>\n",
              "    .dataframe tbody tr th:only-of-type {\n",
              "        vertical-align: middle;\n",
              "    }\n",
              "\n",
              "    .dataframe tbody tr th {\n",
              "        vertical-align: top;\n",
              "    }\n",
              "\n",
              "    .dataframe thead th {\n",
              "        text-align: right;\n",
              "    }\n",
              "</style>\n",
              "<table border=\"1\" class=\"dataframe\">\n",
              "  <thead>\n",
              "    <tr style=\"text-align: right;\">\n",
              "      <th></th>\n",
              "      <th>id_producto</th>\n",
              "      <th>unidades_vendidas</th>\n",
              "    </tr>\n",
              "  </thead>\n",
              "  <tbody>\n",
              "    <tr>\n",
              "      <th>0</th>\n",
              "      <td>2854</td>\n",
              "      <td>5670850.0</td>\n",
              "    </tr>\n",
              "    <tr>\n",
              "      <th>1</th>\n",
              "      <td>1536</td>\n",
              "      <td>1962667.0</td>\n",
              "    </tr>\n",
              "    <tr>\n",
              "      <th>2</th>\n",
              "      <td>648</td>\n",
              "      <td>1640859.0</td>\n",
              "    </tr>\n",
              "    <tr>\n",
              "      <th>3</th>\n",
              "      <td>2733</td>\n",
              "      <td>1440412.0</td>\n",
              "    </tr>\n",
              "    <tr>\n",
              "      <th>4</th>\n",
              "      <td>1222</td>\n",
              "      <td>1232604.0</td>\n",
              "    </tr>\n",
              "    <tr>\n",
              "      <th>5</th>\n",
              "      <td>2852</td>\n",
              "      <td>1180012.0</td>\n",
              "    </tr>\n",
              "    <tr>\n",
              "      <th>6</th>\n",
              "      <td>2876</td>\n",
              "      <td>1107793.0</td>\n",
              "    </tr>\n",
              "    <tr>\n",
              "      <th>7</th>\n",
              "      <td>506</td>\n",
              "      <td>1069471.0</td>\n",
              "    </tr>\n",
              "    <tr>\n",
              "      <th>8</th>\n",
              "      <td>691</td>\n",
              "      <td>852611.0</td>\n",
              "    </tr>\n",
              "    <tr>\n",
              "      <th>9</th>\n",
              "      <td>21</td>\n",
              "      <td>0.0</td>\n",
              "    </tr>\n",
              "  </tbody>\n",
              "</table>\n",
              "</div>\n",
              "      <button class=\"colab-df-convert\" onclick=\"convertToInteractive('df-b3ee4a00-9c99-421f-a1cf-a6ca432fad34')\"\n",
              "              title=\"Convert this dataframe to an interactive table.\"\n",
              "              style=\"display:none;\">\n",
              "        \n",
              "  <svg xmlns=\"http://www.w3.org/2000/svg\" height=\"24px\"viewBox=\"0 0 24 24\"\n",
              "       width=\"24px\">\n",
              "    <path d=\"M0 0h24v24H0V0z\" fill=\"none\"/>\n",
              "    <path d=\"M18.56 5.44l.94 2.06.94-2.06 2.06-.94-2.06-.94-.94-2.06-.94 2.06-2.06.94zm-11 1L8.5 8.5l.94-2.06 2.06-.94-2.06-.94L8.5 2.5l-.94 2.06-2.06.94zm10 10l.94 2.06.94-2.06 2.06-.94-2.06-.94-.94-2.06-.94 2.06-2.06.94z\"/><path d=\"M17.41 7.96l-1.37-1.37c-.4-.4-.92-.59-1.43-.59-.52 0-1.04.2-1.43.59L10.3 9.45l-7.72 7.72c-.78.78-.78 2.05 0 2.83L4 21.41c.39.39.9.59 1.41.59.51 0 1.02-.2 1.41-.59l7.78-7.78 2.81-2.81c.8-.78.8-2.07 0-2.86zM5.41 20L4 18.59l7.72-7.72 1.47 1.35L5.41 20z\"/>\n",
              "  </svg>\n",
              "      </button>\n",
              "      \n",
              "  <style>\n",
              "    .colab-df-container {\n",
              "      display:flex;\n",
              "      flex-wrap:wrap;\n",
              "      gap: 12px;\n",
              "    }\n",
              "\n",
              "    .colab-df-convert {\n",
              "      background-color: #E8F0FE;\n",
              "      border: none;\n",
              "      border-radius: 50%;\n",
              "      cursor: pointer;\n",
              "      display: none;\n",
              "      fill: #1967D2;\n",
              "      height: 32px;\n",
              "      padding: 0 0 0 0;\n",
              "      width: 32px;\n",
              "    }\n",
              "\n",
              "    .colab-df-convert:hover {\n",
              "      background-color: #E2EBFA;\n",
              "      box-shadow: 0px 1px 2px rgba(60, 64, 67, 0.3), 0px 1px 3px 1px rgba(60, 64, 67, 0.15);\n",
              "      fill: #174EA6;\n",
              "    }\n",
              "\n",
              "    [theme=dark] .colab-df-convert {\n",
              "      background-color: #3B4455;\n",
              "      fill: #D2E3FC;\n",
              "    }\n",
              "\n",
              "    [theme=dark] .colab-df-convert:hover {\n",
              "      background-color: #434B5C;\n",
              "      box-shadow: 0px 1px 3px 1px rgba(0, 0, 0, 0.15);\n",
              "      filter: drop-shadow(0px 1px 2px rgba(0, 0, 0, 0.3));\n",
              "      fill: #FFFFFF;\n",
              "    }\n",
              "  </style>\n",
              "\n",
              "      <script>\n",
              "        const buttonEl =\n",
              "          document.querySelector('#df-b3ee4a00-9c99-421f-a1cf-a6ca432fad34 button.colab-df-convert');\n",
              "        buttonEl.style.display =\n",
              "          google.colab.kernel.accessAllowed ? 'block' : 'none';\n",
              "\n",
              "        async function convertToInteractive(key) {\n",
              "          const element = document.querySelector('#df-b3ee4a00-9c99-421f-a1cf-a6ca432fad34');\n",
              "          const dataTable =\n",
              "            await google.colab.kernel.invokeFunction('convertToInteractive',\n",
              "                                                     [key], {});\n",
              "          if (!dataTable) return;\n",
              "\n",
              "          const docLinkHtml = 'Like what you see? Visit the ' +\n",
              "            '<a target=\"_blank\" href=https://colab.research.google.com/notebooks/data_table.ipynb>data table notebook</a>'\n",
              "            + ' to learn more about interactive tables.';\n",
              "          element.innerHTML = '';\n",
              "          dataTable['output_type'] = 'display_data';\n",
              "          await google.colab.output.renderOutput(dataTable, element);\n",
              "          const docLink = document.createElement('div');\n",
              "          docLink.innerHTML = docLinkHtml;\n",
              "          element.appendChild(docLink);\n",
              "        }\n",
              "      </script>\n",
              "    </div>\n",
              "  </div>\n",
              "  "
            ],
            "text/plain": [
              "   id_producto  unidades_vendidas\n",
              "0         2854          5670850.0\n",
              "1         1536          1962667.0\n",
              "2          648          1640859.0\n",
              "3         2733          1440412.0\n",
              "4         1222          1232604.0\n",
              "5         2852          1180012.0\n",
              "6         2876          1107793.0\n",
              "7          506          1069471.0\n",
              "8          691           852611.0\n",
              "9           21                0.0"
            ]
          },
          "metadata": {},
          "execution_count": 13
        }
      ]
    },
    {
      "cell_type": "code",
      "source": [
        "# Imprime cantidad máxima de unidades vendidas por un producto\n",
        "ven.unidades_vendidas.max()"
      ],
      "metadata": {
        "colab": {
          "base_uri": "https://localhost:8080/"
        },
        "id": "BdX6GgGyIcbd",
        "outputId": "805873f3-e2e9-4e9f-a897-765142941503"
      },
      "execution_count": 14,
      "outputs": [
        {
          "output_type": "execute_result",
          "data": {
            "text/plain": [
              "5670850.0"
            ]
          },
          "metadata": {},
          "execution_count": 14
        }
      ]
    },
    {
      "cell_type": "markdown",
      "source": [
        "#### ¿Qué porcentaje de todos los productos disponibles a la venta han vendido más de $1,000,000?\n",
        "**53.36%**"
      ],
      "metadata": {
        "id": "sUhnVOvnOHBC"
      }
    },
    {
      "cell_type": "code",
      "source": [
        "# Imprime cantidad de IDs de producto único\n",
        "len(cat.id_producto.unique())"
      ],
      "metadata": {
        "colab": {
          "base_uri": "https://localhost:8080/"
        },
        "id": "o5QfI30JJ8er",
        "outputId": "319b1a94-6b30-4b65-cca7-d39ba777c089"
      },
      "execution_count": 15,
      "outputs": [
        {
          "output_type": "execute_result",
          "data": {
            "text/plain": [
              "3272"
            ]
          },
          "metadata": {},
          "execution_count": 15
        }
      ]
    },
    {
      "cell_type": "code",
      "source": [
        "# Imprime información\n",
        "cat.info()"
      ],
      "metadata": {
        "colab": {
          "base_uri": "https://localhost:8080/"
        },
        "id": "ubj4eCEQI7XJ",
        "outputId": "4d905c6a-218e-4204-8950-9617f812aa0e"
      },
      "execution_count": 16,
      "outputs": [
        {
          "output_type": "stream",
          "name": "stdout",
          "text": [
            "<class 'pandas.core.frame.DataFrame'>\n",
            "RangeIndex: 3272 entries, 0 to 3271\n",
            "Data columns (total 4 columns):\n",
            " #   Column              Non-Null Count  Dtype \n",
            "---  ------              --------------  ----- \n",
            " 0   id_producto         3272 non-null   int64 \n",
            " 1   titulo_producto     3272 non-null   object\n",
            " 2   categoria_producto  3272 non-null   object\n",
            " 3   precio_producto     3272 non-null   int64 \n",
            "dtypes: int64(2), object(2)\n",
            "memory usage: 102.4+ KB\n"
          ]
        }
      ]
    },
    {
      "cell_type": "code",
      "source": [
        "# Une ventas y catalogo en nuevo dataframe\n",
        "ven_cat = pd.merge(ven, \n",
        "                   cat, \n",
        "                   how=\"inner\", \n",
        "                   on=\"id_producto\")"
      ],
      "metadata": {
        "id": "-s4ZRSPMO9Zz"
      },
      "execution_count": 17,
      "outputs": []
    },
    {
      "cell_type": "code",
      "source": [
        "ven_cat.info()"
      ],
      "metadata": {
        "colab": {
          "base_uri": "https://localhost:8080/"
        },
        "id": "5fAOeKskKXDL",
        "outputId": "8346594e-6557-4bc2-c199-beefe0550134"
      },
      "execution_count": 18,
      "outputs": [
        {
          "output_type": "stream",
          "name": "stdout",
          "text": [
            "<class 'pandas.core.frame.DataFrame'>\n",
            "Int64Index: 2813 entries, 0 to 2812\n",
            "Data columns (total 5 columns):\n",
            " #   Column              Non-Null Count  Dtype  \n",
            "---  ------              --------------  -----  \n",
            " 0   id_producto         2813 non-null   int64  \n",
            " 1   unidades_vendidas   2813 non-null   float64\n",
            " 2   titulo_producto     2813 non-null   object \n",
            " 3   categoria_producto  2813 non-null   object \n",
            " 4   precio_producto     2813 non-null   int64  \n",
            "dtypes: float64(1), int64(2), object(2)\n",
            "memory usage: 131.9+ KB\n"
          ]
        }
      ]
    },
    {
      "cell_type": "code",
      "source": [
        "# Crea nueva columna con venta en pesos\n",
        "ven_cat[\"venta_pesos\"] = ven_cat.unidades_vendidas*ven_cat.precio_producto"
      ],
      "metadata": {
        "id": "9IpV6vzCPVF6"
      },
      "execution_count": 19,
      "outputs": []
    },
    {
      "cell_type": "code",
      "source": [
        "ven_cat.head()"
      ],
      "metadata": {
        "colab": {
          "base_uri": "https://localhost:8080/",
          "height": 375
        },
        "id": "_xwkEauEKc7-",
        "outputId": "8c932cb8-e3a1-4ab4-996b-3f4e111b1099"
      },
      "execution_count": 20,
      "outputs": [
        {
          "output_type": "execute_result",
          "data": {
            "text/html": [
              "\n",
              "  <div id=\"df-acf6a874-0786-4d6e-af5e-b56e3494aec9\">\n",
              "    <div class=\"colab-df-container\">\n",
              "      <div>\n",
              "<style scoped>\n",
              "    .dataframe tbody tr th:only-of-type {\n",
              "        vertical-align: middle;\n",
              "    }\n",
              "\n",
              "    .dataframe tbody tr th {\n",
              "        vertical-align: top;\n",
              "    }\n",
              "\n",
              "    .dataframe thead th {\n",
              "        text-align: right;\n",
              "    }\n",
              "</style>\n",
              "<table border=\"1\" class=\"dataframe\">\n",
              "  <thead>\n",
              "    <tr style=\"text-align: right;\">\n",
              "      <th></th>\n",
              "      <th>id_producto</th>\n",
              "      <th>unidades_vendidas</th>\n",
              "      <th>titulo_producto</th>\n",
              "      <th>categoria_producto</th>\n",
              "      <th>precio_producto</th>\n",
              "      <th>venta_pesos</th>\n",
              "    </tr>\n",
              "  </thead>\n",
              "  <tbody>\n",
              "    <tr>\n",
              "      <th>0</th>\n",
              "      <td>2854</td>\n",
              "      <td>5670850.0</td>\n",
              "      <td>SURGICAL AND INDUSTRIAL MASK</td>\n",
              "      <td>PHARMACEUTICS</td>\n",
              "      <td>231</td>\n",
              "      <td>1.309966e+09</td>\n",
              "    </tr>\n",
              "    <tr>\n",
              "      <th>1</th>\n",
              "      <td>1536</td>\n",
              "      <td>1962667.0</td>\n",
              "      <td>HEADPHONES</td>\n",
              "      <td>COMPUTER ACCESSORIES &amp; PERIPHERALS</td>\n",
              "      <td>3299</td>\n",
              "      <td>6.474838e+09</td>\n",
              "    </tr>\n",
              "    <tr>\n",
              "      <th>2</th>\n",
              "      <td>648</td>\n",
              "      <td>1640859.0</td>\n",
              "      <td>CELLPHONE COVER</td>\n",
              "      <td>MOBILE ACCESSORIES</td>\n",
              "      <td>187</td>\n",
              "      <td>3.068406e+08</td>\n",
              "    </tr>\n",
              "    <tr>\n",
              "      <th>3</th>\n",
              "      <td>2733</td>\n",
              "      <td>1440412.0</td>\n",
              "      <td>SNEAKERS</td>\n",
              "      <td>SNEAKERS</td>\n",
              "      <td>1800</td>\n",
              "      <td>2.592742e+09</td>\n",
              "    </tr>\n",
              "    <tr>\n",
              "      <th>4</th>\n",
              "      <td>1222</td>\n",
              "      <td>1232604.0</td>\n",
              "      <td>FACIAL SKIN CARE PRODUCT</td>\n",
              "      <td>PERFUMERY BEAUTY</td>\n",
              "      <td>251</td>\n",
              "      <td>3.093836e+08</td>\n",
              "    </tr>\n",
              "  </tbody>\n",
              "</table>\n",
              "</div>\n",
              "      <button class=\"colab-df-convert\" onclick=\"convertToInteractive('df-acf6a874-0786-4d6e-af5e-b56e3494aec9')\"\n",
              "              title=\"Convert this dataframe to an interactive table.\"\n",
              "              style=\"display:none;\">\n",
              "        \n",
              "  <svg xmlns=\"http://www.w3.org/2000/svg\" height=\"24px\"viewBox=\"0 0 24 24\"\n",
              "       width=\"24px\">\n",
              "    <path d=\"M0 0h24v24H0V0z\" fill=\"none\"/>\n",
              "    <path d=\"M18.56 5.44l.94 2.06.94-2.06 2.06-.94-2.06-.94-.94-2.06-.94 2.06-2.06.94zm-11 1L8.5 8.5l.94-2.06 2.06-.94-2.06-.94L8.5 2.5l-.94 2.06-2.06.94zm10 10l.94 2.06.94-2.06 2.06-.94-2.06-.94-.94-2.06-.94 2.06-2.06.94z\"/><path d=\"M17.41 7.96l-1.37-1.37c-.4-.4-.92-.59-1.43-.59-.52 0-1.04.2-1.43.59L10.3 9.45l-7.72 7.72c-.78.78-.78 2.05 0 2.83L4 21.41c.39.39.9.59 1.41.59.51 0 1.02-.2 1.41-.59l7.78-7.78 2.81-2.81c.8-.78.8-2.07 0-2.86zM5.41 20L4 18.59l7.72-7.72 1.47 1.35L5.41 20z\"/>\n",
              "  </svg>\n",
              "      </button>\n",
              "      \n",
              "  <style>\n",
              "    .colab-df-container {\n",
              "      display:flex;\n",
              "      flex-wrap:wrap;\n",
              "      gap: 12px;\n",
              "    }\n",
              "\n",
              "    .colab-df-convert {\n",
              "      background-color: #E8F0FE;\n",
              "      border: none;\n",
              "      border-radius: 50%;\n",
              "      cursor: pointer;\n",
              "      display: none;\n",
              "      fill: #1967D2;\n",
              "      height: 32px;\n",
              "      padding: 0 0 0 0;\n",
              "      width: 32px;\n",
              "    }\n",
              "\n",
              "    .colab-df-convert:hover {\n",
              "      background-color: #E2EBFA;\n",
              "      box-shadow: 0px 1px 2px rgba(60, 64, 67, 0.3), 0px 1px 3px 1px rgba(60, 64, 67, 0.15);\n",
              "      fill: #174EA6;\n",
              "    }\n",
              "\n",
              "    [theme=dark] .colab-df-convert {\n",
              "      background-color: #3B4455;\n",
              "      fill: #D2E3FC;\n",
              "    }\n",
              "\n",
              "    [theme=dark] .colab-df-convert:hover {\n",
              "      background-color: #434B5C;\n",
              "      box-shadow: 0px 1px 3px 1px rgba(0, 0, 0, 0.15);\n",
              "      filter: drop-shadow(0px 1px 2px rgba(0, 0, 0, 0.3));\n",
              "      fill: #FFFFFF;\n",
              "    }\n",
              "  </style>\n",
              "\n",
              "      <script>\n",
              "        const buttonEl =\n",
              "          document.querySelector('#df-acf6a874-0786-4d6e-af5e-b56e3494aec9 button.colab-df-convert');\n",
              "        buttonEl.style.display =\n",
              "          google.colab.kernel.accessAllowed ? 'block' : 'none';\n",
              "\n",
              "        async function convertToInteractive(key) {\n",
              "          const element = document.querySelector('#df-acf6a874-0786-4d6e-af5e-b56e3494aec9');\n",
              "          const dataTable =\n",
              "            await google.colab.kernel.invokeFunction('convertToInteractive',\n",
              "                                                     [key], {});\n",
              "          if (!dataTable) return;\n",
              "\n",
              "          const docLinkHtml = 'Like what you see? Visit the ' +\n",
              "            '<a target=\"_blank\" href=https://colab.research.google.com/notebooks/data_table.ipynb>data table notebook</a>'\n",
              "            + ' to learn more about interactive tables.';\n",
              "          element.innerHTML = '';\n",
              "          dataTable['output_type'] = 'display_data';\n",
              "          await google.colab.output.renderOutput(dataTable, element);\n",
              "          const docLink = document.createElement('div');\n",
              "          docLink.innerHTML = docLinkHtml;\n",
              "          element.appendChild(docLink);\n",
              "        }\n",
              "      </script>\n",
              "    </div>\n",
              "  </div>\n",
              "  "
            ],
            "text/plain": [
              "   id_producto  unidades_vendidas               titulo_producto  \\\n",
              "0         2854          5670850.0  SURGICAL AND INDUSTRIAL MASK   \n",
              "1         1536          1962667.0                    HEADPHONES   \n",
              "2          648          1640859.0               CELLPHONE COVER   \n",
              "3         2733          1440412.0                      SNEAKERS   \n",
              "4         1222          1232604.0      FACIAL SKIN CARE PRODUCT   \n",
              "\n",
              "                   categoria_producto  precio_producto   venta_pesos  \n",
              "0                       PHARMACEUTICS              231  1.309966e+09  \n",
              "1  COMPUTER ACCESSORIES & PERIPHERALS             3299  6.474838e+09  \n",
              "2                  MOBILE ACCESSORIES              187  3.068406e+08  \n",
              "3                            SNEAKERS             1800  2.592742e+09  \n",
              "4                    PERFUMERY BEAUTY              251  3.093836e+08  "
            ]
          },
          "metadata": {},
          "execution_count": 20
        }
      ]
    },
    {
      "cell_type": "code",
      "source": [
        "# Declara nuevo dataframe con productos con venta \n",
        "ven_cat_1M = ven_cat[ven_cat.venta_pesos>1000000]"
      ],
      "metadata": {
        "id": "bbx8PuxDKc-r"
      },
      "execution_count": 21,
      "outputs": []
    },
    {
      "cell_type": "code",
      "source": [
        "# Imprime porcentaje de todos los productos disponibles a la venta que han vendido más de $1,000,000\n",
        "ven_cat_1M.shape[0]/cat.shape[0]*100"
      ],
      "metadata": {
        "colab": {
          "base_uri": "https://localhost:8080/"
        },
        "id": "GVpx_yTwKdCY",
        "outputId": "2a4aeafb-0773-4f1e-c994-b8c5816f0b2c"
      },
      "execution_count": 22,
      "outputs": [
        {
          "output_type": "execute_result",
          "data": {
            "text/plain": [
              "53.36185819070904"
            ]
          },
          "metadata": {},
          "execution_count": 22
        }
      ]
    },
    {
      "cell_type": "markdown",
      "source": [
        "#### ¿Cuál es la cantidad mínima, promedio y máxima de unidades vendidas por producto de cada categoría?"
      ],
      "metadata": {
        "id": "qY8hX5ffL5-g"
      }
    },
    {
      "cell_type": "code",
      "source": [
        "# Declara objeto de agrupación por categoría de producto\n",
        "ven_cat_grouped = ven_cat.groupby(ven_cat.categoria_producto)"
      ],
      "metadata": {
        "id": "bsBPaFawM6Yp"
      },
      "execution_count": 23,
      "outputs": []
    },
    {
      "cell_type": "code",
      "source": [
        "# Declara dataframe con la cantidad mínima, promedio y máxima de unidades vendidas por producto de cada categoría\n",
        "summary_cat = pd.concat([ven_cat_grouped[\"unidades_vendidas\"].min(), \n",
        "                         ven_cat_grouped[\"unidades_vendidas\"].mean(), \n",
        "                         ven_cat_grouped[\"unidades_vendidas\"].max()], \n",
        "                        axis=1)"
      ],
      "metadata": {
        "id": "l3fNJ3b0OWNc"
      },
      "execution_count": 24,
      "outputs": []
    },
    {
      "cell_type": "code",
      "source": [
        "# Cambiar nombres de columnas\n",
        "summary_cat.columns = [\"min\", \"mean\", \"max\"]"
      ],
      "metadata": {
        "id": "g8INz9z-9Zp6"
      },
      "execution_count": 25,
      "outputs": []
    },
    {
      "cell_type": "code",
      "source": [
        "summary_cat.head(10)"
      ],
      "metadata": {
        "colab": {
          "base_uri": "https://localhost:8080/",
          "height": 394
        },
        "id": "meGMMmj-PHCK",
        "outputId": "c064e627-6752-4271-d52c-b6abb01d7f24"
      },
      "execution_count": 26,
      "outputs": [
        {
          "output_type": "execute_result",
          "data": {
            "text/html": [
              "\n",
              "  <div id=\"df-8dfc063d-ba54-4dc5-bcc2-ac26383256ef\">\n",
              "    <div class=\"colab-df-container\">\n",
              "      <div>\n",
              "<style scoped>\n",
              "    .dataframe tbody tr th:only-of-type {\n",
              "        vertical-align: middle;\n",
              "    }\n",
              "\n",
              "    .dataframe tbody tr th {\n",
              "        vertical-align: top;\n",
              "    }\n",
              "\n",
              "    .dataframe thead th {\n",
              "        text-align: right;\n",
              "    }\n",
              "</style>\n",
              "<table border=\"1\" class=\"dataframe\">\n",
              "  <thead>\n",
              "    <tr style=\"text-align: right;\">\n",
              "      <th></th>\n",
              "      <th>min</th>\n",
              "      <th>mean</th>\n",
              "      <th>max</th>\n",
              "    </tr>\n",
              "    <tr>\n",
              "      <th>categoria_producto</th>\n",
              "      <th></th>\n",
              "      <th></th>\n",
              "      <th></th>\n",
              "    </tr>\n",
              "  </thead>\n",
              "  <tbody>\n",
              "    <tr>\n",
              "      <th>AUTOMOTIVE</th>\n",
              "      <td>46.0</td>\n",
              "      <td>36601.625000</td>\n",
              "      <td>236772.0</td>\n",
              "    </tr>\n",
              "    <tr>\n",
              "      <th>BAG &amp; BACKPACK</th>\n",
              "      <td>494.0</td>\n",
              "      <td>99503.705882</td>\n",
              "      <td>646182.0</td>\n",
              "    </tr>\n",
              "    <tr>\n",
              "      <th>BASICS</th>\n",
              "      <td>3092.0</td>\n",
              "      <td>107991.500000</td>\n",
              "      <td>234734.0</td>\n",
              "    </tr>\n",
              "    <tr>\n",
              "      <th>BOOKS, MULTIMEDIA &amp; OTHER E!</th>\n",
              "      <td>5.0</td>\n",
              "      <td>106890.230769</td>\n",
              "      <td>1069471.0</td>\n",
              "    </tr>\n",
              "    <tr>\n",
              "      <th>BOOTS</th>\n",
              "      <td>785.0</td>\n",
              "      <td>169923.000000</td>\n",
              "      <td>507748.0</td>\n",
              "    </tr>\n",
              "    <tr>\n",
              "      <th>CELLPHONES</th>\n",
              "      <td>723977.0</td>\n",
              "      <td>723977.000000</td>\n",
              "      <td>723977.0</td>\n",
              "    </tr>\n",
              "    <tr>\n",
              "      <th>CLOTHING</th>\n",
              "      <td>100.0</td>\n",
              "      <td>185608.217391</td>\n",
              "      <td>1107793.0</td>\n",
              "    </tr>\n",
              "    <tr>\n",
              "      <th>COMPUTER ACCESSORIES &amp; PERIPHERALS</th>\n",
              "      <td>0.0</td>\n",
              "      <td>44891.919075</td>\n",
              "      <td>1962667.0</td>\n",
              "    </tr>\n",
              "    <tr>\n",
              "      <th>COMPUTERS</th>\n",
              "      <td>264.0</td>\n",
              "      <td>19129.500000</td>\n",
              "      <td>74370.0</td>\n",
              "    </tr>\n",
              "    <tr>\n",
              "      <th>CONSOLES</th>\n",
              "      <td>128746.0</td>\n",
              "      <td>128746.000000</td>\n",
              "      <td>128746.0</td>\n",
              "    </tr>\n",
              "  </tbody>\n",
              "</table>\n",
              "</div>\n",
              "      <button class=\"colab-df-convert\" onclick=\"convertToInteractive('df-8dfc063d-ba54-4dc5-bcc2-ac26383256ef')\"\n",
              "              title=\"Convert this dataframe to an interactive table.\"\n",
              "              style=\"display:none;\">\n",
              "        \n",
              "  <svg xmlns=\"http://www.w3.org/2000/svg\" height=\"24px\"viewBox=\"0 0 24 24\"\n",
              "       width=\"24px\">\n",
              "    <path d=\"M0 0h24v24H0V0z\" fill=\"none\"/>\n",
              "    <path d=\"M18.56 5.44l.94 2.06.94-2.06 2.06-.94-2.06-.94-.94-2.06-.94 2.06-2.06.94zm-11 1L8.5 8.5l.94-2.06 2.06-.94-2.06-.94L8.5 2.5l-.94 2.06-2.06.94zm10 10l.94 2.06.94-2.06 2.06-.94-2.06-.94-.94-2.06-.94 2.06-2.06.94z\"/><path d=\"M17.41 7.96l-1.37-1.37c-.4-.4-.92-.59-1.43-.59-.52 0-1.04.2-1.43.59L10.3 9.45l-7.72 7.72c-.78.78-.78 2.05 0 2.83L4 21.41c.39.39.9.59 1.41.59.51 0 1.02-.2 1.41-.59l7.78-7.78 2.81-2.81c.8-.78.8-2.07 0-2.86zM5.41 20L4 18.59l7.72-7.72 1.47 1.35L5.41 20z\"/>\n",
              "  </svg>\n",
              "      </button>\n",
              "      \n",
              "  <style>\n",
              "    .colab-df-container {\n",
              "      display:flex;\n",
              "      flex-wrap:wrap;\n",
              "      gap: 12px;\n",
              "    }\n",
              "\n",
              "    .colab-df-convert {\n",
              "      background-color: #E8F0FE;\n",
              "      border: none;\n",
              "      border-radius: 50%;\n",
              "      cursor: pointer;\n",
              "      display: none;\n",
              "      fill: #1967D2;\n",
              "      height: 32px;\n",
              "      padding: 0 0 0 0;\n",
              "      width: 32px;\n",
              "    }\n",
              "\n",
              "    .colab-df-convert:hover {\n",
              "      background-color: #E2EBFA;\n",
              "      box-shadow: 0px 1px 2px rgba(60, 64, 67, 0.3), 0px 1px 3px 1px rgba(60, 64, 67, 0.15);\n",
              "      fill: #174EA6;\n",
              "    }\n",
              "\n",
              "    [theme=dark] .colab-df-convert {\n",
              "      background-color: #3B4455;\n",
              "      fill: #D2E3FC;\n",
              "    }\n",
              "\n",
              "    [theme=dark] .colab-df-convert:hover {\n",
              "      background-color: #434B5C;\n",
              "      box-shadow: 0px 1px 3px 1px rgba(0, 0, 0, 0.15);\n",
              "      filter: drop-shadow(0px 1px 2px rgba(0, 0, 0, 0.3));\n",
              "      fill: #FFFFFF;\n",
              "    }\n",
              "  </style>\n",
              "\n",
              "      <script>\n",
              "        const buttonEl =\n",
              "          document.querySelector('#df-8dfc063d-ba54-4dc5-bcc2-ac26383256ef button.colab-df-convert');\n",
              "        buttonEl.style.display =\n",
              "          google.colab.kernel.accessAllowed ? 'block' : 'none';\n",
              "\n",
              "        async function convertToInteractive(key) {\n",
              "          const element = document.querySelector('#df-8dfc063d-ba54-4dc5-bcc2-ac26383256ef');\n",
              "          const dataTable =\n",
              "            await google.colab.kernel.invokeFunction('convertToInteractive',\n",
              "                                                     [key], {});\n",
              "          if (!dataTable) return;\n",
              "\n",
              "          const docLinkHtml = 'Like what you see? Visit the ' +\n",
              "            '<a target=\"_blank\" href=https://colab.research.google.com/notebooks/data_table.ipynb>data table notebook</a>'\n",
              "            + ' to learn more about interactive tables.';\n",
              "          element.innerHTML = '';\n",
              "          dataTable['output_type'] = 'display_data';\n",
              "          await google.colab.output.renderOutput(dataTable, element);\n",
              "          const docLink = document.createElement('div');\n",
              "          docLink.innerHTML = docLinkHtml;\n",
              "          element.appendChild(docLink);\n",
              "        }\n",
              "      </script>\n",
              "    </div>\n",
              "  </div>\n",
              "  "
            ],
            "text/plain": [
              "                                         min           mean        max\n",
              "categoria_producto                                                    \n",
              "AUTOMOTIVE                              46.0   36601.625000   236772.0\n",
              "BAG & BACKPACK                         494.0   99503.705882   646182.0\n",
              "BASICS                                3092.0  107991.500000   234734.0\n",
              "BOOKS, MULTIMEDIA & OTHER E!             5.0  106890.230769  1069471.0\n",
              "BOOTS                                  785.0  169923.000000   507748.0\n",
              "CELLPHONES                          723977.0  723977.000000   723977.0\n",
              "CLOTHING                               100.0  185608.217391  1107793.0\n",
              "COMPUTER ACCESSORIES & PERIPHERALS       0.0   44891.919075  1962667.0\n",
              "COMPUTERS                              264.0   19129.500000    74370.0\n",
              "CONSOLES                            128746.0  128746.000000   128746.0"
            ]
          },
          "metadata": {},
          "execution_count": 26
        }
      ]
    }
  ]
}