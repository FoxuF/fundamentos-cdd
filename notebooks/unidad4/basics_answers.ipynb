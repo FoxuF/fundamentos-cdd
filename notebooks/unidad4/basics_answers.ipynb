{
  "nbformat": 4,
  "nbformat_minor": 0,
  "metadata": {
    "colab": {
      "name": "answers.ipynb",
      "provenance": []
    },
    "kernelspec": {
      "name": "python3",
      "display_name": "Python 3"
    },
    "language_info": {
      "name": "python"
    }
  },
  "cells": [
    {
      "cell_type": "markdown",
      "source": [
        "#Unidad 4. Entorno de desarollo\n",
        "## Ejercicios para martes, 15 de febrero"
      ],
      "metadata": {
        "id": "ZthyZbmDr5ZS"
      }
    },
    {
      "cell_type": "markdown",
      "source": [
        "1. Escribe una función que dado un string s y un entero no negativo n regrese n copias de s. "
      ],
      "metadata": {
        "id": "grjo_3DynMKF"
      }
    },
    {
      "cell_type": "code",
      "source": [
        "def copy_string(s, n):\n",
        "  return s*n"
      ],
      "metadata": {
        "id": "7qDn8HO4nUA3"
      },
      "execution_count": 1,
      "outputs": []
    },
    {
      "cell_type": "code",
      "source": [
        "copy_string(\"hello\", 4)"
      ],
      "metadata": {
        "colab": {
          "base_uri": "https://localhost:8080/",
          "height": 35
        },
        "id": "mzwggOnEnv2p",
        "outputId": "92bd586f-44fc-4d2f-e491-64dd081d5203"
      },
      "execution_count": 2,
      "outputs": [
        {
          "output_type": "execute_result",
          "data": {
            "application/vnd.google.colaboratory.intrinsic+json": {
              "type": "string"
            },
            "text/plain": [
              "'hellohellohellohello'"
            ]
          },
          "metadata": {},
          "execution_count": 2
        }
      ]
    },
    {
      "cell_type": "markdown",
      "source": [
        "2. Escribe una función que dado un arreglo de números revise si el producto de dos números del arreglo es par."
      ],
      "metadata": {
        "id": "y36CQzGgnNV7"
      }
    },
    {
      "cell_type": "code",
      "source": [
        "def has_even_product(l):\n",
        "  for i in l:\n",
        "    for j in l:\n",
        "      prod = i * j\n",
        "      prod_mod2 = prod % 2\n",
        "      if prod_mod2 == 0:\n",
        "        return True\n",
        "  return False"
      ],
      "metadata": {
        "id": "mxOELuLRoCIQ"
      },
      "execution_count": 3,
      "outputs": []
    },
    {
      "cell_type": "code",
      "source": [
        "has_even_product([1, 11, 15, 31])"
      ],
      "metadata": {
        "colab": {
          "base_uri": "https://localhost:8080/"
        },
        "id": "jE2KPh2owNae",
        "outputId": "ca236b93-6afd-4f20-8e86-954ee23a7da0"
      },
      "execution_count": 4,
      "outputs": [
        {
          "output_type": "execute_result",
          "data": {
            "text/plain": [
              "False"
            ]
          },
          "metadata": {},
          "execution_count": 4
        }
      ]
    },
    {
      "cell_type": "code",
      "source": [
        "has_even_product([9, 20, 15, 31])"
      ],
      "metadata": {
        "colab": {
          "base_uri": "https://localhost:8080/"
        },
        "id": "9a7SqDh7oQxq",
        "outputId": "db19fdfe-6783-458a-ca4d-34055dad6283"
      },
      "execution_count": 5,
      "outputs": [
        {
          "output_type": "execute_result",
          "data": {
            "text/plain": [
              "True"
            ]
          },
          "metadata": {},
          "execution_count": 5
        }
      ]
    },
    {
      "cell_type": "markdown",
      "source": [
        "3. Escribe una función que dado un arreglo con valores None regrese el arreglo con los valores None reemplazados por el valor no None anterior en el arreglo."
      ],
      "metadata": {
        "id": "OmRSpQCBnQTd"
      }
    },
    {
      "cell_type": "code",
      "source": [
        "def delete_nones(l):\n",
        "  ok_value = l[0]\n",
        "\n",
        "  if l[0] is None:\n",
        "    for i in range(len(l)):\n",
        "      if l[-i] is not None: \n",
        "        ok_value = l[-i]\n",
        "        break\n",
        "  \n",
        "  for i, value in enumerate(l):\n",
        "    if value is None:\n",
        "      l[i] = ok_value\n",
        "    else:\n",
        "      ok_value = value\n",
        "\n",
        "  return l"
      ],
      "metadata": {
        "id": "gtEfE3KR302z"
      },
      "execution_count": 6,
      "outputs": []
    },
    {
      "cell_type": "code",
      "source": [
        "delete_nones([1, 1, 2, None, 4, 5, None, None])"
      ],
      "metadata": {
        "colab": {
          "base_uri": "https://localhost:8080/"
        },
        "id": "vJEtZVEIwZQB",
        "outputId": "3030a201-d8d1-4c45-ebf8-60babe1e77a3"
      },
      "execution_count": 7,
      "outputs": [
        {
          "output_type": "execute_result",
          "data": {
            "text/plain": [
              "[1, 1, 2, 2, 4, 5, 5, 5]"
            ]
          },
          "metadata": {},
          "execution_count": 7
        }
      ]
    },
    {
      "cell_type": "code",
      "source": [
        "delete_nones([None, 1, 2, None, 4, 5, None, None])"
      ],
      "metadata": {
        "colab": {
          "base_uri": "https://localhost:8080/"
        },
        "id": "gDkGVFN1n_1I",
        "outputId": "78e51b3b-c3c8-45ca-9d2e-173cdf3261df"
      },
      "execution_count": 8,
      "outputs": [
        {
          "output_type": "execute_result",
          "data": {
            "text/plain": [
              "[5, 1, 2, 2, 4, 5, 5, 5]"
            ]
          },
          "metadata": {},
          "execution_count": 8
        }
      ]
    },
    {
      "cell_type": "markdown",
      "source": [
        "4. Escribe una función que dada una lista regrese la misma lista ordenada. "
      ],
      "metadata": {
        "id": "tcgEkg7XnSjK"
      }
    },
    {
      "cell_type": "code",
      "source": [
        "def my_sort(l):\n",
        "  l.sort()\n",
        "  return l"
      ],
      "metadata": {
        "id": "pxs3SL88nPgk"
      },
      "execution_count": 9,
      "outputs": []
    },
    {
      "cell_type": "code",
      "source": [
        "my_sort([1, 20, 32, 0, 8, 2])"
      ],
      "metadata": {
        "colab": {
          "base_uri": "https://localhost:8080/"
        },
        "id": "val0VnTcwiWN",
        "outputId": "c07617d9-e091-4aa7-9ee0-d0f02d22fb1d"
      },
      "execution_count": 10,
      "outputs": [
        {
          "output_type": "execute_result",
          "data": {
            "text/plain": [
              "[0, 1, 2, 8, 20, 32]"
            ]
          },
          "metadata": {},
          "execution_count": 10
        }
      ]
    },
    {
      "cell_type": "code",
      "source": [
        "my_sort([12, 14, 1, 4, 320, 12])"
      ],
      "metadata": {
        "colab": {
          "base_uri": "https://localhost:8080/"
        },
        "id": "6uMyrFSOokpp",
        "outputId": "1d2b5f22-e714-48e7-b264-3f8706966a7f"
      },
      "execution_count": 11,
      "outputs": [
        {
          "output_type": "execute_result",
          "data": {
            "text/plain": [
              "[1, 4, 12, 12, 14, 320]"
            ]
          },
          "metadata": {},
          "execution_count": 11
        }
      ]
    }
  ]
}