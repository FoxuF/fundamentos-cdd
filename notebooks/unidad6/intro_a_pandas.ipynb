{
  "nbformat": 4,
  "nbformat_minor": 0,
  "metadata": {
    "colab": {
      "name": "intro_a_pandas_to_complete.ipynb",
      "provenance": [],
      "toc_visible": true,
      "collapsed_sections": []
    },
    "kernelspec": {
      "name": "python3",
      "display_name": "Python 3"
    },
    "language_info": {
      "name": "python"
    }
  },
  "cells": [
    {
      "cell_type": "markdown",
      "source": [
        "# Introducción a Pandas"
      ],
      "metadata": {
        "id": "LpDlk51Veu8L"
      }
    },
    {
      "cell_type": "markdown",
      "metadata": {
        "id": "TG1h-y-JbygJ"
      },
      "source": [
        "#### **Pandas es un paquete escrito como extensión de NumPy para la manipulación y análisis de datos.**"
      ]
    },
    {
      "cell_type": "markdown",
      "source": [
        "Pandas es un paquete más nuevo creado sobre NumPy que proporciona una implementación eficiente de un conjunto de datos como objeto (`Series` y `DataFrame`)."
      ],
      "metadata": {
        "id": "PcFUBGGkrmj3"
      }
    },
    {
      "cell_type": "markdown",
      "source": [
        "Los `DataFrames` son esencialmente matrices multidimensionales con etiquetas de fila y columna adjuntas y, a menudo, con tipos heterogéneos y/o datos faltantes. Además de ofrecer una interfaz de almacenamiento conveniente para datos etiquetados, Pandas implementa una serie de operaciones de datos familiares para los usuarios de marcos de bases de datos y programas de hojas de cálculo."
      ],
      "metadata": {
        "id": "2oLiVYr_tYFL"
      }
    },
    {
      "cell_type": "markdown",
      "metadata": {
        "id": "kfzzWN-LbygQ"
      },
      "source": [
        "### ¿Cuál es la ventaja entre utilizar matrices Pandas (`DataFrames`) sobre matrices NumPy (`ndarray`)?"
      ]
    },
    {
      "cell_type": "markdown",
      "source": [
        "La estructura de datos de un `ndarray` de NumPy proporciona características esenciales para el tipo de datos limpios y bien organizados que se ven normalmente en las tareas de computación científica. Si bien sirve muy bien para este propósito, sus limitaciones se hacen evidentes cuando necesitamos más flexibilidad (por ejemplo, adjuntar etiquetas a los datos, trabajar con datos faltantes, etc.) y cuando intentamos operaciones que no se corresponden correctamente con el broadcasting elemto por ejemplo (por ejemplo, agrupaciones, tablas pivote, etc.). Estas dos tareas son particularmente esenciales para analizar datos, sobre todo los menos estructurados que resultan ser los más comunes en el mundo que nos rodea. Si bien los objetos `Index`,  `Series` y `DataFrame`  de Pandas se basan en la estructura de matriz NumPy, estos también brindan acceso eficiente a este tipo de tareas que ocupan gran parte del tiempo de un científico de datos."
      ],
      "metadata": {
        "id": "qsRaXnKmt-DD"
      }
    },
    {
      "cell_type": "markdown",
      "metadata": {
        "id": "NvnL6rsDbygh"
      },
      "source": [
        "## Importación y otros comandos útiles"
      ]
    },
    {
      "cell_type": "markdown",
      "metadata": {
        "id": "78EBlnhAbygj"
      },
      "source": [
        "Por convención, Pandas se importa con el alias *pd*."
      ]
    },
    {
      "cell_type": "code",
      "execution_count": 1,
      "metadata": {
        "id": "H0mh7VyWbygl"
      },
      "outputs": [],
      "source": [
        "import pandas as pd"
      ]
    },
    {
      "cell_type": "code",
      "execution_count": 2,
      "metadata": {
        "id": "6EIxVxEXbygp"
      },
      "outputs": [],
      "source": [
        "# Imprime versión de numpy"
      ]
    },
    {
      "cell_type": "code",
      "execution_count": 3,
      "metadata": {
        "id": "ovDzwGksbygu"
      },
      "outputs": [],
      "source": [
        "# Imprime documentación bult-in de numpy"
      ]
    },
    {
      "cell_type": "markdown",
      "source": [
        "## Introducción al objeto `Series`"
      ],
      "metadata": {
        "id": "8oRbriT3vcWr"
      }
    },
    {
      "cell_type": "markdown",
      "source": [
        "Una `Series` es una matriz unidimensional de datos indexados. Mientras que un `ndarray` tiene un índice entero definido implícitamente que se usa para acceder a los valores, Pandas Series tiene un índice definido explícitamente asociado con los valores."
      ],
      "metadata": {
        "id": "wZ48ON0Ov-eY"
      }
    },
    {
      "cell_type": "markdown",
      "source": [
        "Para declarar una `Series` se utilizad una versión de la siguiente función ` pd.Series(data, index=index)`, donde `index` es un argumento opcional y `data` puede ser desde un escalar o una secuencia de números hasta un diccionario. "
      ],
      "metadata": {
        "id": "YIFy7Z9SB2zJ"
      }
    },
    {
      "cell_type": "code",
      "source": [
        "# Declara una serie (s)\n",
        "s = pd.Series([0.25, 0.5, 0.75, 1.0, 0.25, 0.5, 0.75, 1.0])\n",
        "\n",
        "# Imprime serie s\n",
        "s"
      ],
      "metadata": {
        "colab": {
          "base_uri": "https://localhost:8080/"
        },
        "id": "1FFxS4c3wEFf",
        "outputId": "ac142b7c-3388-47d6-dbb9-c7876f773909"
      },
      "execution_count": 4,
      "outputs": [
        {
          "output_type": "execute_result",
          "data": {
            "text/plain": [
              "0    0.25\n",
              "1    0.50\n",
              "2    0.75\n",
              "3    1.00\n",
              "4    0.25\n",
              "5    0.50\n",
              "6    0.75\n",
              "7    1.00\n",
              "dtype: float64"
            ]
          },
          "metadata": {},
          "execution_count": 4
        }
      ]
    },
    {
      "cell_type": "markdown",
      "source": [
        "Una `Series` se compone tanto de su secuencia de valores como su secuencia de índices, a los que podemos acceder con los atributos `values` e `index` respectivamente."
      ],
      "metadata": {
        "id": "50xDOfhcwWrr"
      }
    },
    {
      "cell_type": "markdown",
      "source": [
        "Los valores son simplemente un `ndarray`. "
      ],
      "metadata": {
        "id": "5szap3W7wwhL"
      }
    },
    {
      "cell_type": "code",
      "source": [
        "# Imprime valores de serie s\n"
      ],
      "metadata": {
        "id": "TfPczc_4wcvg"
      },
      "execution_count": 5,
      "outputs": []
    },
    {
      "cell_type": "markdown",
      "source": [
        "Los índices conforman un arreglo similar a un objeto de Pandas de tipo `Index`."
      ],
      "metadata": {
        "id": "B0SoW5bBwxTD"
      }
    },
    {
      "cell_type": "code",
      "source": [
        "# Imprime índices de serie s\n"
      ],
      "metadata": {
        "id": "MIvBry4bwcx_"
      },
      "execution_count": 6,
      "outputs": []
    },
    {
      "cell_type": "markdown",
      "source": [
        "Al igual que con un `ndarray`, el índice asociado permite acceder a los datos a través de la notación de corchetes de Python."
      ],
      "metadata": {
        "id": "7fM_CW7Yxcge"
      }
    },
    {
      "cell_type": "code",
      "source": [
        "# Imprime valor en la posición 2 de la serie s\n"
      ],
      "metadata": {
        "id": "JcsVv0wQxujC"
      },
      "execution_count": 7,
      "outputs": []
    },
    {
      "cell_type": "code",
      "source": [
        "# Imprime valores en las posiciones pares de la serie s\n"
      ],
      "metadata": {
        "id": "-cn3qpZbwc0v"
      },
      "execution_count": 8,
      "outputs": []
    },
    {
      "cell_type": "markdown",
      "source": [
        "La definición de índice explícito le da al objeto `Series` capacidades adicionales. Por ejemplo, el índice no necesita ser una secuencia de números  enteros; también es capaz de ser una secuencia de valores cualesquiera de cualquier tipo deseado."
      ],
      "metadata": {
        "id": "BZtwOP-W1AmO"
      }
    },
    {
      "cell_type": "code",
      "source": [
        "# Declara serie (s) con índices de tipo string\n",
        "s = pd.Series([0.25, 0.5, 0.75, 1.0],\n",
        "                 index=['a', 'b', 'c', 'd'])\n",
        "\n",
        "# Imprime serie s\n",
        "s"
      ],
      "metadata": {
        "colab": {
          "base_uri": "https://localhost:8080/"
        },
        "id": "xSwqjVrCwc3W",
        "outputId": "bf4985e6-69d5-4371-a34b-87a883959f6d"
      },
      "execution_count": 9,
      "outputs": [
        {
          "output_type": "execute_result",
          "data": {
            "text/plain": [
              "a    0.25\n",
              "b    0.50\n",
              "c    0.75\n",
              "d    1.00\n",
              "dtype: float64"
            ]
          },
          "metadata": {},
          "execution_count": 9
        }
      ]
    },
    {
      "cell_type": "code",
      "source": [
        "# Imprime valor en la posición \"b\" de la serie s\n"
      ],
      "metadata": {
        "id": "O8mHwHfIwc56"
      },
      "execution_count": 10,
      "outputs": []
    },
    {
      "cell_type": "markdown",
      "source": [
        "Una `Series` se puede entender entonces como especialización de un diccionario de Python. Un diccionario es una estructura que asigna índices arbitrarios a un conjunto de valores arbitrarios, y una serie es una estructura que asigna índices escritas a un conjunto de valores escritos. "
      ],
      "metadata": {
        "id": "7rtY-9bX2Nk9"
      }
    },
    {
      "cell_type": "markdown",
      "source": [
        "Así como el código compilado específico en el tipo de datos detrás de un `ndarray` lo hace más eficiente que una lista de Python para ciertas operaciones, la información de tipo de una `Series` lo hace mucho más eficiente que los diccionarios de Python para ciertas operaciones."
      ],
      "metadata": {
        "id": "1kMFjwno2s_3"
      }
    },
    {
      "cell_type": "code",
      "source": [
        "# Declara diccionario (population_dict) \n",
        "population_dict = {'San Francisco': 38332521,\n",
        "                   'Dallas': 26448193,\n",
        "                   'Manhattan': 19651127,\n",
        "                   'Miami': 19552860}\n",
        "\n",
        "# Imprime diccionario population_dict\n",
        "population_dict"
      ],
      "metadata": {
        "colab": {
          "base_uri": "https://localhost:8080/"
        },
        "id": "YHP5-C2h3LEB",
        "outputId": "8bba109b-6ffe-484d-f74a-d2b226dfcfa6"
      },
      "execution_count": 11,
      "outputs": [
        {
          "output_type": "execute_result",
          "data": {
            "text/plain": [
              "{'Dallas': 26448193,\n",
              " 'Manhattan': 19651127,\n",
              " 'Miami': 19552860,\n",
              " 'San Francisco': 38332521}"
            ]
          },
          "metadata": {},
          "execution_count": 11
        }
      ]
    },
    {
      "cell_type": "code",
      "source": [
        "# Convierte diccionario population_dict en serie population\n",
        "\n",
        "\n",
        "# Imprime serie population\n"
      ],
      "metadata": {
        "id": "Puroh0vU3LG4"
      },
      "execution_count": 12,
      "outputs": []
    },
    {
      "cell_type": "markdown",
      "source": [
        "Por defecto, se creará una `Series` donde el índice se extrae de las llaves ordenadas. Por lo tanto, se puede accesar a los valores como en un diccionario."
      ],
      "metadata": {
        "id": "hPq4DUhq5Hs9"
      }
    },
    {
      "cell_type": "code",
      "source": [
        "# Imprime valor en la posición \"San Francisco\" de la serie population\n"
      ],
      "metadata": {
        "id": "VBsp8xLW53vV"
      },
      "execution_count": 13,
      "outputs": []
    },
    {
      "cell_type": "code",
      "source": [
        "# Imprime valores en el rango de la posición \"Dallas\" a la posición \"Miami\" de la serie population\n"
      ],
      "metadata": {
        "id": "lvE8jb7n5GgR"
      },
      "execution_count": 14,
      "outputs": []
    },
    {
      "cell_type": "markdown",
      "source": [
        "## Introducción al objeto `DataFrame`"
      ],
      "metadata": {
        "id": "fl8PLynbBzKr"
      }
    },
    {
      "cell_type": "markdown",
      "source": [
        "Al igual que el objeto `Series` discutido en la sección anterior, el `DataFrame` se puede considerar como una generalización de un `ndarray` o como una especialización de un diccionario de Python. "
      ],
      "metadata": {
        "id": "M_16Gp-UD_iu"
      }
    },
    {
      "cell_type": "markdown",
      "source": [
        "Si una `Series` es un análogo de un `ndarray` con índices flexibles, un `DataFrame` es un análogo de un `ndarray` con índices de fila flexibles y nombres de columna flexibles. Así como se podría pensar en una matriz bidimensional como una secuencia ordenada de columnas unidimensionales alineadas, se puede pensar en un `DataFrame` como una secuencia de objetos `Series` alineados, es decir, que comparten el mismo índice."
      ],
      "metadata": {
        "id": "kPDyHjOHHIOV"
      }
    },
    {
      "cell_type": "code",
      "source": [
        "# Declara diccionario (area_dict) \n",
        "area_dict = {'San Francisco': 53444, \n",
        "             'Dallas': 53786, \n",
        "             'Manhattan': 43244,\n",
        "             'Miami': 42344}\n",
        "\n",
        "# Convierte diccionario area_dict en serie area\n",
        "area = pd.Series(area_dict)\n",
        "\n",
        "# Imprime serie area\n",
        "area"
      ],
      "metadata": {
        "colab": {
          "base_uri": "https://localhost:8080/"
        },
        "id": "T_mIa2UjIIAR",
        "outputId": "af97e67a-12d0-4a33-ad21-e1aa1f25f0c2"
      },
      "execution_count": 15,
      "outputs": [
        {
          "output_type": "execute_result",
          "data": {
            "text/plain": [
              "San Francisco    53444\n",
              "Dallas           53786\n",
              "Manhattan        43244\n",
              "Miami            42344\n",
              "dtype: int64"
            ]
          },
          "metadata": {},
          "execution_count": 15
        }
      ]
    },
    {
      "cell_type": "code",
      "source": [
        "# Declara dataframe (states)\n",
        "\n",
        "\n",
        "# Imprime dataframe states\n"
      ],
      "metadata": {
        "id": "qQmPycrgIJuj"
      },
      "execution_count": 16,
      "outputs": []
    },
    {
      "cell_type": "code",
      "source": [
        "# Imprime índices de dataframe states\n"
      ],
      "metadata": {
        "id": "XQdTVD6xIMa1"
      },
      "execution_count": 17,
      "outputs": []
    },
    {
      "cell_type": "code",
      "source": [
        "# Imprime columnas de dataframe states\n"
      ],
      "metadata": {
        "id": "J3NIJsU4J-vP"
      },
      "execution_count": 18,
      "outputs": []
    },
    {
      "cell_type": "code",
      "source": [
        "# Imprime valores de dataframe states\n"
      ],
      "metadata": {
        "id": "kLY5BV8-J3Q4"
      },
      "execution_count": 19,
      "outputs": []
    },
    {
      "cell_type": "markdown",
      "source": [
        "De manera similar, también se puede pensar en un `DataFrame` como una especialización de un diccionario. Donde un diccionario asigna una llave a un valor, un `DataFrame` asigna un nombre de columna a una serie de datos de columna."
      ],
      "metadata": {
        "id": "MgJtAv9RIAkh"
      }
    },
    {
      "cell_type": "code",
      "source": [
        "# Imprime columna area de dataframe states\n"
      ],
      "metadata": {
        "id": "_4t9jdU53LKD"
      },
      "execution_count": 20,
      "outputs": []
    },
    {
      "cell_type": "code",
      "source": [
        "# Imprime \"valor en la posición 0\" de dataframe states\n",
        "states[0]"
      ],
      "metadata": {
        "colab": {
          "base_uri": "https://localhost:8080/",
          "height": 182
        },
        "id": "kCVh1bt63LPD",
        "outputId": "c33e0ce8-5e87-4a08-9d31-9a6eb7a0ef00"
      },
      "execution_count": 21,
      "outputs": [
        {
          "output_type": "error",
          "ename": "NameError",
          "evalue": "ignored",
          "traceback": [
            "\u001b[0;31m---------------------------------------------------------------------------\u001b[0m",
            "\u001b[0;31mNameError\u001b[0m                                 Traceback (most recent call last)",
            "\u001b[0;32m<ipython-input-21-9b3998060211>\u001b[0m in \u001b[0;36m<module>\u001b[0;34m()\u001b[0m\n\u001b[1;32m      1\u001b[0m \u001b[0;31m# Imprime \"valor en la posición 0\" de dataframe states\u001b[0m\u001b[0;34m\u001b[0m\u001b[0;34m\u001b[0m\u001b[0;34m\u001b[0m\u001b[0m\n\u001b[0;32m----> 2\u001b[0;31m \u001b[0mstates\u001b[0m\u001b[0;34m[\u001b[0m\u001b[0;36m0\u001b[0m\u001b[0;34m]\u001b[0m\u001b[0;34m\u001b[0m\u001b[0;34m\u001b[0m\u001b[0m\n\u001b[0m",
            "\u001b[0;31mNameError\u001b[0m: name 'states' is not defined"
          ]
        }
      ]
    },
    {
      "cell_type": "markdown",
      "source": [
        "Un `DataFrame` se puede construir de varias maneras..."
      ],
      "metadata": {
        "id": "qazpOzNlK_K1"
      }
    },
    {
      "cell_type": "markdown",
      "source": [
        "A partir de una `Series`. "
      ],
      "metadata": {
        "id": "WQIbrNZULUcH"
      }
    },
    {
      "cell_type": "code",
      "source": [
        "pd.DataFrame(population, columns=['population'])"
      ],
      "metadata": {
        "id": "vGafqAvtLFz5"
      },
      "execution_count": null,
      "outputs": []
    },
    {
      "cell_type": "markdown",
      "source": [
        "A partir de una lista de diccionarios."
      ],
      "metadata": {
        "id": "4DEWUXBaMI9y"
      }
    },
    {
      "cell_type": "code",
      "source": [
        "# Declara lista de diccionarios (data) \n",
        "data = [{'a': i, 'b': 2 * i} for i in range(2, 12, 2)]\n",
        "\n",
        "# Convierte lista data en dataframe\n"
      ],
      "metadata": {
        "id": "DtqU5UlnLF26"
      },
      "execution_count": null,
      "outputs": []
    },
    {
      "cell_type": "markdown",
      "source": [
        "Incluso si hacen falta valores, Pandas los completa con valores `NaN`. "
      ],
      "metadata": {
        "id": "Ex1Hc3rYMaCr"
      }
    },
    {
      "cell_type": "code",
      "source": [
        "# Declara dataframe fila por fila\n",
        "pd.DataFrame([{'a': 1, 'b': 2}, \n",
        "              {'b': 3, 'c': 4}])"
      ],
      "metadata": {
        "id": "nhzFBgc02se3"
      },
      "execution_count": null,
      "outputs": []
    },
    {
      "cell_type": "markdown",
      "source": [
        "A partir de `Series`. "
      ],
      "metadata": {
        "id": "67Zd3V39Mied"
      }
    },
    {
      "cell_type": "code",
      "source": [
        "# Declara a partir de series\n",
        "pd.DataFrame({'population': population,\n",
        "              'area': area})"
      ],
      "metadata": {
        "id": "pSfLmgi12NDO"
      },
      "execution_count": null,
      "outputs": []
    },
    {
      "cell_type": "markdown",
      "source": [
        "A partir de un `ndarray` bidimensional."
      ],
      "metadata": {
        "id": "24JMxVlYMpuO"
      }
    },
    {
      "cell_type": "code",
      "source": [
        "import numpy as np"
      ],
      "metadata": {
        "id": "aAsmvylvM4OV"
      },
      "execution_count": null,
      "outputs": []
    },
    {
      "cell_type": "code",
      "source": [
        "# Declara diccionario a partir de arreglo bidimensional\n"
      ],
      "metadata": {
        "id": "oEJMBr3HMxpD"
      },
      "execution_count": null,
      "outputs": []
    }
  ]
}