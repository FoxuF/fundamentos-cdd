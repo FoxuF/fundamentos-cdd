{
  "nbformat": 4,
  "nbformat_minor": 0,
  "metadata": {
    "colab": {
      "name": "supervised_ml_to_complete.ipynb",
      "provenance": []
    },
    "kernelspec": {
      "name": "python3",
      "display_name": "Python 3"
    },
    "language_info": {
      "name": "python"
    }
  },
  "cells": [
    {
      "cell_type": "code",
      "execution_count": null,
      "metadata": {
        "id": "kfoIjm3zUYWm"
      },
      "outputs": [],
      "source": [
        "import numpy as np\n",
        "import pandas as pd\n",
        "\n",
        "import matplotlib.pyplot as plt\n",
        "import seaborn as sns\n",
        "\n",
        "from sklearn import datasets\n",
        "from sklearn.linear_model import LinearRegression\n",
        "from sklearn.linear_model import LogisticRegression\n",
        "from sklearn.preprocessing import PolynomialFeatures\n",
        "from sklearn.model_selection import train_test_split\n",
        "from sklearn.metrics import r2_score, mean_squared_error, confusion_matrix, accuracy_score, precision_score, recall_score, f1_score"
      ]
    },
    {
      "cell_type": "markdown",
      "source": [
        "## Regresión lineal"
      ],
      "metadata": {
        "id": "8IpZFgbYUpyE"
      }
    },
    {
      "cell_type": "markdown",
      "source": [
        "Un modelo lineal hace una predicción simplemente calculando una **suma ponderada de las variables de entrada, más una constante llamada término de sesgo** (también llamada intersección), y se puede expresar con la siguiente ecuación: "
      ],
      "metadata": {
        "id": "2zbT1c1CU1q9"
      }
    },
    {
      "cell_type": "markdown",
      "source": [
        "$\\hat{y}=\\theta_{0}+\\theta_{1}x_{1}+\\theta_{2}x_{2}+...+\\theta_{n}x_{n}$"
      ],
      "metadata": {
        "id": "7D8w7kIzVAoo"
      }
    },
    {
      "cell_type": "markdown",
      "source": [
        "donde: \n",
        "* $\\hat{y}$ es el valor predecido\n",
        "* $n$ es el número de variables\n",
        "* $x_{i}$ es el valor en la variable ${i}$ésima\n",
        "* $\\theta_{j}$ es el $j$ésimo coeficiente del modelo (incluyendo el término de sesgo $\\theta_{0}$ y los coeficientes $\\theta_{1},\\theta_{2}...\\theta{n}$)  \n"
      ],
      "metadata": {
        "id": "6fRNIhdnVtS2"
      }
    },
    {
      "cell_type": "markdown",
      "source": [
        "Esto se puede escribir de manera mucho más concisa usando una forma vectorizada, que se puede expresar con la siguiente ecuación:"
      ],
      "metadata": {
        "id": "uH7LaVrpaU1w"
      }
    },
    {
      "cell_type": "markdown",
      "source": [
        "$\\hat{y}=h_{\\theta}(x)=\\theta*x$"
      ],
      "metadata": {
        "id": "JTD0B14cacd5"
      }
    },
    {
      "cell_type": "markdown",
      "source": [
        "donde:\n",
        "* $\\theta$ es el vector de coeficientes del modelo (incluyendo el término de sesgo $\\theta_{0}$ y los coeficientes $\\theta_{1},\\theta_{2}...\\theta{n}$)\n",
        "* $x$ es el vector de valores (incluyendo $x_{0}$ a $x_{n}$, en donde $x_{0}$ es siempre igual a 1) \n",
        "* $\\theta*x$ es el producto punto de los vectores $\\theta$ y $x$ (igual a $\\theta_{0}x_{0}+\\theta_{1}x_{1}+\\theta_{2}x_{2}+...+\\theta_{n}x_{n}$)\n",
        "* $h_{\\theta}$ es la función hipotética del modelo que utiliza los coeficientes $\\theta$"
      ],
      "metadata": {
        "id": "-Jt-dFWbayuU"
      }
    },
    {
      "cell_type": "markdown",
      "source": [
        "En Machine Learning, los vectores a menudo se representan como vectores de columna, que son matrices 2D con una sola columna. Si $\\theta$ y $x$ son vectores columna, entonces la predicción es: $\\hat{y}=\\theta^{T}x$, donde $\\theta^{T}$ es el la transposición de $\\theta$ (un vector fila en lugar de un vector columna) y $\\theta^{T}x$ es la multiplicación matricial de $\\theta^{T}$ y $x$. Por supuesto, es la misma predicción, excepto que ahora se representa como una matriz de una sola celda en lugar de un valor escalar."
      ],
      "metadata": {
        "id": "-rMGC_RGcu2F"
      }
    },
    {
      "cell_type": "markdown",
      "source": [
        "**Entrenar un modelo significa determinar sus coeficientes para que el modelo se ajuste mejor al conjunto de datos de entrenamiento.** Para este propósito, primero necesitamos una medida de qué tan bien (o mal) se ajusta el modelo a los datos de entrenamiento, es decir, una función de costo. **La medida de rendimiento más común de un modelo de regresión es el error cuadrático medio (ECM).** Por lo tanto, para entrenar un modelo de regresión lineal, debemos encontrar los valores de θ que minimizan el ECM, que se puede expresar con la siguiente ecuación:"
      ],
      "metadata": {
        "id": "S-x0sFOIin44"
      }
    },
    {
      "cell_type": "markdown",
      "source": [
        "$MSE(X,h_{\\theta})=\\frac{1}{m}\\sum_{i=1}^{m}(\\theta^Tx^{(i)}-y^{(i)})^2$"
      ],
      "metadata": {
        "id": "jU1W7u342mZb"
      }
    },
    {
      "cell_type": "markdown",
      "source": [
        "Para encontrar el valor de $\\theta$ que minimiza la función de costo, existe una solución de forma cerrada, en otras palabras, una ecuación matemática que da el resultado directamente. Esto se llama la **ecuación normal**, que se puede expresar con la siguiente ecuación:"
      ],
      "metadata": {
        "id": "i6tn4JlU8ujD"
      }
    },
    {
      "cell_type": "markdown",
      "source": [
        "$\\hat\\theta=(X^TX)^{-1}X^Ty$"
      ],
      "metadata": {
        "id": "pQOA9YUbBytd"
      }
    },
    {
      "cell_type": "markdown",
      "source": [
        "donde:\n",
        "* $\\hat\\theta$ es el vector de coeficientes del modelo que minimizan la función de costo\n",
        "* $y$ es el vector de los valores de la variable dependiente (incluyendo $y^{(1)}$ a $y^{(m)}$)\n"
      ],
      "metadata": {
        "id": "5Tkz-xprCJan"
      }
    },
    {
      "cell_type": "code",
      "source": [
        "# Define variables dependientes\n",
        "X = 2 * np.random.rand(100, 1)\n",
        "\n",
        "# Define variables independientes (y = 4 + 3x_1 + ruído gauseano)\n",
        "y = 4 + 3 * X + np.random.randn(100, 1)"
      ],
      "metadata": {
        "id": "zkBK6CVkBBh6"
      },
      "execution_count": null,
      "outputs": []
    },
    {
      "cell_type": "code",
      "source": [
        "# Grafica X y y\n",
        "plt.plot(X, y, \"b.\")"
      ],
      "metadata": {
        "colab": {
          "base_uri": "https://localhost:8080/",
          "height": 282
        },
        "id": "ySRliJUJKP95",
        "outputId": "9f96128f-457b-459f-8320-42ff2fa025e9"
      },
      "execution_count": null,
      "outputs": [
        {
          "output_type": "execute_result",
          "data": {
            "text/plain": [
              "[<matplotlib.lines.Line2D at 0x7faab5546750>]"
            ]
          },
          "metadata": {},
          "execution_count": 3
        },
        {
          "output_type": "display_data",
          "data": {
            "text/plain": [
              "<Figure size 432x288 with 1 Axes>"
            ],
            "image/png": "[encoded data removed]"
          },
          "metadata": {
            "needs_background": "light"
          }
        }
      ]
    },
    {
      "cell_type": "code",
      "source": [
        "# Agregamos x_0 = 1 a cada observación\n",
        "X_b = np.c_[np.ones((100, 1)), X]\n",
        "\n",
        "# Ecuación normal\n",
        "theta_best = np.linalg.inv(X_b.T.dot(X_b)).dot(X_b.T).dot(y)\n",
        "theta_best"
      ],
      "metadata": {
        "colab": {
          "base_uri": "https://localhost:8080/"
        },
        "id": "YPtNWAnuKVgF",
        "outputId": "c0afbbbf-4bfe-4bc6-afc9-c63f5e94f8cc"
      },
      "execution_count": null,
      "outputs": [
        {
          "output_type": "execute_result",
          "data": {
            "text/plain": [
              "array([[3.86405831],\n",
              "       [3.13727315]])"
            ]
          },
          "metadata": {},
          "execution_count": 4
        }
      ]
    },
    {
      "cell_type": "markdown",
      "source": [
        "Habríamos esperado que $\\theta_0=4$ y $\\theta_1=3$. No obstante, los coeficientes ajustados son los suficientemente cerca, pero el ruído gauseano hace imposible recuperar los coeficientes exactos de la función original."
      ],
      "metadata": {
        "id": "nnOfZzoLMEVC"
      }
    },
    {
      "cell_type": "markdown",
      "source": [
        "Ahora, es posible hacer predicciones utilizando $\\hat\\theta$."
      ],
      "metadata": {
        "id": "szP2Wa3DMf0j"
      }
    },
    {
      "cell_type": "code",
      "source": [
        "# Predice valores de variable dependiente\n",
        "y_predict = X_b.dot(theta_best)"
      ],
      "metadata": {
        "id": "J9S82qNM7Q1x"
      },
      "execution_count": null,
      "outputs": []
    },
    {
      "cell_type": "markdown",
      "source": [
        "En estadística, el coeficiente de determinación, denominado $R^2$, determina la calidad de un modelo para replicar los resultados, y la proporción de variación de los resultados que puede explicarse por el modelo, y se puede expresar con la siguiente ecuacuón:"
      ],
      "metadata": {
        "id": "_edZP-yJ9g3h"
      }
    },
    {
      "cell_type": "markdown",
      "source": [
        "\n",
        "$R^2=\\frac{\\sigma^2_{xy}}{\\sigma^2_{x}\\sigma^2_{y}}$"
      ],
      "metadata": {
        "id": "ZIdkdJLf-ia_"
      }
    },
    {
      "cell_type": "markdown",
      "source": [
        "en donde: \n",
        "* $\\sigma_{xy}$ es la covarianza de $(X,Y)$\n",
        "* $\\sigma^2_{x}$ es la varianza de la variable $X$\n",
        "* $\\sigma^2_{y}$ es la varianza de la variable $Y$"
      ],
      "metadata": {
        "id": "-liVTO7L-jmb"
      }
    },
    {
      "cell_type": "code",
      "source": [
        "# Devuelve R2 \n",
        "r2_score(y, y_predict)"
      ],
      "metadata": {
        "colab": {
          "base_uri": "https://localhost:8080/"
        },
        "id": "FxuG-uaR7Cip",
        "outputId": "ed55c6d9-211f-4132-cffd-32914283b6ee"
      },
      "execution_count": null,
      "outputs": [
        {
          "output_type": "execute_result",
          "data": {
            "text/plain": [
              "0.7395860624086558"
            ]
          },
          "metadata": {},
          "execution_count": 6
        }
      ]
    },
    {
      "cell_type": "markdown",
      "source": [
        "También, es posible hacer predicciones de nuevos datos utilizando $\\hat\\theta$."
      ],
      "metadata": {
        "id": "4UcCxMve_HC7"
      }
    },
    {
      "cell_type": "code",
      "source": [
        "# Define nuevas observaciones para variables independientes\n",
        "X_new = np.array([[0], [2]])\n",
        "X_new_b = np.c_[np.ones((2, 1)), X_new]\n",
        "\n",
        "# Predice valores de variable dependiente\n",
        "y_new_predict = X_new_b.dot(theta_best)\n",
        "y_new_predict"
      ],
      "metadata": {
        "colab": {
          "base_uri": "https://localhost:8080/"
        },
        "id": "XJM-D096Lb2N",
        "outputId": "fc8b7e04-3fe4-4e53-ac43-2e01738540d2"
      },
      "execution_count": null,
      "outputs": [
        {
          "output_type": "execute_result",
          "data": {
            "text/plain": [
              "array([[ 3.86405831],\n",
              "       [10.1386046 ]])"
            ]
          },
          "metadata": {},
          "execution_count": 7
        }
      ]
    },
    {
      "cell_type": "code",
      "source": [
        "plt.plot(X, y_predict, \"r-\")\n",
        "plt.plot(X, y, \"b.\")"
      ],
      "metadata": {
        "colab": {
          "base_uri": "https://localhost:8080/",
          "height": 282
        },
        "id": "lWcOgBhC3CQx",
        "outputId": "0d33f297-3d37-47ff-a388-8e3dec061b20"
      },
      "execution_count": null,
      "outputs": [
        {
          "output_type": "execute_result",
          "data": {
            "text/plain": [
              "[<matplotlib.lines.Line2D at 0x7faab283fc10>]"
            ]
          },
          "metadata": {},
          "execution_count": 8
        },
        {
          "output_type": "display_data",
          "data": {
            "text/plain": [
              "<Figure size 432x288 with 1 Axes>"
            ],
            "image/png": "[encoded data removed]"
          },
          "metadata": {
            "needs_background": "light"
          }
        }
      ]
    },
    {
      "cell_type": "markdown",
      "source": [
        "Scikit-Learn proporciona una clase útil para implementar y entrenar un modelo de regresión lineal: `LinearRegression`."
      ],
      "metadata": {
        "id": "QWuGybGA3tH7"
      }
    },
    {
      "cell_type": "code",
      "source": [
        "# Crea objeto de regresión lineal\n",
        "lin_reg = LinearRegression()"
      ],
      "metadata": {
        "id": "PPH9Mfnx4Agz"
      },
      "execution_count": null,
      "outputs": []
    },
    {
      "cell_type": "code",
      "source": [
        "# Ajusta modelo de regresión lineal\n",
        "lin_reg.fit(X, y)\n",
        "\n",
        "# Devuelve intercepto y coeficientes de modelo de regresión lineal\n",
        "lin_reg.intercept_, lin_reg.coef_"
      ],
      "metadata": {
        "colab": {
          "base_uri": "https://localhost:8080/"
        },
        "id": "TYCTgr4m4bKv",
        "outputId": "27c81c79-57e7-43c6-da4f-d3f16789893c"
      },
      "execution_count": null,
      "outputs": [
        {
          "output_type": "execute_result",
          "data": {
            "text/plain": [
              "(array([3.86405831]), array([[3.13727315]]))"
            ]
          },
          "metadata": {},
          "execution_count": 10
        }
      ]
    },
    {
      "cell_type": "markdown",
      "source": [
        "## Regresión polinomial"
      ],
      "metadata": {
        "id": "2ddLYup55hwT"
      }
    },
    {
      "cell_type": "markdown",
      "source": [
        "¿Cómo ajustamos un modelo a datos que son en realidad más complejos que una simple línea recta Sorprendentemente, podemos usar un modelo lineal para ajustar datos no lineales. Una forma sencilla de hacer esto es agregar potencias de cada variable como variables nuevas y luego entrenar un modelo lineal en este conjunto ampliado de variables. Esta técnica se llama regresión polinomial."
      ],
      "metadata": {
        "id": "fcYjE4I05nLZ"
      }
    },
    {
      "cell_type": "code",
      "source": [
        "# Define variables independientes\n",
        "m = 100\n",
        "X = 6 * np.random.rand(m, 1) - 3\n",
        "\n",
        "# Define variables dependientes (y = 0.5 * x_1^2 + x_i + 2 + ruído gauseano)\n",
        "y = 0.5 * X**2 + X + 2 + np.random.randn(m, 1)"
      ],
      "metadata": {
        "id": "M1jFIkV8AAc0"
      },
      "execution_count": null,
      "outputs": []
    },
    {
      "cell_type": "code",
      "source": [
        "# Grafica X y y\n",
        "plt.plot(X, y, \"b.\")"
      ],
      "metadata": {
        "colab": {
          "base_uri": "https://localhost:8080/",
          "height": 283
        },
        "outputId": "341002e6-359a-4393-a761-4bcf32c7630d",
        "id": "qDC0KEDzAGd_"
      },
      "execution_count": null,
      "outputs": [
        {
          "output_type": "execute_result",
          "data": {
            "text/plain": [
              "[<matplotlib.lines.Line2D at 0x7faab27bbc90>]"
            ]
          },
          "metadata": {},
          "execution_count": 12
        },
        {
          "output_type": "display_data",
          "data": {
            "text/plain": [
              "<Figure size 432x288 with 1 Axes>"
            ],
            "image/png": "[encoded data removed]"
          },
          "metadata": {
            "needs_background": "light"
          }
        }
      ]
    },
    {
      "cell_type": "markdown",
      "source": [
        "Para transformar nuestros datos de entrenamiento, agregando el cuadrado (polinomio de segundo grado) de cada variable, podemos utilizar la clase `PolynomialFeatures`. "
      ],
      "metadata": {
        "id": "ekyG8F1MAjq8"
      }
    },
    {
      "cell_type": "code",
      "source": [
        "# Crea objeto para transformar\n",
        "poly_features = PolynomialFeatures(degree=2, include_bias=False)\n",
        "\n",
        "# Transforma conjunto de datos con el objeto para transformar\n",
        "X_poly = poly_features.fit_transform(X)\n",
        "\n",
        "# Imprime comparativa entre dato original y dato tranformado\n",
        "print(X[0])\n",
        "print(X_poly[0])"
      ],
      "metadata": {
        "colab": {
          "base_uri": "https://localhost:8080/"
        },
        "id": "TT5f7uBLAh88",
        "outputId": "c0de92e0-f702-473e-81be-3c5688aacc32"
      },
      "execution_count": null,
      "outputs": [
        {
          "output_type": "stream",
          "name": "stdout",
          "text": [
            "[-2.846235]\n",
            "[-2.846235    8.10105365]\n"
          ]
        }
      ]
    },
    {
      "cell_type": "markdown",
      "source": [
        "`X_poly` ahora contiene la variable original de $X$ y el cuadrado de esta misma. Ahora, es posible ajustar un modelo de regresión lineal a estos datos de entrenamiento extendidos. "
      ],
      "metadata": {
        "id": "BWOneVACB36Z"
      }
    },
    {
      "cell_type": "code",
      "source": [
        "# Crea objeto de regresión lineal\n",
        "lin_reg = LinearRegression()"
      ],
      "metadata": {
        "id": "IYtlWrkXCI4A"
      },
      "execution_count": null,
      "outputs": []
    },
    {
      "cell_type": "code",
      "source": [
        "# Ajusta modelo de regresión lineal\n",
        "lin_reg.fit(X_poly, y)\n",
        "\n",
        "# Devuelve intercepto y coeficientes de modelo de regresión linea\n",
        "lin_reg.intercept_, lin_reg.coef_"
      ],
      "metadata": {
        "colab": {
          "base_uri": "https://localhost:8080/"
        },
        "outputId": "b8c2ce0f-8e60-44e9-af1c-79072586edf6",
        "id": "Ax_X_y52CI4A"
      },
      "execution_count": null,
      "outputs": [
        {
          "output_type": "execute_result",
          "data": {
            "text/plain": [
              "(array([2.04811798]), array([[1.00585338, 0.4668074 ]]))"
            ]
          },
          "metadata": {},
          "execution_count": 15
        }
      ]
    },
    {
      "cell_type": "markdown",
      "source": [
        "Debemos tener en cuenta que cuando hay múltiples variables, la regresión polinomial es capaz de encontrar relaciones entre todas ellas (que es algo que un modelo de regresión lineal simple no puede hacer). Esto es posible gracias al hecho de que `PolynomialFeatures` también agrega todas las combinaciones de variables hasta el grado dado. Por ejemplo, si hubiera dos variables $a$ y $b$, `PolynomialFeatures` con tre grados no solo agregaría $a^2$, $b^2$, $a^3$ y $b^3$, pero también las combinaciones $ab$, $a^2b$ y $ab^2$. "
      ],
      "metadata": {
        "id": "xzASietACvio"
      }
    },
    {
      "cell_type": "markdown",
      "source": [
        "## Regresión logística"
      ],
      "metadata": {
        "id": "_667AFwevzZF"
      }
    },
    {
      "cell_type": "markdown",
      "source": [
        "**La regresión logística es un modelo de Machine Learning utilizado para predecir la probabilidad de ocurrencia de un evento, es decir, para problemas de clasificación.** La salida del modelo de regresión logística es un valor de probabilidad entre 0 y 1. La salida representa la probabilidad de que la clase de los datos de entrada sea 1.\n"
      ],
      "metadata": {
        "id": "aLpxjBOwwMOP"
      }
    },
    {
      "cell_type": "markdown",
      "source": [
        "\n",
        "**Los datos de entrada se asignan a una probabilidad utilizando la función sigmoide.** La función sigmoide, también llamada función logística. La función sigmoide es una función matemática que mapea los valores (suma de entrada ponderada) de -infinito a +infinito a valores entre 0 y 1. La función sigmoide se puede expresar con la siguiente ecuación:  "
      ],
      "metadata": {
        "id": "5rkLoKc2xjXT"
      }
    },
    {
      "cell_type": "markdown",
      "source": [
        "$\\sigma(z)=\\frac{1}{1+e^{-z}}$"
      ],
      "metadata": {
        "id": "6jJ6Ztezx6L0"
      }
    },
    {
      "cell_type": "markdown",
      "source": [
        "El valor de $z$ en la función sigmoide representa la suma ponderada de los valores de entrada y se puede expresar con la siguiente ecuación: "
      ],
      "metadata": {
        "id": "_uVzMda-yIK_"
      }
    },
    {
      "cell_type": "markdown",
      "source": [
        "$z=\\theta^{T}x$"
      ],
      "metadata": {
        "id": "jzI3lPbDyXq_"
      }
    },
    {
      "cell_type": "markdown",
      "source": [
        "Visualmente la función sigmoide se ve así:"
      ],
      "metadata": {
        "id": "WuRxVl7gzD2A"
      }
    },
    {
      "cell_type": "markdown",
      "source": [
        "<image src=\"https://www.geogebra.org/resource/BdrYBMfc/S6TIV3WZYqfo0tZx/material-BdrYBMfc.png\">"
      ],
      "metadata": {
        "id": "RMUi8xTny_f3"
      }
    },
    {
      "cell_type": "markdown",
      "source": [
        "La salida del modelo de regresión logística siempre está entre 0 y 1. Si la salida está cerca de 0, significa que es menos probable que ocurra el evento. Si la salida está cerca de 1, significa que es más probable que ocurra el evento. Por ejemplo, si el valor del modelo de regresión logística (representado mediante la función sigmoide) es 0.8, representa que la probabilidad de que ocurra el evento es 0.8 dado un conjunto particular de coeficientes aprendidos mediante la optimización de la función de costo. Para cualquier nuevo valor X, la salida de la función anterior se usará para hacer la predicción."
      ],
      "metadata": {
        "id": "v_3aYYy-yoXY"
      }
    },
    {
      "cell_type": "markdown",
      "source": [
        "**Los coeficientes en la regresión logística se aprenden utilizando la estimación de máxima verosimilitud.**"
      ],
      "metadata": {
        "id": "3ZtHqY6fzK6S"
      }
    },
    {
      "cell_type": "markdown",
      "source": [
        "La estimación de máxima verosimilitud es un método de maximización de probabilidad, lo que significa que **determina los parámetros que tienen más probabilidades de producir los datos observados.** Desde un punto de vista estadístico, la estimación de máxima verosimilitud establece la media y la varianza como parámetros para determinar los valores paramétricos específicos para un modelo dado. Este conjunto de parámetros se puede utilizar para predecir los datos necesarios en una distribución normal."
      ],
      "metadata": {
        "id": "xWFEAcdI1gmP"
      }
    },
    {
      "cell_type": "markdown",
      "source": [
        "Consideramos un conjunto de datos de dominio público alojado en [Kaggle](https://www.kaggle.com/datasets/uciml/pima-indians-diabetes-database). Este conjunto de datos contiene aproximadamente 770 observaciones extraídas de una base de datos de pacientes (mujeres de 21 años) del National Institute of Diabetes and Digestive and Kidney Diseases. "
      ],
      "metadata": {
        "id": "vFbqhj0a6Vro"
      }
    },
    {
      "cell_type": "code",
      "source": [
        "col_names = ['pregnant', 'glucose', 'bp', 'skin', 'insulin', 'bmi', 'pedigree', 'age', 'label']\n",
        "pima = pd.read_csv(\"https://raw.githubusercontent.com/sarahiaguilar/fundamentos-cdd/main/datos/diabetes.csv\", header = 0, names = col_names)"
      ],
      "metadata": {
        "id": "7vv_9kDSynw5"
      },
      "execution_count": null,
      "outputs": []
    },
    {
      "cell_type": "code",
      "source": [
        "pima.head()"
      ],
      "metadata": {
        "colab": {
          "base_uri": "https://localhost:8080/",
          "height": 206
        },
        "id": "y92IoOdJ0xdp",
        "outputId": "ca02d24d-d04d-40ec-e146-9500b0d2f6e5"
      },
      "execution_count": null,
      "outputs": [
        {
          "output_type": "execute_result",
          "data": {
            "text/plain": [
              "   pregnant  glucose  bp  skin  insulin   bmi  pedigree  age  label\n",
              "0         6      148  72    35        0  33.6     0.627   50      1\n",
              "1         1       85  66    29        0  26.6     0.351   31      0\n",
              "2         8      183  64     0        0  23.3     0.672   32      1\n",
              "3         1       89  66    23       94  28.1     0.167   21      0\n",
              "4         0      137  40    35      168  43.1     2.288   33      1"
            ],
            "text/html": [
              "\n",
              "  <div id=\"df-7078fc92-7711-44fc-9308-2039c58a7934\">\n",
              "    <div class=\"colab-df-container\">\n",
              "      <div>\n",
              "<style scoped>\n",
              "    .dataframe tbody tr th:only-of-type {\n",
              "        vertical-align: middle;\n",
              "    }\n",
              "\n",
              "    .dataframe tbody tr th {\n",
              "        vertical-align: top;\n",
              "    }\n",
              "\n",
              "    .dataframe thead th {\n",
              "        text-align: right;\n",
              "    }\n",
              "</style>\n",
              "<table border=\"1\" class=\"dataframe\">\n",
              "  <thead>\n",
              "    <tr style=\"text-align: right;\">\n",
              "      <th></th>\n",
              "      <th>pregnant</th>\n",
              "      <th>glucose</th>\n",
              "      <th>bp</th>\n",
              "      <th>skin</th>\n",
              "      <th>insulin</th>\n",
              "      <th>bmi</th>\n",
              "      <th>pedigree</th>\n",
              "      <th>age</th>\n",
              "      <th>label</th>\n",
              "    </tr>\n",
              "  </thead>\n",
              "  <tbody>\n",
              "    <tr>\n",
              "      <th>0</th>\n",
              "      <td>6</td>\n",
              "      <td>148</td>\n",
              "      <td>72</td>\n",
              "      <td>35</td>\n",
              "      <td>0</td>\n",
              "      <td>33.6</td>\n",
              "      <td>0.627</td>\n",
              "      <td>50</td>\n",
              "      <td>1</td>\n",
              "    </tr>\n",
              "    <tr>\n",
              "      <th>1</th>\n",
              "      <td>1</td>\n",
              "      <td>85</td>\n",
              "      <td>66</td>\n",
              "      <td>29</td>\n",
              "      <td>0</td>\n",
              "      <td>26.6</td>\n",
              "      <td>0.351</td>\n",
              "      <td>31</td>\n",
              "      <td>0</td>\n",
              "    </tr>\n",
              "    <tr>\n",
              "      <th>2</th>\n",
              "      <td>8</td>\n",
              "      <td>183</td>\n",
              "      <td>64</td>\n",
              "      <td>0</td>\n",
              "      <td>0</td>\n",
              "      <td>23.3</td>\n",
              "      <td>0.672</td>\n",
              "      <td>32</td>\n",
              "      <td>1</td>\n",
              "    </tr>\n",
              "    <tr>\n",
              "      <th>3</th>\n",
              "      <td>1</td>\n",
              "      <td>89</td>\n",
              "      <td>66</td>\n",
              "      <td>23</td>\n",
              "      <td>94</td>\n",
              "      <td>28.1</td>\n",
              "      <td>0.167</td>\n",
              "      <td>21</td>\n",
              "      <td>0</td>\n",
              "    </tr>\n",
              "    <tr>\n",
              "      <th>4</th>\n",
              "      <td>0</td>\n",
              "      <td>137</td>\n",
              "      <td>40</td>\n",
              "      <td>35</td>\n",
              "      <td>168</td>\n",
              "      <td>43.1</td>\n",
              "      <td>2.288</td>\n",
              "      <td>33</td>\n",
              "      <td>1</td>\n",
              "    </tr>\n",
              "  </tbody>\n",
              "</table>\n",
              "</div>\n",
              "      <button class=\"colab-df-convert\" onclick=\"convertToInteractive('df-7078fc92-7711-44fc-9308-2039c58a7934')\"\n",
              "              title=\"Convert this dataframe to an interactive table.\"\n",
              "              style=\"display:none;\">\n",
              "        \n",
              "  <svg xmlns=\"http://www.w3.org/2000/svg\" height=\"24px\"viewBox=\"0 0 24 24\"\n",
              "       width=\"24px\">\n",
              "    <path d=\"M0 0h24v24H0V0z\" fill=\"none\"/>\n",
              "    <path d=\"M18.56 5.44l.94 2.06.94-2.06 2.06-.94-2.06-.94-.94-2.06-.94 2.06-2.06.94zm-11 1L8.5 8.5l.94-2.06 2.06-.94-2.06-.94L8.5 2.5l-.94 2.06-2.06.94zm10 10l.94 2.06.94-2.06 2.06-.94-2.06-.94-.94-2.06-.94 2.06-2.06.94z\"/><path d=\"M17.41 7.96l-1.37-1.37c-.4-.4-.92-.59-1.43-.59-.52 0-1.04.2-1.43.59L10.3 9.45l-7.72 7.72c-.78.78-.78 2.05 0 2.83L4 21.41c.39.39.9.59 1.41.59.51 0 1.02-.2 1.41-.59l7.78-7.78 2.81-2.81c.8-.78.8-2.07 0-2.86zM5.41 20L4 18.59l7.72-7.72 1.47 1.35L5.41 20z\"/>\n",
              "  </svg>\n",
              "      </button>\n",
              "      \n",
              "  <style>\n",
              "    .colab-df-container {\n",
              "      display:flex;\n",
              "      flex-wrap:wrap;\n",
              "      gap: 12px;\n",
              "    }\n",
              "\n",
              "    .colab-df-convert {\n",
              "      background-color: #E8F0FE;\n",
              "      border: none;\n",
              "      border-radius: 50%;\n",
              "      cursor: pointer;\n",
              "      display: none;\n",
              "      fill: #1967D2;\n",
              "      height: 32px;\n",
              "      padding: 0 0 0 0;\n",
              "      width: 32px;\n",
              "    }\n",
              "\n",
              "    .colab-df-convert:hover {\n",
              "      background-color: #E2EBFA;\n",
              "      box-shadow: 0px 1px 2px rgba(60, 64, 67, 0.3), 0px 1px 3px 1px rgba(60, 64, 67, 0.15);\n",
              "      fill: #174EA6;\n",
              "    }\n",
              "\n",
              "    [theme=dark] .colab-df-convert {\n",
              "      background-color: #3B4455;\n",
              "      fill: #D2E3FC;\n",
              "    }\n",
              "\n",
              "    [theme=dark] .colab-df-convert:hover {\n",
              "      background-color: #434B5C;\n",
              "      box-shadow: 0px 1px 3px 1px rgba(0, 0, 0, 0.15);\n",
              "      filter: drop-shadow(0px 1px 2px rgba(0, 0, 0, 0.3));\n",
              "      fill: #FFFFFF;\n",
              "    }\n",
              "  </style>\n",
              "\n",
              "      <script>\n",
              "        const buttonEl =\n",
              "          document.querySelector('#df-7078fc92-7711-44fc-9308-2039c58a7934 button.colab-df-convert');\n",
              "        buttonEl.style.display =\n",
              "          google.colab.kernel.accessAllowed ? 'block' : 'none';\n",
              "\n",
              "        async function convertToInteractive(key) {\n",
              "          const element = document.querySelector('#df-7078fc92-7711-44fc-9308-2039c58a7934');\n",
              "          const dataTable =\n",
              "            await google.colab.kernel.invokeFunction('convertToInteractive',\n",
              "                                                     [key], {});\n",
              "          if (!dataTable) return;\n",
              "\n",
              "          const docLinkHtml = 'Like what you see? Visit the ' +\n",
              "            '<a target=\"_blank\" href=https://colab.research.google.com/notebooks/data_table.ipynb>data table notebook</a>'\n",
              "            + ' to learn more about interactive tables.';\n",
              "          element.innerHTML = '';\n",
              "          dataTable['output_type'] = 'display_data';\n",
              "          await google.colab.output.renderOutput(dataTable, element);\n",
              "          const docLink = document.createElement('div');\n",
              "          docLink.innerHTML = docLinkHtml;\n",
              "          element.appendChild(docLink);\n",
              "        }\n",
              "      </script>\n",
              "    </div>\n",
              "  </div>\n",
              "  "
            ]
          },
          "metadata": {},
          "execution_count": 40
        }
      ]
    },
    {
      "cell_type": "code",
      "source": [
        "pima.info()"
      ],
      "metadata": {
        "colab": {
          "base_uri": "https://localhost:8080/"
        },
        "id": "4cF4a5VF5hRG",
        "outputId": "a5519d69-eac4-4521-b7ce-8dc9b2a319a3"
      },
      "execution_count": null,
      "outputs": [
        {
          "output_type": "stream",
          "name": "stdout",
          "text": [
            "<class 'pandas.core.frame.DataFrame'>\n",
            "RangeIndex: 768 entries, 0 to 767\n",
            "Data columns (total 9 columns):\n",
            " #   Column    Non-Null Count  Dtype  \n",
            "---  ------    --------------  -----  \n",
            " 0   pregnant  768 non-null    int64  \n",
            " 1   glucose   768 non-null    int64  \n",
            " 2   bp        768 non-null    int64  \n",
            " 3   skin      768 non-null    int64  \n",
            " 4   insulin   768 non-null    int64  \n",
            " 5   bmi       768 non-null    float64\n",
            " 6   pedigree  768 non-null    float64\n",
            " 7   age       768 non-null    int64  \n",
            " 8   label     768 non-null    int64  \n",
            "dtypes: float64(2), int64(7)\n",
            "memory usage: 54.1 KB\n"
          ]
        }
      ]
    },
    {
      "cell_type": "code",
      "source": [
        "# Selecciona variables independientes y variable dependiente\n",
        "feature_cols = ['pregnant', 'insulin', 'bmi', 'age','glucose','bp','pedigree']\n",
        "X = pima[feature_cols]\n",
        "y = pima.label"
      ],
      "metadata": {
        "id": "mAsp9eYH5n1s"
      },
      "execution_count": null,
      "outputs": []
    },
    {
      "cell_type": "code",
      "source": [
        "# Divide conjunto de datos\n",
        "X_train, X_test, y_train, y_test = train_test_split(X, y, test_size = 0.20, random_state = 42)"
      ],
      "metadata": {
        "id": "riz6TO2Q5w4c"
      },
      "execution_count": null,
      "outputs": []
    },
    {
      "cell_type": "code",
      "source": [
        "# Crea objeto de regresión logística\n",
        "log_reg = LogisticRegression()"
      ],
      "metadata": {
        "id": "sPvzsq-E6-UF"
      },
      "execution_count": null,
      "outputs": []
    },
    {
      "cell_type": "code",
      "source": [
        "# Ajusta modelo de regresión logística\n",
        "log_reg.fit(X_train, y_train)"
      ],
      "metadata": {
        "colab": {
          "base_uri": "https://localhost:8080/"
        },
        "outputId": "912f53a3-6c63-431e-a0a4-e2f839c72270",
        "id": "PVLZkQhv6-UG"
      },
      "execution_count": null,
      "outputs": [
        {
          "output_type": "stream",
          "name": "stderr",
          "text": [
            "/usr/local/lib/python3.7/dist-packages/sklearn/linear_model/_logistic.py:818: ConvergenceWarning: lbfgs failed to converge (status=1):\n",
            "STOP: TOTAL NO. of ITERATIONS REACHED LIMIT.\n",
            "\n",
            "Increase the number of iterations (max_iter) or scale the data as shown in:\n",
            "    https://scikit-learn.org/stable/modules/preprocessing.html\n",
            "Please also refer to the documentation for alternative solver options:\n",
            "    https://scikit-learn.org/stable/modules/linear_model.html#logistic-regression\n",
            "  extra_warning_msg=_LOGISTIC_SOLVER_CONVERGENCE_MSG,\n"
          ]
        },
        {
          "output_type": "execute_result",
          "data": {
            "text/plain": [
              "LogisticRegression()"
            ]
          },
          "metadata": {},
          "execution_count": 45
        }
      ]
    },
    {
      "cell_type": "code",
      "source": [
        "# Predice valores de variable dependiente\n",
        "y_predict = log_reg.predict(X_test)"
      ],
      "metadata": {
        "id": "dFaNaIdj735O"
      },
      "execution_count": null,
      "outputs": []
    },
    {
      "cell_type": "code",
      "source": [
        "# Calcula matriz de confusión\n",
        "cm = confusion_matrix(y_test, y_predict)\n",
        "cm"
      ],
      "metadata": {
        "colab": {
          "base_uri": "https://localhost:8080/"
        },
        "id": "cbhCVvWX7vAY",
        "outputId": "311d4965-2bf2-4dd4-d8d0-7952ce1c0e48"
      },
      "execution_count": null,
      "outputs": [
        {
          "output_type": "stream",
          "name": "stdout",
          "text": [
            "[[79 20]\n",
            " [19 36]]\n"
          ]
        }
      ]
    },
    {
      "cell_type": "markdown",
      "source": [
        "**La matriz de confusión es un resumen de los resultados de predicción en un problema de clasificación. El número de predicciones correctas e incorrectas se resume con los valores de conteo y se descomponen por cada categoría.**"
      ],
      "metadata": {
        "id": "cqV1Y-rf9ykv"
      }
    },
    {
      "cell_type": "markdown",
      "source": [
        "La matriz de confusión muestra las formas en que el modelo de clasificación se equivoca cuando hace predicciones brindadndo información no solo sobre los errores que realiza el clasificador, sino que, lo que es más importante, **los tipos de errores que está cometiendo.**"
      ],
      "metadata": {
        "id": "R5KaPBvP-E91"
      }
    },
    {
      "cell_type": "markdown",
      "source": [
        "Los tipos de errores en la predicción de variables con dos categorías son los siguientes: \n",
        "\n",
        "* **Verdadero positivo (VP)**\n",
        "\n",
        "Interpretación: Predijo positivo y es cierto.\n",
        "\n",
        "Ejemplo: Predijo que una gato está en la caja cuando en realidad lo está.\n",
        "\n",
        "* **Verdadero negativo (VN)**\n",
        "\n",
        "Interpretación: Predijo negativo y es cierto.\n",
        "\n",
        "Ejemplo: Predijo que una gato no está en la caja cuando en realidad no lo está.\n",
        "\n",
        "* **Falso positivo (FP) (Error tipo 1)**\n",
        "\n",
        "Interpretación: Predijo positivo y es falso.\n",
        "\n",
        "Ejemplo: Predijo que una gato está en la caja cuando en realidad no lo está.\n",
        "\n",
        "* **Falso negativo (FN) (Error tipo 2)**\n",
        "\n",
        "Interpretación: Predijo negativo y es falso.\n",
        "\n",
        "Ejemplo: Predijo que una gato no está en la caja cuando en realidad lo está.\n"
      ],
      "metadata": {
        "id": "_-_LAEUl-MAP"
      }
    },
    {
      "cell_type": "code",
      "source": [
        "# Grafica matriz de confusión \n",
        "fig, ax = plt.subplots()\n",
        "tick_marks = np.arange(len(cats))\n",
        "plt.xticks(tick_marks, cats)\n",
        "plt.yticks(tick_marks, cats)\n",
        "sns.heatmap(pd.DataFrame(cm), annot = True)\n",
        "plt.ylabel(\"Categoría real\")\n",
        "plt.xlabel(\"Categoría predicha\")"
      ],
      "metadata": {
        "colab": {
          "base_uri": "https://localhost:8080/",
          "height": 297
        },
        "id": "w-W6nYr38H-c",
        "outputId": "203d4c87-0585-4c3d-c9c6-888701ad960e"
      },
      "execution_count": null,
      "outputs": [
        {
          "output_type": "execute_result",
          "data": {
            "text/plain": [
              "Text(0.5, 15.0, 'Categoría predicha')"
            ]
          },
          "metadata": {},
          "execution_count": 60
        },
        {
          "output_type": "display_data",
          "data": {
            "text/plain": [
              "<Figure size 432x288 with 2 Axes>"
            ],
            "image/png": "[encoded data removed]"
          },
          "metadata": {
            "needs_background": "light"
          }
        }
      ]
    },
    {
      "cell_type": "markdown",
      "source": [
        "<image src=\"https://c.tenor.com/VtE0bemicwcAAAAC/cats-cats-in-boxes.gif\">"
      ],
      "metadata": {
        "id": "LbYGLGw6BP4z"
      }
    },
    {
      "cell_type": "markdown",
      "source": [
        "Para los modelos de clasificación, existen 4 principales métricas de calidad del modelo."
      ],
      "metadata": {
        "id": "59zEsNOTBl_G"
      }
    },
    {
      "cell_type": "markdown",
      "source": [
        "* **Accuracy**\n",
        "\n",
        "**El accuracy es la relación entre las observaciones correctamente clasificadas y todas las observaciones clasificadas.**\n",
        "\n",
        "En el caso ejemplo, la presición respondería a la pregunta: ¿cuántos pacientes clasificamos correctamente?\n",
        "\n",
        "$Escribir fórmula$\n",
        "\n",
        "Numerador: Pacientes clasificados correctamente.\n",
        "\n",
        "Denominador: Todos los pacientes clasificados."
      ],
      "metadata": {
        "id": "FyrcR2VFB9so"
      }
    },
    {
      "cell_type": "markdown",
      "source": [
        "* **Precisión**\n",
        "\n",
        "**La precisión es la relación entre las observaciones correctamente clasificadas positivas y todas las observaciones clasificadas positivas.**\n",
        "\n",
        "En el caso ejemplo, la presición respondería a la pregunta: ¿cuántos pacientes de los que clasificamos como diabéticos son realmente diabéticos?\n",
        "\n",
        "$Escribir fórmula$\n",
        "\n",
        "Numerador: Pacientes realmente diabéticos clasificados como diabéticos.\n",
        "\n",
        "Denominador: Pacientes clasificados como diabéticos."
      ],
      "metadata": {
        "id": "cOPgF7cLD_Y1"
      }
    },
    {
      "cell_type": "markdown",
      "source": [
        "* **Recall**\n",
        "\n",
        "**El recall es la relación entre las observaciones correctamente clasificadas positivas por nuestro modelo y todas las observaciones realmente positivas.**\n",
        "\n",
        "En el caso ejemplo, la presición respondería a la pregunta: ¿a cuántos de los pacientes realmente diabéticos los clasificamos como diabéticos?\n",
        "\n",
        "$Escribir fórmula$\n",
        "\n",
        "Numerador: Pacientes realmente diabéticos clasificados como diabéticos.\n",
        "\n",
        "Denominador: Pacientes realmente diabéticos."
      ],
      "metadata": {
        "id": "fmm0UDgMFZLX"
      }
    },
    {
      "cell_type": "markdown",
      "source": [
        "* **F1-score**\n",
        "\n",
        "**El F1-score es la media armónica de la precisión y el recall.**\n",
        "\n",
        "$\\frac{2*Precisión*Recall}{Precisión+Recall}$"
      ],
      "metadata": {
        "id": "j01ashYmG2vr"
      }
    },
    {
      "cell_type": "code",
      "source": [
        "print(\"Accuracy:\", accuracy_score(y_test, y_predict))\n",
        "print(\"Precisión:\",precision_score(y_test, y_predict))\n",
        "print(\"Recall:\", recall_score(y_test, y_predict))\n",
        "print(\"F1-score:\", f1_score(y_test, y_predict))"
      ],
      "metadata": {
        "colab": {
          "base_uri": "https://localhost:8080/"
        },
        "id": "wmx0udSyIId5",
        "outputId": "f6334ddd-7fe4-444e-b724-ba03535c8130"
      },
      "execution_count": null,
      "outputs": [
        {
          "output_type": "stream",
          "name": "stdout",
          "text": [
            "Accuracy: 0.7467532467532467\n",
            "Precisión: 0.6428571428571429\n",
            "Recall: 0.6545454545454545\n",
            "F1-score: 0.6486486486486486\n"
          ]
        }
      ]
    }
  ]
}