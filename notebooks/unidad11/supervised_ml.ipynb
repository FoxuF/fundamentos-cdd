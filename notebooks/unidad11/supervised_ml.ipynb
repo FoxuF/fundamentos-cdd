{
  "nbformat": 4,
  "nbformat_minor": 0,
  "metadata": {
    "colab": {
      "name": "supervised_ml.ipynb",
      "provenance": []
    },
    "kernelspec": {
      "name": "python3",
      "display_name": "Python 3"
    },
    "language_info": {
      "name": "python"
    }
  },
  "cells": [
    {
      "cell_type": "code",
      "execution_count": 41,
      "metadata": {
        "id": "kfoIjm3zUYWm"
      },
      "outputs": [],
      "source": [
        "import numpy as np\n",
        "import matplotlib.pyplot as plt\n",
        "from sklearn.linear_model import LinearRegression\n",
        "from sklearn.metrics import r2_score, mean_squared_error\n",
        "from sklearn.preprocessing import PolynomialFeatures"
      ]
    },
    {
      "cell_type": "markdown",
      "source": [
        "## Regresión lineal"
      ],
      "metadata": {
        "id": "8IpZFgbYUpyE"
      }
    },
    {
      "cell_type": "markdown",
      "source": [
        "Un modelo lineal hace una predicción simplemente calculando una **suma ponderada de las variables de entrada, más una constante llamada término de sesgo** (también llamada intersección), y se puede expresar con la siguiente ecuación: "
      ],
      "metadata": {
        "id": "2zbT1c1CU1q9"
      }
    },
    {
      "cell_type": "markdown",
      "source": [
        "$\\hat{y}=\\theta_{0}+\\theta_{1}x_{1}+\\theta_{2}x_{2}+...+\\theta_{n}x_{n}$"
      ],
      "metadata": {
        "id": "7D8w7kIzVAoo"
      }
    },
    {
      "cell_type": "markdown",
      "source": [
        "donde: \n",
        "* $\\hat{y}$ es el valor predecido\n",
        "* $n$ es el número de variables\n",
        "* $x_{i}$ es el valor en la variable ${i}$ésima\n",
        "* $\\theta_{j}$ es el $j$ésimo coeficiente del modelo (incluyendo el término de sesgo $\\theta_{0}$ y los coeficientes $\\theta_{1},\\theta_{2}...\\theta{n}$)  \n"
      ],
      "metadata": {
        "id": "6fRNIhdnVtS2"
      }
    },
    {
      "cell_type": "markdown",
      "source": [
        "Esto se puede escribir de manera mucho más concisa usando una forma vectorizada, que se puede expresar con la siguiente ecuación:"
      ],
      "metadata": {
        "id": "uH7LaVrpaU1w"
      }
    },
    {
      "cell_type": "markdown",
      "source": [
        "$\\hat{y}=h_{\\theta}(x)=\\theta*x$"
      ],
      "metadata": {
        "id": "JTD0B14cacd5"
      }
    },
    {
      "cell_type": "markdown",
      "source": [
        "donde:\n",
        "* $\\theta$ es el vector de coeficientes del modelo (incluyendo el término de sesgo $\\theta_{0}$ y los coeficientes $\\theta_{1},\\theta_{2}...\\theta{n}$)\n",
        "* $x$ es el vector de valores (incluyendo $x_{0}$ a $x_{n}$, en donde $x_{0}$ es siempre igual a 1) \n",
        "* $\\theta*x$ es el producto punto de los vectores $\\theta$ y $x$ (igual a $\\theta_{0}x_{0}+\\theta_{1}x_{1}+\\theta_{2}x_{2}+...+\\theta_{n}x_{n}$)\n",
        "* $h_{\\theta}$ es la función hipotética del modelo que utiliza los coeficientes $\\theta$"
      ],
      "metadata": {
        "id": "-Jt-dFWbayuU"
      }
    },
    {
      "cell_type": "markdown",
      "source": [
        "En Machine Learning, los vectores a menudo se representan como vectores de columna, que son matrices 2D con una sola columna. Si $\\theta$ y $x$ son vectores columna, entonces la predicción es: $\\hat{y}=\\theta^{T}x$, donde $\\theta^{T}$ es el la transposición de $\\theta$ (un vector fila en lugar de un vector columna) y $\\theta^{T}x$ es la multiplicación matricial de $\\theta^{T}$ y $x$. Por supuesto, es la misma predicción, excepto que ahora se representa como una matriz de una sola celda en lugar de un valor escalar."
      ],
      "metadata": {
        "id": "-rMGC_RGcu2F"
      }
    },
    {
      "cell_type": "markdown",
      "source": [
        "**Entrenar un modelo significa determinar sus coeficientes para que el modelo se ajuste mejor al conjunto de datos de entrenamiento.** Para este propósito, primero necesitamos una medida de qué tan bien (o mal) se ajusta el modelo a los datos de entrenamiento, es decir, una función de costo. **La medida de rendimiento más común de un modelo de regresión es el error cuadrático medio (ECM).** Por lo tanto, para entrenar un modelo de regresión lineal, debemos encontrar los valores de θ que minimizan el ECM, que se puede expresar con la siguiente ecuación:"
      ],
      "metadata": {
        "id": "S-x0sFOIin44"
      }
    },
    {
      "cell_type": "markdown",
      "source": [
        "$MSE(X,h_{\\theta})=\\frac{1}{m}\\sum_{i=1}^{m}(\\theta^Tx^{(i)}-y^{(i)})^2$"
      ],
      "metadata": {
        "id": "jU1W7u342mZb"
      }
    },
    {
      "cell_type": "markdown",
      "source": [
        "Para encontrar el valor de $\\theta$ que minimiza la función de costo, existe una solución de forma cerrada, en otras palabras, una ecuación matemática que da el resultado directamente. Esto se llama la **ecuación normal**, que se puede expresar con la siguiente ecuación:"
      ],
      "metadata": {
        "id": "i6tn4JlU8ujD"
      }
    },
    {
      "cell_type": "markdown",
      "source": [
        "$\\hat\\theta=(X^TX)^{-1}X^Ty$"
      ],
      "metadata": {
        "id": "pQOA9YUbBytd"
      }
    },
    {
      "cell_type": "markdown",
      "source": [
        "donde:\n",
        "* $\\hat\\theta$ es el vector de coeficientes del modelo que minimizan la función de costo)\n",
        "* $y$ es el vector de los valores de la variable dependiente (incluyendo $y^{(1)}$ a $y^{(m)}$)\n"
      ],
      "metadata": {
        "id": "5Tkz-xprCJan"
      }
    },
    {
      "cell_type": "code",
      "source": [
        "# Define variables independientes\n",
        "X = 2 * np.random.rand(100, 1)\n",
        "\n",
        "# Define variables dependientes (y = 4 + 3x_1 + ruído gauseano)\n",
        "y = 4 + 3 * X + np.random.randn(100, 1)"
      ],
      "metadata": {
        "id": "zkBK6CVkBBh6"
      },
      "execution_count": 18,
      "outputs": []
    },
    {
      "cell_type": "code",
      "source": [
        "# Grafica X y y\n",
        "plt.plot(X, y, \"b.\")"
      ],
      "metadata": {
        "colab": {
          "base_uri": "https://localhost:8080/",
          "height": 282
        },
        "id": "ySRliJUJKP95",
        "outputId": "89ad9678-822b-478f-903e-320855402112"
      },
      "execution_count": 19,
      "outputs": [
        {
          "output_type": "execute_result",
          "data": {
            "text/plain": [
              "[<matplotlib.lines.Line2D at 0x7fb1bd380550>]"
            ]
          },
          "metadata": {},
          "execution_count": 19
        },
        {
          "output_type": "display_data",
          "data": {
            "text/plain": [
              "<Figure size 432x288 with 1 Axes>"
            ],
            "image/png": "[encoded data removed]"
          },
          "metadata": {
            "needs_background": "light"
          }
        }
      ]
    },
    {
      "cell_type": "code",
      "source": [
        "# Agregamos x_0 = 1 a cada observación\n",
        "X_b = np.c_[np.ones((100, 1)), X]\n",
        "\n",
        "# Ecuación normal\n",
        "theta_best = np.linalg.inv(X_b.T.dot(X_b)).dot(X_b.T).dot(y)\n",
        "theta_best"
      ],
      "metadata": {
        "colab": {
          "base_uri": "https://localhost:8080/"
        },
        "id": "YPtNWAnuKVgF",
        "outputId": "6a8a0577-fede-4de1-f6db-ea23da358b5a"
      },
      "execution_count": 20,
      "outputs": [
        {
          "output_type": "execute_result",
          "data": {
            "text/plain": [
              "array([[3.96135725],\n",
              "       [2.97474623]])"
            ]
          },
          "metadata": {},
          "execution_count": 20
        }
      ]
    },
    {
      "cell_type": "markdown",
      "source": [
        "Habríamos esperado que $\\theta_0=4$ y $\\theta_1=3$. No obstante, los coeficientes ajustados son los suficientemente cerca, pero el ruído gauseano hace imposible recuperar los coeficientes exactos de la función original."
      ],
      "metadata": {
        "id": "nnOfZzoLMEVC"
      }
    },
    {
      "cell_type": "markdown",
      "source": [
        "Ahora, es posible hacer predicciones utilizando $\\hat\\theta$."
      ],
      "metadata": {
        "id": "szP2Wa3DMf0j"
      }
    },
    {
      "cell_type": "code",
      "source": [
        "# Predice valores de variable dependiente\n",
        "y_predict = X_b.dot(theta_best)"
      ],
      "metadata": {
        "id": "J9S82qNM7Q1x"
      },
      "execution_count": 29,
      "outputs": []
    },
    {
      "cell_type": "code",
      "source": [
        "# Devuelve MSE\n",
        "mean_squared_error(y, y_predict)"
      ],
      "metadata": {
        "colab": {
          "base_uri": "https://localhost:8080/"
        },
        "id": "59shx0_u8RyT",
        "outputId": "3461b80a-5eb1-45bc-f610-bcf0812a3aa4"
      },
      "execution_count": 32,
      "outputs": [
        {
          "output_type": "execute_result",
          "data": {
            "text/plain": [
              "1.0789441394842298"
            ]
          },
          "metadata": {},
          "execution_count": 32
        }
      ]
    },
    {
      "cell_type": "markdown",
      "source": [
        "En estadística, el coeficiente de determinación, denominado $R^2$, determina la calidad de un modelo para replicar los resultados, y la proporción de variación de los resultados que puede explicarse por el modelo, y se puede expresar con la siguiente ecuacuón:"
      ],
      "metadata": {
        "id": "_edZP-yJ9g3h"
      }
    },
    {
      "cell_type": "markdown",
      "source": [
        "\n",
        "$R^2=\\frac{\\sigma^2_{xy}}{\\sigma^2_{x}\\sigma^2_{y}}$"
      ],
      "metadata": {
        "id": "ZIdkdJLf-ia_"
      }
    },
    {
      "cell_type": "markdown",
      "source": [
        "en donde: \n",
        "* $\\sigma_{xy}$ es la covarianza de $(X,Y)$\n",
        "* $\\sigma^2_{x}$ es la varianza de la variable $X$\n",
        "* $\\sigma^2_{y}$ es la varianza de la variable $Y$"
      ],
      "metadata": {
        "id": "-liVTO7L-jmb"
      }
    },
    {
      "cell_type": "code",
      "source": [
        "# Devuelve R2 \n",
        "r2_score(y, y_predict)"
      ],
      "metadata": {
        "colab": {
          "base_uri": "https://localhost:8080/"
        },
        "id": "FxuG-uaR7Cip",
        "outputId": "da7e8aad-fbad-473a-9fbe-9e74dc7a21da"
      },
      "execution_count": 31,
      "outputs": [
        {
          "output_type": "execute_result",
          "data": {
            "text/plain": [
              "0.734696303000173"
            ]
          },
          "metadata": {},
          "execution_count": 31
        }
      ]
    },
    {
      "cell_type": "markdown",
      "source": [
        "También, es posible hacer predicciones de nuevos datos utilizando $\\hat\\theta$."
      ],
      "metadata": {
        "id": "4UcCxMve_HC7"
      }
    },
    {
      "cell_type": "code",
      "source": [
        "# Define nuevas observaciones para variables independientes\n",
        "X_new = np.array([[0], [2]])\n",
        "X_new_b = np.c_[np.ones((2, 1)), X_new]\n",
        "\n",
        "# Predice valores de variable dependiente\n",
        "y_new_predict = X_new_b.dot(theta_best)\n",
        "y_new_predict"
      ],
      "metadata": {
        "colab": {
          "base_uri": "https://localhost:8080/"
        },
        "id": "XJM-D096Lb2N",
        "outputId": "006ee93d-da26-4eb2-868c-3038c7349974"
      },
      "execution_count": 28,
      "outputs": [
        {
          "output_type": "execute_result",
          "data": {
            "text/plain": [
              "array([[3.96135725],\n",
              "       [9.91084972]])"
            ]
          },
          "metadata": {},
          "execution_count": 28
        }
      ]
    },
    {
      "cell_type": "code",
      "source": [
        "plt.plot(X_new, y_predict, \"r-\")\n",
        "plt.plot(X, y, \"b.\")"
      ],
      "metadata": {
        "colab": {
          "base_uri": "https://localhost:8080/",
          "height": 282
        },
        "id": "lWcOgBhC3CQx",
        "outputId": "ce8f4dcd-41c6-49d1-94d2-df3318388d1d"
      },
      "execution_count": 22,
      "outputs": [
        {
          "output_type": "execute_result",
          "data": {
            "text/plain": [
              "[<matplotlib.lines.Line2D at 0x7fb1bd2f8490>]"
            ]
          },
          "metadata": {},
          "execution_count": 22
        },
        {
          "output_type": "display_data",
          "data": {
            "text/plain": [
              "<Figure size 432x288 with 1 Axes>"
            ],
            "image/png": "[encoded data removed]"
          },
          "metadata": {
            "needs_background": "light"
          }
        }
      ]
    },
    {
      "cell_type": "markdown",
      "source": [
        "Scikit-Learn proporciona una clase útil para implementar y entrenar un modelo de regresión lineal: `LinearRegression`."
      ],
      "metadata": {
        "id": "QWuGybGA3tH7"
      }
    },
    {
      "cell_type": "code",
      "source": [
        "# Crea objeto de regresión lineal\n",
        "lin_reg = LinearRegression()"
      ],
      "metadata": {
        "id": "PPH9Mfnx4Agz"
      },
      "execution_count": 23,
      "outputs": []
    },
    {
      "cell_type": "code",
      "source": [
        "# Ajusta modelo de regresión lineal\n",
        "lin_reg.fit(X, y)\n",
        "\n",
        "# Devuelve intercepto y coeficientes de modelo de regresión linea\n",
        "lin_reg.intercept_, lin_reg.coef_"
      ],
      "metadata": {
        "colab": {
          "base_uri": "https://localhost:8080/"
        },
        "id": "TYCTgr4m4bKv",
        "outputId": "6427d6a0-de5c-43ed-837e-0f7852f8e192"
      },
      "execution_count": 24,
      "outputs": [
        {
          "output_type": "execute_result",
          "data": {
            "text/plain": [
              "(array([3.96135725]), array([[2.97474623]]))"
            ]
          },
          "metadata": {},
          "execution_count": 24
        }
      ]
    },
    {
      "cell_type": "markdown",
      "source": [
        "## Regresión polinomial"
      ],
      "metadata": {
        "id": "2ddLYup55hwT"
      }
    },
    {
      "cell_type": "markdown",
      "source": [
        "¿Cómo ajustamos un modelo a datos que son en realidad más complejos que una simple línea recta Sorprendentemente, podemos usar un modelo lineal para ajustar datos no lineales. Una forma sencilla de hacer esto es agregar potencias de cada variable como variables nuevas y luego entrenar un modelo lineal en este conjunto ampliado de variables. Esta técnica se llama regresión polinomial."
      ],
      "metadata": {
        "id": "fcYjE4I05nLZ"
      }
    },
    {
      "cell_type": "code",
      "source": [
        "# Define variables independientes\n",
        "m = 100\n",
        "X = 6 * np.random.rand(m, 1) - 3\n",
        "\n",
        "# Define variables dependientes (y = 0.5 * x_1^2 + x_i + 2 + ruído gauseano)\n",
        "y = 0.5 * X**2 + X + 2 + np.random.randn(m, 1)"
      ],
      "metadata": {
        "id": "M1jFIkV8AAc0"
      },
      "execution_count": 39,
      "outputs": []
    },
    {
      "cell_type": "code",
      "source": [
        "# Grafica X y y\n",
        "plt.plot(X, y, \"b.\")"
      ],
      "metadata": {
        "colab": {
          "base_uri": "https://localhost:8080/",
          "height": 282
        },
        "outputId": "82526c7c-10c7-4363-c11b-49cc0b6b8c6d",
        "id": "qDC0KEDzAGd_"
      },
      "execution_count": 40,
      "outputs": [
        {
          "output_type": "execute_result",
          "data": {
            "text/plain": [
              "[<matplotlib.lines.Line2D at 0x7fb1bd207250>]"
            ]
          },
          "metadata": {},
          "execution_count": 40
        },
        {
          "output_type": "display_data",
          "data": {
            "text/plain": [
              "<Figure size 432x288 with 1 Axes>"
            ],
            "image/png": "[encoded data removed]"
          },
          "metadata": {
            "needs_background": "light"
          }
        }
      ]
    },
    {
      "cell_type": "markdown",
      "source": [
        "Para transformar nuestros datos de entrenamiento, agregando el cuadrado (polinomio de segundo grado) de cada variable, podemos utilizar la clase `PolynomialFeatures`. "
      ],
      "metadata": {
        "id": "ekyG8F1MAjq8"
      }
    },
    {
      "cell_type": "code",
      "source": [
        "# Crea objeto para transformar\n",
        "poly_features = PolynomialFeatures(degree=2, include_bias=False)\n",
        "\n",
        "# Transforma conjunto de datos con el objeto para transformar\n",
        "X_poly = poly_features.fit_transform(X)\n",
        "\n",
        "# Imprime comparativa entre dato original y dato tranformado\n",
        "print(X[0])\n",
        "print(X_poly[0])"
      ],
      "metadata": {
        "colab": {
          "base_uri": "https://localhost:8080/"
        },
        "id": "TT5f7uBLAh88",
        "outputId": "bcef23ee-4534-4bf7-cc3c-672db2b488db"
      },
      "execution_count": 44,
      "outputs": [
        {
          "output_type": "stream",
          "name": "stdout",
          "text": [
            "[0.69825441]\n",
            "[0.69825441 0.48755922]\n"
          ]
        }
      ]
    },
    {
      "cell_type": "markdown",
      "source": [
        "`X_poly` ahora contiene la variable original de $X$ y el cuadrado de esta misma. Ahora, es posible ajustar un modelo de regresión lineal a estos datos de entrenamiento extendidos. "
      ],
      "metadata": {
        "id": "BWOneVACB36Z"
      }
    },
    {
      "cell_type": "code",
      "source": [
        "# Crea objeto de regresión lineal\n",
        "lin_reg = LinearRegression()"
      ],
      "metadata": {
        "id": "IYtlWrkXCI4A"
      },
      "execution_count": 46,
      "outputs": []
    },
    {
      "cell_type": "code",
      "source": [
        "# Ajusta modelo de regresión lineal\n",
        "lin_reg.fit(X_poly, y)\n",
        "\n",
        "# Devuelve intercepto y coeficientes de modelo de regresión linea\n",
        "lin_reg.intercept_, lin_reg.coef_"
      ],
      "metadata": {
        "colab": {
          "base_uri": "https://localhost:8080/"
        },
        "outputId": "e700944f-79fd-4665-fa20-9d27a1778928",
        "id": "Ax_X_y52CI4A"
      },
      "execution_count": 47,
      "outputs": [
        {
          "output_type": "execute_result",
          "data": {
            "text/plain": [
              "(array([1.76514217]), array([[0.97240844, 0.57096814]]))"
            ]
          },
          "metadata": {},
          "execution_count": 47
        }
      ]
    },
    {
      "cell_type": "markdown",
      "source": [
        "Debemos tener en cuenta que cuando hay múltiples variables, la regresión polinomial es capaz de encontrar relaciones entre todas ellas (que es algo que un modelo de regresión lineal simple no puede hacer). Esto es posible gracias al hecho de que `PolynomialFeatures` también agrega todas las combinaciones de variables hasta el grado dado. Por ejemplo, si hubiera dos variables $a$ y $b$, `PolynomialFeatures` con tre grados no solo agregaría $a^2$, $b^2$, $a^3$ y $b^3$, pero también las combinaciones $ab$, $a^2b$ y $ab^2$. "
      ],
      "metadata": {
        "id": "xzASietACvio"
      }
    }
  ]
}