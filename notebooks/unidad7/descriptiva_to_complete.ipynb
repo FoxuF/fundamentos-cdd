{
  "nbformat": 4,
  "nbformat_minor": 0,
  "metadata": {
    "colab": {
      "name": "descriptiva_to_complete.ipynb",
      "provenance": [],
      "collapsed_sections": [],
      "toc_visible": true
    },
    "kernelspec": {
      "name": "python3",
      "display_name": "Python 3"
    },
    "language_info": {
      "name": "python"
    }
  },
  "cells": [
    {
      "cell_type": "markdown",
      "source": [
        "# Estadística descriptiva"
      ],
      "metadata": {
        "id": "VZ83dxIn466R"
      }
    },
    {
      "cell_type": "markdown",
      "source": [
        "Archivo a descargar:\n",
        "*   [adult](https://archive.ics.uci.edu/ml/datasets/Adult)\n",
        "\n"
      ],
      "metadata": {
        "id": "XOfkQtV0jYPe"
      }
    },
    {
      "cell_type": "code",
      "execution_count": null,
      "metadata": {
        "id": "htuyoLNwdAdh"
      },
      "outputs": [],
      "source": [
        "import pandas as pd\n",
        "import numpy as np\n",
        "from scipy.stats import norm, kde\n",
        "import matplotlib\n",
        "import matplotlib.pyplot as plt\n",
        "matplotlib.style.use(\"seaborn\")"
      ]
    },
    {
      "cell_type": "markdown",
      "source": [
        "## Introducción"
      ],
      "metadata": {
        "id": "K7_5Dp9H0puw"
      }
    },
    {
      "cell_type": "markdown",
      "source": [
        "**La estadística descriptiva ayuda a describir y resumir cuantitativamente grandes cantidades de datos.** En la estadística descriptiva, no inferimos, es decir, no sacamos conclusiones más allá de los datos que estamos analizando. "
      ],
      "metadata": {
        "id": "r2plSC2x1TCb"
      }
    },
    {
      "cell_type": "markdown",
      "source": [
        "La estadística, y en particular la estadística descriptiva, se basa en dos conceptos principales:\n",
        "* **Población**: Una colección de objetos (\"unidades\") sobre los cuales se busca información.\n",
        "* **Muestra**: Una parte de la población que se observa."
      ],
      "metadata": {
        "id": "ZYS3DCfb4SXe"
      }
    },
    {
      "cell_type": "markdown",
      "source": [
        "**La estadística descriptiva aplica conceptos y medidas para describir y resumir las características básicas de las muestras en un estudio** y proporcionar información sobre las muestras como una aproximación de la población. Estos conceptos y medidas, junto con la visualización de datos, conforman la base del análisis cuantitativo de datos.\n"
      ],
      "metadata": {
        "id": "umdOr2SP42OP"
      }
    },
    {
      "cell_type": "markdown",
      "source": [
        "Existen dos principales etapas en el análisis cuantitativo de datos:\n",
        "1. **Preprocesamiento de datos**: Dado un ejemplo específico, preparamos los datos para generar descripciones estadísticamente válidas.\n",
        "2. **Análisis exploratorio**: Generamos diferentes estadísticas para describir y resumir los datos de manera concisa y evaluar diferentes formas de visualizarlos."
      ],
      "metadata": {
        "id": "-SQw2xc75HX9"
      }
    },
    {
      "cell_type": "markdown",
      "source": [
        "## Prepocesamiento de datos"
      ],
      "metadata": {
        "id": "mJgw2HYx9tVw"
      }
    },
    {
      "cell_type": "markdown",
      "source": [
        "Una de las primeras tareas al analizar datos es recolectar y preparar los datos en un formato apropiado para el análisis de las muestras. Los pasos más comunes para la preparación de datos involucran los siguientes:\n",
        " 1. **Obtención de los datos**: Los datos se pueden leer directamente de un archivo, mediante web scrapping, levantando encuestas, etc.\n",
        " 2. **Análisis sintático (parsing) de los datos**: El procedimiento de análisis sintáctico (parsing) correcto depende del formato en el que se encuentren los datos: texto plano, CSV, XML, HTML, etc.\n",
        " 3. **Limpieza de los datos**: En muchas ocasiones, los datos no están completos, por lo que es necesario llevar a cabo las sustituciones o imputaciones correspondientes.\n",
        " 4. **Construcción de estructuras de datos**: Es necesario almacenar los datos en una estructura de datos que se preste al análisis que nos interesa. Si los datos no caben en la memoria del equipo de cómputo en el que estamos trabajando, por lo general es necesario crear una base de datos. "
      ],
      "metadata": {
        "id": "AGfFrPMx9nvG"
      }
    },
    {
      "cell_type": "markdown",
      "source": [
        "Consideremos un conjunto de datos de dominio público [adult](https://archive.ics.uci.edu/ml/datasets/Adult) alojado en el UCI Machine Learning Repository que contiene aproximadamente 32,000 observaciones extraídas de la base de datos del censo poblacional de Estados Unidos de 1994 para explorar las diferencias en ingreso entre hombres y mujeres."
      ],
      "metadata": {
        "id": "ty6QFu1Q3UgJ"
      }
    },
    {
      "cell_type": "code",
      "source": [
        "# Lee archivo\n",
        "url = \"https://raw.githubusercontent.com/sarahiaguilar/fundamentos-cdd/main/datos/adult.data\"\n",
        "df = pd.read_table(url, header=None, sep=\",\")"
      ],
      "metadata": {
        "id": "HTTSZAcKza1k"
      },
      "execution_count": null,
      "outputs": []
    },
    {
      "cell_type": "code",
      "source": [
        "# Cambia columnas\n",
        "df.columns = [\"age\", \"workclass\", \"fnlwgt\",\n",
        "              \"education\", \"education_num\", \"marital_status\",\n",
        "              \"occupation\", \"relationship\", \"race\",\n",
        "              \"sex\", \"capital_gain\", \"capital_loss\",\n",
        "              \"hours_per_week\", \"native_country\", \"income\"]"
      ],
      "metadata": {
        "id": "o7AziShE0_-x"
      },
      "execution_count": null,
      "outputs": []
    },
    {
      "cell_type": "code",
      "source": [
        "df.info()"
      ],
      "metadata": {
        "colab": {
          "base_uri": "https://localhost:8080/"
        },
        "id": "8ppb0EXF2Wml",
        "outputId": "54100b2f-ccc0-4f20-97d6-c782a21e9426"
      },
      "execution_count": null,
      "outputs": [
        {
          "output_type": "stream",
          "name": "stdout",
          "text": [
            "<class 'pandas.core.frame.DataFrame'>\n",
            "RangeIndex: 32561 entries, 0 to 32560\n",
            "Data columns (total 15 columns):\n",
            " #   Column          Non-Null Count  Dtype \n",
            "---  ------          --------------  ----- \n",
            " 0   age             32561 non-null  int64 \n",
            " 1   workclass       32561 non-null  object\n",
            " 2   fnlwgt          32561 non-null  int64 \n",
            " 3   education       32561 non-null  object\n",
            " 4   education_num   32561 non-null  int64 \n",
            " 5   marital_status  32561 non-null  object\n",
            " 6   occupation      32561 non-null  object\n",
            " 7   relationship    32561 non-null  object\n",
            " 8   race            32561 non-null  object\n",
            " 9   sex             32561 non-null  object\n",
            " 10  capital_gain    32561 non-null  int64 \n",
            " 11  capital_loss    32561 non-null  int64 \n",
            " 12  hours_per_week  32561 non-null  int64 \n",
            " 13  native_country  32561 non-null  object\n",
            " 14  income          32561 non-null  object\n",
            "dtypes: int64(6), object(9)\n",
            "memory usage: 3.7+ MB\n"
          ]
        }
      ]
    },
    {
      "cell_type": "code",
      "source": [
        "# Imprime valores únicos en columna income\n"
      ],
      "metadata": {
        "colab": {
          "base_uri": "https://localhost:8080/"
        },
        "id": "yD2iLPz2ErNh",
        "outputId": "c9471d0a-dc67-4a3d-e6ff-aac6041ee204"
      },
      "execution_count": null,
      "outputs": [
        {
          "output_type": "execute_result",
          "data": {
            "text/plain": [
              "array([' <=50K', ' >50K'], dtype=object)"
            ]
          },
          "metadata": {},
          "execution_count": 5
        }
      ]
    },
    {
      "cell_type": "code",
      "source": [
        "# Función que remueve espacios en columnas de cadenas de caracteres\n",
        "def leading_space_remover(dataframe):\n",
        "    for i in dataframe.columns:         \n",
        "        if dataframe[i].dtype == \"object\":\n",
        "            dataframe[i] = dataframe[i].map(str.strip)"
      ],
      "metadata": {
        "id": "g5ZWIZYaEUxi"
      },
      "execution_count": null,
      "outputs": []
    },
    {
      "cell_type": "code",
      "source": [
        "# Remueve espacios en columnas de cadenas de caracteres\n",
        "leading_space_remover(df)"
      ],
      "metadata": {
        "id": "vfjmgNKzEg-8"
      },
      "execution_count": null,
      "outputs": []
    },
    {
      "cell_type": "code",
      "source": [
        "df.head()"
      ],
      "metadata": {
        "colab": {
          "base_uri": "https://localhost:8080/",
          "height": 206
        },
        "id": "7_iEdcOTFGKJ",
        "outputId": "917d602f-9d77-45c2-d07f-3a6caf66ea10"
      },
      "execution_count": null,
      "outputs": [
        {
          "output_type": "execute_result",
          "data": {
            "text/html": [
              "\n",
              "  <div id=\"df-f220fcf1-4b99-431f-9b07-b9cd74914d1b\">\n",
              "    <div class=\"colab-df-container\">\n",
              "      <div>\n",
              "<style scoped>\n",
              "    .dataframe tbody tr th:only-of-type {\n",
              "        vertical-align: middle;\n",
              "    }\n",
              "\n",
              "    .dataframe tbody tr th {\n",
              "        vertical-align: top;\n",
              "    }\n",
              "\n",
              "    .dataframe thead th {\n",
              "        text-align: right;\n",
              "    }\n",
              "</style>\n",
              "<table border=\"1\" class=\"dataframe\">\n",
              "  <thead>\n",
              "    <tr style=\"text-align: right;\">\n",
              "      <th></th>\n",
              "      <th>age</th>\n",
              "      <th>workclass</th>\n",
              "      <th>fnlwgt</th>\n",
              "      <th>education</th>\n",
              "      <th>education_num</th>\n",
              "      <th>marital_status</th>\n",
              "      <th>occupation</th>\n",
              "      <th>relationship</th>\n",
              "      <th>race</th>\n",
              "      <th>sex</th>\n",
              "      <th>capital_gain</th>\n",
              "      <th>capital_loss</th>\n",
              "      <th>hours_per_week</th>\n",
              "      <th>native_country</th>\n",
              "      <th>income</th>\n",
              "    </tr>\n",
              "  </thead>\n",
              "  <tbody>\n",
              "    <tr>\n",
              "      <th>0</th>\n",
              "      <td>39</td>\n",
              "      <td>State-gov</td>\n",
              "      <td>77516</td>\n",
              "      <td>Bachelors</td>\n",
              "      <td>13</td>\n",
              "      <td>Never-married</td>\n",
              "      <td>Adm-clerical</td>\n",
              "      <td>Not-in-family</td>\n",
              "      <td>White</td>\n",
              "      <td>Male</td>\n",
              "      <td>2174</td>\n",
              "      <td>0</td>\n",
              "      <td>40</td>\n",
              "      <td>United-States</td>\n",
              "      <td>&lt;=50K</td>\n",
              "    </tr>\n",
              "    <tr>\n",
              "      <th>1</th>\n",
              "      <td>50</td>\n",
              "      <td>Self-emp-not-inc</td>\n",
              "      <td>83311</td>\n",
              "      <td>Bachelors</td>\n",
              "      <td>13</td>\n",
              "      <td>Married-civ-spouse</td>\n",
              "      <td>Exec-managerial</td>\n",
              "      <td>Husband</td>\n",
              "      <td>White</td>\n",
              "      <td>Male</td>\n",
              "      <td>0</td>\n",
              "      <td>0</td>\n",
              "      <td>13</td>\n",
              "      <td>United-States</td>\n",
              "      <td>&lt;=50K</td>\n",
              "    </tr>\n",
              "    <tr>\n",
              "      <th>2</th>\n",
              "      <td>38</td>\n",
              "      <td>Private</td>\n",
              "      <td>215646</td>\n",
              "      <td>HS-grad</td>\n",
              "      <td>9</td>\n",
              "      <td>Divorced</td>\n",
              "      <td>Handlers-cleaners</td>\n",
              "      <td>Not-in-family</td>\n",
              "      <td>White</td>\n",
              "      <td>Male</td>\n",
              "      <td>0</td>\n",
              "      <td>0</td>\n",
              "      <td>40</td>\n",
              "      <td>United-States</td>\n",
              "      <td>&lt;=50K</td>\n",
              "    </tr>\n",
              "    <tr>\n",
              "      <th>3</th>\n",
              "      <td>53</td>\n",
              "      <td>Private</td>\n",
              "      <td>234721</td>\n",
              "      <td>11th</td>\n",
              "      <td>7</td>\n",
              "      <td>Married-civ-spouse</td>\n",
              "      <td>Handlers-cleaners</td>\n",
              "      <td>Husband</td>\n",
              "      <td>Black</td>\n",
              "      <td>Male</td>\n",
              "      <td>0</td>\n",
              "      <td>0</td>\n",
              "      <td>40</td>\n",
              "      <td>United-States</td>\n",
              "      <td>&lt;=50K</td>\n",
              "    </tr>\n",
              "    <tr>\n",
              "      <th>4</th>\n",
              "      <td>28</td>\n",
              "      <td>Private</td>\n",
              "      <td>338409</td>\n",
              "      <td>Bachelors</td>\n",
              "      <td>13</td>\n",
              "      <td>Married-civ-spouse</td>\n",
              "      <td>Prof-specialty</td>\n",
              "      <td>Wife</td>\n",
              "      <td>Black</td>\n",
              "      <td>Female</td>\n",
              "      <td>0</td>\n",
              "      <td>0</td>\n",
              "      <td>40</td>\n",
              "      <td>Cuba</td>\n",
              "      <td>&lt;=50K</td>\n",
              "    </tr>\n",
              "  </tbody>\n",
              "</table>\n",
              "</div>\n",
              "      <button class=\"colab-df-convert\" onclick=\"convertToInteractive('df-f220fcf1-4b99-431f-9b07-b9cd74914d1b')\"\n",
              "              title=\"Convert this dataframe to an interactive table.\"\n",
              "              style=\"display:none;\">\n",
              "        \n",
              "  <svg xmlns=\"http://www.w3.org/2000/svg\" height=\"24px\"viewBox=\"0 0 24 24\"\n",
              "       width=\"24px\">\n",
              "    <path d=\"M0 0h24v24H0V0z\" fill=\"none\"/>\n",
              "    <path d=\"M18.56 5.44l.94 2.06.94-2.06 2.06-.94-2.06-.94-.94-2.06-.94 2.06-2.06.94zm-11 1L8.5 8.5l.94-2.06 2.06-.94-2.06-.94L8.5 2.5l-.94 2.06-2.06.94zm10 10l.94 2.06.94-2.06 2.06-.94-2.06-.94-.94-2.06-.94 2.06-2.06.94z\"/><path d=\"M17.41 7.96l-1.37-1.37c-.4-.4-.92-.59-1.43-.59-.52 0-1.04.2-1.43.59L10.3 9.45l-7.72 7.72c-.78.78-.78 2.05 0 2.83L4 21.41c.39.39.9.59 1.41.59.51 0 1.02-.2 1.41-.59l7.78-7.78 2.81-2.81c.8-.78.8-2.07 0-2.86zM5.41 20L4 18.59l7.72-7.72 1.47 1.35L5.41 20z\"/>\n",
              "  </svg>\n",
              "      </button>\n",
              "      \n",
              "  <style>\n",
              "    .colab-df-container {\n",
              "      display:flex;\n",
              "      flex-wrap:wrap;\n",
              "      gap: 12px;\n",
              "    }\n",
              "\n",
              "    .colab-df-convert {\n",
              "      background-color: #E8F0FE;\n",
              "      border: none;\n",
              "      border-radius: 50%;\n",
              "      cursor: pointer;\n",
              "      display: none;\n",
              "      fill: #1967D2;\n",
              "      height: 32px;\n",
              "      padding: 0 0 0 0;\n",
              "      width: 32px;\n",
              "    }\n",
              "\n",
              "    .colab-df-convert:hover {\n",
              "      background-color: #E2EBFA;\n",
              "      box-shadow: 0px 1px 2px rgba(60, 64, 67, 0.3), 0px 1px 3px 1px rgba(60, 64, 67, 0.15);\n",
              "      fill: #174EA6;\n",
              "    }\n",
              "\n",
              "    [theme=dark] .colab-df-convert {\n",
              "      background-color: #3B4455;\n",
              "      fill: #D2E3FC;\n",
              "    }\n",
              "\n",
              "    [theme=dark] .colab-df-convert:hover {\n",
              "      background-color: #434B5C;\n",
              "      box-shadow: 0px 1px 3px 1px rgba(0, 0, 0, 0.15);\n",
              "      filter: drop-shadow(0px 1px 2px rgba(0, 0, 0, 0.3));\n",
              "      fill: #FFFFFF;\n",
              "    }\n",
              "  </style>\n",
              "\n",
              "      <script>\n",
              "        const buttonEl =\n",
              "          document.querySelector('#df-f220fcf1-4b99-431f-9b07-b9cd74914d1b button.colab-df-convert');\n",
              "        buttonEl.style.display =\n",
              "          google.colab.kernel.accessAllowed ? 'block' : 'none';\n",
              "\n",
              "        async function convertToInteractive(key) {\n",
              "          const element = document.querySelector('#df-f220fcf1-4b99-431f-9b07-b9cd74914d1b');\n",
              "          const dataTable =\n",
              "            await google.colab.kernel.invokeFunction('convertToInteractive',\n",
              "                                                     [key], {});\n",
              "          if (!dataTable) return;\n",
              "\n",
              "          const docLinkHtml = 'Like what you see? Visit the ' +\n",
              "            '<a target=\"_blank\" href=https://colab.research.google.com/notebooks/data_table.ipynb>data table notebook</a>'\n",
              "            + ' to learn more about interactive tables.';\n",
              "          element.innerHTML = '';\n",
              "          dataTable['output_type'] = 'display_data';\n",
              "          await google.colab.output.renderOutput(dataTable, element);\n",
              "          const docLink = document.createElement('div');\n",
              "          docLink.innerHTML = docLinkHtml;\n",
              "          element.appendChild(docLink);\n",
              "        }\n",
              "      </script>\n",
              "    </div>\n",
              "  </div>\n",
              "  "
            ],
            "text/plain": [
              "   age         workclass  fnlwgt  education  education_num  \\\n",
              "0   39         State-gov   77516  Bachelors             13   \n",
              "1   50  Self-emp-not-inc   83311  Bachelors             13   \n",
              "2   38           Private  215646    HS-grad              9   \n",
              "3   53           Private  234721       11th              7   \n",
              "4   28           Private  338409  Bachelors             13   \n",
              "\n",
              "       marital_status         occupation   relationship   race     sex  \\\n",
              "0       Never-married       Adm-clerical  Not-in-family  White    Male   \n",
              "1  Married-civ-spouse    Exec-managerial        Husband  White    Male   \n",
              "2            Divorced  Handlers-cleaners  Not-in-family  White    Male   \n",
              "3  Married-civ-spouse  Handlers-cleaners        Husband  Black    Male   \n",
              "4  Married-civ-spouse     Prof-specialty           Wife  Black  Female   \n",
              "\n",
              "   capital_gain  capital_loss  hours_per_week native_country income  \n",
              "0          2174             0              40  United-States  <=50K  \n",
              "1             0             0              13  United-States  <=50K  \n",
              "2             0             0              40  United-States  <=50K  \n",
              "3             0             0              40  United-States  <=50K  \n",
              "4             0             0              40           Cuba  <=50K  "
            ]
          },
          "metadata": {},
          "execution_count": 8
        }
      ]
    },
    {
      "cell_type": "markdown",
      "source": [
        "## Análisis exploratorio"
      ],
      "metadata": {
        "id": "fyp6_G1a8t-k"
      }
    },
    {
      "cell_type": "markdown",
      "source": [
        "**Describir y resumir la distribución de la muestra, es uno de los principales objetivos del análisis exploratorio.**"
      ],
      "metadata": {
        "id": "0Rfh3uf6_KVe"
      }
    },
    {
      "cell_type": "markdown",
      "source": [
        "Los datos que provienen de realizar una medición particular en todos los objetos de una muestra representan nuestras observaciones para una sola variable, como edad, educación, ingreso, etc. Estas mediciones representan una distribución muestral de cada variable respectivamente, que a su vez representa aproximadamente la distribución poblacional de la variable. "
      ],
      "metadata": {
        "id": "TGlvG9sk-KXH"
      }
    },
    {
      "cell_type": "markdown",
      "source": [
        "### Síntesis"
      ],
      "metadata": {
        "id": "j8Jj_FMU_sG5"
      }
    },
    {
      "cell_type": "markdown",
      "source": [
        "<image src=\"https://c.tenor.com/DmN5B0SXQHMAAAAd/let-me-explain-sum-up.gif\">"
      ],
      "metadata": {
        "id": "zi3FZZa-xhxQ"
      }
    },
    {
      "cell_type": "markdown",
      "source": [
        "Las variables en general pueden ser categóricas o numéricas."
      ],
      "metadata": {
        "id": "sbUJZYLdJGWY"
      }
    },
    {
      "cell_type": "markdown",
      "source": [
        "Para las **variables categóricas**, una simple tabla de frecuencias de cada categoría es la mejor exploración no gráfica para el análisis de datos."
      ],
      "metadata": {
        "id": "FdzfpX9Z_9Iv"
      }
    },
    {
      "cell_type": "markdown",
      "source": [
        "¿Cuál es la distribución de adultos por país de origen?"
      ],
      "metadata": {
        "id": "Ch2ZqgL7BLCp"
      }
    },
    {
      "cell_type": "code",
      "source": [
        "# Devuelve distribución de adultos por país de origen \n"
      ],
      "metadata": {
        "colab": {
          "base_uri": "https://localhost:8080/"
        },
        "id": "hmfZRKTBA-Mx",
        "outputId": "131fa6f1-0cd2-4d3d-f1be-146386341609"
      },
      "execution_count": null,
      "outputs": [
        {
          "output_type": "execute_result",
          "data": {
            "text/plain": [
              "native_country\n",
              "?                              1.790486\n",
              "Cambodia                       0.058352\n",
              "Canada                         0.371610\n",
              "China                          0.230337\n",
              "Columbia                       0.181198\n",
              "Cuba                           0.291760\n",
              "Dominican-Republic             0.214981\n",
              "Ecuador                        0.085992\n",
              "El-Salvador                    0.325543\n",
              "England                        0.276404\n",
              "France                         0.089064\n",
              "Germany                        0.420749\n",
              "Greece                         0.089064\n",
              "Guatemala                      0.196554\n",
              "Haiti                          0.135131\n",
              "Holand-Netherlands             0.003071\n",
              "Honduras                       0.039925\n",
              "Hong                           0.061423\n",
              "Hungary                        0.039925\n",
              "India                          0.307116\n",
              "Iran                           0.132060\n",
              "Ireland                        0.073708\n",
              "Italy                          0.224195\n",
              "Jamaica                        0.248764\n",
              "Japan                          0.190412\n",
              "Laos                           0.055281\n",
              "Mexico                         1.974755\n",
              "Nicaragua                      0.104419\n",
              "Outlying-US(Guam-USVI-etc)     0.042996\n",
              "Peru                           0.095206\n",
              "Philippines                    0.608089\n",
              "Poland                         0.184270\n",
              "Portugal                       0.113633\n",
              "Puerto-Rico                    0.350112\n",
              "Scotland                       0.036854\n",
              "South                          0.245693\n",
              "Taiwan                         0.156629\n",
              "Thailand                       0.055281\n",
              "Trinadad&Tobago                0.058352\n",
              "United-States                 89.585701\n",
              "Vietnam                        0.205768\n",
              "Yugoslavia                     0.049139\n",
              "dtype: float64"
            ]
          },
          "metadata": {},
          "execution_count": 9
        }
      ]
    },
    {
      "cell_type": "markdown",
      "source": [
        "¿Qué porcentaje de los hombres tiene un ingreso mayor a los 50K y qué porcentaje de las mujeres tiene un ingreso mayor a los 50K?"
      ],
      "metadata": {
        "id": "JtxtdUNXAS00"
      }
    },
    {
      "cell_type": "code",
      "source": [
        "# Selecciona hombres\n",
        "df_m = df[df.sex == \"Male\"]\n",
        "\n",
        "# Selecciona hombres con un ingreso mayor a los 50K\n",
        "df_m_50k = df_m[df_m.income == \">50K\"]\n",
        "\n",
        "# Guarda porcentaje de los hombres con un ingreso mayor a los 50K\n",
        "pct_m_50k = round(len(df_m_50k)/len(df_m)*100)\n",
        "\n",
        "print(\"{0}% de los hombres tiene un ingreso mayor a los 50K.\".format(pct_m_50k))"
      ],
      "metadata": {
        "colab": {
          "base_uri": "https://localhost:8080/"
        },
        "id": "3xVXqIccB9Zn",
        "outputId": "15dd7e30-1d40-4557-ec96-656f8b3f098b"
      },
      "execution_count": null,
      "outputs": [
        {
          "output_type": "stream",
          "name": "stdout",
          "text": [
            "31% de los hombres tiene un ingreso mayor a los 50K.\n"
          ]
        }
      ]
    },
    {
      "cell_type": "code",
      "source": [
        "# Selecciona mujeres\n",
        "df_f = \n",
        "\n",
        "# Selecciona mujeres con un ingreso mayor a los 50K\n",
        "df_f_50k = \n",
        "\n",
        "# Guarda porcentaje de las mujeres con un ingreso mayor a los 50K\n",
        "pct_f_50k = \n",
        "\n",
        "print(\"{0}% de las mujeres tiene un ingreso mayor a los 50K.\".format(pct_f_50k))"
      ],
      "metadata": {
        "colab": {
          "base_uri": "https://localhost:8080/"
        },
        "id": "Swm2uYEUF7qZ",
        "outputId": "fd87b988-2063-468f-abd2-13b6439cbf0d"
      },
      "execution_count": null,
      "outputs": [
        {
          "output_type": "stream",
          "name": "stdout",
          "text": [
            "11% de las mujeres tiene un ingreso mayor a los 50K.\n"
          ]
        }
      ]
    },
    {
      "cell_type": "markdown",
      "source": [
        "Dada una variable numérica, el análisis exploratorio es una forma de realizar evaluaciones preliminares sobre su distribución en la población utilizando los datos de las muestras observadas. Las características de la distribución de una variable numérica son su media, varianza, desviación estándar, mediana, cuantiles, etc. "
      ],
      "metadata": {
        "id": "xGOsZ9o-Irb5"
      }
    },
    {
      "cell_type": "markdown",
      "source": [
        "#### Media"
      ],
      "metadata": {
        "id": "jUrmko_oKCA8"
      }
    },
    {
      "cell_type": "markdown",
      "source": [
        "Una de las primeras medidas que usamos para observar los datos es la media de la muestra."
      ],
      "metadata": {
        "id": "MBa-QZ9UN8f2"
      }
    },
    {
      "cell_type": "markdown",
      "source": [
        "**Dada una muestra de $n$ valores, ${x_i}$, $i=1$, ..., $n$, la media, $\\mu$, es la suma de los valores dividida por el número de valores**, en otras palabras:\n"
      ],
      "metadata": {
        "id": "6-dny8cAM9Y1"
      }
    },
    {
      "cell_type": "markdown",
      "source": [
        "$\\mu = \\frac{1}{n} + \\sum \\limits _{i=1} ^{n} x_{i}$"
      ],
      "metadata": {
        "id": "xgjoILcjS_yq"
      }
    },
    {
      "cell_type": "markdown",
      "source": [
        "Los términos media y promedio a menudo se usan indistintamente. De hecho, la principal distinción entre ellos es que la media de una muestra es el resumen estadístico, mientras que el promedio no está estrictamente definido y podría ser uno de los muchos estadísticos de resumen que se pueden elegir para describir la tendencia central de una muestra."
      ],
      "metadata": {
        "id": "lfQBXbjMNLRN"
      }
    },
    {
      "cell_type": "markdown",
      "source": [
        "¿Cuál es la edad media de los hombres y la edad media de los hombres que tienen un ingreso mayor a los 50K?"
      ],
      "metadata": {
        "id": "u-4YCy3PV2jF"
      }
    },
    {
      "cell_type": "code",
      "source": [
        "# Guarda edad media de los hombres\n",
        "mu_age_m = round(df_m.age.mean())\n",
        "\n",
        "# Guarda edad media de los hombres que tienen un ingreso mayor a los 50K\n",
        "mu_age_m_50k = round(df_m_50k.age.mean())\n",
        "\n",
        "print(\"La edad media de los hombres es de {0}, mientras que la de los hombres con un ingreso mayor a los 50K es de {1}.\".format(mu_age_m, mu_age_m_50k))"
      ],
      "metadata": {
        "colab": {
          "base_uri": "https://localhost:8080/"
        },
        "id": "kLzHun7TUtje",
        "outputId": "26264c12-1740-4cda-9450-c29ecddcc162"
      },
      "execution_count": null,
      "outputs": [
        {
          "output_type": "stream",
          "name": "stdout",
          "text": [
            "La edad media de los hombres es de 39, mientras que la de los hombres con un ingreso mayor a los 50K es de 45.\n"
          ]
        }
      ]
    },
    {
      "cell_type": "markdown",
      "source": [
        "¿Cuál es la edad media de las mujeres y la edad media de las mujeres que tienen un ingreso mayor a los 50K?"
      ],
      "metadata": {
        "id": "GPKLw8J3W1RX"
      }
    },
    {
      "cell_type": "code",
      "source": [
        "# Guarda edad media de las mujeres\n",
        "mu_age_f = \n",
        "\n",
        "# Guarda edad media de las mujeres que tienen un ingreso mayor a los 50K\n",
        "mu_age_f_50k = \n",
        "\n",
        "print(\"La edad media de las mujeres es de {0}, mientras que la de las mujeres con un ingreso mayor a los 50K es de {1}.\".format(mu_age_f, mu_age_f_50k))"
      ],
      "metadata": {
        "colab": {
          "base_uri": "https://localhost:8080/"
        },
        "outputId": "5911ded8-66df-4106-e016-94e8d7fa0c7d",
        "id": "Uq2Z3uyuW1Ra"
      },
      "execution_count": null,
      "outputs": [
        {
          "output_type": "stream",
          "name": "stdout",
          "text": [
            "La edad media de las mujeres es de 37, mientras que la de las mujeres con un ingreso mayor a los 50K es de 42.\n"
          ]
        }
      ]
    },
    {
      "cell_type": "markdown",
      "source": [
        "#### Varianza y desviación estándar"
      ],
      "metadata": {
        "id": "Se59dtOlXJHP"
      }
    },
    {
      "cell_type": "markdown",
      "source": [
        "La varianza y la desviación estándar suelen ser buenos descriptores complementarios a la media. "
      ],
      "metadata": {
        "id": "j-bzPE1hnHlc"
      }
    },
    {
      "cell_type": "markdown",
      "source": [
        "**La varianza $\\sigma^2$ describe la dispersión de los datos** y se define de la siguiente manera:"
      ],
      "metadata": {
        "id": "iQYzn6hwXntI"
      }
    },
    {
      "cell_type": "markdown",
      "source": [
        "$\\sigma^{2} = \\frac{1}{n}\\sum_{i=1}^{n}(x_{i}-\\mu)^{2}$"
      ],
      "metadata": {
        "id": "nAsg7X19YJ48"
      }
    },
    {
      "cell_type": "markdown",
      "source": [
        "El término (xi − µ) se denomina desviación de la media, por lo que la varianza es la desviación cuadrática media. **La raíz cuadrada de la varianza, $\\sigma$, se llama desviación estándar.**"
      ],
      "metadata": {
        "id": "6zR1dkt8ZHjr"
      }
    },
    {
      "cell_type": "markdown",
      "source": [
        "Consideramos la desviación estándar, porque la varianza es difícil de interpretar (por ejemplo, si las unidades son gramos, la varianza está en gramos al cuadrado)."
      ],
      "metadata": {
        "id": "wM3yT7WeZNbc"
      }
    },
    {
      "cell_type": "markdown",
      "source": [
        "¿Cuál es la media, varianza y desviación estándar de horas trabajadas por semana de los hombres?"
      ],
      "metadata": {
        "id": "HX1WE0btZbfh"
      }
    },
    {
      "cell_type": "code",
      "source": [
        "# Guarda la media de horas trabahadas por los hombres \n",
        "mu_hpw_m = round(df_m.hours_per_week.mean())\n",
        "\n",
        "print(\"La media de horas trabajadas por los hombres es {0}.\".format(mu_hpw_m))"
      ],
      "metadata": {
        "colab": {
          "base_uri": "https://localhost:8080/"
        },
        "outputId": "8f3ca4d2-6e94-4b5c-cc7a-b72ce2f01ab9",
        "id": "lhOzR4LmZbfi"
      },
      "execution_count": null,
      "outputs": [
        {
          "output_type": "stream",
          "name": "stdout",
          "text": [
            "La media de horas trabajadas por los hombres es 42.\n"
          ]
        }
      ]
    },
    {
      "cell_type": "code",
      "source": [
        "# Guarda la varianza de horas trabahadas por los hombres \n",
        "var_hpw_m = round(df_m.hours_per_week.var())\n",
        "\n",
        "print(\"La varianza de horas trabajadas por los hombres es {0}.\".format(var_hpw_m))"
      ],
      "metadata": {
        "colab": {
          "base_uri": "https://localhost:8080/"
        },
        "id": "bmZ_YAPraRcQ",
        "outputId": "6fd9b0a6-f526-4e3e-d99e-283dbdf92cc7"
      },
      "execution_count": null,
      "outputs": [
        {
          "output_type": "stream",
          "name": "stdout",
          "text": [
            "La varianza de horas trabajadas por los hombres es 147.\n"
          ]
        }
      ]
    },
    {
      "cell_type": "code",
      "source": [
        "# Guarda la desviación estándar de horas trabajadas por los hombres \n",
        "std_hpw_m = round(df_m.hours_per_week.std())\n",
        "\n",
        "print(\"La desviación estándar de horas trabajadas por los hombres es {0}.\".format(std_hpw_m))"
      ],
      "metadata": {
        "colab": {
          "base_uri": "https://localhost:8080/"
        },
        "id": "7sabeTzgaZYb",
        "outputId": "8b8aefc9-9065-4671-f5a9-8909dfb29a90"
      },
      "execution_count": null,
      "outputs": [
        {
          "output_type": "stream",
          "name": "stdout",
          "text": [
            "La desviación estándar de horas trabajadas por los hombres es 12.\n"
          ]
        }
      ]
    },
    {
      "cell_type": "markdown",
      "source": [
        "¿Cuál es la media, varianza y desviación estándar de horas trabajadas por semana de las mujeres?"
      ],
      "metadata": {
        "id": "77Pc0tzMZbfj"
      }
    },
    {
      "cell_type": "code",
      "source": [
        "# Guarda la media de horas trabahadas por las mujeres \n",
        "mu_hpw_f = \n",
        "\n",
        "print(\"La media de horas trabajadas por las mujeres es {0}.\".format(mu_hpw_f))"
      ],
      "metadata": {
        "colab": {
          "base_uri": "https://localhost:8080/"
        },
        "outputId": "97d950ed-9568-47ee-c7d7-edbe4de466fb",
        "id": "72mIXoZPj3PY"
      },
      "execution_count": null,
      "outputs": [
        {
          "output_type": "stream",
          "name": "stdout",
          "text": [
            "La media de horas trabajadas por las mujeres es 36.\n"
          ]
        }
      ]
    },
    {
      "cell_type": "code",
      "source": [
        "# Guarda la varianza de horas trabajadas por las mujeres \n",
        "var_hpw_f = \n",
        "\n",
        "print(\"La varianza de horas trabajadas por las mujeres es {0}.\".format(var_hpw_f))"
      ],
      "metadata": {
        "colab": {
          "base_uri": "https://localhost:8080/"
        },
        "outputId": "a6f0447b-c525-4514-8105-aa180c1ae4c2",
        "id": "3hJS25TNj3Pq"
      },
      "execution_count": null,
      "outputs": [
        {
          "output_type": "stream",
          "name": "stdout",
          "text": [
            "La varianza de horas trabajadas por las mujeres es 140.\n"
          ]
        }
      ]
    },
    {
      "cell_type": "code",
      "source": [
        "# Guarda la desviación estándar de horas trabajadas por las mujeres \n",
        "std_hpw_f = \n",
        "\n",
        "print(\"La desviación estándar de horas trabajadas por las mujeres es {0}.\".format(std_hpw_f))"
      ],
      "metadata": {
        "colab": {
          "base_uri": "https://localhost:8080/"
        },
        "outputId": "55dbbbb1-ede7-462f-c7f7-06b3b9e95405",
        "id": "A8DvQmL5j3Pr"
      },
      "execution_count": null,
      "outputs": [
        {
          "output_type": "stream",
          "name": "stdout",
          "text": [
            "La desviación estándar de horas trabajadas por las mujeres es 12.\n"
          ]
        }
      ]
    },
    {
      "cell_type": "markdown",
      "source": [
        "#### Mediana"
      ],
      "metadata": {
        "id": "S35nCYaOmVzH"
      }
    },
    {
      "cell_type": "markdown",
      "source": [
        "La media de las muestras es en general un buen descriptor, pero tiene un inconveniente importante: ¿qué sucedería si en el conjunto muestral hay un error con un valor muy diferente al resto? Por ejemplo, considerando las horas trabajadas por semana, normalmente estaría en un rango entre 20 y 50, ¿qué pasaria si por error hubiera un valor de 1,000? **Un elemento de datos que es significativamente diferente del resto de los datos se denomina valor atípico.** En este caso, la media, $\\mu$, cambiará drásticamente hacia el valor atípico."
      ],
      "metadata": {
        "id": "ZlFidDv_m4g3"
      }
    },
    {
      "cell_type": "markdown",
      "source": [
        "Una solución a este inconveniente la ofrece la mediana, $\\mu_{1/2}$, una estadística de orden que da el valor medio de una muestra. En este caso, todos los valores están ordenados por su magnitud y la mediana se define como el valor que está en el medio de la lista ordenada. Por lo tanto, es un valor que es mucho más robusto frente a valores atípicos."
      ],
      "metadata": {
        "id": "H-B2Fcz_ntmn"
      }
    },
    {
      "cell_type": "markdown",
      "source": [
        "¿Cuál es la edad media y la edad mediana?"
      ],
      "metadata": {
        "id": "hZaJj49Hntss"
      }
    },
    {
      "cell_type": "code",
      "source": [
        "# Guarda edad media\n",
        "mu_age = \n",
        "\n",
        "# Guarda edad mediana\n",
        "med_age = \n",
        "\n",
        "print(\"La edad media es de {0}.\".format(mu_age))\n",
        "print(\"La edad mediana es de {0}.\".format(med_age))"
      ],
      "metadata": {
        "colab": {
          "base_uri": "https://localhost:8080/"
        },
        "id": "O2ACfWcSpWj1",
        "outputId": "feab80eb-983f-4e57-a6d6-c03b4a98ef49"
      },
      "execution_count": null,
      "outputs": [
        {
          "output_type": "stream",
          "name": "stdout",
          "text": [
            "La edad media es de 39.\n",
            "La edad mediana es de 37.\n"
          ]
        }
      ]
    },
    {
      "cell_type": "markdown",
      "source": [
        "¿Cuál es la edad media y la edad mediana de los adultos que tienen un ingreso mayor a los 50K?"
      ],
      "metadata": {
        "id": "aJMKKaMxrUpH"
      }
    },
    {
      "cell_type": "code",
      "source": [
        "# Selecciona adultos con un ingreso mayor a los 50K\n",
        "df_50k = \n",
        "\n",
        "# Guarda edad media de adultos con un ingreso mayor a los 50K\n",
        "mu_age_50k = \n",
        "\n",
        "# Guarda edad mediana de adultos con un ingreso mayor a los 50K\n",
        "med_age_50k = \n",
        "\n",
        "print(\"La edad media de los adultos con un ingreso mayor a los 50K es de {0}.\".format(mu_age_50k))\n",
        "print(\"La edad mediana de los adultos con un ingreso mayor a los 50K es de {0}.\".format(med_age_50k))"
      ],
      "metadata": {
        "colab": {
          "base_uri": "https://localhost:8080/"
        },
        "id": "EeFkEGU1p5X1",
        "outputId": "5dce6f44-87df-4ec8-8c1e-5a531cd3acd4"
      },
      "execution_count": null,
      "outputs": [
        {
          "output_type": "stream",
          "name": "stdout",
          "text": [
            "La edad media de los adultos con un ingreso mayor a los 50K es de 44.\n",
            "La edad mediana de los adultos con un ingreso mayor a los 50K es de 44.\n"
          ]
        }
      ]
    },
    {
      "cell_type": "markdown",
      "source": [
        "#### Cuantiles"
      ],
      "metadata": {
        "id": "J4_l2CdosSjA"
      }
    },
    {
      "cell_type": "markdown",
      "source": [
        "A veces nos interesa observar cómo se distribuyen los datos de la muestra en general. En este caso, podemos ordenar las muestras $x_i$ y luego encontrar la  $x_p$ para que divida los datos en dos partes, donde:\n",
        "\n",
        "* una fracción p de los valores de los datos es menor o igual que $x_p$\n",
        "* la fracción restante $(1 − p)$ es mayor que $x_p$.\n",
        "\n",
        "El valor $x_p$ es el cuantil p-ésimo, o el percentil 100 × p-ésimo. Por ejemplo, un resumen de 5 números se define por los valores xmin, Q1, Q2, Q3, xmax, donde Q1 es el 25 × p-ésimo percentil, Q2 es el 50 × p-ésimo percentil y Q3 es el 75 × p-ésimo percentil."
      ],
      "metadata": {
        "id": "89D8sS4tsiUP"
      }
    },
    {
      "cell_type": "markdown",
      "source": [
        "¿Cuál es el intervalo donde alberga el 25% de las edades de los hombres más jóvenes?"
      ],
      "metadata": {
        "id": "oImgALX4umXy"
      }
    },
    {
      "cell_type": "code",
      "source": [
        "print(\"El 25% de los hombres más jóvenes tiene entre {0} y {1} años.\".format(df_m.age.min(), round(df_m.age.quantile(0.25))))"
      ],
      "metadata": {
        "colab": {
          "base_uri": "https://localhost:8080/"
        },
        "id": "kimHzQ3qvUBb",
        "outputId": "242097b7-b47a-4bae-ee98-f2c9fb86069e"
      },
      "execution_count": null,
      "outputs": [
        {
          "output_type": "stream",
          "name": "stdout",
          "text": [
            "El 25% de los hombres más jóvenes tiene entre 17 y 29 años.\n"
          ]
        }
      ]
    },
    {
      "cell_type": "markdown",
      "source": [
        "¿Cuál es el intervalo donde alberga el 25% de las edades de las mujeres más jóvenes?"
      ],
      "metadata": {
        "id": "LCBTk80IvhYk"
      }
    },
    {
      "cell_type": "code",
      "source": [
        "print(\"El 25% de las mujeres más jóvenes tiene entre {0} y {1} años.\".format(df_f.age.min(), ))"
      ],
      "metadata": {
        "colab": {
          "base_uri": "https://localhost:8080/"
        },
        "outputId": "1ed2c1ce-8b4a-4bab-a754-8bf886c33444",
        "id": "XSXzmlmLvhYk"
      },
      "execution_count": null,
      "outputs": [
        {
          "output_type": "stream",
          "name": "stdout",
          "text": [
            "El 25% de las mujeres más jóvenes tiene entre 17 y 25 años.\n"
          ]
        }
      ]
    },
    {
      "cell_type": "markdown",
      "source": [
        "### Distribución (empírica)"
      ],
      "metadata": {
        "id": "SCGMUxARv4eQ"
      }
    },
    {
      "cell_type": "markdown",
      "source": [
        "<image src=\"https://c.tenor.com/hMDp9eBsM4oAAAAC/honey-curves-dont-lie.gif\">"
      ],
      "metadata": {
        "id": "RqQuCC0WyxHd"
      }
    },
    {
      "cell_type": "markdown",
      "source": [
        "Sumarizar datos simplemente observando medias, varianzas, desviaciones estándar y medianas puede ser peligroso: las mismas estadísticas pueden describir datos muy diferentes. Por lo tanto, resulta también necesario validar los datos inspeccionándolos. Una forma de hacerlo es observando la distribución de datos, que describe con qué frecuencia aparece cada valor."
      ],
      "metadata": {
        "id": "_YVq7uFAwH82"
      }
    },
    {
      "cell_type": "markdown",
      "source": [
        "**La representación más común de una distribución es un histograma**, que muestra gráficamente lo siguiente:\n",
        "\n",
        "* Centro (es decir, la ubicación) de los datos\n",
        "* Dispersión (es decir, la escala) de los datos\n",
        "* Asimetría de los datos\n",
        "* Presencia de valores atípicos\n",
        "* Presencia de múltiples modas en los datos"
      ],
      "metadata": {
        "id": "twvUOPxAwlYr"
      }
    },
    {
      "cell_type": "markdown",
      "source": [
        "¿Cómo se distribuyen las edades de los hombres y de las mujeres respectivamente en 20 particiones?"
      ],
      "metadata": {
        "id": "DvlrxLeK4XEu"
      }
    },
    {
      "cell_type": "code",
      "source": [
        "# Grafica distribución de las edades de los hombres\n",
        "df_m.age.hist(bins=20, alpha=0.5, color=\"cornflowerblue\")\n",
        "\n",
        "# Grafica distribución de las edades de las mujeres\n",
        ".hist(bins=20, alpha=0.5, color=\"forestgreen\")"
      ],
      "metadata": {
        "colab": {
          "base_uri": "https://localhost:8080/",
          "height": 282
        },
        "id": "DcP8epL0zAvz",
        "outputId": "3f9263cc-6f3e-40d1-ccd6-6cf9389167a0"
      },
      "execution_count": null,
      "outputs": [
        {
          "output_type": "execute_result",
          "data": {
            "text/plain": [
              "<matplotlib.axes._subplots.AxesSubplot at 0x7fbddda02250>"
            ]
          },
          "metadata": {},
          "execution_count": 24
        },
        {
          "output_type": "display_data",
          "data": {
            "image/png": "[encoded data removed]",
            "text/plain": [
              "<Figure size 432x288 with 1 Axes>"
            ]
          },
          "metadata": {
            "needs_background": "light"
          }
        }
      ]
    },
    {
      "cell_type": "markdown",
      "source": [
        "En general, **es buena práctica normalizar las frecuencias de cada valor en un histograma**. Hay dos formas de hacerlo.\n",
        "\n",
        "1. **Dividir la frecuencia de observaciones en una partición entre el total de observaciones**. En este caso, las frecuencias relativas suman 1. Por lo tanto, la altura de la barra del histograma representa la proporción de los datos en cada partición.\n",
        "\n",
        "2. **Divir la frecuencia de observaciones en una partición entre el total de observaciones por el ancho de la partición**. En este caso, el área (o integral) bajo el histograma es igual a 1. Desde un punto de vista probabilístico, esta normalización da como resultado un histograma relativo que es más parecido a la **función de masa de probabilidad (abreviada PMF en inglés)**."
      ],
      "metadata": {
        "id": "jyOktYd0eFPB"
      }
    },
    {
      "cell_type": "markdown",
      "source": [
        "De forma normalizada, ¿cómo se distribuyen las edades de los hombres y de las mujeres respectivamente?"
      ],
      "metadata": {
        "id": "0YNm5iYuXsjw"
      }
    },
    {
      "cell_type": "code",
      "source": [
        "# Grafica distribución de las edades de los hombres\n",
        "df_m.age.hist(bins=20, alpha=0.5, color=\"cornflowerblue\")\n",
        "\n",
        "# Grafica distribución de las edades de las mujeres\n",
        ".hist(bins=20, alpha=0.5, color=\"forestgreen\")"
      ],
      "metadata": {
        "colab": {
          "base_uri": "https://localhost:8080/",
          "height": 282
        },
        "id": "nK_LQertjPzU",
        "outputId": "46617cf0-7fe2-4d56-9197-d852eded4091"
      },
      "execution_count": null,
      "outputs": [
        {
          "output_type": "execute_result",
          "data": {
            "text/plain": [
              "<matplotlib.axes._subplots.AxesSubplot at 0x7fbdcaaf7210>"
            ]
          },
          "metadata": {},
          "execution_count": 25
        },
        {
          "output_type": "display_data",
          "data": {
            "image/png": "[encoded data removed]",
            "text/plain": [
              "<Figure size 432x288 with 1 Axes>"
            ]
          },
          "metadata": {
            "needs_background": "light"
          }
        }
      ]
    },
    {
      "cell_type": "markdown",
      "source": [
        "Demuestra que la integral de la función de densidad de probabilidad de las edades de los hombres (variable aleatoria discreta) es igual a 1. "
      ],
      "metadata": {
        "id": "fzRvxOF_kRFm"
      }
    },
    {
      "cell_type": "code",
      "source": [
        "counts, bins = np.histogram(df_f.age, bins=20)\n",
        "density = counts/(sum(counts)*np.diff(bins))\n",
        "np.sum(density*np.diff(bins)) == 1"
      ],
      "metadata": {
        "colab": {
          "base_uri": "https://localhost:8080/"
        },
        "id": "MvKTv2IkgUy9",
        "outputId": "d63a12a1-df0a-4f6b-d81e-feb76a1a843e"
      },
      "execution_count": null,
      "outputs": [
        {
          "output_type": "execute_result",
          "data": {
            "text/plain": [
              "True"
            ]
          },
          "metadata": {},
          "execution_count": 26
        }
      ]
    },
    {
      "cell_type": "markdown",
      "source": [
        "**La función de distribución acumulativa (abreviada CDF en inglés) describe la probabilidad de que una variable continua aleatoria $X$ con una distribución de probabilidad dada, tenga un valor menor o igual que $x$**."
      ],
      "metadata": {
        "id": "BKjhjnfel9Ij"
      }
    },
    {
      "cell_type": "markdown",
      "source": [
        "De forma normalizada y acumulativa, ¿cómo se distribuyen las edades de los hombres y de las mujeres respectivamente?"
      ],
      "metadata": {
        "id": "OgF8PSoLoRj0"
      }
    },
    {
      "cell_type": "code",
      "source": [
        "# Grafica distribución de las edades de los hombres\n",
        "df_m[\"age\"].hist(bins=20, linewidth=2, color=\"cornflowerblue\", density=True, cumulative=True, histtype=\"step\")\n",
        "\n",
        "# Grafica distribución de las edades de las mujeres\n",
        "df_f[\"age\"].hist(bins=20, linewidth=2, color=\"forestgreen\", density=True, cumulative=True, histtype=\"step\")"
      ],
      "metadata": {
        "colab": {
          "base_uri": "https://localhost:8080/",
          "height": 282
        },
        "id": "A58kTu-5mkyZ",
        "outputId": "23f739fb-4935-4570-895e-0761fe0ea3c6"
      },
      "execution_count": null,
      "outputs": [
        {
          "output_type": "execute_result",
          "data": {
            "text/plain": [
              "<matplotlib.axes._subplots.AxesSubplot at 0x7fbdca4d3190>"
            ]
          },
          "metadata": {},
          "execution_count": 27
        },
        {
          "output_type": "display_data",
          "data": {
            "image/png": "[encoded data removed]",
            "text/plain": [
              "<Figure size 432x288 with 1 Axes>"
            ]
          },
          "metadata": {
            "needs_background": "light"
          }
        }
      ]
    },
    {
      "cell_type": "markdown",
      "source": [
        "### Tratamiento de valores atípicos"
      ],
      "metadata": {
        "id": "jjZvu7VooaZ7"
      }
    },
    {
      "cell_type": "markdown",
      "source": [
        "<image src=\"https://i.gifer.com/6Xi3.gif\">"
      ],
      "metadata": {
        "id": "Mel92e51ZkRe"
      }
    },
    {
      "cell_type": "markdown",
      "source": [
        "**Los valores atípicos son muestras de datos con un valor que está lejos* de la tendencia central.**"
      ],
      "metadata": {
        "id": "GTMKIPVAqHRD"
      }
    },
    {
      "cell_type": "markdown",
      "source": [
        "*Se pueden definir diferentes reglas para detectar valores atípicos. Una de las reglas más comunes es definir los valores atípicos como aquellos que exceden la media en 2 o 3 desviaciones estándar."
      ],
      "metadata": {
        "id": "fKNNYlQrqZv1"
      }
    },
    {
      "cell_type": "markdown",
      "source": [
        "¿Cuál es la edad mínima, máxima y media de los adultos que tienen un ingreso mayor a los 50K?"
      ],
      "metadata": {
        "id": "F6uSLOVyrfKp"
      }
    },
    {
      "cell_type": "code",
      "source": [
        "# Guarda edad mínima de adultos con un ingreso mayor a los 50K\n",
        "min_age_50k = \n",
        "\n",
        "# Guarda edad máxima de adultos con un ingreso mayor a los 50K\n",
        "max_age_50k = \n",
        "\n",
        "print(\"La edad mínima de los adultos con un ingreso mayor a los 50K es de {0}.\".format(min_age_50k))\n",
        "print(\"La edad máxima de los adultos con un ingreso mayor a los 50K es de {0}.\".format(max_age_50k))\n",
        "print(\"La edad media de los adultos con un ingreso mayor a los 50K es de {0}.\".format(mu_age_50k))"
      ],
      "metadata": {
        "colab": {
          "base_uri": "https://localhost:8080/"
        },
        "outputId": "183c5cdd-d553-4383-987e-379d6e7d5532",
        "id": "lrhXhFX6rfKq"
      },
      "execution_count": null,
      "outputs": [
        {
          "output_type": "stream",
          "name": "stdout",
          "text": [
            "La edad mínima de los adultos con un ingreso mayor a los 50K es de 19.\n",
            "La edad máxima de los adultos con un ingreso mayor a los 50K es de 90.\n",
            "La edad media de los adultos con un ingreso mayor a los 50K es de 44.\n"
          ]
        }
      ]
    },
    {
      "cell_type": "markdown",
      "source": [
        "¿Cuál es la desviación estándar de las edades de los adultos que tienen un ingreso mayor a los 50K?"
      ],
      "metadata": {
        "id": "f3qvqRJIsB91"
      }
    },
    {
      "cell_type": "code",
      "source": [
        "# Guarda desviación estándar de las edades de adultos con un ingreso mayor a los 50K\n",
        "std_age_50k = \n",
        "\n",
        "print(\"La desviación estándar de las edades de los adultos con un ingreso mayor a los 50K es de {0}.\".format(std_age_50k))"
      ],
      "metadata": {
        "colab": {
          "base_uri": "https://localhost:8080/"
        },
        "outputId": "31469098-612d-43c8-91e5-8dd667768ea1",
        "id": "5tgSIZ-VsB91"
      },
      "execution_count": null,
      "outputs": [
        {
          "output_type": "stream",
          "name": "stdout",
          "text": [
            "La desviación estándar de las edades de los adultos con un ingreso mayor a los 50K es de 11.\n"
          ]
        }
      ]
    },
    {
      "cell_type": "markdown",
      "source": [
        "¿Cuál es la edad mínima, máxima y media de los adultos que tienen un ingreso mayor a los 50K sin valores atípicos en edad?"
      ],
      "metadata": {
        "id": "v8AnMs78w0Ou"
      }
    },
    {
      "cell_type": "code",
      "source": [
        "# Selecciona adultos con un ingreso mayor a los 50K sin valores atípicos en edad\n",
        "df_50k_c = df_50k[(df_50k.age >= (mu_age_50k-std_age_50k*2)) & (df_50k.age <= (mu_age_50k+std_age_50k*2))]"
      ],
      "metadata": {
        "id": "Nycfn2YQv8t8"
      },
      "execution_count": null,
      "outputs": []
    },
    {
      "cell_type": "code",
      "source": [
        "# Guarda edad mínima de adultos con un ingreso mayor a los 50K\n",
        "min_age_50k_c = round(df_50k_c.age.min())\n",
        "\n",
        "# Guarda edad máxima de adultos con un ingreso mayor a los 50K\n",
        "max_age_50k_c = round(df_50k_c.age.max())\n",
        "\n",
        "# Guarda edad media de adultos con un ingreso mayor a los 50K\n",
        "mu_age_50k_c = round(df_50k_c.age.mean())\n",
        "\n",
        "print(\"La edad mínima de los adultos con un ingreso mayor a los 50K es de {0}.\".format(min_age_50k_c))\n",
        "print(\"La edad máxima de los adultos con un ingreso mayor a los 50K es de {0}.\".format(max_age_50k_c))\n",
        "print(\"La edad media de los adultos con un ingreso mayor a los 50K es de {0}.\".format(mu_age_50k_c))"
      ],
      "metadata": {
        "colab": {
          "base_uri": "https://localhost:8080/"
        },
        "outputId": "a47e99b0-d474-444f-886b-792d247f427d",
        "id": "m4KOnscQw0Ou"
      },
      "execution_count": null,
      "outputs": [
        {
          "output_type": "stream",
          "name": "stdout",
          "text": [
            "La edad mínima de los adultos con un ingreso mayor a los 50K es de 22.\n",
            "La edad máxima de los adultos con un ingreso mayor a los 50K es de 66.\n",
            "La edad media de los adultos con un ingreso mayor a los 50K es de 44.\n"
          ]
        }
      ]
    },
    {
      "cell_type": "markdown",
      "source": [
        "### Asimetría"
      ],
      "metadata": {
        "id": "HrfREHntW9sZ"
      }
    },
    {
      "cell_type": "markdown",
      "source": [
        "<image src=\"https://c.tenor.com/ekh_bPZ5ThIAAAAC/little-prince.gif\">"
      ],
      "metadata": {
        "id": "DTH5nsvDYpXw"
      }
    },
    {
      "cell_type": "markdown",
      "source": [
        "Para datos univariados, la fórmula para la asimetría es una estadística que **mide el grado de asimetría del conjunto de n muestras de datos**, $x_i$:"
      ],
      "metadata": {
        "id": "-wijG1IwXrqA"
      }
    },
    {
      "cell_type": "markdown",
      "source": [
        "$g_{1} = \\frac{1}{n}\\frac{\\sum_{i=1}^{n}(x_{i}-\\mu)^{3}}{\\sigma}$"
      ],
      "metadata": {
        "id": "ZJZ1qaiwX6n4"
      }
    },
    {
      "cell_type": "markdown",
      "source": [
        "donde $\\mu$ es la media, $\\sigma$ es la desviación estándar y $n$ es el número de puntos de datos."
      ],
      "metadata": {
        "id": "AQWo6BHvaftG"
      }
    },
    {
      "cell_type": "markdown",
      "source": [
        "Para una distribución unimodal, el sesgo negativo comúnmente indica que la cola está en el lado izquierdo de la distribución, y el sesgo positivo indica que la cola está en el lado derecho. Un valor cero significa que las colas a ambos lados de la media se equilibran en general; este es el caso de una distribución simétrica, pero también puede ser cierto para una distribución asimétrica donde una cola es larga y delgada, y la otra es corta pero gruesa."
      ],
      "metadata": {
        "id": "6JU2UQdhhCiY"
      }
    },
    {
      "cell_type": "markdown",
      "source": [
        "¿Cuál es el grado de asimetría de las edades de los hombres y mujeres respectivamente que tienen un ingreso mayor a los 50K sin valores atípicos en edad?"
      ],
      "metadata": {
        "id": "LCzrdwIi0cCz"
      }
    },
    {
      "cell_type": "code",
      "source": [
        "# Función que calcula el grado de asimetría de una muestra\n",
        "def skewness(X):\n",
        "  X = np.array(X)\n",
        "\n",
        "  mu = X.mean()\n",
        "  std = X.std()\n",
        "\n",
        "  g1 = \n",
        "\n",
        "  return g1"
      ],
      "metadata": {
        "id": "1a3Koct4ibgY"
      },
      "execution_count": null,
      "outputs": []
    },
    {
      "cell_type": "code",
      "source": [
        "# Devuelve grado de asimetría de las edades de los hombres que tienen un ingreso mayor a los 50K sin valores atípicos en edad\n",
        "skewness(np.array(df_50k_c[df_50k_c.sex == \"Male\"].age))"
      ],
      "metadata": {
        "colab": {
          "base_uri": "https://localhost:8080/"
        },
        "id": "UgR4vTsfihCh",
        "outputId": "d76ccbb0-dd79-467e-9a26-635585a57eb4"
      },
      "execution_count": null,
      "outputs": [
        {
          "output_type": "execute_result",
          "data": {
            "text/plain": [
              "0.14725263591559787"
            ]
          },
          "metadata": {},
          "execution_count": 33
        }
      ]
    },
    {
      "cell_type": "code",
      "source": [
        "# Devuelve grado de asimetría de las edades de las mujeres que tienen un ingreso mayor a los 50K sin valores atípicos en edad\n",
        "skewness(np.array(df_50k_c[df_50k_c.sex == \"Female\"].age))"
      ],
      "metadata": {
        "colab": {
          "base_uri": "https://localhost:8080/"
        },
        "id": "PfVp5rEylx4N",
        "outputId": "4a1cfbcf-d1a7-4b41-aaab-3584d0906be0"
      },
      "execution_count": null,
      "outputs": [
        {
          "output_type": "execute_result",
          "data": {
            "text/plain": [
              "0.3040331248671587"
            ]
          },
          "metadata": {},
          "execution_count": 34
        }
      ]
    },
    {
      "cell_type": "code",
      "source": [
        "# Grafica distribución de las edades de los hombres\n",
        "df_50k_c[df_50k_c.sex == \"Male\"].age.hist(bins=20, alpha=0.5, color=\"cornflowerblue\", density=True)\n",
        "\n",
        "# Grafica distribución de las edades de las mujeres\n",
        "df_50k_c[df_50k_c.sex == \"Female\"].age.hist(bins=20, alpha=0.5, color=\"forestgreen\", density=True)"
      ],
      "metadata": {
        "colab": {
          "base_uri": "https://localhost:8080/",
          "height": 282
        },
        "id": "Mr0Co1atmOsc",
        "outputId": "5b377a15-d962-4bc4-ffcf-6f033606800c"
      },
      "execution_count": null,
      "outputs": [
        {
          "output_type": "execute_result",
          "data": {
            "text/plain": [
              "<matplotlib.axes._subplots.AxesSubplot at 0x7fbdca436d10>"
            ]
          },
          "metadata": {},
          "execution_count": 35
        },
        {
          "output_type": "display_data",
          "data": {
            "image/png": "[encoded data removed]",
            "text/plain": [
              "<Figure size 432x288 with 1 Axes>"
            ]
          },
          "metadata": {
            "needs_background": "light"
          }
        }
      ]
    },
    {
      "cell_type": "markdown",
      "source": [
        "### Distribución continua"
      ],
      "metadata": {
        "id": "aZtpixNvrzCe"
      }
    },
    {
      "cell_type": "markdown",
      "source": [
        "<image src=\"https://miro.medium.com/max/1100/0*gmjdcVExXhQqa9Dx.jpeg\">"
      ],
      "metadata": {
        "id": "nbeZn0gvJnmE"
      }
    },
    {
      "cell_type": "markdown",
      "source": [
        "Las distribuciones que se han estudiando hasta ahora se basan en observaciones empíricas y, por lo tanto, se denominan distribuciones empíricas. Como alternativa, podemos considerar distribuciones que están definidas por una función continua. "
      ],
      "metadata": {
        "id": "S8RWNZGWsQfM"
      }
    },
    {
      "cell_type": "markdown",
      "source": [
        "La **función de masa de probabilidad**, $f_x(x)$, de una variable aleatoria discreta $X$ se define como $f_x(x) = P(X=x)$ para toda $x$. En el caso de una variable aleatoria continua $X$, hablamos de la **función de densidad de probabilidad (abreviada PDF en inglés)**, que se define como $f_x(x) = \\int_{\\infty }^{x}f_{x}(t)\\delta t$."
      ],
      "metadata": {
        "id": "973sgBZTtATl"
      }
    },
    {
      "cell_type": "markdown",
      "source": [
        "Existen muchos tipos de distribuciones continuas. Las más comunes son la distribución exponencial y la distribución normal."
      ],
      "metadata": {
        "id": "Uk6p-dIC1_0j"
      }
    },
    {
      "cell_type": "markdown",
      "source": [
        "#### Distribución exponencial"
      ],
      "metadata": {
        "id": "t_SYf6P-ND0R"
      }
    },
    {
      "cell_type": "markdown",
      "source": [
        "**Las distribuciones exponenciales son bien conocidas por modelar el tiempo de espera para la ocurrencia de eventos.** Cuando los eventos tienen la misma probabilidad de ocurrir en cualquier momento, la distribución del tiempo entre llegadas tiende a una distribución exponencial. La CDF y la PDF de la distribución exponencial se definen como:"
      ],
      "metadata": {
        "id": "DyvywVJdNxAF"
      }
    },
    {
      "cell_type": "markdown",
      "source": [
        "$CDF(x)=1-e^{-\\lambda x}$\n",
        "\n",
        "$PDF(x)=\\lambda e^{-\\lambda x}$"
      ],
      "metadata": {
        "id": "nNzWx4KXN3zT"
      }
    },
    {
      "cell_type": "markdown",
      "source": [
        "donde el parámetro $\\lambda$ define la forma de la distribución. "
      ],
      "metadata": {
        "id": "wEOgKogXN1ee"
      }
    },
    {
      "cell_type": "markdown",
      "source": [
        "El parámetro $\\lambda$ comunmente se denomina parámetro de tasa, que determina la tasa promedio constante a la que ocurren los eventos. Por lo tanto, podemos interpretar la media en términos del parámetro de tasa. Por ejemplo, considere nuestra variable como el tiempo de espera para que llegue un autobús. Si el autobús llega en promedio cuatro veces cada hora, entonces estimamos esperar 15 minutos por un autobús."
      ],
      "metadata": {
        "id": "O_Bw2oVbhsfT"
      }
    },
    {
      "cell_type": "code",
      "source": [
        "# Declara arreglo\n",
        "x = np.arange(0, 10, 0.1)"
      ],
      "metadata": {
        "id": "fwYL25XeryVz"
      },
      "execution_count": null,
      "outputs": []
    },
    {
      "cell_type": "code",
      "source": [
        "# Calcula CDF y PDF con lambda igual a 1\n",
        "l = 2\n",
        "cdf_x = \n",
        "pdf_x = "
      ],
      "metadata": {
        "id": "sICb1nV9WvPv"
      },
      "execution_count": null,
      "outputs": []
    },
    {
      "cell_type": "code",
      "source": [
        "# Grafica CDF\n",
        "plt.plot(x, cdf_x) "
      ],
      "metadata": {
        "colab": {
          "base_uri": "https://localhost:8080/",
          "height": 282
        },
        "id": "8t79likHVLpc",
        "outputId": "649706da-3a71-45be-c92a-007adaf015ce"
      },
      "execution_count": null,
      "outputs": [
        {
          "output_type": "execute_result",
          "data": {
            "text/plain": [
              "[<matplotlib.lines.Line2D at 0x7fbdca2c47d0>]"
            ]
          },
          "metadata": {},
          "execution_count": 38
        },
        {
          "output_type": "display_data",
          "data": {
            "image/png": "[encoded data removed]",
            "text/plain": [
              "<Figure size 432x288 with 1 Axes>"
            ]
          },
          "metadata": {
            "needs_background": "light"
          }
        }
      ]
    },
    {
      "cell_type": "code",
      "source": [
        "# Grafica PDF\n",
        "plt.plot(x, pdf_x) "
      ],
      "metadata": {
        "colab": {
          "base_uri": "https://localhost:8080/",
          "height": 282
        },
        "id": "nPvg9mlgP_xG",
        "outputId": "c2e86e95-1f2b-4c78-eccc-6f9f026cc972"
      },
      "execution_count": null,
      "outputs": [
        {
          "output_type": "execute_result",
          "data": {
            "text/plain": [
              "[<matplotlib.lines.Line2D at 0x7fbdca2ba050>]"
            ]
          },
          "metadata": {},
          "execution_count": 39
        },
        {
          "output_type": "display_data",
          "data": {
            "image/png": "[encoded data removed]",
            "text/plain": [
              "<Figure size 432x288 with 1 Axes>"
            ]
          },
          "metadata": {
            "needs_background": "light"
          }
        }
      ]
    },
    {
      "cell_type": "markdown",
      "source": [
        "Es importante tener en cuenta que con un número reducido de muestras, es difícil ver que la distribución empírica exacta se ajuste a una distribución continua. La mejor manera de observar esta coincidencia es generar muestras de la distribución continua y ver si estas muestras coinciden con los datos. "
      ],
      "metadata": {
        "id": "FdXFsGzxW_h3"
      }
    },
    {
      "cell_type": "markdown",
      "source": [
        "#### Distribución normal"
      ],
      "metadata": {
        "id": "xjtC4Hrdbjkq"
      }
    },
    {
      "cell_type": "markdown",
      "source": [
        "**La gráfica de la función de densidad de la distribución normal, distribución de Gauss, distribución gaussiana o distribución de Laplace-Gauss, tiene una forma acampanada y es simétrica.** Esta curva se conoce como campana de Gauss."
      ],
      "metadata": {
        "id": "Rie1fbDPcYag"
      }
    },
    {
      "cell_type": "markdown",
      "source": [
        "La importancia de la distribución normal recae en que permite modelar numerosos fenómenos naturales y sociales. ​Los mecanismos que subyacen a gran parte de este tipo de fenómenos son desconocidos por la enorme cantidad de variables incontrolables que en ellos intervienen. El uso de la distribución normal asume que cada observación se obtiene como la suma de unas pocas causas independientes."
      ],
      "metadata": {
        "id": "xal1X8uzc_qq"
      }
    },
    {
      "cell_type": "markdown",
      "source": [
        "La distribución normal también es importante por su relación con la estimación por mínimos cuadrados, uno de los métodos de estimación más simples y antiguos."
      ],
      "metadata": {
        "id": "ojkMPjcadW_-"
      }
    },
    {
      "cell_type": "markdown",
      "source": [
        "Para encontrar la CDF de la distribución normal, necesitamos integrar la función PDF. Esta integral no tiene solución de forma cerrada, por lo que su representación más común es la PDF, que se define como:"
      ],
      "metadata": {
        "id": "gO7rJRE5fRos"
      }
    },
    {
      "cell_type": "markdown",
      "source": [
        "$PDF(x)=\\frac{1}{\\sqrt{2\\pi\\sigma^2}}e^{-\\frac{(x-\\mu)^2}{2\\sigma^2}}$"
      ],
      "metadata": {
        "id": "qch0B4_AgSyR"
      }
    },
    {
      "cell_type": "markdown",
      "source": [
        "donde el parámetro $\\sigma$ define la forma de la distribución."
      ],
      "metadata": {
        "id": "xr7FEJILhG5j"
      }
    },
    {
      "cell_type": "code",
      "source": [
        "# Declara arreglo\n",
        "x = np.arange(0, 10, 0.1)"
      ],
      "metadata": {
        "id": "v8ehnNp0iKrI"
      },
      "execution_count": null,
      "outputs": []
    },
    {
      "cell_type": "code",
      "source": [
        "# Calcula PDF \n",
        "mu = x.mean()\n",
        "std = x.std()\n",
        "pdf_x = 1/np.sqrt(2*np.pi*std**2) * np.exp(-0.5*((x-mu)/std)**2)"
      ],
      "metadata": {
        "id": "hjCw-POfiKrJ"
      },
      "execution_count": null,
      "outputs": []
    },
    {
      "cell_type": "code",
      "source": [
        "# Grafica PDF\n",
        "plt.plot(x, pdf_x) "
      ],
      "metadata": {
        "colab": {
          "base_uri": "https://localhost:8080/",
          "height": 282
        },
        "outputId": "3e659657-6007-4300-907b-b08b1bfeea86",
        "id": "9sgf7n96iKrJ"
      },
      "execution_count": null,
      "outputs": [
        {
          "output_type": "execute_result",
          "data": {
            "text/plain": [
              "[<matplotlib.lines.Line2D at 0x7fbdca230110>]"
            ]
          },
          "metadata": {},
          "execution_count": 42
        },
        {
          "output_type": "display_data",
          "data": {
            "image/png": "[encoded data removed]",
            "text/plain": [
              "<Figure size 432x288 with 1 Axes>"
            ]
          },
          "metadata": {
            "needs_background": "light"
          }
        }
      ]
    },
    {
      "cell_type": "markdown",
      "source": [
        "### Densidad kernel"
      ],
      "metadata": {
        "id": "agXdneUsnmVB"
      }
    },
    {
      "cell_type": "markdown",
      "source": [
        "En muchos problemas reales, es posible que no estemos interesados en los parámetros de una distribución particular de datos, sino solo en una **representación continua de los datos**. En este caso, debemos **estimar la distribución de forma no paramétrica** (es decir, sin hacer suposiciones sobre la forma de la distribución subyacente) **utilizando la estimación de densidad kernel**. "
      ],
      "metadata": {
        "id": "I_eiwpTVnq-0"
      }
    },
    {
      "cell_type": "markdown",
      "source": [
        "Si tenemos un conjunto de medidas de datos sin conocer su distribución y necesitamos estimar la representación continua de su distribución, podemos considerar un kernel gaussiano para generar la densidad alrededor de los datos. "
      ],
      "metadata": {
        "id": "vU4DFzZcn3ch"
      }
    },
    {
      "cell_type": "markdown",
      "source": [
        "Considerando un conjunto de datos aleatorios generados por una distribución normal bimodal y un núcleo gaussiano alrededor de los datos. La suma de los núcleos puede darnos una función continua que, cuando se normaliza, se aproximaría a la densidad de la distribución."
      ],
      "metadata": {
        "id": "DWCpeGSRo0GP"
      }
    },
    {
      "cell_type": "code",
      "source": [
        "# Declara arreglos con valores aleatorios normalmente distribuidos\n",
        "x1 = np.random.normal(-1, 0.5, 15)\n",
        "x2 = np.random.normal(6, 1, 10)"
      ],
      "metadata": {
        "id": "qkVgAL_4afss"
      },
      "execution_count": null,
      "outputs": []
    },
    {
      "cell_type": "code",
      "source": [
        "# Concatena x1 y x2\n",
        "y = np.r_[x1 , x2]"
      ],
      "metadata": {
        "id": "9z0N46hYpFK4"
      },
      "execution_count": null,
      "outputs": []
    },
    {
      "cell_type": "code",
      "source": [
        "# Estimación de la densidad kernel\n",
        "krnl_density = "
      ],
      "metadata": {
        "id": "-1MW8bjtq0Oy"
      },
      "execution_count": null,
      "outputs": []
    },
    {
      "cell_type": "code",
      "source": [
        "# Grafica densidad kernel\n",
        "xgrid = np.linspace(y.min(), y.max(), 200)\n",
        "plt.hist(y, bins=50, density = True)\n",
        "plt.plot(xgrid, krnl_density(xgrid), \"r-\")"
      ],
      "metadata": {
        "colab": {
          "base_uri": "https://localhost:8080/",
          "height": 283
        },
        "id": "LbqIIllKsrX8",
        "outputId": "1757560d-200b-4376-cb49-8e274e1ab436"
      },
      "execution_count": null,
      "outputs": [
        {
          "output_type": "execute_result",
          "data": {
            "text/plain": [
              "[<matplotlib.lines.Line2D at 0x7fbdc81a3690>]"
            ]
          },
          "metadata": {},
          "execution_count": 46
        },
        {
          "output_type": "display_data",
          "data": {
            "image/png": "[encoded data removed]",
            "text/plain": [
              "<Figure size 432x288 with 1 Axes>"
            ]
          },
          "metadata": {
            "needs_background": "light"
          }
        }
      ]
    },
    {
      "cell_type": "markdown",
      "source": [
        "### Ejercicios"
      ],
      "metadata": {
        "id": "k7gDMaxiszmG"
      }
    },
    {
      "cell_type": "markdown",
      "source": [
        "1. Responde las siguientes preguntas analizando el conjunto de datos [adult](https://archive.ics.uci.edu/ml/datasets/Adult). Justifica tu respuesta con datos. \n",
        "\n",
        "  1.1. ¿Qué diferencias en ingresos se observan entre hombres y mujeres?\n",
        "\n",
        "  1.2. ¿Qué diferencias en ingresos se observan entre los distintos grados educativos? \n",
        "\n",
        "2. Utilizando el conjunto de datos [birthdays](https://github.com/sarahiaguilar/fundamentos-cdd/blob/main/datos/birthdays.csv):\n",
        "\n",
        "  2.1. Calcula y grafica la función de distribución acumulada de los días entre cada cumpleaños. \n",
        "\n",
        "  2.2. Calcula y grafica la función de densidad de probabilidad de los días entre cada cumpleaños. "
      ],
      "metadata": {
        "id": "GHfjRHmps18B"
      }
    }
  ]
}