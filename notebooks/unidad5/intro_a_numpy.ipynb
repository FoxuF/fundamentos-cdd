{
  "cells": [
    {
      "cell_type": "markdown",
      "metadata": {
        "id": "4yFpScYhbyf4"
      },
      "source": [
        "# Introducción a NumPy"
      ]
    },
    {
      "cell_type": "markdown",
      "metadata": {
        "id": "TG1h-y-JbygJ"
      },
      "source": [
        "#### **NumPy es el paquete fundamental para la computación científica en Python.**"
      ]
    },
    {
      "cell_type": "markdown",
      "metadata": {
        "id": "uK04ggH9bygN"
      },
      "source": [
        "NumPy es una biblioteca de Python que proporciona un objeto de matriz n-dimensional (`ndarray`) de tipos de datos homogéneos, varios objetos derivados y una variedad de rutinas para operaciones rápidas en matrices."
      ]
    },
    {
      "cell_type": "markdown",
      "metadata": {
        "id": "kfzzWN-LbygQ"
      },
      "source": [
        "### ¿Cuál es la diferencia entre las matrices NumPy (`ndarray`) y las secuencias estándar de Python?"
      ]
    },
    {
      "cell_type": "markdown",
      "metadata": {
        "id": "dgqBTW0cbygS"
      },
      "source": [
        "Las diferencias más importantes entre las matrices NumPy (`ndarray`) y las secuencias estándar de Python son las siguientes:\n",
        "* Las matrices NumPy tienen un tamaño fijo en la creación, a diferencia de las listas de Python (que pueden crecer dinámicamente). Cambiar el tamaño de un `ndarray` creará una nueva matriz y eliminará la original.\n",
        "* Se requiere que todos los elementos en una matriz NumPy sean del mismo tipo de datos y, por lo tanto, tendrán el mismo tamaño en la memoria. La excepción: uno puede tener matrices de objetos (Python, incluido NumPy), lo que permite matrices de elementos de diferentes tamaños.\n",
        "* Las matrices NumPy facilitan operaciones matemáticas avanzadas y de otro tipo en grandes cantidades de datos. Por lo general, tales operaciones se ejecutan de manera más eficiente y con menos código de lo que es posible con las secuencias integradas de Python.\n",
        "* Una plétora creciente de paquetes científicos y matemáticos basados en Python está utilizando matrices NumPy; aunque estos suelen admitir la entrada de secuencia de Python, convierten dicha entrada en matrices NumPy antes del procesamiento y, a menudo, generan matrices NumPy. En otras palabras, para usar de manera eficiente gran parte (quizás incluso la mayoría) del software científico/matemático actual basado en Python, no basta con saber cómo usar los tipos de secuencia integrados de Python; también es necesario saber cómo usar las matrices NumPy."
      ]
    },
    {
      "cell_type": "markdown",
      "metadata": {
        "id": "cy7WLqEwbygW"
      },
      "source": [
        "### ¿Por qué NumPy es rápido?"
      ]
    },
    {
      "cell_type": "markdown",
      "metadata": {
        "jp-MarkdownHeadingCollapsed": true,
        "tags": [],
        "id": "3YhyXc6nbygY"
      },
      "source": [
        "La vectorización y el broadcasting. "
      ]
    },
    {
      "cell_type": "markdown",
      "metadata": {
        "jp-MarkdownHeadingCollapsed": true,
        "tags": [],
        "id": "8x3FgHFibygc"
      },
      "source": [
        "La vectorización del código describe la ausencia de bucles explícitos, indexación, etc., en el código a pesar de que  \"detrás de escena\" la ejecució corre en código C optimizado y precompilado. El código vectorizado tiene muchas ventajas, entre las que se encuentran:\n",
        "* Es más conciso y más fácil de leer. \n",
        "* Requiere de menos líneas de código, lo que generalmente significa menos errores. \n",
        "* Se parece más a la notación matemática estándar (lo que facilita, por lo general, codificar correctamente las construcciones matemáticas). \n",
        "* Da como resultado código más \"pythonic\". Sin la vectorización, nuestro código estaría plagado de bucles difíciles de leer e ineficientes."
      ]
    },
    {
      "cell_type": "markdown",
      "metadata": {
        "jp-MarkdownHeadingCollapsed": true,
        "tags": [],
        "id": "e1FocqUEbygf"
      },
      "source": [
        "El broadcasting es el término utilizado para describir el comportamiento implícito de las operaciones elemento por elemento. En términos generales, en NumPy todas las operaciones se comportan de esta manera. "
      ]
    },
    {
      "cell_type": "markdown",
      "metadata": {
        "id": "NvnL6rsDbygh"
      },
      "source": [
        "## Importación y otros comandos útiles"
      ]
    },
    {
      "cell_type": "markdown",
      "metadata": {
        "id": "78EBlnhAbygj"
      },
      "source": [
        "Por convención, NumPy se importa con el alias *np*."
      ]
    },
    {
      "cell_type": "code",
      "execution_count": 1,
      "metadata": {
        "id": "H0mh7VyWbygl"
      },
      "outputs": [],
      "source": [
        "import numpy as np"
      ]
    },
    {
      "cell_type": "code",
      "execution_count": 2,
      "metadata": {
        "colab": {
          "base_uri": "https://localhost:8080/",
          "height": 34
        },
        "id": "6EIxVxEXbygp",
        "outputId": "bff0274b-1318-4d24-bdb6-56142736f627"
      },
      "outputs": [
        {
          "output_type": "execute_result",
          "data": {
            "application/vnd.google.colaboratory.intrinsic+json": {
              "type": "string"
            },
            "text/plain": [
              "'1.21.5'"
            ]
          },
          "metadata": {},
          "execution_count": 2
        }
      ],
      "source": [
        "# Imprime versión de numpy\n",
        "np.__version__"
      ]
    },
    {
      "cell_type": "code",
      "execution_count": 3,
      "metadata": {
        "id": "ovDzwGksbygu"
      },
      "outputs": [],
      "source": [
        "# Imprime documentación bult-in de numpy\n",
        "np?"
      ]
    },
    {
      "cell_type": "markdown",
      "metadata": {
        "tags": [],
        "id": "XC1eiRvmbygv"
      },
      "source": [
        "## Las variables son más que solo su valor"
      ]
    },
    {
      "cell_type": "markdown",
      "metadata": {
        "id": "ExxlZ_6zbygw"
      },
      "source": [
        "Una de las ventajas mayormente reconocidas de Python es que es un lenguaje de programación que se tipifica dinámicamente. Mientras que un lenguaje de programación de tipo estático como C o Java requiere que cada variable se declare explícitamente, un lenguaje de programación de tipo dinámico como Python omite esta especificación."
      ]
    },
    {
      "cell_type": "code",
      "execution_count": 4,
      "metadata": {
        "id": "8ATOUmD3bygy"
      },
      "outputs": [],
      "source": [
        "# Código en Python\n",
        "x = 4\n",
        "x = \"four\""
      ]
    },
    {
      "cell_type": "raw",
      "metadata": {
        "id": "0wHlpT-0bygz"
      },
      "source": [
        "# /* Código en C */\n",
        "int x = 4;\n",
        "x = \"four\";  // C marcaría error al correr esta línea de código"
      ]
    },
    {
      "cell_type": "markdown",
      "metadata": {
        "id": "sn1vLBW6bygz"
      },
      "source": [
        "Comprender cómo funciona esto es esencial cuando se busca aprender a analizar datos de manera eficiente y efectiva con Python. La flexibilidad que otorga un lenguaje de programación de tipo dinámico sugiere que las variables de Python son más que solo su valor pues también contienen información adicional sobre el tipo de valor."
      ]
    },
    {
      "cell_type": "markdown",
      "metadata": {
        "id": "Snq2q-1Xbyg0"
      },
      "source": [
        "La implementación estándar de Python está escrita en C. Esto significa que cada objeto de Python es una estructura C, que contiene no solo su valor, sino también otra información. Por ejemplo, cuando definimos un número entero en Python, como `x = 10000`, `x` no es solo un número entero per se, y en realidad, es un puntero a una estructura C compuesta, que contiene varios valores como el recuento de referencias que ayuda a Python a manejar silenciosamente la asignación y desasignación de memoria, el tipo de la variable, el tamaño de la variable y el valor entero real que esperamos que represente la variable de Python."
      ]
    },
    {
      "cell_type": "markdown",
      "metadata": {
        "id": "qjNhCYUmbyg1"
      },
      "source": [
        "La información adicional en la estructura de datos de Python es lo que permite que Python se codifique de manera tan libre. Sin embargo, la información adicional en los tipos de Python tiene un costo, que se vuelve especialmente evidente en las estructuras que combinan muchos de estos objetos."
      ]
    },
    {
      "cell_type": "markdown",
      "metadata": {
        "id": "lbeG9iVzbyg2"
      },
      "source": [
        "El contenedor multielemento mutable estándar en Python es la lista."
      ]
    },
    {
      "cell_type": "code",
      "execution_count": 5,
      "metadata": {
        "colab": {
          "base_uri": "https://localhost:8080/"
        },
        "id": "ufywg4KRbyg3",
        "outputId": "2af564ca-1c8c-47cf-9d83-e6fe4508d4f7"
      },
      "outputs": [
        {
          "output_type": "stream",
          "name": "stdout",
          "text": [
            "[0, 1, 2, 3, 4, 5, 6, 7, 8, 9]\n"
          ]
        }
      ],
      "source": [
        "# Declara lista (l) con una secuencia lineal de los primeros 10 enteros consecutivos\n",
        "l = list(range(10))\n",
        "\n",
        "# Imprime lista l\n",
        "print(l)"
      ]
    },
    {
      "cell_type": "code",
      "source": [
        "# Devuelve tipo de lista l\n",
        "type(l)"
      ],
      "metadata": {
        "colab": {
          "base_uri": "https://localhost:8080/"
        },
        "id": "sbARZNs2scA_",
        "outputId": "4814a043-31ae-45a6-f025-44a283471e5a"
      },
      "execution_count": 6,
      "outputs": [
        {
          "output_type": "execute_result",
          "data": {
            "text/plain": [
              "list"
            ]
          },
          "metadata": {},
          "execution_count": 6
        }
      ]
    },
    {
      "cell_type": "code",
      "execution_count": 7,
      "metadata": {
        "colab": {
          "base_uri": "https://localhost:8080/"
        },
        "id": "eV4OucAHbyg5",
        "outputId": "4e42e668-f966-4d5e-a444-449777930114"
      },
      "outputs": [
        {
          "output_type": "execute_result",
          "data": {
            "text/plain": [
              "int"
            ]
          },
          "metadata": {},
          "execution_count": 7
        }
      ],
      "source": [
        "# Devuelve tipo del primer elemento de lista l\n",
        "type(l[0])"
      ]
    },
    {
      "cell_type": "code",
      "execution_count": 8,
      "metadata": {
        "colab": {
          "base_uri": "https://localhost:8080/"
        },
        "id": "oKA1glxXbyg6",
        "outputId": "213af97b-158d-4df0-c812-372ed159fe56"
      },
      "outputs": [
        {
          "output_type": "stream",
          "name": "stdout",
          "text": [
            "['0', '1', '2', '3', '4', '5', '6', '7', '8', '9']\n"
          ]
        }
      ],
      "source": [
        "# Declara lista (l2) con una secuencia lineal de los primeros 10 enteros consecutivos como strings\n",
        "l2 = [str(i) for i in l]\n",
        "\n",
        "# Imprime lista l2\n",
        "print(l2)"
      ]
    },
    {
      "cell_type": "code",
      "execution_count": 9,
      "metadata": {
        "colab": {
          "base_uri": "https://localhost:8080/"
        },
        "id": "xYiwG8FIbyg7",
        "outputId": "2d47cb9c-83a2-4f26-abd9-e48024ce7b1f"
      },
      "outputs": [
        {
          "output_type": "execute_result",
          "data": {
            "text/plain": [
              "list"
            ]
          },
          "metadata": {},
          "execution_count": 9
        }
      ],
      "source": [
        "# Devuelve tipo de lista l2\n",
        "type(l2)"
      ]
    },
    {
      "cell_type": "code",
      "execution_count": 10,
      "metadata": {
        "colab": {
          "base_uri": "https://localhost:8080/"
        },
        "id": "4Gc0noNebyg8",
        "outputId": "15cdf67e-a162-4ec9-defd-60ff8a2f90db"
      },
      "outputs": [
        {
          "output_type": "execute_result",
          "data": {
            "text/plain": [
              "int"
            ]
          },
          "metadata": {},
          "execution_count": 10
        }
      ],
      "source": [
        "# Devuelve tipo del primer elemento de lista l2\n",
        "type(l[0])"
      ]
    },
    {
      "cell_type": "code",
      "execution_count": 11,
      "metadata": {
        "colab": {
          "base_uri": "https://localhost:8080/"
        },
        "id": "WZ6_Q-Yjbyg9",
        "outputId": "ba774d24-4fe5-4a33-c805-53ef96d9eb17"
      },
      "outputs": [
        {
          "output_type": "stream",
          "name": "stdout",
          "text": [
            "[42, 42.0, '42', True]\n"
          ]
        }
      ],
      "source": [
        "# Declara lista (l3) con valores de tipos distintos\n",
        "l3 = [42, 42.0, \"42\", True]\n",
        "\n",
        "# Imprime lista l3\n",
        "print(l3)"
      ]
    },
    {
      "cell_type": "code",
      "execution_count": 12,
      "metadata": {
        "colab": {
          "base_uri": "https://localhost:8080/"
        },
        "id": "kwpBR17vbyg_",
        "outputId": "93e4aeac-c46a-4df0-dfb6-8842e46c473b"
      },
      "outputs": [
        {
          "output_type": "execute_result",
          "data": {
            "text/plain": [
              "[int, float, str, bool]"
            ]
          },
          "metadata": {},
          "execution_count": 12
        }
      ],
      "source": [
        "# Devuelve tipo de todos los elementos de la lista l3\n",
        "[type(i) for i in l3]"
      ]
    },
    {
      "cell_type": "markdown",
      "metadata": {
        "id": "424149vjbyhA"
      },
      "source": [
        "Cada elemento de una lista debe contener su propia información pues cada uno es un objeto de Python completo. En el caso de que todas las variables sean del mismo tipo, mucha de esta información es redundante. Por ello, resulta mucho más eficiente almacenar datos en un arreglo o una matriz de tipo fijo, es decir, un `ndarray`."
      ]
    },
    {
      "cell_type": "markdown",
      "metadata": {
        "id": "7BCjwNpsbyhB"
      },
      "source": [
        "## Creando un `ndarray`"
      ]
    },
    {
      "cell_type": "markdown",
      "metadata": {
        "id": "cpCLEGMJbyhB"
      },
      "source": [
        "### A partir de una lista"
      ]
    },
    {
      "cell_type": "markdown",
      "metadata": {
        "id": "-Re77py9byhB"
      },
      "source": [
        "`np.array` permite crear arreglos a partir de una lista."
      ]
    },
    {
      "cell_type": "code",
      "execution_count": 13,
      "metadata": {
        "colab": {
          "base_uri": "https://localhost:8080/"
        },
        "id": "6Hpc5tkdbyhC",
        "outputId": "f3bf3d69-e923-4783-c710-615d1363b493"
      },
      "outputs": [
        {
          "output_type": "execute_result",
          "data": {
            "text/plain": [
              "array([ 2,  3,  5,  7, 11])"
            ]
          },
          "metadata": {},
          "execution_count": 13
        }
      ],
      "source": [
        "# Declara arreglo de enteros\n",
        "np.array([2, 3, 5, 7, 11])"
      ]
    },
    {
      "cell_type": "markdown",
      "metadata": {
        "id": "92hrBzG_byhD"
      },
      "source": [
        "Si los tipos de un arreglo no coinciden, NumPy ejecutará un upcast si es posible."
      ]
    },
    {
      "cell_type": "code",
      "execution_count": 14,
      "metadata": {
        "colab": {
          "base_uri": "https://localhost:8080/"
        },
        "id": "MYjNEUjQbyhD",
        "outputId": "f98528ae-ee57-409d-a0cc-44f9c64d660e"
      },
      "outputs": [
        {
          "output_type": "execute_result",
          "data": {
            "text/plain": [
              "array([ 2.    ,  3.1416,  5.    ,  7.    , 11.    ])"
            ]
          },
          "metadata": {},
          "execution_count": 14
        }
      ],
      "source": [
        "# Declara arreglo con valores de tipos distintos\n",
        "np.array([2, 3.1416, 5, 7, 11])"
      ]
    },
    {
      "cell_type": "markdown",
      "metadata": {
        "id": "ytyO819TbyhE"
      },
      "source": [
        "Si queremos establecer explícitamente el tipo de datos del arreglo resultante, podemos usar el parámetro `dtype`."
      ]
    },
    {
      "cell_type": "code",
      "execution_count": 15,
      "metadata": {
        "colab": {
          "base_uri": "https://localhost:8080/"
        },
        "id": "oTb4z3VSbyhE",
        "outputId": "6ddb2b07-94d3-429d-bd54-7f32d85b2598"
      },
      "outputs": [
        {
          "output_type": "execute_result",
          "data": {
            "text/plain": [
              "array([ 2.,  3.,  5.,  7., 11.], dtype=float32)"
            ]
          },
          "metadata": {},
          "execution_count": 15
        }
      ],
      "source": [
        "# Declara arreglo de flotantes\n",
        "np.array([2, 3, 5, 7, 11], dtype='float32')"
      ]
    },
    {
      "cell_type": "markdown",
      "metadata": {
        "id": "woWpj_DVbyhF"
      },
      "source": [
        "A diferencia de las listas de Python, los arreglos NumPy pueden ser explícitamente multidimensionales, es decir, las listas internas se tratan como filas del arreglo bidimensional (o matriz) resultante."
      ]
    },
    {
      "cell_type": "code",
      "execution_count": 16,
      "metadata": {
        "colab": {
          "base_uri": "https://localhost:8080/"
        },
        "id": "LCr4di09byhG",
        "outputId": "315a8aca-3bb5-4811-d71c-7d1c0dc13c90"
      },
      "outputs": [
        {
          "output_type": "execute_result",
          "data": {
            "text/plain": [
              "array([[2, 3, 4],\n",
              "       [4, 5, 6],\n",
              "       [6, 7, 8]])"
            ]
          },
          "metadata": {},
          "execution_count": 16
        }
      ],
      "source": [
        "# Declara matriz 3x3\n",
        "np.array([range(i, i + 3) for i in [2, 4, 6]])"
      ]
    },
    {
      "cell_type": "markdown",
      "metadata": {
        "id": "20-lMwE8byhG"
      },
      "source": [
        "### Desde 0"
      ]
    },
    {
      "cell_type": "markdown",
      "metadata": {
        "id": "X8fLM4l6byhH"
      },
      "source": [
        "Especialmente para arreglos más grandes, es más eficiente crear arreglos o matrices desde cero utilizando rutinas integradas en NumPy."
      ]
    },
    {
      "cell_type": "code",
      "execution_count": 17,
      "metadata": {
        "colab": {
          "base_uri": "https://localhost:8080/"
        },
        "id": "dJZvkgqlbyhJ",
        "outputId": "452933f1-df4c-43fa-cd63-bfc011fddea7"
      },
      "outputs": [
        {
          "output_type": "execute_result",
          "data": {
            "text/plain": [
              "array([ 0,  5, 10, 15, 20, 25])"
            ]
          },
          "metadata": {},
          "execution_count": 17
        }
      ],
      "source": [
        "# Declara arreglo con una secuencia linear en el intervalo [0, 30), de 5 en 5\n",
        "np.arange(0, 30, 5)"
      ]
    },
    {
      "cell_type": "code",
      "execution_count": 18,
      "metadata": {
        "colab": {
          "base_uri": "https://localhost:8080/"
        },
        "id": "Xt3HMky-byhH",
        "outputId": "a85a8105-8d06-4bef-b61d-0a1fc3b2ff0c"
      },
      "outputs": [
        {
          "output_type": "execute_result",
          "data": {
            "text/plain": [
              "array([0, 0, 0, 0, 0, 0, 0, 0, 0, 0, 0, 0, 0, 0, 0, 0, 0, 0, 0, 0, 0, 0,\n",
              "       0, 0, 0, 0, 0, 0, 0, 0, 0, 0, 0, 0, 0, 0, 0, 0, 0, 0, 0, 0])"
            ]
          },
          "metadata": {},
          "execution_count": 18
        }
      ],
      "source": [
        "# Declara arreglo de tamaño 42 de ceros enteros\n",
        "np.zeros(42, dtype=int)"
      ]
    },
    {
      "cell_type": "code",
      "execution_count": 19,
      "metadata": {
        "colab": {
          "base_uri": "https://localhost:8080/"
        },
        "id": "fBAzVCbObyhI",
        "outputId": "9b4707ce-c11c-480b-e1d6-b6b7cd8bb296"
      },
      "outputs": [
        {
          "output_type": "execute_result",
          "data": {
            "text/plain": [
              "array([[1., 1., 1., 1., 1., 1., 1., 1., 1., 1., 1., 1.],\n",
              "       [1., 1., 1., 1., 1., 1., 1., 1., 1., 1., 1., 1.],\n",
              "       [1., 1., 1., 1., 1., 1., 1., 1., 1., 1., 1., 1.],\n",
              "       [1., 1., 1., 1., 1., 1., 1., 1., 1., 1., 1., 1.],\n",
              "       [1., 1., 1., 1., 1., 1., 1., 1., 1., 1., 1., 1.],\n",
              "       [1., 1., 1., 1., 1., 1., 1., 1., 1., 1., 1., 1.]])"
            ]
          },
          "metadata": {},
          "execution_count": 19
        }
      ],
      "source": [
        "# Declara matriz 6x12 de unos de flotantes\n",
        "np.ones((6, 12), dtype=float)"
      ]
    },
    {
      "cell_type": "code",
      "execution_count": 20,
      "metadata": {
        "colab": {
          "base_uri": "https://localhost:8080/"
        },
        "id": "eN6QN0-dbyhJ",
        "outputId": "43d2eaee-b0bd-4c8b-a678-b81369cadb70"
      },
      "outputs": [
        {
          "output_type": "execute_result",
          "data": {
            "text/plain": [
              "array([[42, 42, 42, 42, 42, 42, 42, 42, 42, 42],\n",
              "       [42, 42, 42, 42, 42, 42, 42, 42, 42, 42]])"
            ]
          },
          "metadata": {},
          "execution_count": 20
        }
      ],
      "source": [
        "# Declara arreglo de tamaño 2x10 del valor 42\n",
        "np.full((2, 10), 42)"
      ]
    },
    {
      "cell_type": "code",
      "execution_count": 21,
      "metadata": {
        "colab": {
          "base_uri": "https://localhost:8080/"
        },
        "id": "IXqHuU7vbyhK",
        "outputId": "0724eea2-8c9a-43b5-89a3-2353e7d1ff4d"
      },
      "outputs": [
        {
          "output_type": "execute_result",
          "data": {
            "text/plain": [
              "array([ 0. ,  2.5,  5. ,  7.5, 10. ])"
            ]
          },
          "metadata": {},
          "execution_count": 21
        }
      ],
      "source": [
        "# Declara arreglo de 5 valores espaciados uniformemente en el intervalo [0, 10]\n",
        "np.linspace(0, 10, 5)"
      ]
    },
    {
      "cell_type": "code",
      "execution_count": 22,
      "metadata": {
        "colab": {
          "base_uri": "https://localhost:8080/"
        },
        "id": "wcRhVtZIbyhL",
        "outputId": "a1f50a6b-50b8-4e9b-d082-4b52ea26cdf2"
      },
      "outputs": [
        {
          "output_type": "execute_result",
          "data": {
            "text/plain": [
              "array([[0.77549742, 0.18228215, 0.70203673, 0.94957269],\n",
              "       [0.01692847, 0.0974865 , 0.01279715, 0.60604888],\n",
              "       [0.97478219, 0.94242096, 0.80757835, 0.93187696],\n",
              "       [0.88105279, 0.45352808, 0.35171375, 0.61306066]])"
            ]
          },
          "metadata": {},
          "execution_count": 22
        }
      ],
      "source": [
        "# Delcara matriz 4x4 de valores aleatorios entre 0 y 1\n",
        "np.random.random((4, 4))"
      ]
    },
    {
      "cell_type": "code",
      "execution_count": 23,
      "metadata": {
        "colab": {
          "base_uri": "https://localhost:8080/"
        },
        "id": "KUaKKgdHbyhL",
        "outputId": "9eecba89-766b-4c3e-cad6-7451e534fa5e"
      },
      "outputs": [
        {
          "output_type": "execute_result",
          "data": {
            "text/plain": [
              "array([[-0.19733948,  1.31878451, -0.0801891 ,  0.03726215],\n",
              "       [ 0.04799027, -1.06735974, -0.23567432, -1.11595108],\n",
              "       [-0.18027436, -0.43249147,  0.05777055,  0.51184385],\n",
              "       [-0.63377361, -0.94077983, -0.49376983, -2.06858655]])"
            ]
          },
          "metadata": {},
          "execution_count": 23
        }
      ],
      "source": [
        "# Delcara matriz 4x4 de valores aleatorios normalmente distribuidos con media de 0 y desviación estándar de 1\n",
        "np.random.normal(0, 1, (4, 4))"
      ]
    },
    {
      "cell_type": "code",
      "execution_count": 24,
      "metadata": {
        "colab": {
          "base_uri": "https://localhost:8080/"
        },
        "id": "7UkjyRFMbyhM",
        "outputId": "db6c1962-761d-44e0-f6cb-1dc6375b5e69"
      },
      "outputs": [
        {
          "output_type": "execute_result",
          "data": {
            "text/plain": [
              "array([[0, 3, 2, 9],\n",
              "       [0, 7, 5, 3],\n",
              "       [0, 3, 0, 0],\n",
              "       [0, 0, 5, 2]])"
            ]
          },
          "metadata": {},
          "execution_count": 24
        }
      ],
      "source": [
        "# Delcara matriz 4x4 de valores aleatorios en el intervalo [0, 10)\n",
        "np.random.randint(0, 10, (4, 4))"
      ]
    },
    {
      "cell_type": "code",
      "execution_count": 25,
      "metadata": {
        "colab": {
          "base_uri": "https://localhost:8080/"
        },
        "id": "YRuu3XGjbyhN",
        "outputId": "02557bed-91e7-43fe-ff04-9c5ce0a3b4ca"
      },
      "outputs": [
        {
          "output_type": "execute_result",
          "data": {
            "text/plain": [
              "array([[1., 0., 0., 0.],\n",
              "       [0., 1., 0., 0.],\n",
              "       [0., 0., 1., 0.],\n",
              "       [0., 0., 0., 1.]])"
            ]
          },
          "metadata": {},
          "execution_count": 25
        }
      ],
      "source": [
        "# Declara matriz identidad 4x4\n",
        "np.eye(4)"
      ]
    },
    {
      "cell_type": "code",
      "execution_count": 26,
      "metadata": {
        "colab": {
          "base_uri": "https://localhost:8080/"
        },
        "id": "N62btcdhbyhO",
        "outputId": "97852f17-8d7a-4255-db70-3d62a59e421b"
      },
      "outputs": [
        {
          "output_type": "execute_result",
          "data": {
            "text/plain": [
              "array([0.75, 0.75, 0.  ])"
            ]
          },
          "metadata": {},
          "execution_count": 26
        }
      ],
      "source": [
        "# Declara arreglo no inicializado de tres enteros\n",
        "# Los valores serán lo que ya exista en esa ubicación de memoria\n",
        "np.empty(3)"
      ]
    },
    {
      "cell_type": "markdown",
      "metadata": {
        "id": "ZOoDcYmcbyhO"
      },
      "source": [
        "## Atributos de un `ndarray`"
      ]
    },
    {
      "cell_type": "markdown",
      "metadata": {
        "id": "U_751IKCbyhP"
      },
      "source": [
        "Cada arreglo o matriz tiene los siguientes atributos:\n",
        "* `ndim`: el número de dimensiones\n",
        "* `shape`: el tamaño de cada dimensión\n",
        "* `size`: el tamaño total del arreglo\n",
        "* `dtype`: el tipo del arreglo\n",
        "* `itemsize`: el tamaño en bytes de los elementos del arreglo\n",
        "* `nbytes`: el tamaño en bytes de todos los elementos del arreglo"
      ]
    },
    {
      "cell_type": "code",
      "execution_count": 27,
      "metadata": {
        "id": "DG3i2IRCbyhR"
      },
      "outputs": [],
      "source": [
        "# Declara semilla para reproducibilidad\n",
        "np.random.seed(0) "
      ]
    },
    {
      "cell_type": "code",
      "execution_count": 28,
      "metadata": {
        "colab": {
          "base_uri": "https://localhost:8080/"
        },
        "id": "BylkcPVDbyhR",
        "outputId": "998ce5dd-7216-4d4d-d3ef-596dfb08a5a0"
      },
      "outputs": [
        {
          "output_type": "execute_result",
          "data": {
            "text/plain": [
              "array([[[5, 0, 3, 3, 7],\n",
              "        [9, 3, 5, 2, 4],\n",
              "        [7, 6, 8, 8, 1],\n",
              "        [6, 7, 7, 8, 1]],\n",
              "\n",
              "       [[5, 9, 8, 9, 4],\n",
              "        [3, 0, 3, 5, 0],\n",
              "        [2, 3, 8, 1, 3],\n",
              "        [3, 3, 7, 0, 1]],\n",
              "\n",
              "       [[9, 9, 0, 4, 7],\n",
              "        [3, 2, 7, 2, 0],\n",
              "        [0, 4, 5, 5, 6],\n",
              "        [8, 4, 1, 4, 9]]])"
            ]
          },
          "metadata": {},
          "execution_count": 28
        }
      ],
      "source": [
        "# Declara matriz 3x4x5 (m) de valores aleatorios en el intervalo [0, 10)\n",
        "m = np.random.randint(10, size=(3, 4, 5)) \n",
        "\n",
        "# Imprime matriz m\n",
        "m"
      ]
    },
    {
      "cell_type": "code",
      "execution_count": 29,
      "metadata": {
        "colab": {
          "base_uri": "https://localhost:8080/"
        },
        "id": "Pox1ctc_byhS",
        "outputId": "9d5bad5c-96a9-43ee-8559-795a80b9635e"
      },
      "outputs": [
        {
          "output_type": "stream",
          "name": "stdout",
          "text": [
            "m ndim:  3\n",
            "m shape: (3, 4, 5)\n",
            "m size:  60\n",
            "m dtype:  int64\n",
            "m itemsize:  8\n",
            "m nbytes:  480\n"
          ]
        }
      ],
      "source": [
        "# Imprime atributos de matriz x\n",
        "print(\"m ndim: \", m.ndim)\n",
        "print(\"m shape:\", m.shape)\n",
        "print(\"m size: \", m.size)\n",
        "print(\"m dtype: \", m.dtype)\n",
        "print(\"m itemsize: \", m.itemsize)\n",
        "print(\"m nbytes: \", m.nbytes)"
      ]
    },
    {
      "cell_type": "markdown",
      "metadata": {
        "id": "nuf7lApbbyhS"
      },
      "source": [
        "## Indexación del `ndarray`"
      ]
    },
    {
      "cell_type": "markdown",
      "metadata": {
        "id": "LQzijrzebyhT"
      },
      "source": [
        "En un arreglo, se puede acceder al valor $i^{th}$ (contando desde cero) especificando el índice deseado entre corchetes, al igual que con las listas."
      ]
    },
    {
      "cell_type": "code",
      "execution_count": 30,
      "metadata": {
        "colab": {
          "base_uri": "https://localhost:8080/"
        },
        "id": "lsuLaFAhbyhT",
        "outputId": "d69a4cab-e351-4739-ab89-4057389fc312"
      },
      "outputs": [
        {
          "output_type": "execute_result",
          "data": {
            "text/plain": [
              "array([8, 1, 1, 7, 9, 9])"
            ]
          },
          "metadata": {},
          "execution_count": 30
        }
      ],
      "source": [
        "# Declara arreglo (x) de valores aleatorios en el intervalo [0, 10)\n",
        "x = np.random.randint(10, size=6) \n",
        "\n",
        "# Imprime arreglo x\n",
        "x"
      ]
    },
    {
      "cell_type": "code",
      "execution_count": 31,
      "metadata": {
        "colab": {
          "base_uri": "https://localhost:8080/"
        },
        "id": "ZQsJEuEsbyhU",
        "outputId": "7a908bd2-4bf6-4ea9-b82e-534af411c689"
      },
      "outputs": [
        {
          "output_type": "execute_result",
          "data": {
            "text/plain": [
              "8"
            ]
          },
          "metadata": {},
          "execution_count": 31
        }
      ],
      "source": [
        "# Imprime valor en la posición 1 del arreglo x\n",
        "x[0]"
      ]
    },
    {
      "cell_type": "code",
      "execution_count": 32,
      "metadata": {
        "colab": {
          "base_uri": "https://localhost:8080/"
        },
        "id": "OQL15Uk9byhU",
        "outputId": "a038a6fe-abec-4000-8ab4-820b40ccb047"
      },
      "outputs": [
        {
          "output_type": "execute_result",
          "data": {
            "text/plain": [
              "9"
            ]
          },
          "metadata": {},
          "execution_count": 32
        }
      ],
      "source": [
        "# Imprime valor en la posición 4 del arreglo x\n",
        "x[5]"
      ]
    },
    {
      "cell_type": "markdown",
      "metadata": {
        "id": "wsUAZ3clbyhV"
      },
      "source": [
        "Para indexar desde el final del arreglo, se pueden usar índices negativos."
      ]
    },
    {
      "cell_type": "code",
      "execution_count": 33,
      "metadata": {
        "colab": {
          "base_uri": "https://localhost:8080/"
        },
        "id": "DZvMEbeCbyhV",
        "outputId": "d4aca710-05db-4873-8148-0b87417f65e3"
      },
      "outputs": [
        {
          "output_type": "execute_result",
          "data": {
            "text/plain": [
              "9"
            ]
          },
          "metadata": {},
          "execution_count": 33
        }
      ],
      "source": [
        "# Imprime valor en la posición n-1, donde n es el tamaño del arreglo x\n",
        "x[-1]"
      ]
    },
    {
      "cell_type": "code",
      "execution_count": 34,
      "metadata": {
        "colab": {
          "base_uri": "https://localhost:8080/"
        },
        "id": "NEiXc5W8byhW",
        "outputId": "8cfabb1b-49ab-451f-e6f4-097d18dce3e3"
      },
      "outputs": [
        {
          "output_type": "execute_result",
          "data": {
            "text/plain": [
              "9"
            ]
          },
          "metadata": {},
          "execution_count": 34
        }
      ],
      "source": [
        "# Imprime valor en la posición n-2, donde n es el tamaño del arreglo x\n",
        "x[-2]"
      ]
    },
    {
      "cell_type": "markdown",
      "metadata": {
        "id": "gXkfDJmybyhW"
      },
      "source": [
        "En una matriz, se puede acceder a los elementos mediante una tupla de índices separados por comas."
      ]
    },
    {
      "cell_type": "code",
      "execution_count": 35,
      "metadata": {
        "colab": {
          "base_uri": "https://localhost:8080/"
        },
        "id": "8xDQaTdBbyhX",
        "outputId": "dea2732f-1011-413e-8546-b083e4ffab0c"
      },
      "outputs": [
        {
          "output_type": "execute_result",
          "data": {
            "text/plain": [
              "array([[3, 6, 7, 2],\n",
              "       [0, 3, 5, 9],\n",
              "       [4, 4, 6, 4]])"
            ]
          },
          "metadata": {},
          "execution_count": 35
        }
      ],
      "source": [
        "# Declara matriz 3x4 (m) de valores aleatorios en el intervalo [0, 10)\n",
        "m = np.random.randint(10, size=(3, 4))\n",
        "\n",
        "# Imprime matriz m\n",
        "m"
      ]
    },
    {
      "cell_type": "code",
      "execution_count": 36,
      "metadata": {
        "colab": {
          "base_uri": "https://localhost:8080/"
        },
        "id": "sppHN4UIbyhX",
        "outputId": "36cb3ce2-df2c-4a3a-9827-49a71ca5acec"
      },
      "outputs": [
        {
          "output_type": "execute_result",
          "data": {
            "text/plain": [
              "3"
            ]
          },
          "metadata": {},
          "execution_count": 36
        }
      ],
      "source": [
        "# Imprime valor en la posición 1 (fila), 1 (columna) de la matriz m\n",
        "m[0, 0]"
      ]
    },
    {
      "cell_type": "code",
      "execution_count": 37,
      "metadata": {
        "colab": {
          "base_uri": "https://localhost:8080/"
        },
        "id": "7OTucaTobyhY",
        "outputId": "a9c53896-3c66-48b8-cc84-66a2376081a8"
      },
      "outputs": [
        {
          "output_type": "execute_result",
          "data": {
            "text/plain": [
              "6"
            ]
          },
          "metadata": {},
          "execution_count": 37
        }
      ],
      "source": [
        "# Imprime valor en la posición 3 (fila), 3 (columna) de la matriz m\n",
        "m[2, 2]"
      ]
    },
    {
      "cell_type": "code",
      "execution_count": 38,
      "metadata": {
        "colab": {
          "base_uri": "https://localhost:8080/"
        },
        "id": "4vEWpP72byhY",
        "outputId": "0010aad3-5abf-4eaf-d355-191b93e2a40b"
      },
      "outputs": [
        {
          "output_type": "execute_result",
          "data": {
            "text/plain": [
              "9"
            ]
          },
          "metadata": {},
          "execution_count": 38
        }
      ],
      "source": [
        "# Imprime valor en la posición 2 (fila), n-1 (columna), donde n es el tamaño de la matriz m\n",
        "m[1, -1]"
      ]
    },
    {
      "cell_type": "markdown",
      "metadata": {
        "id": "zGbcTNv0byhZ"
      },
      "source": [
        "Los valores también se pueden modificar usando cualquiera de las notaciones anteriores."
      ]
    },
    {
      "cell_type": "code",
      "execution_count": 39,
      "metadata": {
        "colab": {
          "base_uri": "https://localhost:8080/"
        },
        "id": "8scLF8o7byhZ",
        "outputId": "aaae60fc-4cf3-4e02-98e5-238bcb4f6bf6"
      },
      "outputs": [
        {
          "output_type": "execute_result",
          "data": {
            "text/plain": [
              "array([[12,  6,  7,  2],\n",
              "       [ 0,  3,  5,  9],\n",
              "       [ 4,  4,  6,  4]])"
            ]
          },
          "metadata": {},
          "execution_count": 39
        }
      ],
      "source": [
        "# Modifica el valor en la posición 1, 1 de la matriz m\n",
        "m[0, 0] = 12\n",
        "\n",
        "# Imprime matriz m\n",
        "m"
      ]
    },
    {
      "cell_type": "markdown",
      "metadata": {
        "id": "4p74_gVYbyha"
      },
      "source": [
        "A diferencia de las listas, los arreglos y matrices tienen un tipo fijo. Esto significa, por ejemplo, que si se intenta modificar un valor flotante en una matriz de enteros, el valor se truncará silenciosamente. "
      ]
    },
    {
      "cell_type": "code",
      "execution_count": 40,
      "metadata": {
        "colab": {
          "base_uri": "https://localhost:8080/"
        },
        "id": "zd0TCad7byha",
        "outputId": "26af1bdb-8300-4afd-a6e3-433a6d0d7097"
      },
      "outputs": [
        {
          "output_type": "execute_result",
          "data": {
            "text/plain": [
              "array([[3, 6, 7, 2],\n",
              "       [0, 3, 5, 9],\n",
              "       [4, 4, 6, 4]])"
            ]
          },
          "metadata": {},
          "execution_count": 40
        }
      ],
      "source": [
        "# Modifica el valor en la posición 1, 1 por un punto flotante en la matriz m\n",
        "m[0, 0] = 3.14159  \n",
        "\n",
        "# Imprime matriz m\n",
        "m"
      ]
    },
    {
      "cell_type": "markdown",
      "metadata": {
        "id": "FlDbsSkubyhb"
      },
      "source": [
        "## Slicing un `ndarray`"
      ]
    },
    {
      "cell_type": "markdown",
      "metadata": {
        "id": "rVM2DtLMbyhb"
      },
      "source": [
        "Así como se pueden usar corchetes para acceder a elementos individuales de un arreglo o de una matriz, también se pueden usar para acceder a subarreglos con la notación de división, marcada por el carácter de dos puntos (`:`)."
      ]
    },
    {
      "cell_type": "markdown",
      "metadata": {
        "id": "dM6caFaFbyhb"
      },
      "source": [
        "La sintaxis de slicing de NumPy sigue la de la lista: `x[inicio:final:step]`, y si alguno de los parámetros no se especifica, los valores predeterminados son `start=0`, `stop=tamaño de la dimensión`, `step=1`."
      ]
    },
    {
      "cell_type": "code",
      "execution_count": 41,
      "metadata": {
        "colab": {
          "base_uri": "https://localhost:8080/"
        },
        "id": "rsgjiqLIbyhc",
        "outputId": "ce35ea38-0b2e-4698-b12b-fdb618569241"
      },
      "outputs": [
        {
          "output_type": "execute_result",
          "data": {
            "text/plain": [
              "array([0, 1, 2, 3, 4, 5, 6, 7, 8, 9])"
            ]
          },
          "metadata": {},
          "execution_count": 41
        }
      ],
      "source": [
        "# Declara arreglo (x) con una secuencia linear en el intervalo [0, 10)\n",
        "x = np.arange(10)\n",
        "\n",
        "# Imprime arreglo x\n",
        "x"
      ]
    },
    {
      "cell_type": "code",
      "execution_count": 42,
      "metadata": {
        "colab": {
          "base_uri": "https://localhost:8080/"
        },
        "id": "Tru34ox9byhc",
        "outputId": "bfe799e9-9063-4625-da9b-1cc4faa895dc"
      },
      "outputs": [
        {
          "output_type": "execute_result",
          "data": {
            "text/plain": [
              "array([0, 1, 2, 3, 4])"
            ]
          },
          "metadata": {},
          "execution_count": 42
        }
      ],
      "source": [
        "# Imprime valores en las primeras cinco posiciones del arreglo x\n",
        "x[:5]"
      ]
    },
    {
      "cell_type": "code",
      "execution_count": 43,
      "metadata": {
        "colab": {
          "base_uri": "https://localhost:8080/"
        },
        "id": "QZZD0Pnybyhd",
        "outputId": "d611427f-7cf2-4604-c0ec-5359519d0a29"
      },
      "outputs": [
        {
          "output_type": "execute_result",
          "data": {
            "text/plain": [
              "array([5, 6, 7, 8, 9])"
            ]
          },
          "metadata": {},
          "execution_count": 43
        }
      ],
      "source": [
        "# Imprime valores en las últimas cinco posiciones del arreglo x\n",
        "x[5:] "
      ]
    },
    {
      "cell_type": "code",
      "execution_count": 44,
      "metadata": {
        "colab": {
          "base_uri": "https://localhost:8080/"
        },
        "id": "fgheuAMAbyhd",
        "outputId": "15411c83-b3cc-4504-b4a5-f5bf9b1e0d71"
      },
      "outputs": [
        {
          "output_type": "execute_result",
          "data": {
            "text/plain": [
              "array([4, 5, 6])"
            ]
          },
          "metadata": {},
          "execution_count": 44
        }
      ],
      "source": [
        "# Imprime valores en las posiciones 5, 6 y 7 del arreglo x\n",
        "x[4:7]"
      ]
    },
    {
      "cell_type": "code",
      "execution_count": 45,
      "metadata": {
        "colab": {
          "base_uri": "https://localhost:8080/"
        },
        "id": "Un1bXJa1byhe",
        "outputId": "b71ace67-57c4-42f4-dbdd-abc045750628"
      },
      "outputs": [
        {
          "output_type": "execute_result",
          "data": {
            "text/plain": [
              "array([0, 2, 4, 6, 8])"
            ]
          },
          "metadata": {},
          "execution_count": 45
        }
      ],
      "source": [
        "# Imprime valores de cada dos posiciones del arreglo x\n",
        "x[::2] "
      ]
    },
    {
      "cell_type": "code",
      "execution_count": 46,
      "metadata": {
        "colab": {
          "base_uri": "https://localhost:8080/"
        },
        "id": "toZ8IIMNbyhe",
        "outputId": "a77400c9-5015-47ef-f6bb-b933df962e0b"
      },
      "outputs": [
        {
          "output_type": "execute_result",
          "data": {
            "text/plain": [
              "array([1, 3, 5, 7, 9])"
            ]
          },
          "metadata": {},
          "execution_count": 46
        }
      ],
      "source": [
        "# Imprime valores de cada dos posiciones iniciando en la segunda posición del arreglo x\n",
        "x[1::2]"
      ]
    },
    {
      "cell_type": "code",
      "execution_count": 47,
      "metadata": {
        "colab": {
          "base_uri": "https://localhost:8080/"
        },
        "id": "p1OZ9rypbyhf",
        "outputId": "7b979b6a-05a6-43b7-f1b7-4ee61be280d1"
      },
      "outputs": [
        {
          "output_type": "execute_result",
          "data": {
            "text/plain": [
              "array([9, 8, 7, 6, 5, 4, 3, 2, 1, 0])"
            ]
          },
          "metadata": {},
          "execution_count": 47
        }
      ],
      "source": [
        "# Imprime al revés el arreglo x\n",
        "x[::-1] "
      ]
    },
    {
      "cell_type": "code",
      "execution_count": 48,
      "metadata": {
        "colab": {
          "base_uri": "https://localhost:8080/"
        },
        "id": "Ayz1Ru8obyhg",
        "outputId": "ef4dfe79-428f-464d-cf85-1eba24b3c15e"
      },
      "outputs": [
        {
          "output_type": "execute_result",
          "data": {
            "text/plain": [
              "array([5, 3, 1])"
            ]
          },
          "metadata": {},
          "execution_count": 48
        }
      ],
      "source": [
        "# Imprime al revés los valores de cada dos posiciones iniciando en la sexta posición del arreglo x\n",
        "x[5::-2] "
      ]
    },
    {
      "cell_type": "markdown",
      "metadata": {
        "id": "lwer17TJbyhg"
      },
      "source": [
        "Las matrices funcionan de la misma manera, con varios sectores separados por comas."
      ]
    },
    {
      "cell_type": "code",
      "execution_count": 49,
      "metadata": {
        "colab": {
          "base_uri": "https://localhost:8080/"
        },
        "id": "jABnr2E-byhh",
        "outputId": "3ecb7095-4c2a-463a-8e41-1547966fde06"
      },
      "outputs": [
        {
          "output_type": "execute_result",
          "data": {
            "text/plain": [
              "array([[4, 3, 4, 4],\n",
              "       [8, 4, 3, 7],\n",
              "       [5, 5, 0, 1]])"
            ]
          },
          "metadata": {},
          "execution_count": 49
        }
      ],
      "source": [
        "# Declara matriz 3x4 (m) de valores aleatorios en el intervalo [0, 10)\n",
        "m = np.random.randint(10, size=(3, 4))\n",
        "\n",
        "# Imprime matriz m\n",
        "m"
      ]
    },
    {
      "cell_type": "code",
      "execution_count": 50,
      "metadata": {
        "colab": {
          "base_uri": "https://localhost:8080/"
        },
        "id": "Rc_hmEITbyhh",
        "outputId": "b0467ddb-703c-4b62-ee90-c948c87dd86b"
      },
      "outputs": [
        {
          "output_type": "execute_result",
          "data": {
            "text/plain": [
              "array([[4, 3, 4],\n",
              "       [8, 4, 3]])"
            ]
          },
          "metadata": {},
          "execution_count": 50
        }
      ],
      "source": [
        "# Imprime valores en las dos primeras filas y dos primeras columnas de la matriz m\n",
        "m[:2, :3] "
      ]
    },
    {
      "cell_type": "code",
      "execution_count": 51,
      "metadata": {
        "colab": {
          "base_uri": "https://localhost:8080/"
        },
        "id": "quUTyhRRbyhi",
        "outputId": "7a9b4f4a-4a7e-4701-c2e8-6a23da645755"
      },
      "outputs": [
        {
          "output_type": "execute_result",
          "data": {
            "text/plain": [
              "array([[4, 4],\n",
              "       [8, 3],\n",
              "       [5, 0]])"
            ]
          },
          "metadata": {},
          "execution_count": 51
        }
      ],
      "source": [
        "# Imprime valores en las tres primeras filas de cada dos columnas de la matriz m\n",
        "m[:3, ::2] "
      ]
    },
    {
      "cell_type": "code",
      "execution_count": 52,
      "metadata": {
        "colab": {
          "base_uri": "https://localhost:8080/"
        },
        "id": "VpE4GFDubyhi",
        "outputId": "3a60bc10-a83c-4544-ebfa-04b1c1536839"
      },
      "outputs": [
        {
          "output_type": "execute_result",
          "data": {
            "text/plain": [
              "array([[1, 0, 5, 5],\n",
              "       [7, 3, 4, 8],\n",
              "       [4, 4, 3, 4]])"
            ]
          },
          "metadata": {},
          "execution_count": 52
        }
      ],
      "source": [
        "# Imprime al revés la matriz m\n",
        "m[::-1, ::-1]"
      ]
    },
    {
      "cell_type": "markdown",
      "metadata": {
        "id": "cIBSHXx_byhj"
      },
      "source": [
        "Una rutina comúnmente necesaria es acceder a filas o columnas individuales de una amtriz. Esto se puede hacer combinando la indexación y el slicing, utilizando un segmento vacío marcado por el carácter de dos puntos (`:`)."
      ]
    },
    {
      "cell_type": "code",
      "execution_count": 53,
      "metadata": {
        "colab": {
          "base_uri": "https://localhost:8080/"
        },
        "id": "O6NNWu5abyhj",
        "outputId": "582d7c6b-3d22-4276-a6bb-4b946b79ac71"
      },
      "outputs": [
        {
          "output_type": "stream",
          "name": "stdout",
          "text": [
            "[4 3 4 4]\n"
          ]
        }
      ],
      "source": [
        "# Imprime valores en la primer fila de la matriz m\n",
        "print(m[0, :])"
      ]
    },
    {
      "cell_type": "code",
      "execution_count": 54,
      "metadata": {
        "colab": {
          "base_uri": "https://localhost:8080/"
        },
        "id": "ovSJtEHPbyhk",
        "outputId": "f7422040-8b1c-490c-af07-3a1786cb420d"
      },
      "outputs": [
        {
          "output_type": "stream",
          "name": "stdout",
          "text": [
            "[4 8 5]\n"
          ]
        }
      ],
      "source": [
        "# Imprime valores en la primer columna de la matriz m\n",
        "print(m[:, 0])"
      ]
    },
    {
      "cell_type": "markdown",
      "metadata": {
        "id": "vaJ9lFb8byhk"
      },
      "source": [
        "Los slices de un arreglo devuelven vistas en lugar de copias de los datos de la matriz. Este es un aspecto en el que los arreglos de NumPy difieren de las listas: en las listas, los cortes serán copias. "
      ]
    },
    {
      "cell_type": "code",
      "execution_count": 55,
      "metadata": {
        "colab": {
          "base_uri": "https://localhost:8080/"
        },
        "id": "hwTB-24Abyhl",
        "outputId": "67dc8386-cd8e-40ee-9802-bdff58e52ab9"
      },
      "outputs": [
        {
          "output_type": "execute_result",
          "data": {
            "text/plain": [
              "array([[4, 3],\n",
              "       [8, 4]])"
            ]
          },
          "metadata": {},
          "execution_count": 55
        }
      ],
      "source": [
        "# Extrae valores en las dos primeras filas y dos primeras columnas de la amtriz m y lo guarda en nueva matriz 2x2 (m_sub)\n",
        "m_sub = m[:2, :2]\n",
        "\n",
        "# Imprime matriz m_sub\n",
        "m_sub"
      ]
    },
    {
      "cell_type": "code",
      "execution_count": 56,
      "metadata": {
        "colab": {
          "base_uri": "https://localhost:8080/"
        },
        "id": "vGR18TAEbyhm",
        "outputId": "67b4e187-8e18-43f0-874f-323a119dd689"
      },
      "outputs": [
        {
          "output_type": "execute_result",
          "data": {
            "text/plain": [
              "array([[100,   3],\n",
              "       [  8,   4]])"
            ]
          },
          "metadata": {},
          "execution_count": 56
        }
      ],
      "source": [
        "# Modifica el valor en la posición 1, 1 de la matriz m_sub \n",
        "m_sub[0, 0] = 100\n",
        "\n",
        "# Imprime matriz m_sub\n",
        "m_sub"
      ]
    },
    {
      "cell_type": "code",
      "execution_count": 57,
      "metadata": {
        "colab": {
          "base_uri": "https://localhost:8080/"
        },
        "id": "wM8QAxDcbyhm",
        "outputId": "7c4f40eb-7488-4386-ffa7-0c9bee890d1a"
      },
      "outputs": [
        {
          "output_type": "execute_result",
          "data": {
            "text/plain": [
              "array([[100,   3,   4,   4],\n",
              "       [  8,   4,   3,   7],\n",
              "       [  5,   5,   0,   1]])"
            ]
          },
          "metadata": {},
          "execution_count": 57
        }
      ],
      "source": [
        "# Imprime matriz m\n",
        "m"
      ]
    },
    {
      "cell_type": "markdown",
      "metadata": {
        "id": "vJpqKPe5byhn"
      },
      "source": [
        "Se requiere de `copy()` para hacer una copia de un arreglo o una matriz y modificarlo o moodificarla de forma independiente al original."
      ]
    },
    {
      "cell_type": "code",
      "execution_count": 58,
      "metadata": {
        "colab": {
          "base_uri": "https://localhost:8080/"
        },
        "id": "Fm6loe0Fbyhn",
        "outputId": "6c553e87-af5a-4ce1-98bc-0001096d1e25"
      },
      "outputs": [
        {
          "output_type": "execute_result",
          "data": {
            "text/plain": [
              "array([[100,   3],\n",
              "       [  8,   4]])"
            ]
          },
          "metadata": {},
          "execution_count": 58
        }
      ],
      "source": [
        "# Extrae avloroes en las dos primeras filas y dos primeras columnas de la amtriz m y lo guarda en nueva matriz 2x2 (m_sub_copy)\n",
        "m_sub_copy = m[:2, :2].copy()\n",
        "\n",
        "# Imprime matriz m_sub_copy\n",
        "m_sub_copy"
      ]
    },
    {
      "cell_type": "code",
      "execution_count": 59,
      "metadata": {
        "colab": {
          "base_uri": "https://localhost:8080/"
        },
        "id": "4hSv3c_Ubyho",
        "outputId": "ce99ab38-1b0c-4d77-a4da-d5e2569cece9"
      },
      "outputs": [
        {
          "output_type": "execute_result",
          "data": {
            "text/plain": [
              "array([[200,   3],\n",
              "       [  8,   4]])"
            ]
          },
          "metadata": {},
          "execution_count": 59
        }
      ],
      "source": [
        "# Modifica el valor en la posición 1, 1 de la matriz m_sub_copy \n",
        "m_sub_copy[0, 0] = 200\n",
        "\n",
        "# Imprime matriz m_sub\n",
        "m_sub_copy"
      ]
    },
    {
      "cell_type": "code",
      "execution_count": 60,
      "metadata": {
        "colab": {
          "base_uri": "https://localhost:8080/"
        },
        "id": "SVLg00KMbyho",
        "outputId": "887ffae3-9596-46a8-a643-3f18a155596f"
      },
      "outputs": [
        {
          "output_type": "execute_result",
          "data": {
            "text/plain": [
              "array([[100,   3,   4,   4],\n",
              "       [  8,   4,   3,   7],\n",
              "       [  5,   5,   0,   1]])"
            ]
          },
          "metadata": {},
          "execution_count": 60
        }
      ],
      "source": [
        "# Imprime matriz m\n",
        "m"
      ]
    },
    {
      "cell_type": "markdown",
      "source": [
        "## Reshaping un `ndarray`"
      ],
      "metadata": {
        "id": "l2BUFOxWcKzQ"
      }
    },
    {
      "cell_type": "markdown",
      "source": [
        "Otro tipo útil de operación en los arreglos es el reshaping. La forma más flexible de hacerlo es con `reshape`. Y siempre que sea posible, `reshape` utilizará una vista sin copia de la matriz inicial."
      ],
      "metadata": {
        "id": "J3bq5kkDc4K0"
      }
    },
    {
      "cell_type": "code",
      "source": [
        "# Declara arreglo (x) con una secuencia linear en el intervalo [0, 9)\n",
        "x = np.arange(9)\n",
        "\n",
        "# Imprime arreglo x\n",
        "x"
      ],
      "metadata": {
        "colab": {
          "base_uri": "https://localhost:8080/"
        },
        "id": "vfzbF9jyc6am",
        "outputId": "dec0259d-0fa9-4449-d572-11378578054d"
      },
      "execution_count": 61,
      "outputs": [
        {
          "output_type": "execute_result",
          "data": {
            "text/plain": [
              "array([0, 1, 2, 3, 4, 5, 6, 7, 8])"
            ]
          },
          "metadata": {},
          "execution_count": 61
        }
      ]
    },
    {
      "cell_type": "code",
      "source": [
        "# Reformatea arreglo x en nueva matriz 3x3 (m)\n",
        "m = x.reshape((3, 3))\n",
        "\n",
        "# Imprime matriz m\n",
        "m"
      ],
      "metadata": {
        "colab": {
          "base_uri": "https://localhost:8080/"
        },
        "id": "Wi9PqmxBMUQO",
        "outputId": "3b2785f0-0b32-4173-c179-5ed362f061b0"
      },
      "execution_count": 62,
      "outputs": [
        {
          "output_type": "execute_result",
          "data": {
            "text/plain": [
              "array([[0, 1, 2],\n",
              "       [3, 4, 5],\n",
              "       [6, 7, 8]])"
            ]
          },
          "metadata": {},
          "execution_count": 62
        }
      ]
    },
    {
      "cell_type": "markdown",
      "source": [
        "Se debe tener en cuenta que para que un reshape pueda ejecturse, el tamaño del arreglo o de la matriz inicial debe coincidir con el tamaño del arreglo o de la matriz reformateada. "
      ],
      "metadata": {
        "id": "MWOzSoWEdryE"
      }
    },
    {
      "cell_type": "markdown",
      "source": [
        "Otro patrón de reshape común es la conversión de un arreglo en una matriz bidimensional de filas o columnas. Esto se puede hacer con el método fácilmente usando la palabra clave `newaxis` dentro de una operación de slicing."
      ],
      "metadata": {
        "id": "_o9Yhe3MeBmm"
      }
    },
    {
      "cell_type": "code",
      "source": [
        "# Declara arreglo (x) \n",
        "x = np.array([1, 2, 3])\n",
        "\n",
        "# Imprime arreglo x\n",
        "x"
      ],
      "metadata": {
        "colab": {
          "base_uri": "https://localhost:8080/"
        },
        "id": "cgMCwKt9fR_c",
        "outputId": "c26ab481-f22b-451a-d572-eadfc373c334"
      },
      "execution_count": 63,
      "outputs": [
        {
          "output_type": "execute_result",
          "data": {
            "text/plain": [
              "array([1, 2, 3])"
            ]
          },
          "metadata": {},
          "execution_count": 63
        }
      ]
    },
    {
      "cell_type": "code",
      "source": [
        "# Reformatea arreglo x en nueva matriz 1x1x3 (m)\n",
        "m = x.reshape((1, 3))\n",
        "\n",
        "# Imprime matriz m\n",
        "m"
      ],
      "metadata": {
        "colab": {
          "base_uri": "https://localhost:8080/"
        },
        "id": "cvnZ274OM7Z2",
        "outputId": "1c08742e-cdf6-4426-eef8-9e72b1691504"
      },
      "execution_count": 64,
      "outputs": [
        {
          "output_type": "execute_result",
          "data": {
            "text/plain": [
              "array([[1, 2, 3]])"
            ]
          },
          "metadata": {},
          "execution_count": 64
        }
      ]
    },
    {
      "cell_type": "code",
      "source": [
        "# Reformatea arreglo x en nueva matriz 1x1x3 (m)\n",
        "m = x[np.newaxis, :]\n",
        "\n",
        "# Imprime matriz m\n",
        "m"
      ],
      "metadata": {
        "colab": {
          "base_uri": "https://localhost:8080/"
        },
        "id": "eh0b63Z8NMn7",
        "outputId": "9494d2a4-caad-4f5e-85be-8db7487e1729"
      },
      "execution_count": 65,
      "outputs": [
        {
          "output_type": "execute_result",
          "data": {
            "text/plain": [
              "array([[1, 2, 3]])"
            ]
          },
          "metadata": {},
          "execution_count": 65
        }
      ]
    },
    {
      "cell_type": "code",
      "source": [
        "# Reformatea arreglo x en nueva matriz 1x3x1 (m)\n",
        "m = x[:, np.newaxis]\n",
        "\n",
        "# Imprime matriz m\n",
        "m"
      ],
      "metadata": {
        "colab": {
          "base_uri": "https://localhost:8080/"
        },
        "id": "mWULcYc1Ndo2",
        "outputId": "55e70f4c-2ae1-40f2-8acf-c9d4bfe3d4a7"
      },
      "execution_count": 66,
      "outputs": [
        {
          "output_type": "execute_result",
          "data": {
            "text/plain": [
              "array([[1],\n",
              "       [2],\n",
              "       [3]])"
            ]
          },
          "metadata": {},
          "execution_count": 66
        }
      ]
    },
    {
      "cell_type": "markdown",
      "source": [
        "## Concatenando un `ndarray`"
      ],
      "metadata": {
        "id": "j4ycBIXPcUHg"
      }
    },
    {
      "cell_type": "markdown",
      "source": [
        "La concatenación, o unión de dos arreglos o matrices, se logra principalmente mediante  `np.concatenate`, `np.vstack` y `np.hstack`."
      ],
      "metadata": {
        "id": "YAIeVGC5hmJm"
      }
    },
    {
      "cell_type": "markdown",
      "source": [
        " `np.concatenate` toma una tupla o lista de matrices como primer argumento."
      ],
      "metadata": {
        "id": "jhTT-pfQh7ct"
      }
    },
    {
      "cell_type": "code",
      "source": [
        "# Declara arreglo (x) \n",
        "x = np.array([1, 2, 3])\n",
        "\n",
        "# Imprime arreglo x\n",
        "x"
      ],
      "metadata": {
        "colab": {
          "base_uri": "https://localhost:8080/"
        },
        "id": "R2HqlGNchlch",
        "outputId": "55efd07d-8f83-4e0b-91b9-134ed2d8b5cf"
      },
      "execution_count": 67,
      "outputs": [
        {
          "output_type": "execute_result",
          "data": {
            "text/plain": [
              "array([1, 2, 3])"
            ]
          },
          "metadata": {},
          "execution_count": 67
        }
      ]
    },
    {
      "cell_type": "code",
      "source": [
        "# Declara arreglo (y)\n",
        "y = np.array([3, 2, 1])\n",
        "\n",
        "# Imprime arreglo y\n",
        "y"
      ],
      "metadata": {
        "colab": {
          "base_uri": "https://localhost:8080/"
        },
        "id": "9CYvMTB_Nuhz",
        "outputId": "08e24f43-5966-4af4-e50c-29cccf792438"
      },
      "execution_count": 68,
      "outputs": [
        {
          "output_type": "execute_result",
          "data": {
            "text/plain": [
              "array([3, 2, 1])"
            ]
          },
          "metadata": {},
          "execution_count": 68
        }
      ]
    },
    {
      "cell_type": "code",
      "source": [
        "# Concatena arreglo x y arreglo y\n",
        "np.concatenate([x, y])"
      ],
      "metadata": {
        "colab": {
          "base_uri": "https://localhost:8080/"
        },
        "id": "3lfT8ihhNsdI",
        "outputId": "5fe44c6b-b772-4280-8265-46880abd4fa7"
      },
      "execution_count": 69,
      "outputs": [
        {
          "output_type": "execute_result",
          "data": {
            "text/plain": [
              "array([1, 2, 3, 3, 2, 1])"
            ]
          },
          "metadata": {},
          "execution_count": 69
        }
      ]
    },
    {
      "cell_type": "code",
      "source": [
        "# Declara arreglo (z)\n",
        "z = np.array([99, 99, 99])\n",
        "\n",
        "# Imprime arreglo z\n",
        "z"
      ],
      "metadata": {
        "colab": {
          "base_uri": "https://localhost:8080/"
        },
        "id": "EEAMWIXPN3lk",
        "outputId": "3fb84177-ef4d-4034-f571-f7ce925436b7"
      },
      "execution_count": 70,
      "outputs": [
        {
          "output_type": "execute_result",
          "data": {
            "text/plain": [
              "array([99, 99, 99])"
            ]
          },
          "metadata": {},
          "execution_count": 70
        }
      ]
    },
    {
      "cell_type": "code",
      "source": [
        "# Concatena arreglo x, arreglo y y arreglo z\n",
        "np.concatenate([x, y, z])"
      ],
      "metadata": {
        "colab": {
          "base_uri": "https://localhost:8080/"
        },
        "id": "J_OICulxhiut",
        "outputId": "7b89cf21-8572-4f26-ccd2-ee19894a1948"
      },
      "execution_count": 71,
      "outputs": [
        {
          "output_type": "execute_result",
          "data": {
            "text/plain": [
              "array([ 1,  2,  3,  3,  2,  1, 99, 99, 99])"
            ]
          },
          "metadata": {},
          "execution_count": 71
        }
      ]
    },
    {
      "cell_type": "code",
      "source": [
        "# Declara matriz 2X3 (m)\n",
        "m = np.array([[1, 2, 3], \n",
        "              [4, 5, 6]])\n",
        "\n",
        "# Imprime matriz m\n",
        "m"
      ],
      "metadata": {
        "colab": {
          "base_uri": "https://localhost:8080/"
        },
        "id": "Hir9Qez6OLZP",
        "outputId": "6a719dec-89eb-4589-dbfc-e8bc55ae3c60"
      },
      "execution_count": 72,
      "outputs": [
        {
          "output_type": "execute_result",
          "data": {
            "text/plain": [
              "array([[1, 2, 3],\n",
              "       [4, 5, 6]])"
            ]
          },
          "metadata": {},
          "execution_count": 72
        }
      ]
    },
    {
      "cell_type": "code",
      "source": [
        "# Concatena dos arreglos bidimencionales en el eje vertical\n",
        "np.concatenate([m, m], axis=0)"
      ],
      "metadata": {
        "colab": {
          "base_uri": "https://localhost:8080/"
        },
        "id": "igiagNi6OXWL",
        "outputId": "a8d8b7c4-34f7-4f89-bd84-ca9967c4073d"
      },
      "execution_count": 73,
      "outputs": [
        {
          "output_type": "execute_result",
          "data": {
            "text/plain": [
              "array([[1, 2, 3],\n",
              "       [4, 5, 6],\n",
              "       [1, 2, 3],\n",
              "       [4, 5, 6]])"
            ]
          },
          "metadata": {},
          "execution_count": 73
        }
      ]
    },
    {
      "cell_type": "code",
      "source": [
        "# Concatena dos arreglos bidimencionales en el eje hoorizontal\n",
        "np.concatenate([m, m], axis=1)"
      ],
      "metadata": {
        "colab": {
          "base_uri": "https://localhost:8080/"
        },
        "id": "2FbVXw64ioQm",
        "outputId": "81a4847e-93b1-449c-9376-33675e296b30"
      },
      "execution_count": 74,
      "outputs": [
        {
          "output_type": "execute_result",
          "data": {
            "text/plain": [
              "array([[1, 2, 3, 1, 2, 3],\n",
              "       [4, 5, 6, 4, 5, 6]])"
            ]
          },
          "metadata": {},
          "execution_count": 74
        }
      ]
    },
    {
      "cell_type": "markdown",
      "source": [
        "Para trabajar con concatenaciones de arreglos o matrices de dimensiones mixtas, se utiliza `np.vstack` (pila vertical) y `np.hstack` (pila horizontal)."
      ],
      "metadata": {
        "id": "tRnaOsdKi4qa"
      }
    },
    {
      "cell_type": "code",
      "source": [
        "# Apila verticalmente arreglo x y matriz m verticalmente\n",
        "np.vstack([x, m])"
      ],
      "metadata": {
        "colab": {
          "base_uri": "https://localhost:8080/"
        },
        "id": "0H692cuZizD3",
        "outputId": "2e852352-13ce-4d9d-e662-f630d201fd4e"
      },
      "execution_count": 75,
      "outputs": [
        {
          "output_type": "execute_result",
          "data": {
            "text/plain": [
              "array([[1, 2, 3],\n",
              "       [1, 2, 3],\n",
              "       [4, 5, 6]])"
            ]
          },
          "metadata": {},
          "execution_count": 75
        }
      ]
    },
    {
      "cell_type": "code",
      "source": [
        "# Declara arreglo (a)\n",
        "a = np.array([[2], \n",
        "              [2]])\n",
        "\n",
        "# Imprime arreglo a\n",
        "a"
      ],
      "metadata": {
        "colab": {
          "base_uri": "https://localhost:8080/"
        },
        "id": "0f1Xw4sPPiIl",
        "outputId": "3d402044-295c-48ce-aff8-cbcbde26f2de"
      },
      "execution_count": 76,
      "outputs": [
        {
          "output_type": "execute_result",
          "data": {
            "text/plain": [
              "array([[2],\n",
              "       [2]])"
            ]
          },
          "metadata": {},
          "execution_count": 76
        }
      ]
    },
    {
      "cell_type": "code",
      "source": [
        "# Apila verticalmente arreglo x y matriz m horizontalmente\n",
        "np.hstack([m, a])"
      ],
      "metadata": {
        "colab": {
          "base_uri": "https://localhost:8080/"
        },
        "id": "S3V5g9sGPuUy",
        "outputId": "d440a235-1d98-4aba-a8ce-3240bd35a05d"
      },
      "execution_count": 77,
      "outputs": [
        {
          "output_type": "execute_result",
          "data": {
            "text/plain": [
              "array([[1, 2, 3, 2],\n",
              "       [4, 5, 6, 2]])"
            ]
          },
          "metadata": {},
          "execution_count": 77
        }
      ]
    },
    {
      "cell_type": "markdown",
      "source": [
        "## Dividiendo un `ndarray`"
      ],
      "metadata": {
        "id": "JiVoMSzJhd-U"
      }
    },
    {
      "cell_type": "markdown",
      "source": [
        "Lo opuesto a la concatenación es la división, que se implementa mediante `np.split`, `np.hsplit` y `np.vsplit`."
      ],
      "metadata": {
        "id": "vDFJhZl4lq_d"
      }
    },
    {
      "cell_type": "code",
      "source": [
        "# Declara arreglo (x) \n",
        "x = [1, 2, 3, 99, 99, 3, 2, 1]\n",
        "\n",
        "# Imprime arreglo x\n",
        "x"
      ],
      "metadata": {
        "colab": {
          "base_uri": "https://localhost:8080/"
        },
        "id": "wOgo6aoSQRdd",
        "outputId": "f22cdcf7-69f7-4fa0-9124-293bc460f359"
      },
      "execution_count": 78,
      "outputs": [
        {
          "output_type": "execute_result",
          "data": {
            "text/plain": [
              "[1, 2, 3, 99, 99, 3, 2, 1]"
            ]
          },
          "metadata": {},
          "execution_count": 78
        }
      ]
    },
    {
      "cell_type": "code",
      "source": [
        "# Divide arreglo x en tres nuevos arreglos (x1, x2, x3) haciendo cortes después del valor después de la posición 0 y de la posición 3\n",
        "x1, x2, x3 = np.split(x, [1, 3])\n",
        "\n",
        "# Imprime arreglo x1, x2 y x3\n",
        "print(x1, x2, x3)"
      ],
      "metadata": {
        "colab": {
          "base_uri": "https://localhost:8080/"
        },
        "id": "NgQuQrxEQUtJ",
        "outputId": "1009b2fc-5aa3-4569-b0f1-949453da1a32"
      },
      "execution_count": 79,
      "outputs": [
        {
          "output_type": "stream",
          "name": "stdout",
          "text": [
            "[1] [2 3] [99 99  3  2  1]\n"
          ]
        }
      ]
    },
    {
      "cell_type": "code",
      "source": [
        "# Declara matriz 2x4 (m) con una secuencia linear en el intervalo [0, 16)\n",
        "m = np.arange(16).reshape((4, 4))\n",
        "\n",
        "# Imprime matriz m\n",
        "m"
      ],
      "metadata": {
        "colab": {
          "base_uri": "https://localhost:8080/"
        },
        "id": "IdPmRdEHl6ap",
        "outputId": "b7a75298-fdc9-4ede-cfd4-1324ed6438ab"
      },
      "execution_count": 80,
      "outputs": [
        {
          "output_type": "execute_result",
          "data": {
            "text/plain": [
              "array([[ 0,  1,  2,  3],\n",
              "       [ 4,  5,  6,  7],\n",
              "       [ 8,  9, 10, 11],\n",
              "       [12, 13, 14, 15]])"
            ]
          },
          "metadata": {},
          "execution_count": 80
        }
      ]
    },
    {
      "cell_type": "code",
      "source": [
        "# Divide matriz m en dos nuevas matrices (upper_m, lower_m) haciendo un corte después del valor después de la fila 2\n",
        "upper_m, lower_m = np.vsplit(m, [2])\n",
        "\n",
        "# Imprime matrices upper_m y lower_m\n",
        "print(upper_m, \"\\n\")\n",
        "print(lower_m)"
      ],
      "metadata": {
        "colab": {
          "base_uri": "https://localhost:8080/"
        },
        "id": "m8LxTvJHTo-W",
        "outputId": "0b60c802-218b-47fa-f1ec-d9aa7204d194"
      },
      "execution_count": 81,
      "outputs": [
        {
          "output_type": "stream",
          "name": "stdout",
          "text": [
            "[[0 1 2 3]\n",
            " [4 5 6 7]] \n",
            "\n",
            "[[ 8  9 10 11]\n",
            " [12 13 14 15]]\n"
          ]
        }
      ]
    },
    {
      "cell_type": "code",
      "source": [
        "# Divide matriz m en dos nuevas matrices (upper_m, lower_m) haciendo un corte después del valor después de la columna 2\n",
        "left_m, right_m = np.hsplit(m, [2])\n",
        "\n",
        "# Imprime matrices upper_m y lower_m\n",
        "print(left_m, \"\\n\")\n",
        "print(right_m)"
      ],
      "metadata": {
        "colab": {
          "base_uri": "https://localhost:8080/"
        },
        "id": "4GuJIUtAmaP6",
        "outputId": "8ae531b5-77a6-42e2-a512-5320a200d0d7"
      },
      "execution_count": 82,
      "outputs": [
        {
          "output_type": "stream",
          "name": "stdout",
          "text": [
            "[[ 0  1]\n",
            " [ 4  5]\n",
            " [ 8  9]\n",
            " [12 13]] \n",
            "\n",
            "[[ 2  3]\n",
            " [ 6  7]\n",
            " [10 11]\n",
            " [14 15]]\n"
          ]
        }
      ]
    },
    {
      "cell_type": "markdown",
      "metadata": {
        "id": "HDWtvlTfbyhp"
      },
      "source": [
        "## Ejercicios"
      ]
    },
    {
      "cell_type": "markdown",
      "metadata": {
        "id": "drHHq2ttbyhp"
      },
      "source": [
        "1. Declara un arreglo de NumPy (n) de strings con los primeros 1000 múltiplos de 42. \n",
        "2. ¿Cuál es el 360vo múltiplo de 42?\n",
        "3. Declara un arreglo de NumPy de 5x6x6 (n2) de enteros aleatorios entre 1 y 100 (ambos inclusivos).\n",
        "4. ¿Cuál es el total de bytes que representa n2?\n",
        "5. Guarda una copia de n2 (n3) con únicamente los valores en filas y columnas pares de las segunda y tercera matriz. \n",
        "6. Concatena horizontalmente las matrices que componen n3 y guarda la nueva matriz como n4. \n",
        "7. Convierte n4 en una matriz de dos columnas y guarda la nueva matriz como n5. \n",
        "8. Suma todos los valores de n5."
      ]
    }
  ],
  "metadata": {
    "kernelspec": {
      "display_name": "Python 3",
      "language": "python",
      "name": "python3"
    },
    "language_info": {
      "codemirror_mode": {
        "name": "ipython",
        "version": 3
      },
      "file_extension": ".py",
      "mimetype": "text/x-python",
      "name": "python",
      "nbconvert_exporter": "python",
      "pygments_lexer": "ipython3",
      "version": "3.8.5"
    },
    "colab": {
      "name": "intro_a_numpy.ipynb",
      "provenance": [],
      "collapsed_sections": [],
      "toc_visible": true
    }
  },
  "nbformat": 4,
  "nbformat_minor": 0
}